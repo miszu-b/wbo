{
 "cells": [
  {
   "cell_type": "code",
   "execution_count": 151,
   "id": "9168a969",
   "metadata": {},
   "outputs": [],
   "source": [
    "import pandas as pd\n",
    "import plotly.express as px\n",
    "from plotly import graph_objects as go\n",
    "import matplotlib.pyplot as plt\n",
    "from matplotlib import gridspec\n",
    "import seaborn as sns\n",
    "\n",
    "\n",
    "\n",
    "%matplotlib inline\n",
    "\n",
    "# import plotly.io as pio\n",
    "# pio.renderers"
   ]
  },
  {
   "cell_type": "code",
   "execution_count": 2,
   "id": "32193a35",
   "metadata": {},
   "outputs": [],
   "source": [
    "sns.set_theme(style=\"whitegrid\")"
   ]
  },
  {
   "cell_type": "code",
   "execution_count": 3,
   "id": "e2020b04",
   "metadata": {},
   "outputs": [],
   "source": [
    "df = pd.read_csv(r'./data_out/clean_data_wbo_projects.csv', sep=';')"
   ]
  },
  {
   "cell_type": "code",
   "execution_count": 4,
   "id": "57b307ee",
   "metadata": {},
   "outputs": [
    {
     "data": {
      "text/html": [
       "<div>\n",
       "<style scoped>\n",
       "    .dataframe tbody tr th:only-of-type {\n",
       "        vertical-align: middle;\n",
       "    }\n",
       "\n",
       "    .dataframe tbody tr th {\n",
       "        vertical-align: top;\n",
       "    }\n",
       "\n",
       "    .dataframe thead th {\n",
       "        text-align: right;\n",
       "    }\n",
       "</style>\n",
       "<table border=\"1\" class=\"dataframe\">\n",
       "  <thead>\n",
       "    <tr style=\"text-align: right;\">\n",
       "      <th></th>\n",
       "      <th>id</th>\n",
       "      <th>year</th>\n",
       "      <th>name</th>\n",
       "      <th>scope</th>\n",
       "      <th>category</th>\n",
       "      <th>area</th>\n",
       "      <th>location</th>\n",
       "      <th>budget</th>\n",
       "      <th>status</th>\n",
       "      <th>votes</th>\n",
       "      <th>area2</th>\n",
       "    </tr>\n",
       "  </thead>\n",
       "  <tbody>\n",
       "    <tr>\n",
       "      <th>0</th>\n",
       "      <td>1</td>\n",
       "      <td>2016</td>\n",
       "      <td>Plac zabaw na skwerze Bełzy przy Wyższej Szkol...</td>\n",
       "      <td>Projekt rejonowy</td>\n",
       "      <td>place zabaw</td>\n",
       "      <td>Karłowice-Różanka, Kleczków</td>\n",
       "      <td>Karłowice, Skwer Bełzy przy Wyższej Szkole Ofi...</td>\n",
       "      <td>250000.0</td>\n",
       "      <td>Niewybrany w głosowaniu</td>\n",
       "      <td>326.0</td>\n",
       "      <td>Psie pole</td>\n",
       "    </tr>\n",
       "    <tr>\n",
       "      <th>1</th>\n",
       "      <td>2</td>\n",
       "      <td>2016</td>\n",
       "      <td>Rowerowo na północy Wrocławia – budowa ścieżek...</td>\n",
       "      <td>Projekt ogólnomiejski</td>\n",
       "      <td>piesze/rowerowe</td>\n",
       "      <td>projekt ogólnomiejski</td>\n",
       "      <td>Ul. Sułowska od mostu Widawskiego do ronda Obr...</td>\n",
       "      <td>1000000.0</td>\n",
       "      <td>Projekt nie bierze udziału w głosowaniu</td>\n",
       "      <td>NaN</td>\n",
       "      <td>Inne</td>\n",
       "    </tr>\n",
       "    <tr>\n",
       "      <th>2</th>\n",
       "      <td>3</td>\n",
       "      <td>2016</td>\n",
       "      <td>Nowe Nadodrze - Aleja Rydygiera [WBO. 2016]</td>\n",
       "      <td>Projekt rejonowy</td>\n",
       "      <td>rewitalizacja</td>\n",
       "      <td>Nadodrze, Ołbin, Stare Miasto, Plac Grunwaldzk...</td>\n",
       "      <td>Ulica Rydygiera - na całej długości</td>\n",
       "      <td>750000.0</td>\n",
       "      <td>Niewybrany w głosowaniu</td>\n",
       "      <td>668.0</td>\n",
       "      <td>Śródmieście</td>\n",
       "    </tr>\n",
       "    <tr>\n",
       "      <th>3</th>\n",
       "      <td>4</td>\n",
       "      <td>2016</td>\n",
       "      <td>Budowa nadbrzeża ze slipem dla przyszłej miejs...</td>\n",
       "      <td>Projekt ogólnomiejski</td>\n",
       "      <td>zieleń/rekreacja</td>\n",
       "      <td>projekt ogólnomiejski</td>\n",
       "      <td>brak.</td>\n",
       "      <td>1000000.0</td>\n",
       "      <td>Niewybrany w głosowaniu</td>\n",
       "      <td>3243.0</td>\n",
       "      <td>Inne</td>\n",
       "    </tr>\n",
       "    <tr>\n",
       "      <th>4</th>\n",
       "      <td>5</td>\n",
       "      <td>2016</td>\n",
       "      <td>Boisko wielofunkcyjne obok Brodzika na Karłowi...</td>\n",
       "      <td>Projekt rejonowy</td>\n",
       "      <td>zieleń/rekreacja</td>\n",
       "      <td>Karłowice-Różanka, Kleczków</td>\n",
       "      <td>Karłowice - teren dawnego Brodzika. Obszar zie...</td>\n",
       "      <td>750000.0</td>\n",
       "      <td>Niewybrany w głosowaniu</td>\n",
       "      <td>2238.0</td>\n",
       "      <td>Psie pole</td>\n",
       "    </tr>\n",
       "  </tbody>\n",
       "</table>\n",
       "</div>"
      ],
      "text/plain": [
       "   id  year                                               name  \\\n",
       "0   1  2016  Plac zabaw na skwerze Bełzy przy Wyższej Szkol...   \n",
       "1   2  2016  Rowerowo na północy Wrocławia – budowa ścieżek...   \n",
       "2   3  2016        Nowe Nadodrze - Aleja Rydygiera [WBO. 2016]   \n",
       "3   4  2016  Budowa nadbrzeża ze slipem dla przyszłej miejs...   \n",
       "4   5  2016  Boisko wielofunkcyjne obok Brodzika na Karłowi...   \n",
       "\n",
       "                   scope          category  \\\n",
       "0       Projekt rejonowy       place zabaw   \n",
       "1  Projekt ogólnomiejski   piesze/rowerowe   \n",
       "2       Projekt rejonowy     rewitalizacja   \n",
       "3  Projekt ogólnomiejski  zieleń/rekreacja   \n",
       "4       Projekt rejonowy  zieleń/rekreacja   \n",
       "\n",
       "                                                area  \\\n",
       "0                        Karłowice-Różanka, Kleczków   \n",
       "1                              projekt ogólnomiejski   \n",
       "2  Nadodrze, Ołbin, Stare Miasto, Plac Grunwaldzk...   \n",
       "3                              projekt ogólnomiejski   \n",
       "4                        Karłowice-Różanka, Kleczków   \n",
       "\n",
       "                                            location     budget  \\\n",
       "0  Karłowice, Skwer Bełzy przy Wyższej Szkole Ofi...   250000.0   \n",
       "1  Ul. Sułowska od mostu Widawskiego do ronda Obr...  1000000.0   \n",
       "2                Ulica Rydygiera - na całej długości   750000.0   \n",
       "3                                              brak.  1000000.0   \n",
       "4  Karłowice - teren dawnego Brodzika. Obszar zie...   750000.0   \n",
       "\n",
       "                                    status   votes        area2  \n",
       "0                  Niewybrany w głosowaniu   326.0    Psie pole  \n",
       "1  Projekt nie bierze udziału w głosowaniu     NaN         Inne  \n",
       "2                  Niewybrany w głosowaniu   668.0  Śródmieście  \n",
       "3                  Niewybrany w głosowaniu  3243.0         Inne  \n",
       "4                  Niewybrany w głosowaniu  2238.0    Psie pole  "
      ]
     },
     "execution_count": 4,
     "metadata": {},
     "output_type": "execute_result"
    }
   ],
   "source": [
    "df.head()"
   ]
  },
  {
   "cell_type": "code",
   "execution_count": 5,
   "id": "2df862cc",
   "metadata": {},
   "outputs": [
    {
     "data": {
      "text/html": [
       "<div>\n",
       "<style scoped>\n",
       "    .dataframe tbody tr th:only-of-type {\n",
       "        vertical-align: middle;\n",
       "    }\n",
       "\n",
       "    .dataframe tbody tr th {\n",
       "        vertical-align: top;\n",
       "    }\n",
       "\n",
       "    .dataframe thead th {\n",
       "        text-align: right;\n",
       "    }\n",
       "</style>\n",
       "<table border=\"1\" class=\"dataframe\">\n",
       "  <thead>\n",
       "    <tr style=\"text-align: right;\">\n",
       "      <th></th>\n",
       "      <th>id</th>\n",
       "    </tr>\n",
       "    <tr>\n",
       "      <th>status</th>\n",
       "      <th></th>\n",
       "    </tr>\n",
       "  </thead>\n",
       "  <tbody>\n",
       "    <tr>\n",
       "      <th>Niewybrany w głosowaniu</th>\n",
       "      <td>1430</td>\n",
       "    </tr>\n",
       "    <tr>\n",
       "      <th>Projekt nie bierze udziału w głosowaniu</th>\n",
       "      <td>1392</td>\n",
       "    </tr>\n",
       "    <tr>\n",
       "      <th>Wybrany w głosowaniu</th>\n",
       "      <td>253</td>\n",
       "    </tr>\n",
       "    <tr>\n",
       "      <th>Wycofane z realizacji w ramach WBO</th>\n",
       "      <td>250</td>\n",
       "    </tr>\n",
       "    <tr>\n",
       "      <th>Realizowany poza WBO, nie bierze udziału w głosowaniu</th>\n",
       "      <td>81</td>\n",
       "    </tr>\n",
       "    <tr>\n",
       "      <th>Realizacja z listy rezerwowej</th>\n",
       "      <td>3</td>\n",
       "    </tr>\n",
       "  </tbody>\n",
       "</table>\n",
       "</div>"
      ],
      "text/plain": [
       "                                                      id\n",
       "status                                                  \n",
       "Niewybrany w głosowaniu                             1430\n",
       "Projekt nie bierze udziału w głosowaniu             1392\n",
       "Wybrany w głosowaniu                                 253\n",
       "Wycofane z realizacji w ramach WBO                   250\n",
       "Realizowany poza WBO, nie bierze udziału w głos...    81\n",
       "Realizacja z listy rezerwowej                          3"
      ]
     },
     "execution_count": 5,
     "metadata": {},
     "output_type": "execute_result"
    }
   ],
   "source": [
    "df.groupby('status').agg({'id': 'count'}).sort_values('id', ascending=False)"
   ]
  },
  {
   "cell_type": "code",
   "execution_count": 152,
   "id": "e4d5b0e8",
   "metadata": {},
   "outputs": [
    {
     "data": {
      "application/vnd.plotly.v1+json": {
       "config": {
        "plotlyServerURL": "https://plot.ly"
       },
       "data": [
        {
         "orientation": "v",
         "textinfo": "value+percent initial",
         "type": "funnel",
         "x": [
          "Wszystkie projekty",
          "Projekty spełniające wymogi",
          "Projekty poddane głosowaniu",
          "Projekty przeznaczone do realizacji"
         ],
         "y": [
          3409,
          3159,
          1686,
          337
         ]
        }
       ],
       "layout": {
        "template": {
         "data": {
          "bar": [
           {
            "error_x": {
             "color": "rgb(36,36,36)"
            },
            "error_y": {
             "color": "rgb(36,36,36)"
            },
            "marker": {
             "line": {
              "color": "rgb(234,234,242)",
              "width": 0.5
             },
             "pattern": {
              "fillmode": "overlay",
              "size": 10,
              "solidity": 0.2
             }
            },
            "type": "bar"
           }
          ],
          "barpolar": [
           {
            "marker": {
             "line": {
              "color": "rgb(234,234,242)",
              "width": 0.5
             },
             "pattern": {
              "fillmode": "overlay",
              "size": 10,
              "solidity": 0.2
             }
            },
            "type": "barpolar"
           }
          ],
          "carpet": [
           {
            "aaxis": {
             "endlinecolor": "rgb(36,36,36)",
             "gridcolor": "white",
             "linecolor": "white",
             "minorgridcolor": "white",
             "startlinecolor": "rgb(36,36,36)"
            },
            "baxis": {
             "endlinecolor": "rgb(36,36,36)",
             "gridcolor": "white",
             "linecolor": "white",
             "minorgridcolor": "white",
             "startlinecolor": "rgb(36,36,36)"
            },
            "type": "carpet"
           }
          ],
          "choropleth": [
           {
            "colorbar": {
             "outlinewidth": 0,
             "tickcolor": "rgb(36,36,36)",
             "ticklen": 8,
             "ticks": "outside",
             "tickwidth": 2
            },
            "type": "choropleth"
           }
          ],
          "contour": [
           {
            "colorbar": {
             "outlinewidth": 0,
             "tickcolor": "rgb(36,36,36)",
             "ticklen": 8,
             "ticks": "outside",
             "tickwidth": 2
            },
            "colorscale": [
             [
              0,
              "rgb(2,4,25)"
             ],
             [
              0.06274509803921569,
              "rgb(24,15,41)"
             ],
             [
              0.12549019607843137,
              "rgb(47,23,57)"
             ],
             [
              0.18823529411764706,
              "rgb(71,28,72)"
             ],
             [
              0.25098039215686274,
              "rgb(97,30,82)"
             ],
             [
              0.3137254901960784,
              "rgb(123,30,89)"
             ],
             [
              0.3764705882352941,
              "rgb(150,27,91)"
             ],
             [
              0.4392156862745098,
              "rgb(177,22,88)"
             ],
             [
              0.5019607843137255,
              "rgb(203,26,79)"
             ],
             [
              0.5647058823529412,
              "rgb(223,47,67)"
             ],
             [
              0.6274509803921569,
              "rgb(236,76,61)"
             ],
             [
              0.6901960784313725,
              "rgb(242,107,73)"
             ],
             [
              0.7529411764705882,
              "rgb(244,135,95)"
             ],
             [
              0.8156862745098039,
              "rgb(245,162,122)"
             ],
             [
              0.8784313725490196,
              "rgb(246,188,153)"
             ],
             [
              0.9411764705882353,
              "rgb(247,212,187)"
             ],
             [
              1,
              "rgb(250,234,220)"
             ]
            ],
            "type": "contour"
           }
          ],
          "contourcarpet": [
           {
            "colorbar": {
             "outlinewidth": 0,
             "tickcolor": "rgb(36,36,36)",
             "ticklen": 8,
             "ticks": "outside",
             "tickwidth": 2
            },
            "type": "contourcarpet"
           }
          ],
          "heatmap": [
           {
            "colorbar": {
             "outlinewidth": 0,
             "tickcolor": "rgb(36,36,36)",
             "ticklen": 8,
             "ticks": "outside",
             "tickwidth": 2
            },
            "colorscale": [
             [
              0,
              "rgb(2,4,25)"
             ],
             [
              0.06274509803921569,
              "rgb(24,15,41)"
             ],
             [
              0.12549019607843137,
              "rgb(47,23,57)"
             ],
             [
              0.18823529411764706,
              "rgb(71,28,72)"
             ],
             [
              0.25098039215686274,
              "rgb(97,30,82)"
             ],
             [
              0.3137254901960784,
              "rgb(123,30,89)"
             ],
             [
              0.3764705882352941,
              "rgb(150,27,91)"
             ],
             [
              0.4392156862745098,
              "rgb(177,22,88)"
             ],
             [
              0.5019607843137255,
              "rgb(203,26,79)"
             ],
             [
              0.5647058823529412,
              "rgb(223,47,67)"
             ],
             [
              0.6274509803921569,
              "rgb(236,76,61)"
             ],
             [
              0.6901960784313725,
              "rgb(242,107,73)"
             ],
             [
              0.7529411764705882,
              "rgb(244,135,95)"
             ],
             [
              0.8156862745098039,
              "rgb(245,162,122)"
             ],
             [
              0.8784313725490196,
              "rgb(246,188,153)"
             ],
             [
              0.9411764705882353,
              "rgb(247,212,187)"
             ],
             [
              1,
              "rgb(250,234,220)"
             ]
            ],
            "type": "heatmap"
           }
          ],
          "heatmapgl": [
           {
            "colorbar": {
             "outlinewidth": 0,
             "tickcolor": "rgb(36,36,36)",
             "ticklen": 8,
             "ticks": "outside",
             "tickwidth": 2
            },
            "colorscale": [
             [
              0,
              "rgb(2,4,25)"
             ],
             [
              0.06274509803921569,
              "rgb(24,15,41)"
             ],
             [
              0.12549019607843137,
              "rgb(47,23,57)"
             ],
             [
              0.18823529411764706,
              "rgb(71,28,72)"
             ],
             [
              0.25098039215686274,
              "rgb(97,30,82)"
             ],
             [
              0.3137254901960784,
              "rgb(123,30,89)"
             ],
             [
              0.3764705882352941,
              "rgb(150,27,91)"
             ],
             [
              0.4392156862745098,
              "rgb(177,22,88)"
             ],
             [
              0.5019607843137255,
              "rgb(203,26,79)"
             ],
             [
              0.5647058823529412,
              "rgb(223,47,67)"
             ],
             [
              0.6274509803921569,
              "rgb(236,76,61)"
             ],
             [
              0.6901960784313725,
              "rgb(242,107,73)"
             ],
             [
              0.7529411764705882,
              "rgb(244,135,95)"
             ],
             [
              0.8156862745098039,
              "rgb(245,162,122)"
             ],
             [
              0.8784313725490196,
              "rgb(246,188,153)"
             ],
             [
              0.9411764705882353,
              "rgb(247,212,187)"
             ],
             [
              1,
              "rgb(250,234,220)"
             ]
            ],
            "type": "heatmapgl"
           }
          ],
          "histogram": [
           {
            "marker": {
             "pattern": {
              "fillmode": "overlay",
              "size": 10,
              "solidity": 0.2
             }
            },
            "type": "histogram"
           }
          ],
          "histogram2d": [
           {
            "colorbar": {
             "outlinewidth": 0,
             "tickcolor": "rgb(36,36,36)",
             "ticklen": 8,
             "ticks": "outside",
             "tickwidth": 2
            },
            "colorscale": [
             [
              0,
              "rgb(2,4,25)"
             ],
             [
              0.06274509803921569,
              "rgb(24,15,41)"
             ],
             [
              0.12549019607843137,
              "rgb(47,23,57)"
             ],
             [
              0.18823529411764706,
              "rgb(71,28,72)"
             ],
             [
              0.25098039215686274,
              "rgb(97,30,82)"
             ],
             [
              0.3137254901960784,
              "rgb(123,30,89)"
             ],
             [
              0.3764705882352941,
              "rgb(150,27,91)"
             ],
             [
              0.4392156862745098,
              "rgb(177,22,88)"
             ],
             [
              0.5019607843137255,
              "rgb(203,26,79)"
             ],
             [
              0.5647058823529412,
              "rgb(223,47,67)"
             ],
             [
              0.6274509803921569,
              "rgb(236,76,61)"
             ],
             [
              0.6901960784313725,
              "rgb(242,107,73)"
             ],
             [
              0.7529411764705882,
              "rgb(244,135,95)"
             ],
             [
              0.8156862745098039,
              "rgb(245,162,122)"
             ],
             [
              0.8784313725490196,
              "rgb(246,188,153)"
             ],
             [
              0.9411764705882353,
              "rgb(247,212,187)"
             ],
             [
              1,
              "rgb(250,234,220)"
             ]
            ],
            "type": "histogram2d"
           }
          ],
          "histogram2dcontour": [
           {
            "colorbar": {
             "outlinewidth": 0,
             "tickcolor": "rgb(36,36,36)",
             "ticklen": 8,
             "ticks": "outside",
             "tickwidth": 2
            },
            "colorscale": [
             [
              0,
              "rgb(2,4,25)"
             ],
             [
              0.06274509803921569,
              "rgb(24,15,41)"
             ],
             [
              0.12549019607843137,
              "rgb(47,23,57)"
             ],
             [
              0.18823529411764706,
              "rgb(71,28,72)"
             ],
             [
              0.25098039215686274,
              "rgb(97,30,82)"
             ],
             [
              0.3137254901960784,
              "rgb(123,30,89)"
             ],
             [
              0.3764705882352941,
              "rgb(150,27,91)"
             ],
             [
              0.4392156862745098,
              "rgb(177,22,88)"
             ],
             [
              0.5019607843137255,
              "rgb(203,26,79)"
             ],
             [
              0.5647058823529412,
              "rgb(223,47,67)"
             ],
             [
              0.6274509803921569,
              "rgb(236,76,61)"
             ],
             [
              0.6901960784313725,
              "rgb(242,107,73)"
             ],
             [
              0.7529411764705882,
              "rgb(244,135,95)"
             ],
             [
              0.8156862745098039,
              "rgb(245,162,122)"
             ],
             [
              0.8784313725490196,
              "rgb(246,188,153)"
             ],
             [
              0.9411764705882353,
              "rgb(247,212,187)"
             ],
             [
              1,
              "rgb(250,234,220)"
             ]
            ],
            "type": "histogram2dcontour"
           }
          ],
          "mesh3d": [
           {
            "colorbar": {
             "outlinewidth": 0,
             "tickcolor": "rgb(36,36,36)",
             "ticklen": 8,
             "ticks": "outside",
             "tickwidth": 2
            },
            "type": "mesh3d"
           }
          ],
          "parcoords": [
           {
            "line": {
             "colorbar": {
              "outlinewidth": 0,
              "tickcolor": "rgb(36,36,36)",
              "ticklen": 8,
              "ticks": "outside",
              "tickwidth": 2
             }
            },
            "type": "parcoords"
           }
          ],
          "pie": [
           {
            "automargin": true,
            "type": "pie"
           }
          ],
          "scatter": [
           {
            "marker": {
             "colorbar": {
              "outlinewidth": 0,
              "tickcolor": "rgb(36,36,36)",
              "ticklen": 8,
              "ticks": "outside",
              "tickwidth": 2
             }
            },
            "type": "scatter"
           }
          ],
          "scatter3d": [
           {
            "line": {
             "colorbar": {
              "outlinewidth": 0,
              "tickcolor": "rgb(36,36,36)",
              "ticklen": 8,
              "ticks": "outside",
              "tickwidth": 2
             }
            },
            "marker": {
             "colorbar": {
              "outlinewidth": 0,
              "tickcolor": "rgb(36,36,36)",
              "ticklen": 8,
              "ticks": "outside",
              "tickwidth": 2
             }
            },
            "type": "scatter3d"
           }
          ],
          "scattercarpet": [
           {
            "marker": {
             "colorbar": {
              "outlinewidth": 0,
              "tickcolor": "rgb(36,36,36)",
              "ticklen": 8,
              "ticks": "outside",
              "tickwidth": 2
             }
            },
            "type": "scattercarpet"
           }
          ],
          "scattergeo": [
           {
            "marker": {
             "colorbar": {
              "outlinewidth": 0,
              "tickcolor": "rgb(36,36,36)",
              "ticklen": 8,
              "ticks": "outside",
              "tickwidth": 2
             }
            },
            "type": "scattergeo"
           }
          ],
          "scattergl": [
           {
            "marker": {
             "colorbar": {
              "outlinewidth": 0,
              "tickcolor": "rgb(36,36,36)",
              "ticklen": 8,
              "ticks": "outside",
              "tickwidth": 2
             }
            },
            "type": "scattergl"
           }
          ],
          "scattermapbox": [
           {
            "marker": {
             "colorbar": {
              "outlinewidth": 0,
              "tickcolor": "rgb(36,36,36)",
              "ticklen": 8,
              "ticks": "outside",
              "tickwidth": 2
             }
            },
            "type": "scattermapbox"
           }
          ],
          "scatterpolar": [
           {
            "marker": {
             "colorbar": {
              "outlinewidth": 0,
              "tickcolor": "rgb(36,36,36)",
              "ticklen": 8,
              "ticks": "outside",
              "tickwidth": 2
             }
            },
            "type": "scatterpolar"
           }
          ],
          "scatterpolargl": [
           {
            "marker": {
             "colorbar": {
              "outlinewidth": 0,
              "tickcolor": "rgb(36,36,36)",
              "ticklen": 8,
              "ticks": "outside",
              "tickwidth": 2
             }
            },
            "type": "scatterpolargl"
           }
          ],
          "scatterternary": [
           {
            "marker": {
             "colorbar": {
              "outlinewidth": 0,
              "tickcolor": "rgb(36,36,36)",
              "ticklen": 8,
              "ticks": "outside",
              "tickwidth": 2
             }
            },
            "type": "scatterternary"
           }
          ],
          "surface": [
           {
            "colorbar": {
             "outlinewidth": 0,
             "tickcolor": "rgb(36,36,36)",
             "ticklen": 8,
             "ticks": "outside",
             "tickwidth": 2
            },
            "colorscale": [
             [
              0,
              "rgb(2,4,25)"
             ],
             [
              0.06274509803921569,
              "rgb(24,15,41)"
             ],
             [
              0.12549019607843137,
              "rgb(47,23,57)"
             ],
             [
              0.18823529411764706,
              "rgb(71,28,72)"
             ],
             [
              0.25098039215686274,
              "rgb(97,30,82)"
             ],
             [
              0.3137254901960784,
              "rgb(123,30,89)"
             ],
             [
              0.3764705882352941,
              "rgb(150,27,91)"
             ],
             [
              0.4392156862745098,
              "rgb(177,22,88)"
             ],
             [
              0.5019607843137255,
              "rgb(203,26,79)"
             ],
             [
              0.5647058823529412,
              "rgb(223,47,67)"
             ],
             [
              0.6274509803921569,
              "rgb(236,76,61)"
             ],
             [
              0.6901960784313725,
              "rgb(242,107,73)"
             ],
             [
              0.7529411764705882,
              "rgb(244,135,95)"
             ],
             [
              0.8156862745098039,
              "rgb(245,162,122)"
             ],
             [
              0.8784313725490196,
              "rgb(246,188,153)"
             ],
             [
              0.9411764705882353,
              "rgb(247,212,187)"
             ],
             [
              1,
              "rgb(250,234,220)"
             ]
            ],
            "type": "surface"
           }
          ],
          "table": [
           {
            "cells": {
             "fill": {
              "color": "rgb(231,231,240)"
             },
             "line": {
              "color": "white"
             }
            },
            "header": {
             "fill": {
              "color": "rgb(183,183,191)"
             },
             "line": {
              "color": "white"
             }
            },
            "type": "table"
           }
          ]
         },
         "layout": {
          "annotationdefaults": {
           "arrowcolor": "rgb(67,103,167)"
          },
          "autotypenumbers": "strict",
          "coloraxis": {
           "colorbar": {
            "outlinewidth": 0,
            "tickcolor": "rgb(36,36,36)",
            "ticklen": 8,
            "ticks": "outside",
            "tickwidth": 2
           }
          },
          "colorscale": {
           "sequential": [
            [
             0,
             "rgb(2,4,25)"
            ],
            [
             0.06274509803921569,
             "rgb(24,15,41)"
            ],
            [
             0.12549019607843137,
             "rgb(47,23,57)"
            ],
            [
             0.18823529411764706,
             "rgb(71,28,72)"
            ],
            [
             0.25098039215686274,
             "rgb(97,30,82)"
            ],
            [
             0.3137254901960784,
             "rgb(123,30,89)"
            ],
            [
             0.3764705882352941,
             "rgb(150,27,91)"
            ],
            [
             0.4392156862745098,
             "rgb(177,22,88)"
            ],
            [
             0.5019607843137255,
             "rgb(203,26,79)"
            ],
            [
             0.5647058823529412,
             "rgb(223,47,67)"
            ],
            [
             0.6274509803921569,
             "rgb(236,76,61)"
            ],
            [
             0.6901960784313725,
             "rgb(242,107,73)"
            ],
            [
             0.7529411764705882,
             "rgb(244,135,95)"
            ],
            [
             0.8156862745098039,
             "rgb(245,162,122)"
            ],
            [
             0.8784313725490196,
             "rgb(246,188,153)"
            ],
            [
             0.9411764705882353,
             "rgb(247,212,187)"
            ],
            [
             1,
             "rgb(250,234,220)"
            ]
           ],
           "sequentialminus": [
            [
             0,
             "rgb(2,4,25)"
            ],
            [
             0.06274509803921569,
             "rgb(24,15,41)"
            ],
            [
             0.12549019607843137,
             "rgb(47,23,57)"
            ],
            [
             0.18823529411764706,
             "rgb(71,28,72)"
            ],
            [
             0.25098039215686274,
             "rgb(97,30,82)"
            ],
            [
             0.3137254901960784,
             "rgb(123,30,89)"
            ],
            [
             0.3764705882352941,
             "rgb(150,27,91)"
            ],
            [
             0.4392156862745098,
             "rgb(177,22,88)"
            ],
            [
             0.5019607843137255,
             "rgb(203,26,79)"
            ],
            [
             0.5647058823529412,
             "rgb(223,47,67)"
            ],
            [
             0.6274509803921569,
             "rgb(236,76,61)"
            ],
            [
             0.6901960784313725,
             "rgb(242,107,73)"
            ],
            [
             0.7529411764705882,
             "rgb(244,135,95)"
            ],
            [
             0.8156862745098039,
             "rgb(245,162,122)"
            ],
            [
             0.8784313725490196,
             "rgb(246,188,153)"
            ],
            [
             0.9411764705882353,
             "rgb(247,212,187)"
            ],
            [
             1,
             "rgb(250,234,220)"
            ]
           ]
          },
          "colorway": [
           "rgb(76,114,176)",
           "rgb(221,132,82)",
           "rgb(85,168,104)",
           "rgb(196,78,82)",
           "rgb(129,114,179)",
           "rgb(147,120,96)",
           "rgb(218,139,195)",
           "rgb(140,140,140)",
           "rgb(204,185,116)",
           "rgb(100,181,205)"
          ],
          "font": {
           "color": "rgb(36,36,36)"
          },
          "geo": {
           "bgcolor": "white",
           "lakecolor": "white",
           "landcolor": "rgb(234,234,242)",
           "showlakes": true,
           "showland": true,
           "subunitcolor": "white"
          },
          "hoverlabel": {
           "align": "left"
          },
          "hovermode": "closest",
          "paper_bgcolor": "white",
          "plot_bgcolor": "rgb(234,234,242)",
          "polar": {
           "angularaxis": {
            "gridcolor": "white",
            "linecolor": "white",
            "showgrid": true,
            "ticks": ""
           },
           "bgcolor": "rgb(234,234,242)",
           "radialaxis": {
            "gridcolor": "white",
            "linecolor": "white",
            "showgrid": true,
            "ticks": ""
           }
          },
          "scene": {
           "xaxis": {
            "backgroundcolor": "rgb(234,234,242)",
            "gridcolor": "white",
            "gridwidth": 2,
            "linecolor": "white",
            "showbackground": true,
            "showgrid": true,
            "ticks": "",
            "zerolinecolor": "white"
           },
           "yaxis": {
            "backgroundcolor": "rgb(234,234,242)",
            "gridcolor": "white",
            "gridwidth": 2,
            "linecolor": "white",
            "showbackground": true,
            "showgrid": true,
            "ticks": "",
            "zerolinecolor": "white"
           },
           "zaxis": {
            "backgroundcolor": "rgb(234,234,242)",
            "gridcolor": "white",
            "gridwidth": 2,
            "linecolor": "white",
            "showbackground": true,
            "showgrid": true,
            "ticks": "",
            "zerolinecolor": "white"
           }
          },
          "shapedefaults": {
           "fillcolor": "rgb(67,103,167)",
           "line": {
            "width": 0
           },
           "opacity": 0.5
          },
          "ternary": {
           "aaxis": {
            "gridcolor": "white",
            "linecolor": "white",
            "showgrid": true,
            "ticks": ""
           },
           "baxis": {
            "gridcolor": "white",
            "linecolor": "white",
            "showgrid": true,
            "ticks": ""
           },
           "bgcolor": "rgb(234,234,242)",
           "caxis": {
            "gridcolor": "white",
            "linecolor": "white",
            "showgrid": true,
            "ticks": ""
           }
          },
          "xaxis": {
           "automargin": true,
           "gridcolor": "white",
           "linecolor": "white",
           "showgrid": true,
           "ticks": "",
           "title": {
            "standoff": 15
           },
           "zerolinecolor": "white"
          },
          "yaxis": {
           "automargin": true,
           "gridcolor": "white",
           "linecolor": "white",
           "showgrid": true,
           "ticks": "",
           "title": {
            "standoff": 15
           },
           "zerolinecolor": "white"
          }
         }
        },
        "title": {
         "text": "Droga zgłoszonych projektów"
        }
       }
      },
      "text/html": [
       "<div>                            <div id=\"7b0f7619-ad7e-4cf2-aa8c-d2aa23851387\" class=\"plotly-graph-div\" style=\"height:525px; width:100%;\"></div>            <script type=\"text/javascript\">                require([\"plotly\"], function(Plotly) {                    window.PLOTLYENV=window.PLOTLYENV || {};                                    if (document.getElementById(\"7b0f7619-ad7e-4cf2-aa8c-d2aa23851387\")) {                    Plotly.newPlot(                        \"7b0f7619-ad7e-4cf2-aa8c-d2aa23851387\",                        [{\"orientation\":\"v\",\"textinfo\":\"value+percent initial\",\"x\":[\"Wszystkie projekty\",\"Projekty spe\\u0142niaj\\u0105ce wymogi\",\"Projekty poddane g\\u0142osowaniu\",\"Projekty przeznaczone do realizacji\"],\"y\":[3409,3159,1686,337],\"type\":\"funnel\"}],                        {\"template\":{\"data\":{\"barpolar\":[{\"marker\":{\"line\":{\"color\":\"rgb(234,234,242)\",\"width\":0.5},\"pattern\":{\"fillmode\":\"overlay\",\"size\":10,\"solidity\":0.2}},\"type\":\"barpolar\"}],\"bar\":[{\"error_x\":{\"color\":\"rgb(36,36,36)\"},\"error_y\":{\"color\":\"rgb(36,36,36)\"},\"marker\":{\"line\":{\"color\":\"rgb(234,234,242)\",\"width\":0.5},\"pattern\":{\"fillmode\":\"overlay\",\"size\":10,\"solidity\":0.2}},\"type\":\"bar\"}],\"carpet\":[{\"aaxis\":{\"endlinecolor\":\"rgb(36,36,36)\",\"gridcolor\":\"white\",\"linecolor\":\"white\",\"minorgridcolor\":\"white\",\"startlinecolor\":\"rgb(36,36,36)\"},\"baxis\":{\"endlinecolor\":\"rgb(36,36,36)\",\"gridcolor\":\"white\",\"linecolor\":\"white\",\"minorgridcolor\":\"white\",\"startlinecolor\":\"rgb(36,36,36)\"},\"type\":\"carpet\"}],\"choropleth\":[{\"colorbar\":{\"outlinewidth\":0,\"tickcolor\":\"rgb(36,36,36)\",\"ticklen\":8,\"ticks\":\"outside\",\"tickwidth\":2},\"type\":\"choropleth\"}],\"contourcarpet\":[{\"colorbar\":{\"outlinewidth\":0,\"tickcolor\":\"rgb(36,36,36)\",\"ticklen\":8,\"ticks\":\"outside\",\"tickwidth\":2},\"type\":\"contourcarpet\"}],\"contour\":[{\"colorbar\":{\"outlinewidth\":0,\"tickcolor\":\"rgb(36,36,36)\",\"ticklen\":8,\"ticks\":\"outside\",\"tickwidth\":2},\"colorscale\":[[0.0,\"rgb(2,4,25)\"],[0.06274509803921569,\"rgb(24,15,41)\"],[0.12549019607843137,\"rgb(47,23,57)\"],[0.18823529411764706,\"rgb(71,28,72)\"],[0.25098039215686274,\"rgb(97,30,82)\"],[0.3137254901960784,\"rgb(123,30,89)\"],[0.3764705882352941,\"rgb(150,27,91)\"],[0.4392156862745098,\"rgb(177,22,88)\"],[0.5019607843137255,\"rgb(203,26,79)\"],[0.5647058823529412,\"rgb(223,47,67)\"],[0.6274509803921569,\"rgb(236,76,61)\"],[0.6901960784313725,\"rgb(242,107,73)\"],[0.7529411764705882,\"rgb(244,135,95)\"],[0.8156862745098039,\"rgb(245,162,122)\"],[0.8784313725490196,\"rgb(246,188,153)\"],[0.9411764705882353,\"rgb(247,212,187)\"],[1.0,\"rgb(250,234,220)\"]],\"type\":\"contour\"}],\"heatmapgl\":[{\"colorbar\":{\"outlinewidth\":0,\"tickcolor\":\"rgb(36,36,36)\",\"ticklen\":8,\"ticks\":\"outside\",\"tickwidth\":2},\"colorscale\":[[0.0,\"rgb(2,4,25)\"],[0.06274509803921569,\"rgb(24,15,41)\"],[0.12549019607843137,\"rgb(47,23,57)\"],[0.18823529411764706,\"rgb(71,28,72)\"],[0.25098039215686274,\"rgb(97,30,82)\"],[0.3137254901960784,\"rgb(123,30,89)\"],[0.3764705882352941,\"rgb(150,27,91)\"],[0.4392156862745098,\"rgb(177,22,88)\"],[0.5019607843137255,\"rgb(203,26,79)\"],[0.5647058823529412,\"rgb(223,47,67)\"],[0.6274509803921569,\"rgb(236,76,61)\"],[0.6901960784313725,\"rgb(242,107,73)\"],[0.7529411764705882,\"rgb(244,135,95)\"],[0.8156862745098039,\"rgb(245,162,122)\"],[0.8784313725490196,\"rgb(246,188,153)\"],[0.9411764705882353,\"rgb(247,212,187)\"],[1.0,\"rgb(250,234,220)\"]],\"type\":\"heatmapgl\"}],\"heatmap\":[{\"colorbar\":{\"outlinewidth\":0,\"tickcolor\":\"rgb(36,36,36)\",\"ticklen\":8,\"ticks\":\"outside\",\"tickwidth\":2},\"colorscale\":[[0.0,\"rgb(2,4,25)\"],[0.06274509803921569,\"rgb(24,15,41)\"],[0.12549019607843137,\"rgb(47,23,57)\"],[0.18823529411764706,\"rgb(71,28,72)\"],[0.25098039215686274,\"rgb(97,30,82)\"],[0.3137254901960784,\"rgb(123,30,89)\"],[0.3764705882352941,\"rgb(150,27,91)\"],[0.4392156862745098,\"rgb(177,22,88)\"],[0.5019607843137255,\"rgb(203,26,79)\"],[0.5647058823529412,\"rgb(223,47,67)\"],[0.6274509803921569,\"rgb(236,76,61)\"],[0.6901960784313725,\"rgb(242,107,73)\"],[0.7529411764705882,\"rgb(244,135,95)\"],[0.8156862745098039,\"rgb(245,162,122)\"],[0.8784313725490196,\"rgb(246,188,153)\"],[0.9411764705882353,\"rgb(247,212,187)\"],[1.0,\"rgb(250,234,220)\"]],\"type\":\"heatmap\"}],\"histogram2dcontour\":[{\"colorbar\":{\"outlinewidth\":0,\"tickcolor\":\"rgb(36,36,36)\",\"ticklen\":8,\"ticks\":\"outside\",\"tickwidth\":2},\"colorscale\":[[0.0,\"rgb(2,4,25)\"],[0.06274509803921569,\"rgb(24,15,41)\"],[0.12549019607843137,\"rgb(47,23,57)\"],[0.18823529411764706,\"rgb(71,28,72)\"],[0.25098039215686274,\"rgb(97,30,82)\"],[0.3137254901960784,\"rgb(123,30,89)\"],[0.3764705882352941,\"rgb(150,27,91)\"],[0.4392156862745098,\"rgb(177,22,88)\"],[0.5019607843137255,\"rgb(203,26,79)\"],[0.5647058823529412,\"rgb(223,47,67)\"],[0.6274509803921569,\"rgb(236,76,61)\"],[0.6901960784313725,\"rgb(242,107,73)\"],[0.7529411764705882,\"rgb(244,135,95)\"],[0.8156862745098039,\"rgb(245,162,122)\"],[0.8784313725490196,\"rgb(246,188,153)\"],[0.9411764705882353,\"rgb(247,212,187)\"],[1.0,\"rgb(250,234,220)\"]],\"type\":\"histogram2dcontour\"}],\"histogram2d\":[{\"colorbar\":{\"outlinewidth\":0,\"tickcolor\":\"rgb(36,36,36)\",\"ticklen\":8,\"ticks\":\"outside\",\"tickwidth\":2},\"colorscale\":[[0.0,\"rgb(2,4,25)\"],[0.06274509803921569,\"rgb(24,15,41)\"],[0.12549019607843137,\"rgb(47,23,57)\"],[0.18823529411764706,\"rgb(71,28,72)\"],[0.25098039215686274,\"rgb(97,30,82)\"],[0.3137254901960784,\"rgb(123,30,89)\"],[0.3764705882352941,\"rgb(150,27,91)\"],[0.4392156862745098,\"rgb(177,22,88)\"],[0.5019607843137255,\"rgb(203,26,79)\"],[0.5647058823529412,\"rgb(223,47,67)\"],[0.6274509803921569,\"rgb(236,76,61)\"],[0.6901960784313725,\"rgb(242,107,73)\"],[0.7529411764705882,\"rgb(244,135,95)\"],[0.8156862745098039,\"rgb(245,162,122)\"],[0.8784313725490196,\"rgb(246,188,153)\"],[0.9411764705882353,\"rgb(247,212,187)\"],[1.0,\"rgb(250,234,220)\"]],\"type\":\"histogram2d\"}],\"histogram\":[{\"marker\":{\"pattern\":{\"fillmode\":\"overlay\",\"size\":10,\"solidity\":0.2}},\"type\":\"histogram\"}],\"mesh3d\":[{\"colorbar\":{\"outlinewidth\":0,\"tickcolor\":\"rgb(36,36,36)\",\"ticklen\":8,\"ticks\":\"outside\",\"tickwidth\":2},\"type\":\"mesh3d\"}],\"parcoords\":[{\"line\":{\"colorbar\":{\"outlinewidth\":0,\"tickcolor\":\"rgb(36,36,36)\",\"ticklen\":8,\"ticks\":\"outside\",\"tickwidth\":2}},\"type\":\"parcoords\"}],\"pie\":[{\"automargin\":true,\"type\":\"pie\"}],\"scatter3d\":[{\"line\":{\"colorbar\":{\"outlinewidth\":0,\"tickcolor\":\"rgb(36,36,36)\",\"ticklen\":8,\"ticks\":\"outside\",\"tickwidth\":2}},\"marker\":{\"colorbar\":{\"outlinewidth\":0,\"tickcolor\":\"rgb(36,36,36)\",\"ticklen\":8,\"ticks\":\"outside\",\"tickwidth\":2}},\"type\":\"scatter3d\"}],\"scattercarpet\":[{\"marker\":{\"colorbar\":{\"outlinewidth\":0,\"tickcolor\":\"rgb(36,36,36)\",\"ticklen\":8,\"ticks\":\"outside\",\"tickwidth\":2}},\"type\":\"scattercarpet\"}],\"scattergeo\":[{\"marker\":{\"colorbar\":{\"outlinewidth\":0,\"tickcolor\":\"rgb(36,36,36)\",\"ticklen\":8,\"ticks\":\"outside\",\"tickwidth\":2}},\"type\":\"scattergeo\"}],\"scattergl\":[{\"marker\":{\"colorbar\":{\"outlinewidth\":0,\"tickcolor\":\"rgb(36,36,36)\",\"ticklen\":8,\"ticks\":\"outside\",\"tickwidth\":2}},\"type\":\"scattergl\"}],\"scattermapbox\":[{\"marker\":{\"colorbar\":{\"outlinewidth\":0,\"tickcolor\":\"rgb(36,36,36)\",\"ticklen\":8,\"ticks\":\"outside\",\"tickwidth\":2}},\"type\":\"scattermapbox\"}],\"scatterpolargl\":[{\"marker\":{\"colorbar\":{\"outlinewidth\":0,\"tickcolor\":\"rgb(36,36,36)\",\"ticklen\":8,\"ticks\":\"outside\",\"tickwidth\":2}},\"type\":\"scatterpolargl\"}],\"scatterpolar\":[{\"marker\":{\"colorbar\":{\"outlinewidth\":0,\"tickcolor\":\"rgb(36,36,36)\",\"ticklen\":8,\"ticks\":\"outside\",\"tickwidth\":2}},\"type\":\"scatterpolar\"}],\"scatter\":[{\"marker\":{\"colorbar\":{\"outlinewidth\":0,\"tickcolor\":\"rgb(36,36,36)\",\"ticklen\":8,\"ticks\":\"outside\",\"tickwidth\":2}},\"type\":\"scatter\"}],\"scatterternary\":[{\"marker\":{\"colorbar\":{\"outlinewidth\":0,\"tickcolor\":\"rgb(36,36,36)\",\"ticklen\":8,\"ticks\":\"outside\",\"tickwidth\":2}},\"type\":\"scatterternary\"}],\"surface\":[{\"colorbar\":{\"outlinewidth\":0,\"tickcolor\":\"rgb(36,36,36)\",\"ticklen\":8,\"ticks\":\"outside\",\"tickwidth\":2},\"colorscale\":[[0.0,\"rgb(2,4,25)\"],[0.06274509803921569,\"rgb(24,15,41)\"],[0.12549019607843137,\"rgb(47,23,57)\"],[0.18823529411764706,\"rgb(71,28,72)\"],[0.25098039215686274,\"rgb(97,30,82)\"],[0.3137254901960784,\"rgb(123,30,89)\"],[0.3764705882352941,\"rgb(150,27,91)\"],[0.4392156862745098,\"rgb(177,22,88)\"],[0.5019607843137255,\"rgb(203,26,79)\"],[0.5647058823529412,\"rgb(223,47,67)\"],[0.6274509803921569,\"rgb(236,76,61)\"],[0.6901960784313725,\"rgb(242,107,73)\"],[0.7529411764705882,\"rgb(244,135,95)\"],[0.8156862745098039,\"rgb(245,162,122)\"],[0.8784313725490196,\"rgb(246,188,153)\"],[0.9411764705882353,\"rgb(247,212,187)\"],[1.0,\"rgb(250,234,220)\"]],\"type\":\"surface\"}],\"table\":[{\"cells\":{\"fill\":{\"color\":\"rgb(231,231,240)\"},\"line\":{\"color\":\"white\"}},\"header\":{\"fill\":{\"color\":\"rgb(183,183,191)\"},\"line\":{\"color\":\"white\"}},\"type\":\"table\"}]},\"layout\":{\"annotationdefaults\":{\"arrowcolor\":\"rgb(67,103,167)\"},\"autotypenumbers\":\"strict\",\"coloraxis\":{\"colorbar\":{\"outlinewidth\":0,\"tickcolor\":\"rgb(36,36,36)\",\"ticklen\":8,\"ticks\":\"outside\",\"tickwidth\":2}},\"colorscale\":{\"sequential\":[[0.0,\"rgb(2,4,25)\"],[0.06274509803921569,\"rgb(24,15,41)\"],[0.12549019607843137,\"rgb(47,23,57)\"],[0.18823529411764706,\"rgb(71,28,72)\"],[0.25098039215686274,\"rgb(97,30,82)\"],[0.3137254901960784,\"rgb(123,30,89)\"],[0.3764705882352941,\"rgb(150,27,91)\"],[0.4392156862745098,\"rgb(177,22,88)\"],[0.5019607843137255,\"rgb(203,26,79)\"],[0.5647058823529412,\"rgb(223,47,67)\"],[0.6274509803921569,\"rgb(236,76,61)\"],[0.6901960784313725,\"rgb(242,107,73)\"],[0.7529411764705882,\"rgb(244,135,95)\"],[0.8156862745098039,\"rgb(245,162,122)\"],[0.8784313725490196,\"rgb(246,188,153)\"],[0.9411764705882353,\"rgb(247,212,187)\"],[1.0,\"rgb(250,234,220)\"]],\"sequentialminus\":[[0.0,\"rgb(2,4,25)\"],[0.06274509803921569,\"rgb(24,15,41)\"],[0.12549019607843137,\"rgb(47,23,57)\"],[0.18823529411764706,\"rgb(71,28,72)\"],[0.25098039215686274,\"rgb(97,30,82)\"],[0.3137254901960784,\"rgb(123,30,89)\"],[0.3764705882352941,\"rgb(150,27,91)\"],[0.4392156862745098,\"rgb(177,22,88)\"],[0.5019607843137255,\"rgb(203,26,79)\"],[0.5647058823529412,\"rgb(223,47,67)\"],[0.6274509803921569,\"rgb(236,76,61)\"],[0.6901960784313725,\"rgb(242,107,73)\"],[0.7529411764705882,\"rgb(244,135,95)\"],[0.8156862745098039,\"rgb(245,162,122)\"],[0.8784313725490196,\"rgb(246,188,153)\"],[0.9411764705882353,\"rgb(247,212,187)\"],[1.0,\"rgb(250,234,220)\"]]},\"colorway\":[\"rgb(76,114,176)\",\"rgb(221,132,82)\",\"rgb(85,168,104)\",\"rgb(196,78,82)\",\"rgb(129,114,179)\",\"rgb(147,120,96)\",\"rgb(218,139,195)\",\"rgb(140,140,140)\",\"rgb(204,185,116)\",\"rgb(100,181,205)\"],\"font\":{\"color\":\"rgb(36,36,36)\"},\"geo\":{\"bgcolor\":\"white\",\"lakecolor\":\"white\",\"landcolor\":\"rgb(234,234,242)\",\"showlakes\":true,\"showland\":true,\"subunitcolor\":\"white\"},\"hoverlabel\":{\"align\":\"left\"},\"hovermode\":\"closest\",\"paper_bgcolor\":\"white\",\"plot_bgcolor\":\"rgb(234,234,242)\",\"polar\":{\"angularaxis\":{\"gridcolor\":\"white\",\"linecolor\":\"white\",\"showgrid\":true,\"ticks\":\"\"},\"bgcolor\":\"rgb(234,234,242)\",\"radialaxis\":{\"gridcolor\":\"white\",\"linecolor\":\"white\",\"showgrid\":true,\"ticks\":\"\"}},\"scene\":{\"xaxis\":{\"backgroundcolor\":\"rgb(234,234,242)\",\"gridcolor\":\"white\",\"gridwidth\":2,\"linecolor\":\"white\",\"showbackground\":true,\"showgrid\":true,\"ticks\":\"\",\"zerolinecolor\":\"white\"},\"yaxis\":{\"backgroundcolor\":\"rgb(234,234,242)\",\"gridcolor\":\"white\",\"gridwidth\":2,\"linecolor\":\"white\",\"showbackground\":true,\"showgrid\":true,\"ticks\":\"\",\"zerolinecolor\":\"white\"},\"zaxis\":{\"backgroundcolor\":\"rgb(234,234,242)\",\"gridcolor\":\"white\",\"gridwidth\":2,\"linecolor\":\"white\",\"showbackground\":true,\"showgrid\":true,\"ticks\":\"\",\"zerolinecolor\":\"white\"}},\"shapedefaults\":{\"fillcolor\":\"rgb(67,103,167)\",\"line\":{\"width\":0},\"opacity\":0.5},\"ternary\":{\"aaxis\":{\"gridcolor\":\"white\",\"linecolor\":\"white\",\"showgrid\":true,\"ticks\":\"\"},\"baxis\":{\"gridcolor\":\"white\",\"linecolor\":\"white\",\"showgrid\":true,\"ticks\":\"\"},\"bgcolor\":\"rgb(234,234,242)\",\"caxis\":{\"gridcolor\":\"white\",\"linecolor\":\"white\",\"showgrid\":true,\"ticks\":\"\"}},\"xaxis\":{\"automargin\":true,\"gridcolor\":\"white\",\"linecolor\":\"white\",\"showgrid\":true,\"ticks\":\"\",\"title\":{\"standoff\":15},\"zerolinecolor\":\"white\"},\"yaxis\":{\"automargin\":true,\"gridcolor\":\"white\",\"linecolor\":\"white\",\"showgrid\":true,\"ticks\":\"\",\"title\":{\"standoff\":15},\"zerolinecolor\":\"white\"}}},\"title\":{\"text\":\"Droga zg\\u0142oszonych projekt\\u00f3w\"}},                        {\"responsive\": true}                    ).then(function(){\n",
       "                            \n",
       "var gd = document.getElementById('7b0f7619-ad7e-4cf2-aa8c-d2aa23851387');\n",
       "var x = new MutationObserver(function (mutations, observer) {{\n",
       "        var display = window.getComputedStyle(gd).display;\n",
       "        if (!display || display === 'none') {{\n",
       "            console.log([gd, 'removed!']);\n",
       "            Plotly.purge(gd);\n",
       "            observer.disconnect();\n",
       "        }}\n",
       "}});\n",
       "\n",
       "// Listen for the removal of the full notebook cells\n",
       "var notebookContainer = gd.closest('#notebook-container');\n",
       "if (notebookContainer) {{\n",
       "    x.observe(notebookContainer, {childList: true});\n",
       "}}\n",
       "\n",
       "// Listen for the clearing of the current output cell\n",
       "var outputEl = gd.closest('.output');\n",
       "if (outputEl) {{\n",
       "    x.observe(outputEl, {childList: true});\n",
       "}}\n",
       "\n",
       "                        })                };                });            </script>        </div>"
      ]
     },
     "metadata": {},
     "output_type": "display_data"
    }
   ],
   "source": [
    "p_all = len(df)\n",
    "p_pass = p_all - df['status'].str.lower().str.contains('wycofane').sum()\n",
    "p_vote = p_pass - df['status'].str.lower().str.contains('nie bierze udziału w głosowaniu').sum()\n",
    "p_picked = len(df[df['status'].isin(['Wybrany w głosowaniu', 'Realizacja z listy rezerwowej', 'Realizowany poza WBO, nie bierze udziału w głosowaniu'])])\n",
    "\n",
    "category = [\n",
    "    'Wszystkie projekty', \n",
    "    'Projekty spełniające wymogi', \n",
    "    'Projekty poddane głosowaniu', \n",
    "    'Projekty przeznaczone do realizacji']\n",
    "value = [\n",
    "    p_all, \n",
    "    p_pass, \n",
    "    p_vote, \n",
    "    p_picked]\n",
    "\n",
    "\n",
    "fig = go.Figure()\n",
    "fig.add_trace(go.Funnel(\n",
    "        x=category, \n",
    "        y=value, \n",
    "        textinfo = \"value+percent initial\", \n",
    "        orientation='v',\n",
    "))\n",
    "\n",
    "fig.update_layout(title='Droga zgłoszonych projektów', template=\"seaborn\")\n",
    "fig.show()"
   ]
  },
  {
   "cell_type": "markdown",
   "id": "f09e02a2",
   "metadata": {},
   "source": [
    "- #### Tylko połowa zgłaszanych projektów jest poddawana głosowaniu\n",
    "- #### Tylko 1 na 10 projektów jest przeznaczana do realizacji\n",
    "--------------"
   ]
  },
  {
   "cell_type": "code",
   "execution_count": 160,
   "id": "a3f86b4d",
   "metadata": {},
   "outputs": [
    {
     "data": {
      "image/png": "[encoded data removed]",
      "text/plain": [
       "<Figure size 1080x504 with 1 Axes>"
      ]
     },
     "metadata": {
      "needs_background": "light"
     },
     "output_type": "display_data"
    }
   ],
   "source": [
    "plt.figure(figsize=(15, 7))\n",
    "ax = sns.barplot(x='year', y='projects', data=to_plot, palette='Blues_r')\n",
    "ax.bar_label(ax.containers[0])\n",
    "plt.show()"
   ]
  },
  {
   "cell_type": "markdown",
   "id": "e283fc46",
   "metadata": {},
   "source": [
    "- #### Z roku na rok jest co raz mniej projektów\n",
    "---------------"
   ]
  },
  {
   "cell_type": "code",
   "execution_count": 158,
   "id": "b1fa4b5d",
   "metadata": {},
   "outputs": [
    {
     "data": {
      "image/png": "[encoded data removed]",
      "text/plain": [
       "<Figure size 864x504 with 2 Axes>"
      ]
     },
     "metadata": {
      "needs_background": "light"
     },
     "output_type": "display_data"
    }
   ],
   "source": [
    "t = df.groupby(['year', 'category']).agg({'id': 'count'}).reset_index().pivot_table(columns='year', index='category')\n",
    "t2 = pd.DataFrame(t.T.sum(), columns=['projects']).reset_index().sort_values('projects', ascending=False)\n",
    "\n",
    "t.columns = t.columns.droplevel(0)\n",
    "t.fillna(0, inplace=True)\n",
    "t = t.astype('int')\n",
    "t['all'] = t.T.sum()\n",
    "t.sort_values('all', ascending=False, inplace=True)\n",
    "t.drop(columns=['all'], inplace=True)\n",
    "\n",
    "\n",
    "fig, axes = plt.subplots(1, 2, figsize=(12, 7))\n",
    "fig.suptitle('Liczba zgłoszonych projektów wg kategorii')\n",
    "\n",
    "sns.barplot(ax=axes[0], data=t2, x='projects', y='category', palette='Blues_r')\n",
    "sns.heatmap(ax=axes[1], data=t, annot=True, fmt=\"d\", cbar=False, cmap=sns.cm.mako_r)\n",
    "\n",
    "# axes.bar_label(axes[0].containers[0])\n",
    "\n",
    "for a in axes:\n",
    "    a.set(ylabel=None)\n",
    "\n",
    "fig.tight_layout()\n",
    "# print(axes[0].containers)\n",
    "\n",
    "for bars in axes[0].containers:\n",
    "    axes[0].bar_label(bars)"
   ]
  },
  {
   "cell_type": "markdown",
   "id": "e267e126",
   "metadata": {},
   "source": [
    "- #### Najwięcej projektów było z grupy \"zieleń/rekreacja\" oraz \"piesze/rowerowe\" (praktycznie co roku)\n",
    "- #### Były też takie kategorie, które pojawiły się raz i już do nich nie powrócono np. \"zabytkowe\"\n",
    "----------------------"
   ]
  },
  {
   "cell_type": "code",
   "execution_count": 162,
   "id": "a68cb620",
   "metadata": {},
   "outputs": [
    {
     "data": {
      "application/vnd.plotly.v1+json": {
       "config": {
        "plotlyServerURL": "https://plot.ly"
       },
       "data": [
        {
         "coloraxis": "coloraxis",
         "hovertemplate": "year: %{x}<br>category: %{y}<br>color: %{z}<extra></extra>",
         "name": "0",
         "texttemplate": "%{z}",
         "type": "heatmap",
         "x": [
          2016,
          2017,
          2018,
          2019,
          2020,
          2021
         ],
         "xaxis": "x",
         "y": [
          "drogowe",
          "edukacja",
          "inne",
          "komunikacja zbiorowa",
          "nieinwestycyjne",
          "piesze/rowerowe",
          "place zabaw",
          "podwórka",
          "rewitalizacja",
          "sport",
          "zabytkowe",
          "zieleń/rekreacja"
         ],
         "yaxis": "y",
         "z": [
          [
           129,
           118,
           60,
           46,
           33,
           13
          ],
          [
           54,
           4,
           0,
           0,
           0,
           0
          ],
          [
           97,
           66,
           72,
           66,
           58,
           56
          ],
          [
           37,
           54,
           16,
           18,
           17,
           15
          ],
          [
           0,
           0,
           0,
           10,
           3,
           8
          ],
          [
           176,
           178,
           112,
           77,
           65,
           81
          ],
          [
           31,
           29,
           29,
           23,
           24,
           23
          ],
          [
           0,
           42,
           29,
           16,
           9,
           11
          ],
          [
           69,
           25,
           11,
           8,
           12,
           19
          ],
          [
           38,
           62,
           30,
           28,
           18,
           38
          ],
          [
           0,
           0,
           47,
           0,
           0,
           0
          ],
          [
           157,
           207,
           200,
           154,
           174,
           104
          ]
         ]
        }
       ],
       "layout": {
        "coloraxis": {
         "colorscale": [
          [
           0,
           "#440154"
          ],
          [
           0.1111111111111111,
           "#482878"
          ],
          [
           0.2222222222222222,
           "#3e4989"
          ],
          [
           0.3333333333333333,
           "#31688e"
          ],
          [
           0.4444444444444444,
           "#26828e"
          ],
          [
           0.5555555555555556,
           "#1f9e89"
          ],
          [
           0.6666666666666666,
           "#35b779"
          ],
          [
           0.7777777777777778,
           "#6ece58"
          ],
          [
           0.8888888888888888,
           "#b5de2b"
          ],
          [
           1,
           "#fde725"
          ]
         ]
        },
        "height": 600,
        "margin": {
         "t": 60
        },
        "template": {
         "data": {
          "bar": [
           {
            "error_x": {
             "color": "#2a3f5f"
            },
            "error_y": {
             "color": "#2a3f5f"
            },
            "marker": {
             "line": {
              "color": "#E5ECF6",
              "width": 0.5
             },
             "pattern": {
              "fillmode": "overlay",
              "size": 10,
              "solidity": 0.2
             }
            },
            "type": "bar"
           }
          ],
          "barpolar": [
           {
            "marker": {
             "line": {
              "color": "#E5ECF6",
              "width": 0.5
             },
             "pattern": {
              "fillmode": "overlay",
              "size": 10,
              "solidity": 0.2
             }
            },
            "type": "barpolar"
           }
          ],
          "carpet": [
           {
            "aaxis": {
             "endlinecolor": "#2a3f5f",
             "gridcolor": "white",
             "linecolor": "white",
             "minorgridcolor": "white",
             "startlinecolor": "#2a3f5f"
            },
            "baxis": {
             "endlinecolor": "#2a3f5f",
             "gridcolor": "white",
             "linecolor": "white",
             "minorgridcolor": "white",
             "startlinecolor": "#2a3f5f"
            },
            "type": "carpet"
           }
          ],
          "choropleth": [
           {
            "colorbar": {
             "outlinewidth": 0,
             "ticks": ""
            },
            "type": "choropleth"
           }
          ],
          "contour": [
           {
            "colorbar": {
             "outlinewidth": 0,
             "ticks": ""
            },
            "colorscale": [
             [
              0,
              "#0d0887"
             ],
             [
              0.1111111111111111,
              "#46039f"
             ],
             [
              0.2222222222222222,
              "#7201a8"
             ],
             [
              0.3333333333333333,
              "#9c179e"
             ],
             [
              0.4444444444444444,
              "#bd3786"
             ],
             [
              0.5555555555555556,
              "#d8576b"
             ],
             [
              0.6666666666666666,
              "#ed7953"
             ],
             [
              0.7777777777777778,
              "#fb9f3a"
             ],
             [
              0.8888888888888888,
              "#fdca26"
             ],
             [
              1,
              "#f0f921"
             ]
            ],
            "type": "contour"
           }
          ],
          "contourcarpet": [
           {
            "colorbar": {
             "outlinewidth": 0,
             "ticks": ""
            },
            "type": "contourcarpet"
           }
          ],
          "heatmap": [
           {
            "colorbar": {
             "outlinewidth": 0,
             "ticks": ""
            },
            "colorscale": [
             [
              0,
              "#0d0887"
             ],
             [
              0.1111111111111111,
              "#46039f"
             ],
             [
              0.2222222222222222,
              "#7201a8"
             ],
             [
              0.3333333333333333,
              "#9c179e"
             ],
             [
              0.4444444444444444,
              "#bd3786"
             ],
             [
              0.5555555555555556,
              "#d8576b"
             ],
             [
              0.6666666666666666,
              "#ed7953"
             ],
             [
              0.7777777777777778,
              "#fb9f3a"
             ],
             [
              0.8888888888888888,
              "#fdca26"
             ],
             [
              1,
              "#f0f921"
             ]
            ],
            "type": "heatmap"
           }
          ],
          "heatmapgl": [
           {
            "colorbar": {
             "outlinewidth": 0,
             "ticks": ""
            },
            "colorscale": [
             [
              0,
              "#0d0887"
             ],
             [
              0.1111111111111111,
              "#46039f"
             ],
             [
              0.2222222222222222,
              "#7201a8"
             ],
             [
              0.3333333333333333,
              "#9c179e"
             ],
             [
              0.4444444444444444,
              "#bd3786"
             ],
             [
              0.5555555555555556,
              "#d8576b"
             ],
             [
              0.6666666666666666,
              "#ed7953"
             ],
             [
              0.7777777777777778,
              "#fb9f3a"
             ],
             [
              0.8888888888888888,
              "#fdca26"
             ],
             [
              1,
              "#f0f921"
             ]
            ],
            "type": "heatmapgl"
           }
          ],
          "histogram": [
           {
            "marker": {
             "pattern": {
              "fillmode": "overlay",
              "size": 10,
              "solidity": 0.2
             }
            },
            "type": "histogram"
           }
          ],
          "histogram2d": [
           {
            "colorbar": {
             "outlinewidth": 0,
             "ticks": ""
            },
            "colorscale": [
             [
              0,
              "#0d0887"
             ],
             [
              0.1111111111111111,
              "#46039f"
             ],
             [
              0.2222222222222222,
              "#7201a8"
             ],
             [
              0.3333333333333333,
              "#9c179e"
             ],
             [
              0.4444444444444444,
              "#bd3786"
             ],
             [
              0.5555555555555556,
              "#d8576b"
             ],
             [
              0.6666666666666666,
              "#ed7953"
             ],
             [
              0.7777777777777778,
              "#fb9f3a"
             ],
             [
              0.8888888888888888,
              "#fdca26"
             ],
             [
              1,
              "#f0f921"
             ]
            ],
            "type": "histogram2d"
           }
          ],
          "histogram2dcontour": [
           {
            "colorbar": {
             "outlinewidth": 0,
             "ticks": ""
            },
            "colorscale": [
             [
              0,
              "#0d0887"
             ],
             [
              0.1111111111111111,
              "#46039f"
             ],
             [
              0.2222222222222222,
              "#7201a8"
             ],
             [
              0.3333333333333333,
              "#9c179e"
             ],
             [
              0.4444444444444444,
              "#bd3786"
             ],
             [
              0.5555555555555556,
              "#d8576b"
             ],
             [
              0.6666666666666666,
              "#ed7953"
             ],
             [
              0.7777777777777778,
              "#fb9f3a"
             ],
             [
              0.8888888888888888,
              "#fdca26"
             ],
             [
              1,
              "#f0f921"
             ]
            ],
            "type": "histogram2dcontour"
           }
          ],
          "mesh3d": [
           {
            "colorbar": {
             "outlinewidth": 0,
             "ticks": ""
            },
            "type": "mesh3d"
           }
          ],
          "parcoords": [
           {
            "line": {
             "colorbar": {
              "outlinewidth": 0,
              "ticks": ""
             }
            },
            "type": "parcoords"
           }
          ],
          "pie": [
           {
            "automargin": true,
            "type": "pie"
           }
          ],
          "scatter": [
           {
            "marker": {
             "colorbar": {
              "outlinewidth": 0,
              "ticks": ""
             }
            },
            "type": "scatter"
           }
          ],
          "scatter3d": [
           {
            "line": {
             "colorbar": {
              "outlinewidth": 0,
              "ticks": ""
             }
            },
            "marker": {
             "colorbar": {
              "outlinewidth": 0,
              "ticks": ""
             }
            },
            "type": "scatter3d"
           }
          ],
          "scattercarpet": [
           {
            "marker": {
             "colorbar": {
              "outlinewidth": 0,
              "ticks": ""
             }
            },
            "type": "scattercarpet"
           }
          ],
          "scattergeo": [
           {
            "marker": {
             "colorbar": {
              "outlinewidth": 0,
              "ticks": ""
             }
            },
            "type": "scattergeo"
           }
          ],
          "scattergl": [
           {
            "marker": {
             "colorbar": {
              "outlinewidth": 0,
              "ticks": ""
             }
            },
            "type": "scattergl"
           }
          ],
          "scattermapbox": [
           {
            "marker": {
             "colorbar": {
              "outlinewidth": 0,
              "ticks": ""
             }
            },
            "type": "scattermapbox"
           }
          ],
          "scatterpolar": [
           {
            "marker": {
             "colorbar": {
              "outlinewidth": 0,
              "ticks": ""
             }
            },
            "type": "scatterpolar"
           }
          ],
          "scatterpolargl": [
           {
            "marker": {
             "colorbar": {
              "outlinewidth": 0,
              "ticks": ""
             }
            },
            "type": "scatterpolargl"
           }
          ],
          "scatterternary": [
           {
            "marker": {
             "colorbar": {
              "outlinewidth": 0,
              "ticks": ""
             }
            },
            "type": "scatterternary"
           }
          ],
          "surface": [
           {
            "colorbar": {
             "outlinewidth": 0,
             "ticks": ""
            },
            "colorscale": [
             [
              0,
              "#0d0887"
             ],
             [
              0.1111111111111111,
              "#46039f"
             ],
             [
              0.2222222222222222,
              "#7201a8"
             ],
             [
              0.3333333333333333,
              "#9c179e"
             ],
             [
              0.4444444444444444,
              "#bd3786"
             ],
             [
              0.5555555555555556,
              "#d8576b"
             ],
             [
              0.6666666666666666,
              "#ed7953"
             ],
             [
              0.7777777777777778,
              "#fb9f3a"
             ],
             [
              0.8888888888888888,
              "#fdca26"
             ],
             [
              1,
              "#f0f921"
             ]
            ],
            "type": "surface"
           }
          ],
          "table": [
           {
            "cells": {
             "fill": {
              "color": "#EBF0F8"
             },
             "line": {
              "color": "white"
             }
            },
            "header": {
             "fill": {
              "color": "#C8D4E3"
             },
             "line": {
              "color": "white"
             }
            },
            "type": "table"
           }
          ]
         },
         "layout": {
          "annotationdefaults": {
           "arrowcolor": "#2a3f5f",
           "arrowhead": 0,
           "arrowwidth": 1
          },
          "autotypenumbers": "strict",
          "coloraxis": {
           "colorbar": {
            "outlinewidth": 0,
            "ticks": ""
           }
          },
          "colorscale": {
           "diverging": [
            [
             0,
             "#8e0152"
            ],
            [
             0.1,
             "#c51b7d"
            ],
            [
             0.2,
             "#de77ae"
            ],
            [
             0.3,
             "#f1b6da"
            ],
            [
             0.4,
             "#fde0ef"
            ],
            [
             0.5,
             "#f7f7f7"
            ],
            [
             0.6,
             "#e6f5d0"
            ],
            [
             0.7,
             "#b8e186"
            ],
            [
             0.8,
             "#7fbc41"
            ],
            [
             0.9,
             "#4d9221"
            ],
            [
             1,
             "#276419"
            ]
           ],
           "sequential": [
            [
             0,
             "#0d0887"
            ],
            [
             0.1111111111111111,
             "#46039f"
            ],
            [
             0.2222222222222222,
             "#7201a8"
            ],
            [
             0.3333333333333333,
             "#9c179e"
            ],
            [
             0.4444444444444444,
             "#bd3786"
            ],
            [
             0.5555555555555556,
             "#d8576b"
            ],
            [
             0.6666666666666666,
             "#ed7953"
            ],
            [
             0.7777777777777778,
             "#fb9f3a"
            ],
            [
             0.8888888888888888,
             "#fdca26"
            ],
            [
             1,
             "#f0f921"
            ]
           ],
           "sequentialminus": [
            [
             0,
             "#0d0887"
            ],
            [
             0.1111111111111111,
             "#46039f"
            ],
            [
             0.2222222222222222,
             "#7201a8"
            ],
            [
             0.3333333333333333,
             "#9c179e"
            ],
            [
             0.4444444444444444,
             "#bd3786"
            ],
            [
             0.5555555555555556,
             "#d8576b"
            ],
            [
             0.6666666666666666,
             "#ed7953"
            ],
            [
             0.7777777777777778,
             "#fb9f3a"
            ],
            [
             0.8888888888888888,
             "#fdca26"
            ],
            [
             1,
             "#f0f921"
            ]
           ]
          },
          "colorway": [
           "#636efa",
           "#EF553B",
           "#00cc96",
           "#ab63fa",
           "#FFA15A",
           "#19d3f3",
           "#FF6692",
           "#B6E880",
           "#FF97FF",
           "#FECB52"
          ],
          "font": {
           "color": "#2a3f5f"
          },
          "geo": {
           "bgcolor": "white",
           "lakecolor": "white",
           "landcolor": "#E5ECF6",
           "showlakes": true,
           "showland": true,
           "subunitcolor": "white"
          },
          "hoverlabel": {
           "align": "left"
          },
          "hovermode": "closest",
          "mapbox": {
           "style": "light"
          },
          "paper_bgcolor": "white",
          "plot_bgcolor": "#E5ECF6",
          "polar": {
           "angularaxis": {
            "gridcolor": "white",
            "linecolor": "white",
            "ticks": ""
           },
           "bgcolor": "#E5ECF6",
           "radialaxis": {
            "gridcolor": "white",
            "linecolor": "white",
            "ticks": ""
           }
          },
          "scene": {
           "xaxis": {
            "backgroundcolor": "#E5ECF6",
            "gridcolor": "white",
            "gridwidth": 2,
            "linecolor": "white",
            "showbackground": true,
            "ticks": "",
            "zerolinecolor": "white"
           },
           "yaxis": {
            "backgroundcolor": "#E5ECF6",
            "gridcolor": "white",
            "gridwidth": 2,
            "linecolor": "white",
            "showbackground": true,
            "ticks": "",
            "zerolinecolor": "white"
           },
           "zaxis": {
            "backgroundcolor": "#E5ECF6",
            "gridcolor": "white",
            "gridwidth": 2,
            "linecolor": "white",
            "showbackground": true,
            "ticks": "",
            "zerolinecolor": "white"
           }
          },
          "shapedefaults": {
           "line": {
            "color": "#2a3f5f"
           }
          },
          "ternary": {
           "aaxis": {
            "gridcolor": "white",
            "linecolor": "white",
            "ticks": ""
           },
           "baxis": {
            "gridcolor": "white",
            "linecolor": "white",
            "ticks": ""
           },
           "bgcolor": "#E5ECF6",
           "caxis": {
            "gridcolor": "white",
            "linecolor": "white",
            "ticks": ""
           }
          },
          "title": {
           "x": 0.05
          },
          "xaxis": {
           "automargin": true,
           "gridcolor": "white",
           "linecolor": "white",
           "ticks": "",
           "title": {
            "standoff": 15
           },
           "zerolinecolor": "white",
           "zerolinewidth": 2
          },
          "yaxis": {
           "automargin": true,
           "gridcolor": "white",
           "linecolor": "white",
           "ticks": "",
           "title": {
            "standoff": 15
           },
           "zerolinecolor": "white",
           "zerolinewidth": 2
          }
         }
        },
        "title": {
         "text": "Występowanie poszczególnych grup projektów w latach 2016-2021"
        },
        "width": 800,
        "xaxis": {
         "anchor": "y",
         "constrain": "domain",
         "domain": [
          0,
          1
         ],
         "scaleanchor": "y",
         "title": {
          "text": "year"
         }
        },
        "yaxis": {
         "anchor": "x",
         "autorange": "reversed",
         "constrain": "domain",
         "domain": [
          0,
          1
         ],
         "title": {
          "text": "category"
         }
        }
       }
      },
      "text/html": [
       "<div>                            <div id=\"bf3302f5-85be-4334-8b70-41b8e9f6ca86\" class=\"plotly-graph-div\" style=\"height:600px; width:800px;\"></div>            <script type=\"text/javascript\">                require([\"plotly\"], function(Plotly) {                    window.PLOTLYENV=window.PLOTLYENV || {};                                    if (document.getElementById(\"bf3302f5-85be-4334-8b70-41b8e9f6ca86\")) {                    Plotly.newPlot(                        \"bf3302f5-85be-4334-8b70-41b8e9f6ca86\",                        [{\"coloraxis\":\"coloraxis\",\"name\":\"0\",\"texttemplate\":\"%{z}\",\"x\":[2016,2017,2018,2019,2020,2021],\"y\":[\"drogowe\",\"edukacja\",\"inne\",\"komunikacja zbiorowa\",\"nieinwestycyjne\",\"piesze/rowerowe\",\"place zabaw\",\"podw\\u00f3rka\",\"rewitalizacja\",\"sport\",\"zabytkowe\",\"ziele\\u0144/rekreacja\"],\"z\":[[129,118,60,46,33,13],[54,4,0,0,0,0],[97,66,72,66,58,56],[37,54,16,18,17,15],[0,0,0,10,3,8],[176,178,112,77,65,81],[31,29,29,23,24,23],[0,42,29,16,9,11],[69,25,11,8,12,19],[38,62,30,28,18,38],[0,0,47,0,0,0],[157,207,200,154,174,104]],\"type\":\"heatmap\",\"xaxis\":\"x\",\"yaxis\":\"y\",\"hovertemplate\":\"year: %{x}<br>category: %{y}<br>color: %{z}<extra></extra>\"}],                        {\"template\":{\"data\":{\"bar\":[{\"error_x\":{\"color\":\"#2a3f5f\"},\"error_y\":{\"color\":\"#2a3f5f\"},\"marker\":{\"line\":{\"color\":\"#E5ECF6\",\"width\":0.5},\"pattern\":{\"fillmode\":\"overlay\",\"size\":10,\"solidity\":0.2}},\"type\":\"bar\"}],\"barpolar\":[{\"marker\":{\"line\":{\"color\":\"#E5ECF6\",\"width\":0.5},\"pattern\":{\"fillmode\":\"overlay\",\"size\":10,\"solidity\":0.2}},\"type\":\"barpolar\"}],\"carpet\":[{\"aaxis\":{\"endlinecolor\":\"#2a3f5f\",\"gridcolor\":\"white\",\"linecolor\":\"white\",\"minorgridcolor\":\"white\",\"startlinecolor\":\"#2a3f5f\"},\"baxis\":{\"endlinecolor\":\"#2a3f5f\",\"gridcolor\":\"white\",\"linecolor\":\"white\",\"minorgridcolor\":\"white\",\"startlinecolor\":\"#2a3f5f\"},\"type\":\"carpet\"}],\"choropleth\":[{\"colorbar\":{\"outlinewidth\":0,\"ticks\":\"\"},\"type\":\"choropleth\"}],\"contour\":[{\"colorbar\":{\"outlinewidth\":0,\"ticks\":\"\"},\"colorscale\":[[0.0,\"#0d0887\"],[0.1111111111111111,\"#46039f\"],[0.2222222222222222,\"#7201a8\"],[0.3333333333333333,\"#9c179e\"],[0.4444444444444444,\"#bd3786\"],[0.5555555555555556,\"#d8576b\"],[0.6666666666666666,\"#ed7953\"],[0.7777777777777778,\"#fb9f3a\"],[0.8888888888888888,\"#fdca26\"],[1.0,\"#f0f921\"]],\"type\":\"contour\"}],\"contourcarpet\":[{\"colorbar\":{\"outlinewidth\":0,\"ticks\":\"\"},\"type\":\"contourcarpet\"}],\"heatmap\":[{\"colorbar\":{\"outlinewidth\":0,\"ticks\":\"\"},\"colorscale\":[[0.0,\"#0d0887\"],[0.1111111111111111,\"#46039f\"],[0.2222222222222222,\"#7201a8\"],[0.3333333333333333,\"#9c179e\"],[0.4444444444444444,\"#bd3786\"],[0.5555555555555556,\"#d8576b\"],[0.6666666666666666,\"#ed7953\"],[0.7777777777777778,\"#fb9f3a\"],[0.8888888888888888,\"#fdca26\"],[1.0,\"#f0f921\"]],\"type\":\"heatmap\"}],\"heatmapgl\":[{\"colorbar\":{\"outlinewidth\":0,\"ticks\":\"\"},\"colorscale\":[[0.0,\"#0d0887\"],[0.1111111111111111,\"#46039f\"],[0.2222222222222222,\"#7201a8\"],[0.3333333333333333,\"#9c179e\"],[0.4444444444444444,\"#bd3786\"],[0.5555555555555556,\"#d8576b\"],[0.6666666666666666,\"#ed7953\"],[0.7777777777777778,\"#fb9f3a\"],[0.8888888888888888,\"#fdca26\"],[1.0,\"#f0f921\"]],\"type\":\"heatmapgl\"}],\"histogram\":[{\"marker\":{\"pattern\":{\"fillmode\":\"overlay\",\"size\":10,\"solidity\":0.2}},\"type\":\"histogram\"}],\"histogram2d\":[{\"colorbar\":{\"outlinewidth\":0,\"ticks\":\"\"},\"colorscale\":[[0.0,\"#0d0887\"],[0.1111111111111111,\"#46039f\"],[0.2222222222222222,\"#7201a8\"],[0.3333333333333333,\"#9c179e\"],[0.4444444444444444,\"#bd3786\"],[0.5555555555555556,\"#d8576b\"],[0.6666666666666666,\"#ed7953\"],[0.7777777777777778,\"#fb9f3a\"],[0.8888888888888888,\"#fdca26\"],[1.0,\"#f0f921\"]],\"type\":\"histogram2d\"}],\"histogram2dcontour\":[{\"colorbar\":{\"outlinewidth\":0,\"ticks\":\"\"},\"colorscale\":[[0.0,\"#0d0887\"],[0.1111111111111111,\"#46039f\"],[0.2222222222222222,\"#7201a8\"],[0.3333333333333333,\"#9c179e\"],[0.4444444444444444,\"#bd3786\"],[0.5555555555555556,\"#d8576b\"],[0.6666666666666666,\"#ed7953\"],[0.7777777777777778,\"#fb9f3a\"],[0.8888888888888888,\"#fdca26\"],[1.0,\"#f0f921\"]],\"type\":\"histogram2dcontour\"}],\"mesh3d\":[{\"colorbar\":{\"outlinewidth\":0,\"ticks\":\"\"},\"type\":\"mesh3d\"}],\"parcoords\":[{\"line\":{\"colorbar\":{\"outlinewidth\":0,\"ticks\":\"\"}},\"type\":\"parcoords\"}],\"pie\":[{\"automargin\":true,\"type\":\"pie\"}],\"scatter\":[{\"marker\":{\"colorbar\":{\"outlinewidth\":0,\"ticks\":\"\"}},\"type\":\"scatter\"}],\"scatter3d\":[{\"line\":{\"colorbar\":{\"outlinewidth\":0,\"ticks\":\"\"}},\"marker\":{\"colorbar\":{\"outlinewidth\":0,\"ticks\":\"\"}},\"type\":\"scatter3d\"}],\"scattercarpet\":[{\"marker\":{\"colorbar\":{\"outlinewidth\":0,\"ticks\":\"\"}},\"type\":\"scattercarpet\"}],\"scattergeo\":[{\"marker\":{\"colorbar\":{\"outlinewidth\":0,\"ticks\":\"\"}},\"type\":\"scattergeo\"}],\"scattergl\":[{\"marker\":{\"colorbar\":{\"outlinewidth\":0,\"ticks\":\"\"}},\"type\":\"scattergl\"}],\"scattermapbox\":[{\"marker\":{\"colorbar\":{\"outlinewidth\":0,\"ticks\":\"\"}},\"type\":\"scattermapbox\"}],\"scatterpolar\":[{\"marker\":{\"colorbar\":{\"outlinewidth\":0,\"ticks\":\"\"}},\"type\":\"scatterpolar\"}],\"scatterpolargl\":[{\"marker\":{\"colorbar\":{\"outlinewidth\":0,\"ticks\":\"\"}},\"type\":\"scatterpolargl\"}],\"scatterternary\":[{\"marker\":{\"colorbar\":{\"outlinewidth\":0,\"ticks\":\"\"}},\"type\":\"scatterternary\"}],\"surface\":[{\"colorbar\":{\"outlinewidth\":0,\"ticks\":\"\"},\"colorscale\":[[0.0,\"#0d0887\"],[0.1111111111111111,\"#46039f\"],[0.2222222222222222,\"#7201a8\"],[0.3333333333333333,\"#9c179e\"],[0.4444444444444444,\"#bd3786\"],[0.5555555555555556,\"#d8576b\"],[0.6666666666666666,\"#ed7953\"],[0.7777777777777778,\"#fb9f3a\"],[0.8888888888888888,\"#fdca26\"],[1.0,\"#f0f921\"]],\"type\":\"surface\"}],\"table\":[{\"cells\":{\"fill\":{\"color\":\"#EBF0F8\"},\"line\":{\"color\":\"white\"}},\"header\":{\"fill\":{\"color\":\"#C8D4E3\"},\"line\":{\"color\":\"white\"}},\"type\":\"table\"}]},\"layout\":{\"annotationdefaults\":{\"arrowcolor\":\"#2a3f5f\",\"arrowhead\":0,\"arrowwidth\":1},\"autotypenumbers\":\"strict\",\"coloraxis\":{\"colorbar\":{\"outlinewidth\":0,\"ticks\":\"\"}},\"colorscale\":{\"diverging\":[[0,\"#8e0152\"],[0.1,\"#c51b7d\"],[0.2,\"#de77ae\"],[0.3,\"#f1b6da\"],[0.4,\"#fde0ef\"],[0.5,\"#f7f7f7\"],[0.6,\"#e6f5d0\"],[0.7,\"#b8e186\"],[0.8,\"#7fbc41\"],[0.9,\"#4d9221\"],[1,\"#276419\"]],\"sequential\":[[0.0,\"#0d0887\"],[0.1111111111111111,\"#46039f\"],[0.2222222222222222,\"#7201a8\"],[0.3333333333333333,\"#9c179e\"],[0.4444444444444444,\"#bd3786\"],[0.5555555555555556,\"#d8576b\"],[0.6666666666666666,\"#ed7953\"],[0.7777777777777778,\"#fb9f3a\"],[0.8888888888888888,\"#fdca26\"],[1.0,\"#f0f921\"]],\"sequentialminus\":[[0.0,\"#0d0887\"],[0.1111111111111111,\"#46039f\"],[0.2222222222222222,\"#7201a8\"],[0.3333333333333333,\"#9c179e\"],[0.4444444444444444,\"#bd3786\"],[0.5555555555555556,\"#d8576b\"],[0.6666666666666666,\"#ed7953\"],[0.7777777777777778,\"#fb9f3a\"],[0.8888888888888888,\"#fdca26\"],[1.0,\"#f0f921\"]]},\"colorway\":[\"#636efa\",\"#EF553B\",\"#00cc96\",\"#ab63fa\",\"#FFA15A\",\"#19d3f3\",\"#FF6692\",\"#B6E880\",\"#FF97FF\",\"#FECB52\"],\"font\":{\"color\":\"#2a3f5f\"},\"geo\":{\"bgcolor\":\"white\",\"lakecolor\":\"white\",\"landcolor\":\"#E5ECF6\",\"showlakes\":true,\"showland\":true,\"subunitcolor\":\"white\"},\"hoverlabel\":{\"align\":\"left\"},\"hovermode\":\"closest\",\"mapbox\":{\"style\":\"light\"},\"paper_bgcolor\":\"white\",\"plot_bgcolor\":\"#E5ECF6\",\"polar\":{\"angularaxis\":{\"gridcolor\":\"white\",\"linecolor\":\"white\",\"ticks\":\"\"},\"bgcolor\":\"#E5ECF6\",\"radialaxis\":{\"gridcolor\":\"white\",\"linecolor\":\"white\",\"ticks\":\"\"}},\"scene\":{\"xaxis\":{\"backgroundcolor\":\"#E5ECF6\",\"gridcolor\":\"white\",\"gridwidth\":2,\"linecolor\":\"white\",\"showbackground\":true,\"ticks\":\"\",\"zerolinecolor\":\"white\"},\"yaxis\":{\"backgroundcolor\":\"#E5ECF6\",\"gridcolor\":\"white\",\"gridwidth\":2,\"linecolor\":\"white\",\"showbackground\":true,\"ticks\":\"\",\"zerolinecolor\":\"white\"},\"zaxis\":{\"backgroundcolor\":\"#E5ECF6\",\"gridcolor\":\"white\",\"gridwidth\":2,\"linecolor\":\"white\",\"showbackground\":true,\"ticks\":\"\",\"zerolinecolor\":\"white\"}},\"shapedefaults\":{\"line\":{\"color\":\"#2a3f5f\"}},\"ternary\":{\"aaxis\":{\"gridcolor\":\"white\",\"linecolor\":\"white\",\"ticks\":\"\"},\"baxis\":{\"gridcolor\":\"white\",\"linecolor\":\"white\",\"ticks\":\"\"},\"bgcolor\":\"#E5ECF6\",\"caxis\":{\"gridcolor\":\"white\",\"linecolor\":\"white\",\"ticks\":\"\"}},\"title\":{\"x\":0.05},\"xaxis\":{\"automargin\":true,\"gridcolor\":\"white\",\"linecolor\":\"white\",\"ticks\":\"\",\"title\":{\"standoff\":15},\"zerolinecolor\":\"white\",\"zerolinewidth\":2},\"yaxis\":{\"automargin\":true,\"gridcolor\":\"white\",\"linecolor\":\"white\",\"ticks\":\"\",\"title\":{\"standoff\":15},\"zerolinecolor\":\"white\",\"zerolinewidth\":2}}},\"xaxis\":{\"anchor\":\"y\",\"domain\":[0.0,1.0],\"scaleanchor\":\"y\",\"constrain\":\"domain\",\"title\":{\"text\":\"year\"}},\"yaxis\":{\"anchor\":\"x\",\"domain\":[0.0,1.0],\"autorange\":\"reversed\",\"constrain\":\"domain\",\"title\":{\"text\":\"category\"}},\"coloraxis\":{\"colorscale\":[[0.0,\"#440154\"],[0.1111111111111111,\"#482878\"],[0.2222222222222222,\"#3e4989\"],[0.3333333333333333,\"#31688e\"],[0.4444444444444444,\"#26828e\"],[0.5555555555555556,\"#1f9e89\"],[0.6666666666666666,\"#35b779\"],[0.7777777777777778,\"#6ece58\"],[0.8888888888888888,\"#b5de2b\"],[1.0,\"#fde725\"]]},\"margin\":{\"t\":60},\"height\":600,\"width\":800,\"title\":{\"text\":\"Wyst\\u0119powanie poszczeg\\u00f3lnych grup projekt\\u00f3w w latach 2016-2021\"}},                        {\"responsive\": true}                    ).then(function(){\n",
       "                            \n",
       "var gd = document.getElementById('bf3302f5-85be-4334-8b70-41b8e9f6ca86');\n",
       "var x = new MutationObserver(function (mutations, observer) {{\n",
       "        var display = window.getComputedStyle(gd).display;\n",
       "        if (!display || display === 'none') {{\n",
       "            console.log([gd, 'removed!']);\n",
       "            Plotly.purge(gd);\n",
       "            observer.disconnect();\n",
       "        }}\n",
       "}});\n",
       "\n",
       "// Listen for the removal of the full notebook cells\n",
       "var notebookContainer = gd.closest('#notebook-container');\n",
       "if (notebookContainer) {{\n",
       "    x.observe(notebookContainer, {childList: true});\n",
       "}}\n",
       "\n",
       "// Listen for the clearing of the current output cell\n",
       "var outputEl = gd.closest('.output');\n",
       "if (outputEl) {{\n",
       "    x.observe(outputEl, {childList: true});\n",
       "}}\n",
       "\n",
       "                        })                };                });            </script>        </div>"
      ]
     },
     "metadata": {},
     "output_type": "display_data"
    }
   ],
   "source": [
    "t = df.groupby(['year', 'category']).agg({'id': 'count'}).reset_index().pivot_table(columns='year', index='category')\n",
    "t.columns = t.columns.droplevel(0)\n",
    "t.fillna(0, inplace=True)\n",
    "t = t.astype('int')\n",
    "\n",
    "fig = px.imshow(t, text_auto=True, color_continuous_scale=px.colors.sequential.Viridis, height=600, width=800)\n",
    "fig.update_layout(title='Występowanie poszczególnych grup projektów w latach 2016-2021')\n",
    "fig.show()"
   ]
  },
  {
   "cell_type": "code",
   "execution_count": 37,
   "id": "59f4ad28",
   "metadata": {},
   "outputs": [
    {
     "ename": "TypeError",
     "evalue": "arg must be a list, tuple, 1-d array, or Series",
     "output_type": "error",
     "traceback": [
      "\u001b[1;31m---------------------------------------------------------------------------\u001b[0m",
      "\u001b[1;31mTypeError\u001b[0m                                 Traceback (most recent call last)",
      "\u001b[1;32m~\\AppData\\Local\\Temp/ipykernel_11740/397459093.py\u001b[0m in \u001b[0;36m<module>\u001b[1;34m\u001b[0m\n\u001b[0;32m      1\u001b[0m \u001b[0mt\u001b[0m \u001b[1;33m=\u001b[0m \u001b[0mdf\u001b[0m\u001b[1;33m.\u001b[0m\u001b[0mgroupby\u001b[0m\u001b[1;33m(\u001b[0m\u001b[1;33m[\u001b[0m\u001b[1;34m'year'\u001b[0m\u001b[1;33m,\u001b[0m \u001b[1;34m'category'\u001b[0m\u001b[1;33m]\u001b[0m\u001b[1;33m)\u001b[0m\u001b[1;33m.\u001b[0m\u001b[0magg\u001b[0m\u001b[1;33m(\u001b[0m\u001b[1;33m{\u001b[0m\u001b[1;34m'id'\u001b[0m\u001b[1;33m:\u001b[0m \u001b[1;34m'count'\u001b[0m\u001b[1;33m}\u001b[0m\u001b[1;33m)\u001b[0m\u001b[1;33m.\u001b[0m\u001b[0mreset_index\u001b[0m\u001b[1;33m(\u001b[0m\u001b[1;33m)\u001b[0m\u001b[1;33m.\u001b[0m\u001b[0mpivot_table\u001b[0m\u001b[1;33m(\u001b[0m\u001b[0mcolumns\u001b[0m\u001b[1;33m=\u001b[0m\u001b[1;34m'year'\u001b[0m\u001b[1;33m,\u001b[0m \u001b[0mindex\u001b[0m\u001b[1;33m=\u001b[0m\u001b[1;34m'category'\u001b[0m\u001b[1;33m)\u001b[0m\u001b[1;33m\u001b[0m\u001b[1;33m\u001b[0m\u001b[0m\n\u001b[1;32m----> 2\u001b[1;33m \u001b[0mpd\u001b[0m\u001b[1;33m.\u001b[0m\u001b[0mto_numeric\u001b[0m\u001b[1;33m(\u001b[0m\u001b[0mt\u001b[0m\u001b[1;33m,\u001b[0m \u001b[0mdowncast\u001b[0m\u001b[1;33m=\u001b[0m\u001b[1;34m'integer'\u001b[0m\u001b[1;33m)\u001b[0m\u001b[1;33m\u001b[0m\u001b[1;33m\u001b[0m\u001b[0m\n\u001b[0m\u001b[0;32m      3\u001b[0m \u001b[0mt\u001b[0m\u001b[1;33m\u001b[0m\u001b[1;33m\u001b[0m\u001b[0m\n",
      "\u001b[1;32m~\\Anaconda3\\lib\\site-packages\\pandas\\core\\tools\\numeric.py\u001b[0m in \u001b[0;36mto_numeric\u001b[1;34m(arg, errors, downcast)\u001b[0m\n\u001b[0;32m    161\u001b[0m         \u001b[0mvalues\u001b[0m \u001b[1;33m=\u001b[0m \u001b[0mnp\u001b[0m\u001b[1;33m.\u001b[0m\u001b[0marray\u001b[0m\u001b[1;33m(\u001b[0m\u001b[1;33m[\u001b[0m\u001b[0marg\u001b[0m\u001b[1;33m]\u001b[0m\u001b[1;33m,\u001b[0m \u001b[0mdtype\u001b[0m\u001b[1;33m=\u001b[0m\u001b[1;34m\"O\"\u001b[0m\u001b[1;33m)\u001b[0m\u001b[1;33m\u001b[0m\u001b[1;33m\u001b[0m\u001b[0m\n\u001b[0;32m    162\u001b[0m     \u001b[1;32melif\u001b[0m \u001b[0mgetattr\u001b[0m\u001b[1;33m(\u001b[0m\u001b[0marg\u001b[0m\u001b[1;33m,\u001b[0m \u001b[1;34m\"ndim\"\u001b[0m\u001b[1;33m,\u001b[0m \u001b[1;36m1\u001b[0m\u001b[1;33m)\u001b[0m \u001b[1;33m>\u001b[0m \u001b[1;36m1\u001b[0m\u001b[1;33m:\u001b[0m\u001b[1;33m\u001b[0m\u001b[1;33m\u001b[0m\u001b[0m\n\u001b[1;32m--> 163\u001b[1;33m         \u001b[1;32mraise\u001b[0m \u001b[0mTypeError\u001b[0m\u001b[1;33m(\u001b[0m\u001b[1;34m\"arg must be a list, tuple, 1-d array, or Series\"\u001b[0m\u001b[1;33m)\u001b[0m\u001b[1;33m\u001b[0m\u001b[1;33m\u001b[0m\u001b[0m\n\u001b[0m\u001b[0;32m    164\u001b[0m     \u001b[1;32melse\u001b[0m\u001b[1;33m:\u001b[0m\u001b[1;33m\u001b[0m\u001b[1;33m\u001b[0m\u001b[0m\n\u001b[0;32m    165\u001b[0m         \u001b[0mvalues\u001b[0m \u001b[1;33m=\u001b[0m \u001b[0marg\u001b[0m\u001b[1;33m\u001b[0m\u001b[1;33m\u001b[0m\u001b[0m\n",
      "\u001b[1;31mTypeError\u001b[0m: arg must be a list, tuple, 1-d array, or Series"
     ]
    }
   ],
   "source": [
    "t = df.groupby(['year', 'category']).agg({'id': 'count'}).reset_index().pivot_table(columns='year', index='category')\n",
    "pd.to_numeric(t, downcast='integer')\n",
    "t"
   ]
  },
  {
   "cell_type": "code",
   "execution_count": 13,
   "id": "ef3d1b6a",
   "metadata": {},
   "outputs": [],
   "source": [
    "# to_plot = df.groupby('category').agg({'id': 'count'}).sort_values('id', ascending=False).reset_index().rename(columns={'id': 'projects'})\n",
    "\n",
    "# fig = px.bar(to_plot, x='category', y='projects', text_auto='.', template=\"seaborn\")\n",
    "# fig.show()"
   ]
  },
  {
   "cell_type": "code",
   "execution_count": 12,
   "id": "9b522d09",
   "metadata": {},
   "outputs": [],
   "source": [
    "# to_plot = df.groupby('year').agg({'id': 'count'}).sort_values('id', ascending=False).reset_index().rename(columns={'id': 'projects'})\n",
    "\n",
    "# fig = px.bar(to_plot, x='year', y='projects', text_auto='.', template=\"seaborn\")\n",
    "# fig.show()"
   ]
  },
  {
   "cell_type": "code",
   "execution_count": null,
   "id": "4d04f098",
   "metadata": {},
   "outputs": [],
   "source": []
  },
  {
   "cell_type": "code",
   "execution_count": null,
   "id": "a3f4f72c",
   "metadata": {},
   "outputs": [],
   "source": []
  },
  {
   "cell_type": "code",
   "execution_count": null,
   "id": "73c0fafc",
   "metadata": {},
   "outputs": [],
   "source": []
  },
  {
   "cell_type": "code",
   "execution_count": 10,
   "id": "b1edf720",
   "metadata": {},
   "outputs": [
    {
     "data": {
      "application/vnd.plotly.v1+json": {
       "config": {
        "plotlyServerURL": "https://plot.ly"
       },
       "data": [
        {
         "alignmentgroup": "True",
         "hovertemplate": "status=Niewybrany w głosowaniu<br>category=%{x}<br>budget=%{y}<extra></extra>",
         "legendgroup": "Niewybrany w głosowaniu",
         "marker": {
          "color": "#636efa"
         },
         "name": "Niewybrany w głosowaniu",
         "notched": false,
         "offsetgroup": "Niewybrany w głosowaniu",
         "orientation": "v",
         "showlegend": true,
         "type": "box",
         "x": [
          "place zabaw",
          "rewitalizacja",
          "zieleń/rekreacja",
          "zieleń/rekreacja",
          "sport",
          "drogowe",
          "zieleń/rekreacja",
          "zieleń/rekreacja",
          "inne",
          "zieleń/rekreacja",
          "piesze/rowerowe",
          "piesze/rowerowe",
          "komunikacja zbiorowa",
          "inne",
          "inne",
          "rewitalizacja",
          "piesze/rowerowe",
          "piesze/rowerowe",
          "drogowe",
          "rewitalizacja",
          "piesze/rowerowe",
          "komunikacja zbiorowa",
          "place zabaw",
          "rewitalizacja",
          "zieleń/rekreacja",
          "piesze/rowerowe",
          "piesze/rowerowe",
          "komunikacja zbiorowa",
          "zieleń/rekreacja",
          "zieleń/rekreacja",
          "rewitalizacja",
          "piesze/rowerowe",
          "place zabaw",
          "drogowe",
          "drogowe",
          "zieleń/rekreacja",
          "zieleń/rekreacja",
          "place zabaw",
          "rewitalizacja",
          "drogowe",
          "drogowe",
          "komunikacja zbiorowa",
          "piesze/rowerowe",
          "drogowe",
          "komunikacja zbiorowa",
          "piesze/rowerowe",
          "zieleń/rekreacja",
          "zieleń/rekreacja",
          "drogowe",
          "drogowe",
          "piesze/rowerowe",
          "drogowe",
          "inne",
          "drogowe",
          "drogowe",
          "drogowe",
          "zieleń/rekreacja",
          "zieleń/rekreacja",
          "piesze/rowerowe",
          "zieleń/rekreacja",
          "drogowe",
          "piesze/rowerowe",
          "piesze/rowerowe",
          "drogowe",
          "sport",
          "rewitalizacja",
          "piesze/rowerowe",
          "piesze/rowerowe",
          "zieleń/rekreacja",
          "zieleń/rekreacja",
          "piesze/rowerowe",
          "inne",
          "drogowe",
          "piesze/rowerowe",
          "piesze/rowerowe",
          "zieleń/rekreacja",
          "zieleń/rekreacja",
          "drogowe",
          "rewitalizacja",
          "inne",
          "piesze/rowerowe",
          "piesze/rowerowe",
          "drogowe",
          "edukacja",
          "drogowe",
          "piesze/rowerowe",
          "zieleń/rekreacja",
          "piesze/rowerowe",
          "komunikacja zbiorowa",
          "komunikacja zbiorowa",
          "drogowe",
          "drogowe",
          "piesze/rowerowe",
          "edukacja",
          "zieleń/rekreacja",
          "edukacja",
          "place zabaw",
          "sport",
          "drogowe",
          "place zabaw",
          "edukacja",
          "drogowe",
          "komunikacja zbiorowa",
          "zieleń/rekreacja",
          "piesze/rowerowe",
          "inne",
          "drogowe",
          "piesze/rowerowe",
          "drogowe",
          "drogowe",
          "place zabaw",
          "drogowe",
          "komunikacja zbiorowa",
          "drogowe",
          "drogowe",
          "rewitalizacja",
          "piesze/rowerowe",
          "piesze/rowerowe",
          "drogowe",
          "rewitalizacja",
          "drogowe",
          "piesze/rowerowe",
          "sport",
          "zieleń/rekreacja",
          "drogowe",
          "drogowe",
          "edukacja",
          "rewitalizacja",
          "rewitalizacja",
          "piesze/rowerowe",
          "komunikacja zbiorowa",
          "rewitalizacja",
          "drogowe",
          "rewitalizacja",
          "zieleń/rekreacja",
          "piesze/rowerowe",
          "komunikacja zbiorowa",
          "drogowe",
          "drogowe",
          "rewitalizacja",
          "piesze/rowerowe",
          "rewitalizacja",
          "komunikacja zbiorowa",
          "zieleń/rekreacja",
          "rewitalizacja",
          "edukacja",
          "piesze/rowerowe",
          "zieleń/rekreacja",
          "sport",
          "piesze/rowerowe",
          "drogowe",
          "rewitalizacja",
          "drogowe",
          "edukacja",
          "drogowe",
          "piesze/rowerowe",
          "place zabaw",
          "rewitalizacja",
          "zieleń/rekreacja",
          "inne",
          "komunikacja zbiorowa",
          "drogowe",
          "edukacja",
          "zieleń/rekreacja",
          "drogowe",
          "inne",
          "zieleń/rekreacja",
          "piesze/rowerowe",
          "zieleń/rekreacja",
          "piesze/rowerowe",
          "zieleń/rekreacja",
          "piesze/rowerowe",
          "rewitalizacja",
          "rewitalizacja",
          "piesze/rowerowe",
          "piesze/rowerowe",
          "zieleń/rekreacja",
          "zieleń/rekreacja",
          "drogowe",
          "edukacja",
          "rewitalizacja",
          "zieleń/rekreacja",
          "zieleń/rekreacja",
          "zieleń/rekreacja",
          "rewitalizacja",
          "piesze/rowerowe",
          "zieleń/rekreacja",
          "place zabaw",
          "edukacja",
          "place zabaw",
          "place zabaw",
          "drogowe",
          "rewitalizacja",
          "rewitalizacja",
          "piesze/rowerowe",
          "rewitalizacja",
          "edukacja",
          "komunikacja zbiorowa",
          "piesze/rowerowe",
          "piesze/rowerowe",
          "zieleń/rekreacja",
          "drogowe",
          "drogowe",
          "komunikacja zbiorowa",
          "piesze/rowerowe",
          "zieleń/rekreacja",
          "rewitalizacja",
          "zieleń/rekreacja",
          "rewitalizacja",
          "zieleń/rekreacja",
          "edukacja",
          "zieleń/rekreacja",
          "place zabaw",
          "zieleń/rekreacja",
          "zieleń/rekreacja",
          "drogowe",
          "sport",
          "piesze/rowerowe",
          "drogowe",
          "piesze/rowerowe",
          "piesze/rowerowe",
          "piesze/rowerowe",
          "drogowe",
          "piesze/rowerowe",
          "piesze/rowerowe",
          "drogowe",
          "piesze/rowerowe",
          "piesze/rowerowe",
          "piesze/rowerowe",
          "piesze/rowerowe",
          "piesze/rowerowe",
          "place zabaw",
          "piesze/rowerowe",
          "drogowe",
          "rewitalizacja",
          "edukacja",
          "zieleń/rekreacja",
          "drogowe",
          "rewitalizacja",
          "edukacja",
          "komunikacja zbiorowa",
          "piesze/rowerowe",
          "zieleń/rekreacja",
          "zieleń/rekreacja",
          "piesze/rowerowe",
          "edukacja",
          "sport",
          "place zabaw",
          "drogowe",
          "piesze/rowerowe",
          "piesze/rowerowe",
          "zieleń/rekreacja",
          "zieleń/rekreacja",
          "zieleń/rekreacja",
          "drogowe",
          "rewitalizacja",
          "rewitalizacja",
          "drogowe",
          "piesze/rowerowe",
          "edukacja",
          "rewitalizacja",
          "piesze/rowerowe",
          "edukacja",
          "komunikacja zbiorowa",
          "drogowe",
          "rewitalizacja",
          "rewitalizacja",
          "zieleń/rekreacja",
          "drogowe",
          "piesze/rowerowe",
          "komunikacja zbiorowa",
          "drogowe",
          "drogowe",
          "zieleń/rekreacja",
          "drogowe",
          "drogowe",
          "drogowe",
          "piesze/rowerowe",
          "rewitalizacja",
          "zieleń/rekreacja",
          "piesze/rowerowe",
          "piesze/rowerowe",
          "zieleń/rekreacja",
          "zieleń/rekreacja",
          "rewitalizacja",
          "drogowe",
          "piesze/rowerowe",
          "rewitalizacja",
          "edukacja",
          "edukacja",
          "edukacja",
          "rewitalizacja",
          "rewitalizacja",
          "sport",
          "piesze/rowerowe",
          "zieleń/rekreacja",
          "zieleń/rekreacja",
          "piesze/rowerowe",
          "piesze/rowerowe",
          "drogowe",
          "zieleń/rekreacja",
          "piesze/rowerowe",
          "piesze/rowerowe",
          "piesze/rowerowe",
          "piesze/rowerowe",
          "zieleń/rekreacja",
          "piesze/rowerowe",
          "rewitalizacja",
          "drogowe",
          "piesze/rowerowe",
          "zieleń/rekreacja",
          "piesze/rowerowe",
          "zieleń/rekreacja",
          "piesze/rowerowe",
          "rewitalizacja",
          "piesze/rowerowe",
          "sport",
          "zieleń/rekreacja",
          "zieleń/rekreacja",
          "piesze/rowerowe",
          "rewitalizacja",
          "rewitalizacja",
          "piesze/rowerowe",
          "place zabaw",
          "zieleń/rekreacja",
          "edukacja",
          "piesze/rowerowe",
          "rewitalizacja",
          "komunikacja zbiorowa",
          "zieleń/rekreacja",
          "zieleń/rekreacja",
          "zieleń/rekreacja",
          "rewitalizacja",
          "piesze/rowerowe",
          "piesze/rowerowe",
          "drogowe",
          "piesze/rowerowe",
          "drogowe",
          "piesze/rowerowe",
          "rewitalizacja",
          "piesze/rowerowe",
          "drogowe",
          "rewitalizacja",
          "rewitalizacja",
          "komunikacja zbiorowa",
          "piesze/rowerowe",
          "drogowe",
          "zieleń/rekreacja",
          "zieleń/rekreacja",
          "zieleń/rekreacja",
          "piesze/rowerowe",
          "drogowe",
          "piesze/rowerowe",
          "inne",
          "inne",
          "sport",
          "drogowe",
          "piesze/rowerowe",
          "drogowe",
          "inne",
          "zieleń/rekreacja",
          "zieleń/rekreacja",
          "piesze/rowerowe",
          "place zabaw",
          "piesze/rowerowe",
          "piesze/rowerowe",
          "rewitalizacja",
          "zieleń/rekreacja",
          "edukacja",
          "edukacja",
          "drogowe",
          "piesze/rowerowe",
          "drogowe",
          "edukacja",
          "rewitalizacja",
          "rewitalizacja",
          "piesze/rowerowe",
          "piesze/rowerowe",
          "zieleń/rekreacja",
          "rewitalizacja",
          "inne",
          "zieleń/rekreacja",
          "zieleń/rekreacja",
          "piesze/rowerowe",
          "piesze/rowerowe",
          "komunikacja zbiorowa",
          "komunikacja zbiorowa",
          "zieleń/rekreacja",
          "komunikacja zbiorowa",
          "zieleń/rekreacja",
          "piesze/rowerowe",
          "inne",
          "podwórka",
          "rewitalizacja",
          "sport",
          "komunikacja zbiorowa",
          "sport",
          "piesze/rowerowe",
          "piesze/rowerowe",
          "piesze/rowerowe",
          "piesze/rowerowe",
          "piesze/rowerowe",
          "piesze/rowerowe",
          "piesze/rowerowe",
          "drogowe",
          "zieleń/rekreacja",
          "piesze/rowerowe",
          "zieleń/rekreacja",
          "zieleń/rekreacja",
          "drogowe",
          "drogowe",
          "piesze/rowerowe",
          "piesze/rowerowe",
          "komunikacja zbiorowa",
          "piesze/rowerowe",
          "piesze/rowerowe",
          "piesze/rowerowe",
          "piesze/rowerowe",
          "komunikacja zbiorowa",
          "drogowe",
          "komunikacja zbiorowa",
          "komunikacja zbiorowa",
          "piesze/rowerowe",
          "drogowe",
          "zieleń/rekreacja",
          "zieleń/rekreacja",
          "zieleń/rekreacja",
          "place zabaw",
          "zieleń/rekreacja",
          "rewitalizacja",
          "zieleń/rekreacja",
          "podwórka",
          "piesze/rowerowe",
          "place zabaw",
          "piesze/rowerowe",
          "komunikacja zbiorowa",
          "inne",
          "piesze/rowerowe",
          "piesze/rowerowe",
          "piesze/rowerowe",
          "piesze/rowerowe",
          "podwórka",
          "zieleń/rekreacja",
          "drogowe",
          "podwórka",
          "zieleń/rekreacja",
          "piesze/rowerowe",
          "zieleń/rekreacja",
          "komunikacja zbiorowa",
          "piesze/rowerowe",
          "piesze/rowerowe",
          "komunikacja zbiorowa",
          "piesze/rowerowe",
          "piesze/rowerowe",
          "zieleń/rekreacja",
          "rewitalizacja",
          "podwórka",
          "zieleń/rekreacja",
          "drogowe",
          "sport",
          "komunikacja zbiorowa",
          "sport",
          "rewitalizacja",
          "podwórka",
          "zieleń/rekreacja",
          "podwórka",
          "drogowe",
          "piesze/rowerowe",
          "inne",
          "piesze/rowerowe",
          "piesze/rowerowe",
          "piesze/rowerowe",
          "drogowe",
          "drogowe",
          "rewitalizacja",
          "piesze/rowerowe",
          "piesze/rowerowe",
          "drogowe",
          "piesze/rowerowe",
          "zieleń/rekreacja",
          "zieleń/rekreacja",
          "komunikacja zbiorowa",
          "komunikacja zbiorowa",
          "sport",
          "zieleń/rekreacja",
          "piesze/rowerowe",
          "zieleń/rekreacja",
          "zieleń/rekreacja",
          "zieleń/rekreacja",
          "zieleń/rekreacja",
          "zieleń/rekreacja",
          "drogowe",
          "zieleń/rekreacja",
          "zieleń/rekreacja",
          "drogowe",
          "sport",
          "zieleń/rekreacja",
          "piesze/rowerowe",
          "piesze/rowerowe",
          "piesze/rowerowe",
          "drogowe",
          "piesze/rowerowe",
          "sport",
          "zieleń/rekreacja",
          "drogowe",
          "zieleń/rekreacja",
          "piesze/rowerowe",
          "piesze/rowerowe",
          "piesze/rowerowe",
          "zieleń/rekreacja",
          "zieleń/rekreacja",
          "drogowe",
          "drogowe",
          "zieleń/rekreacja",
          "piesze/rowerowe",
          "piesze/rowerowe",
          "piesze/rowerowe",
          "piesze/rowerowe",
          "podwórka",
          "zieleń/rekreacja",
          "zieleń/rekreacja",
          "zieleń/rekreacja",
          "drogowe",
          "piesze/rowerowe",
          "rewitalizacja",
          "podwórka",
          "place zabaw",
          "sport",
          "drogowe",
          "sport",
          "inne",
          "sport",
          "zieleń/rekreacja",
          "zieleń/rekreacja",
          "piesze/rowerowe",
          "podwórka",
          "zieleń/rekreacja",
          "drogowe",
          "zieleń/rekreacja",
          "zieleń/rekreacja",
          "drogowe",
          "zieleń/rekreacja",
          "piesze/rowerowe",
          "piesze/rowerowe",
          "piesze/rowerowe",
          "piesze/rowerowe",
          "zieleń/rekreacja",
          "zieleń/rekreacja",
          "rewitalizacja",
          "drogowe",
          "sport",
          "drogowe",
          "drogowe",
          "podwórka",
          "zieleń/rekreacja",
          "place zabaw",
          "zieleń/rekreacja",
          "sport",
          "podwórka",
          "zieleń/rekreacja",
          "podwórka",
          "place zabaw",
          "zieleń/rekreacja",
          "piesze/rowerowe",
          "zieleń/rekreacja",
          "inne",
          "rewitalizacja",
          "podwórka",
          "zieleń/rekreacja",
          "podwórka",
          "podwórka",
          "drogowe",
          "zieleń/rekreacja",
          "zieleń/rekreacja",
          "podwórka",
          "podwórka",
          "piesze/rowerowe",
          "drogowe",
          "zieleń/rekreacja",
          "drogowe",
          "zieleń/rekreacja",
          "zieleń/rekreacja",
          "zieleń/rekreacja",
          "rewitalizacja",
          "rewitalizacja",
          "place zabaw",
          "place zabaw",
          "drogowe",
          "drogowe",
          "zieleń/rekreacja",
          "zieleń/rekreacja",
          "zieleń/rekreacja",
          "place zabaw",
          "zieleń/rekreacja",
          "zieleń/rekreacja",
          "sport",
          "zieleń/rekreacja",
          "zieleń/rekreacja",
          "podwórka",
          "drogowe",
          "zieleń/rekreacja",
          "drogowe",
          "zieleń/rekreacja",
          "inne",
          "drogowe",
          "zieleń/rekreacja",
          "podwórka",
          "inne",
          "zieleń/rekreacja",
          "rewitalizacja",
          "zieleń/rekreacja",
          "sport",
          "sport",
          "zieleń/rekreacja",
          "podwórka",
          "podwórka",
          "inne",
          "zieleń/rekreacja",
          "drogowe",
          "zieleń/rekreacja",
          "zieleń/rekreacja",
          "zieleń/rekreacja",
          "rewitalizacja",
          "place zabaw",
          "zieleń/rekreacja",
          "place zabaw",
          "podwórka",
          "zieleń/rekreacja",
          "piesze/rowerowe",
          "sport",
          "drogowe",
          "zieleń/rekreacja",
          "piesze/rowerowe",
          "piesze/rowerowe",
          "piesze/rowerowe",
          "zieleń/rekreacja",
          "sport",
          "rewitalizacja",
          "piesze/rowerowe",
          "piesze/rowerowe",
          "podwórka",
          "zieleń/rekreacja",
          "sport",
          "zieleń/rekreacja",
          "podwórka",
          "podwórka",
          "zieleń/rekreacja",
          "zieleń/rekreacja",
          "piesze/rowerowe",
          "piesze/rowerowe",
          "zieleń/rekreacja",
          "zieleń/rekreacja",
          "komunikacja zbiorowa",
          "zieleń/rekreacja",
          "place zabaw",
          "zieleń/rekreacja",
          "zieleń/rekreacja",
          "zieleń/rekreacja",
          "piesze/rowerowe",
          "piesze/rowerowe",
          "piesze/rowerowe",
          "zieleń/rekreacja",
          "zieleń/rekreacja",
          "piesze/rowerowe",
          "inne",
          "zieleń/rekreacja",
          "zieleń/rekreacja",
          "sport",
          "zieleń/rekreacja",
          "podwórka",
          "zieleń/rekreacja",
          "zieleń/rekreacja",
          "piesze/rowerowe",
          "podwórka",
          "piesze/rowerowe",
          "zieleń/rekreacja",
          "zieleń/rekreacja",
          "rewitalizacja",
          "drogowe",
          "piesze/rowerowe",
          "piesze/rowerowe",
          "zieleń/rekreacja",
          "zieleń/rekreacja",
          "piesze/rowerowe",
          "place zabaw",
          "piesze/rowerowe",
          "piesze/rowerowe",
          "rewitalizacja",
          "zieleń/rekreacja",
          "edukacja",
          "edukacja",
          "drogowe",
          "piesze/rowerowe",
          "drogowe",
          "edukacja",
          "zieleń/rekreacja",
          "zabytkowe",
          "sport",
          "place zabaw",
          "inne",
          "zieleń/rekreacja",
          "zieleń/rekreacja",
          "zieleń/rekreacja",
          "zieleń/rekreacja",
          "zieleń/rekreacja",
          "inne",
          "podwórka",
          "zieleń/rekreacja",
          "piesze/rowerowe",
          "podwórka",
          "zieleń/rekreacja",
          "drogowe",
          "drogowe",
          "zieleń/rekreacja",
          "piesze/rowerowe",
          "zabytkowe",
          "zabytkowe",
          "inne",
          "komunikacja zbiorowa",
          "piesze/rowerowe",
          "podwórka",
          "zieleń/rekreacja",
          "piesze/rowerowe",
          "zieleń/rekreacja",
          "inne",
          "zieleń/rekreacja",
          "piesze/rowerowe",
          "zieleń/rekreacja",
          "zieleń/rekreacja",
          "piesze/rowerowe",
          "drogowe",
          "piesze/rowerowe",
          "zieleń/rekreacja",
          "podwórka",
          "place zabaw",
          "zieleń/rekreacja",
          "piesze/rowerowe",
          "zieleń/rekreacja",
          "sport",
          "podwórka",
          "komunikacja zbiorowa",
          "piesze/rowerowe",
          "piesze/rowerowe",
          "piesze/rowerowe",
          "zieleń/rekreacja",
          "zieleń/rekreacja",
          "zieleń/rekreacja",
          "zieleń/rekreacja",
          "komunikacja zbiorowa",
          "inne",
          "zieleń/rekreacja",
          "piesze/rowerowe",
          "zieleń/rekreacja",
          "rewitalizacja",
          "drogowe",
          "zieleń/rekreacja",
          "zabytkowe",
          "place zabaw",
          "zieleń/rekreacja",
          "piesze/rowerowe",
          "piesze/rowerowe",
          "piesze/rowerowe",
          "zieleń/rekreacja",
          "zieleń/rekreacja",
          "zieleń/rekreacja",
          "zieleń/rekreacja",
          "zieleń/rekreacja",
          "zieleń/rekreacja",
          "zieleń/rekreacja",
          "zieleń/rekreacja",
          "place zabaw",
          "podwórka",
          "inne",
          "piesze/rowerowe",
          "zieleń/rekreacja",
          "place zabaw",
          "zieleń/rekreacja",
          "zieleń/rekreacja",
          "zieleń/rekreacja",
          "inne",
          "inne",
          "inne",
          "zieleń/rekreacja",
          "inne",
          "piesze/rowerowe",
          "zieleń/rekreacja",
          "zieleń/rekreacja",
          "zabytkowe",
          "zabytkowe",
          "sport",
          "podwórka",
          "zieleń/rekreacja",
          "place zabaw",
          "sport",
          "place zabaw",
          "zieleń/rekreacja",
          "zieleń/rekreacja",
          "zieleń/rekreacja",
          "zabytkowe",
          "piesze/rowerowe",
          "podwórka",
          "zabytkowe",
          "zieleń/rekreacja",
          "inne",
          "zieleń/rekreacja",
          "place zabaw",
          "zieleń/rekreacja",
          "piesze/rowerowe",
          "zabytkowe",
          "inne",
          "sport",
          "zieleń/rekreacja",
          "drogowe",
          "drogowe",
          "place zabaw",
          "zieleń/rekreacja",
          "zieleń/rekreacja",
          "zieleń/rekreacja",
          "rewitalizacja",
          "rewitalizacja",
          "podwórka",
          "place zabaw",
          "rewitalizacja",
          "podwórka",
          "drogowe",
          "drogowe",
          "piesze/rowerowe",
          "piesze/rowerowe",
          "piesze/rowerowe",
          "place zabaw",
          "zieleń/rekreacja",
          "podwórka",
          "zieleń/rekreacja",
          "zieleń/rekreacja",
          "zieleń/rekreacja",
          "zieleń/rekreacja",
          "zabytkowe",
          "inne",
          "zieleń/rekreacja",
          "drogowe",
          "zieleń/rekreacja",
          "drogowe",
          "zieleń/rekreacja",
          "piesze/rowerowe",
          "zieleń/rekreacja",
          "zabytkowe",
          "sport",
          "podwórka",
          "zabytkowe",
          "piesze/rowerowe",
          "zabytkowe",
          "place zabaw",
          "zieleń/rekreacja",
          "zabytkowe",
          "piesze/rowerowe",
          "zieleń/rekreacja",
          "piesze/rowerowe",
          "zieleń/rekreacja",
          "podwórka",
          "zieleń/rekreacja",
          "zabytkowe",
          "zieleń/rekreacja",
          "inne",
          "rewitalizacja",
          "podwórka",
          "place zabaw",
          "piesze/rowerowe",
          "piesze/rowerowe",
          "inne",
          "zieleń/rekreacja",
          "zieleń/rekreacja",
          "zieleń/rekreacja",
          "zieleń/rekreacja",
          "zieleń/rekreacja",
          "place zabaw",
          "zieleń/rekreacja",
          "zieleń/rekreacja",
          "drogowe",
          "zieleń/rekreacja",
          "podwórka",
          "piesze/rowerowe",
          "zieleń/rekreacja",
          "piesze/rowerowe",
          "rewitalizacja",
          "zieleń/rekreacja",
          "drogowe",
          "inne",
          "zieleń/rekreacja",
          "zieleń/rekreacja",
          "zieleń/rekreacja",
          "inne",
          "piesze/rowerowe",
          "inne",
          "piesze/rowerowe",
          "piesze/rowerowe",
          "piesze/rowerowe",
          "drogowe",
          "sport",
          "zieleń/rekreacja",
          "piesze/rowerowe",
          "zieleń/rekreacja",
          "zieleń/rekreacja",
          "zieleń/rekreacja",
          "zieleń/rekreacja",
          "zieleń/rekreacja",
          "inne",
          "zieleń/rekreacja",
          "zieleń/rekreacja",
          "piesze/rowerowe",
          "zieleń/rekreacja",
          "drogowe",
          "piesze/rowerowe",
          "komunikacja zbiorowa",
          "zieleń/rekreacja",
          "zieleń/rekreacja",
          "zieleń/rekreacja",
          "drogowe",
          "piesze/rowerowe",
          "piesze/rowerowe",
          "komunikacja zbiorowa",
          "place zabaw",
          "zieleń/rekreacja",
          "piesze/rowerowe",
          "inne",
          "piesze/rowerowe",
          "inne",
          "zieleń/rekreacja",
          "podwórka",
          "zieleń/rekreacja",
          "inne",
          "zieleń/rekreacja",
          "zieleń/rekreacja",
          "zieleń/rekreacja",
          "podwórka",
          "zieleń/rekreacja",
          "inne",
          "sport",
          "piesze/rowerowe",
          "zieleń/rekreacja",
          "inne",
          "zieleń/rekreacja",
          "zieleń/rekreacja",
          "zieleń/rekreacja",
          "zieleń/rekreacja",
          "zieleń/rekreacja",
          "zieleń/rekreacja",
          "zieleń/rekreacja",
          "zieleń/rekreacja",
          "sport",
          "inne",
          "piesze/rowerowe",
          "piesze/rowerowe",
          "komunikacja zbiorowa",
          "nieinwestycyjne",
          "komunikacja zbiorowa",
          "inne",
          "drogowe",
          "podwórka",
          "rewitalizacja",
          "podwórka",
          "zieleń/rekreacja",
          "place zabaw",
          "sport",
          "zieleń/rekreacja",
          "zieleń/rekreacja",
          "zieleń/rekreacja",
          "zieleń/rekreacja",
          "inne",
          "inne",
          "inne",
          "podwórka",
          "drogowe",
          "zieleń/rekreacja",
          "zieleń/rekreacja",
          "inne",
          "podwórka",
          "zieleń/rekreacja",
          "zieleń/rekreacja",
          "place zabaw",
          "piesze/rowerowe",
          "sport",
          "zieleń/rekreacja",
          "zieleń/rekreacja",
          "place zabaw",
          "inne",
          "inne",
          "inne",
          "drogowe",
          "piesze/rowerowe",
          "piesze/rowerowe",
          "piesze/rowerowe",
          "place zabaw",
          "komunikacja zbiorowa",
          "inne",
          "piesze/rowerowe",
          "drogowe",
          "zieleń/rekreacja",
          "inne",
          "place zabaw",
          "piesze/rowerowe",
          "place zabaw",
          "piesze/rowerowe",
          "drogowe",
          "drogowe",
          "drogowe",
          "piesze/rowerowe",
          "piesze/rowerowe",
          "sport",
          "zieleń/rekreacja",
          "sport",
          "piesze/rowerowe",
          "zieleń/rekreacja",
          "place zabaw",
          "zieleń/rekreacja",
          "zieleń/rekreacja",
          "piesze/rowerowe",
          "zieleń/rekreacja",
          "zieleń/rekreacja",
          "podwórka",
          "zieleń/rekreacja",
          "inne",
          "piesze/rowerowe",
          "inne",
          "place zabaw",
          "zieleń/rekreacja",
          "nieinwestycyjne",
          "inne",
          "inne",
          "zieleń/rekreacja",
          "zieleń/rekreacja",
          "zieleń/rekreacja",
          "piesze/rowerowe",
          "zieleń/rekreacja",
          "zieleń/rekreacja",
          "piesze/rowerowe",
          "piesze/rowerowe",
          "piesze/rowerowe",
          "inne",
          "zieleń/rekreacja",
          "inne",
          "piesze/rowerowe",
          "piesze/rowerowe",
          "sport",
          "inne",
          "zieleń/rekreacja",
          "zieleń/rekreacja",
          "zieleń/rekreacja",
          "place zabaw",
          "inne",
          "zieleń/rekreacja",
          "podwórka",
          "zieleń/rekreacja",
          "place zabaw",
          "zieleń/rekreacja",
          "zieleń/rekreacja",
          "zieleń/rekreacja",
          "zieleń/rekreacja",
          "drogowe",
          "inne",
          "piesze/rowerowe",
          "piesze/rowerowe",
          "inne",
          "piesze/rowerowe",
          "zieleń/rekreacja",
          "place zabaw",
          "drogowe",
          "podwórka",
          "zieleń/rekreacja",
          "nieinwestycyjne",
          "drogowe",
          "inne",
          "zieleń/rekreacja",
          "drogowe",
          "nieinwestycyjne",
          "sport",
          "zieleń/rekreacja",
          "drogowe",
          "place zabaw",
          "zieleń/rekreacja",
          "zieleń/rekreacja",
          "zieleń/rekreacja",
          "zieleń/rekreacja",
          "zieleń/rekreacja",
          "inne",
          "zieleń/rekreacja",
          "rewitalizacja",
          "rewitalizacja",
          "zieleń/rekreacja",
          "zieleń/rekreacja",
          "inne",
          "zieleń/rekreacja",
          "zieleń/rekreacja",
          "zieleń/rekreacja",
          "zieleń/rekreacja",
          "place zabaw",
          "zieleń/rekreacja",
          "sport",
          "zieleń/rekreacja",
          "piesze/rowerowe",
          "piesze/rowerowe",
          "zieleń/rekreacja",
          "zieleń/rekreacja",
          "zieleń/rekreacja",
          "zieleń/rekreacja",
          "place zabaw",
          "place zabaw",
          "place zabaw",
          "inne",
          "zieleń/rekreacja",
          "zieleń/rekreacja",
          "zieleń/rekreacja",
          "zieleń/rekreacja",
          "inne",
          "zieleń/rekreacja",
          "zieleń/rekreacja",
          "zieleń/rekreacja",
          "zieleń/rekreacja",
          "zieleń/rekreacja",
          "zieleń/rekreacja",
          "zieleń/rekreacja",
          "zieleń/rekreacja",
          "piesze/rowerowe",
          "drogowe",
          "zieleń/rekreacja",
          "zieleń/rekreacja",
          "zieleń/rekreacja",
          "zieleń/rekreacja",
          "zieleń/rekreacja",
          "zieleń/rekreacja",
          "zieleń/rekreacja",
          "zieleń/rekreacja",
          "zieleń/rekreacja",
          "zieleń/rekreacja",
          "zieleń/rekreacja",
          "zieleń/rekreacja",
          "zieleń/rekreacja",
          "zieleń/rekreacja",
          "zieleń/rekreacja",
          "podwórka",
          "zieleń/rekreacja",
          "zieleń/rekreacja",
          "zieleń/rekreacja",
          "zieleń/rekreacja",
          "zieleń/rekreacja",
          "place zabaw",
          "sport",
          "place zabaw",
          "drogowe",
          "zieleń/rekreacja",
          "sport",
          "komunikacja zbiorowa",
          "piesze/rowerowe",
          "zieleń/rekreacja",
          "piesze/rowerowe",
          "piesze/rowerowe",
          "piesze/rowerowe",
          "sport",
          "piesze/rowerowe",
          "drogowe",
          "piesze/rowerowe",
          "piesze/rowerowe",
          "zieleń/rekreacja",
          "zieleń/rekreacja",
          "zieleń/rekreacja",
          "rewitalizacja",
          "inne",
          "zieleń/rekreacja",
          "komunikacja zbiorowa",
          "zieleń/rekreacja",
          "zieleń/rekreacja",
          "sport",
          "zieleń/rekreacja",
          "place zabaw",
          "piesze/rowerowe",
          "zieleń/rekreacja",
          "piesze/rowerowe",
          "zieleń/rekreacja",
          "place zabaw",
          "piesze/rowerowe",
          "zieleń/rekreacja",
          "zieleń/rekreacja",
          "zieleń/rekreacja",
          "komunikacja zbiorowa",
          "rewitalizacja",
          "zieleń/rekreacja",
          "inne",
          "piesze/rowerowe",
          "zieleń/rekreacja",
          "zieleń/rekreacja",
          "piesze/rowerowe",
          "piesze/rowerowe",
          "zieleń/rekreacja",
          "komunikacja zbiorowa",
          "inne",
          "piesze/rowerowe",
          "zieleń/rekreacja",
          "piesze/rowerowe",
          "zieleń/rekreacja",
          "piesze/rowerowe",
          "piesze/rowerowe",
          "zieleń/rekreacja",
          "piesze/rowerowe",
          "zieleń/rekreacja",
          "piesze/rowerowe",
          "piesze/rowerowe",
          "sport",
          "piesze/rowerowe",
          "sport",
          "place zabaw",
          "podwórka",
          "zieleń/rekreacja",
          "podwórka",
          "podwórka",
          "piesze/rowerowe",
          "zieleń/rekreacja",
          "sport",
          "drogowe",
          "zieleń/rekreacja",
          "inne",
          "zieleń/rekreacja",
          "drogowe",
          "zieleń/rekreacja",
          "zieleń/rekreacja",
          "zieleń/rekreacja",
          "zieleń/rekreacja",
          "zieleń/rekreacja",
          "zieleń/rekreacja",
          "nieinwestycyjne",
          "zieleń/rekreacja",
          "zieleń/rekreacja",
          "piesze/rowerowe",
          "piesze/rowerowe",
          "drogowe",
          "piesze/rowerowe",
          "podwórka",
          "zieleń/rekreacja",
          "drogowe",
          "place zabaw",
          "zieleń/rekreacja",
          "zieleń/rekreacja",
          "place zabaw",
          "zieleń/rekreacja",
          "zieleń/rekreacja",
          "rewitalizacja",
          "place zabaw",
          "zieleń/rekreacja",
          "place zabaw",
          "piesze/rowerowe",
          "zieleń/rekreacja",
          "piesze/rowerowe",
          "place zabaw",
          "zieleń/rekreacja",
          "piesze/rowerowe",
          "inne",
          "drogowe",
          "inne",
          "sport",
          "place zabaw",
          "sport",
          "zieleń/rekreacja",
          "zieleń/rekreacja",
          "zieleń/rekreacja",
          "zieleń/rekreacja",
          "zieleń/rekreacja",
          "zieleń/rekreacja",
          "piesze/rowerowe",
          "zieleń/rekreacja",
          "piesze/rowerowe",
          "zieleń/rekreacja",
          "drogowe",
          "nieinwestycyjne",
          "inne",
          "zieleń/rekreacja",
          "rewitalizacja",
          "piesze/rowerowe",
          "zieleń/rekreacja",
          "place zabaw",
          "piesze/rowerowe",
          "komunikacja zbiorowa",
          "zieleń/rekreacja",
          "piesze/rowerowe",
          "place zabaw",
          "place zabaw",
          "sport",
          "zieleń/rekreacja",
          "piesze/rowerowe",
          "zieleń/rekreacja",
          "zieleń/rekreacja",
          "zieleń/rekreacja",
          "zieleń/rekreacja",
          "zieleń/rekreacja",
          "piesze/rowerowe",
          "inne",
          "zieleń/rekreacja",
          "zieleń/rekreacja",
          "inne",
          "piesze/rowerowe",
          "zieleń/rekreacja",
          "zieleń/rekreacja",
          "zieleń/rekreacja",
          "rewitalizacja",
          "inne",
          "zieleń/rekreacja",
          "piesze/rowerowe",
          "piesze/rowerowe",
          "zieleń/rekreacja",
          "zieleń/rekreacja",
          "sport",
          "zieleń/rekreacja",
          "rewitalizacja",
          "sport",
          "zieleń/rekreacja",
          "rewitalizacja",
          "piesze/rowerowe",
          "place zabaw",
          "nieinwestycyjne",
          "piesze/rowerowe",
          "inne",
          "inne",
          "inne",
          "piesze/rowerowe",
          "inne",
          "zieleń/rekreacja",
          "piesze/rowerowe",
          "zieleń/rekreacja",
          "sport",
          "sport",
          "place zabaw",
          "sport",
          "zieleń/rekreacja",
          "zieleń/rekreacja",
          "sport",
          "zieleń/rekreacja",
          "piesze/rowerowe",
          "piesze/rowerowe",
          "zieleń/rekreacja",
          "sport",
          "zieleń/rekreacja",
          "place zabaw",
          "podwórka",
          "zieleń/rekreacja",
          "piesze/rowerowe",
          "piesze/rowerowe",
          "piesze/rowerowe",
          "sport",
          "podwórka",
          "zieleń/rekreacja",
          "zieleń/rekreacja",
          "sport",
          "podwórka",
          "piesze/rowerowe",
          "zieleń/rekreacja",
          "piesze/rowerowe",
          "place zabaw",
          "inne",
          "nieinwestycyjne",
          "zieleń/rekreacja",
          "zieleń/rekreacja",
          "zieleń/rekreacja",
          "podwórka",
          "inne",
          "podwórka",
          "zieleń/rekreacja",
          "place zabaw",
          "podwórka",
          "rewitalizacja",
          "inne",
          "zieleń/rekreacja",
          "zieleń/rekreacja",
          "piesze/rowerowe",
          "rewitalizacja",
          "place zabaw",
          "piesze/rowerowe",
          "zieleń/rekreacja",
          "zieleń/rekreacja",
          "piesze/rowerowe",
          "rewitalizacja",
          "zieleń/rekreacja",
          "place zabaw",
          "sport",
          "piesze/rowerowe",
          "sport",
          "zieleń/rekreacja",
          "inne",
          "place zabaw",
          "inne",
          "piesze/rowerowe",
          "zieleń/rekreacja",
          "piesze/rowerowe",
          "inne",
          "zieleń/rekreacja",
          "zieleń/rekreacja",
          "nieinwestycyjne",
          "sport",
          "zieleń/rekreacja",
          "piesze/rowerowe",
          "zieleń/rekreacja",
          "drogowe",
          "zieleń/rekreacja",
          "piesze/rowerowe",
          "inne",
          "podwórka",
          "zieleń/rekreacja",
          "place zabaw",
          "place zabaw",
          "nieinwestycyjne",
          "zieleń/rekreacja",
          "piesze/rowerowe",
          "inne",
          "sport",
          "piesze/rowerowe",
          "inne",
          "sport",
          "sport",
          "inne",
          "rewitalizacja",
          "drogowe",
          "rewitalizacja",
          "zieleń/rekreacja",
          "drogowe",
          "zieleń/rekreacja",
          "zieleń/rekreacja",
          "inne",
          "zieleń/rekreacja",
          "podwórka",
          "podwórka",
          "rewitalizacja",
          "podwórka",
          "rewitalizacja",
          "zieleń/rekreacja"
         ],
         "x0": " ",
         "xaxis": "x",
         "y": [
          250000,
          750000,
          1000000,
          750000,
          750000,
          750000,
          750000,
          400000,
          750000,
          80000,
          250000,
          750000,
          600000,
          100000,
          430000,
          55000,
          100000,
          250000,
          450000,
          500000,
          750000,
          200000,
          500000,
          300000,
          750000,
          750000,
          300000,
          750000,
          200000,
          750000,
          750000,
          650000,
          750000,
          200000,
          250000,
          750000,
          750000,
          250000,
          750000,
          750000,
          750000,
          100000,
          6000,
          500000,
          1000000,
          600000,
          80000,
          80000,
          750000,
          310000,
          250000,
          750000,
          500000,
          750000,
          250000,
          90000,
          750000,
          90000,
          750000,
          500000,
          900000,
          750000,
          250000,
          750000,
          150000,
          600000,
          150000,
          200000,
          750000,
          330000,
          180000,
          100000,
          650000,
          250000,
          750000,
          500000,
          250000,
          540000,
          300000,
          200000,
          300000,
          250000,
          570000,
          700000,
          400000,
          35000,
          18000,
          250000,
          200000,
          750000,
          750000,
          250000,
          60000,
          600000,
          220000,
          750000,
          750000,
          1000000,
          240000,
          750000,
          650000,
          750000,
          200000,
          80000,
          650000,
          250000,
          750000,
          250000,
          150000,
          100000,
          500000,
          700000,
          260000,
          1000000,
          510000,
          250000,
          600000,
          750000,
          400000,
          600000,
          520000,
          750000,
          200000,
          750000,
          750000,
          100000,
          600000,
          750000,
          150000,
          100000,
          100000,
          750000,
          320000,
          250000,
          85000,
          30000,
          200000,
          250000,
          250000,
          450000,
          210000,
          300000,
          100000,
          250000,
          250000,
          500000,
          100000,
          750000,
          70000,
          100000,
          100000,
          50000,
          1000000,
          600000,
          30000,
          100000,
          350000,
          750000,
          250000,
          750000,
          250000,
          30000,
          750000,
          750000,
          400000,
          200000,
          750000,
          500000,
          750000,
          100000,
          1000000,
          250000,
          750000,
          750000,
          150000,
          300000,
          750000,
          750000,
          750000,
          550000,
          250000,
          250000,
          250000,
          750000,
          250000,
          550000,
          750000,
          250000,
          750000,
          250000,
          500000,
          750000,
          250000,
          250000,
          40000,
          400000,
          500000,
          150000,
          100000,
          500000,
          10000,
          600000,
          450000,
          420000,
          80000,
          250000,
          150000,
          600000,
          500000,
          300000,
          750000,
          750000,
          300000,
          400000,
          25000,
          360000,
          250000,
          250000,
          500000,
          250000,
          250000,
          250000,
          170000,
          250000,
          400000,
          750000,
          250000,
          250000,
          250000,
          250000,
          500000,
          750000,
          750000,
          750000,
          250000,
          500000,
          20000,
          750000,
          250000,
          250000,
          600000,
          500000,
          400000,
          150000,
          400000,
          550000,
          750000,
          250000,
          650000,
          750000,
          750000,
          750000,
          100000,
          250000,
          250000,
          750000,
          750000,
          750000,
          10000,
          550000,
          350000,
          250000,
          1000000,
          300000,
          170000,
          250000,
          750000,
          250000,
          750000,
          350000,
          200000,
          750000,
          750000,
          250000,
          750000,
          200000,
          750000,
          1000000,
          250000,
          200000,
          250000,
          80000,
          750000,
          600000,
          350000,
          150000,
          750000,
          750000,
          750000,
          250000,
          250000,
          250000,
          750000,
          250000,
          25000,
          750000,
          500000,
          250000,
          200000,
          250000,
          1000000,
          250000,
          80000,
          250000,
          250000,
          750000,
          250000,
          750000,
          750000,
          250000,
          750000,
          250000,
          200000,
          100000,
          250000,
          250000,
          600000,
          100000,
          750000,
          700000,
          350000,
          350000,
          750000,
          250000,
          750000,
          550000,
          750000,
          150000,
          1000000,
          750000,
          50000,
          150000,
          250000,
          300000,
          50000,
          750000,
          250000,
          650000,
          250000,
          250000,
          100000,
          750000,
          570000,
          750000,
          1000000,
          1000000,
          75000,
          500000,
          400000,
          500000,
          1000000,
          250000,
          250000,
          110000,
          250000,
          150000,
          750000,
          100000,
          250000,
          50000,
          250000,
          750000,
          750000,
          250000,
          250000,
          15000,
          400000,
          50000,
          750000,
          500000,
          300000,
          200000,
          750000,
          250000,
          750000,
          250000,
          750000,
          250000,
          750000,
          1000000,
          430000,
          750000,
          250000,
          750000,
          750000,
          500000,
          750000,
          750000,
          500000,
          750000,
          50000,
          1000000,
          750000,
          1000000,
          750000,
          1000000,
          750000,
          750000,
          750000,
          750000,
          250000,
          250000,
          450000,
          750000,
          500000,
          250000,
          250000,
          750000,
          250000,
          750000,
          650000,
          50000,
          750000,
          400000,
          250000,
          350000,
          750000,
          450000,
          200000,
          750000,
          660000,
          750000,
          450000,
          400000,
          750000,
          250000,
          750000,
          1000000,
          750000,
          250000,
          250000,
          750000,
          70000,
          600000,
          550000,
          250000,
          150000,
          250000,
          250000,
          150000,
          250000,
          750000,
          750000,
          350000,
          750000,
          750000,
          100000,
          250000,
          200000,
          750000,
          50000,
          90000,
          250000,
          650000,
          250000,
          750000,
          750000,
          750000,
          90000,
          250000,
          250000,
          750000,
          250000,
          250000,
          100000,
          750000,
          750000,
          40000,
          200000,
          250000,
          750000,
          320000,
          400000,
          750000,
          600000,
          450000,
          750000,
          400000,
          150000,
          160000,
          750000,
          420000,
          250000,
          750000,
          250000,
          750000,
          750000,
          1000000,
          250000,
          50000,
          750000,
          600000,
          750000,
          350000,
          600000,
          250000,
          600000,
          400000,
          250000,
          50000,
          1000000,
          350000,
          250000,
          750000,
          210000,
          750000,
          180000,
          750000,
          700000,
          750000,
          250000,
          570000,
          750000,
          500000,
          600000,
          600000,
          250000,
          140000,
          750000,
          150000,
          500000,
          100000,
          500000,
          250000,
          250000,
          250000,
          750000,
          750000,
          400000,
          750000,
          320000,
          1000000,
          750000,
          250000,
          250000,
          750000,
          750000,
          300000,
          250000,
          750000,
          600000,
          250000,
          300000,
          700000,
          250000,
          250000,
          750000,
          250000,
          750000,
          750000,
          100000,
          350000,
          500000,
          750000,
          250000,
          1000000,
          500000,
          500000,
          250000,
          750000,
          750000,
          750000,
          250000,
          700000,
          750000,
          500000,
          750000,
          250000,
          750000,
          500000,
          750000,
          750000,
          600000,
          250000,
          750000,
          500000,
          1000000,
          750000,
          1000000,
          750000,
          1000000,
          250000,
          750000,
          250000,
          750000,
          250000,
          750000,
          400000,
          750000,
          250000,
          750000,
          150000,
          250000,
          750000,
          400000,
          750000,
          60000,
          400000,
          350000,
          250000,
          1000000,
          400000,
          150000,
          200000,
          60000,
          1000000,
          250000,
          250000,
          200000,
          750000,
          750000,
          200000,
          750000,
          200000,
          250000,
          750000,
          130000,
          750000,
          750000,
          300000,
          750000,
          750000,
          750000,
          750000,
          500000,
          500000,
          750000,
          1000000,
          250000,
          250000,
          750000,
          750000,
          250000,
          250000,
          250000,
          150000,
          600000,
          750000,
          500000,
          250000,
          750000,
          250000,
          250000,
          100000,
          150000,
          250000,
          750000,
          320000,
          20000,
          500000,
          250000,
          250000,
          250000,
          250000,
          250000,
          250000,
          100000,
          250000,
          250000,
          250000,
          1000000,
          220000,
          750000,
          250000,
          50000,
          250000,
          250000,
          250000,
          250000,
          750000,
          30000,
          250000,
          100000,
          750000,
          50000,
          250000,
          250000,
          750000,
          1000000,
          250000,
          750000,
          250000,
          750000,
          750000,
          250000,
          250000,
          15000,
          400000,
          50000,
          750000,
          500000,
          300000,
          200000,
          750000,
          250000,
          750000,
          100000,
          750000,
          750000,
          430000,
          1000000,
          250000,
          50000,
          100000,
          250000,
          750000,
          750000,
          250000,
          750000,
          750000,
          250000,
          750000,
          750000,
          1000000,
          1000000,
          100000,
          100000,
          250000,
          1000000,
          250000,
          750000,
          750000,
          250000,
          750000,
          20000,
          750000,
          1000000,
          750000,
          750000,
          750000,
          750000,
          250000,
          250000,
          750000,
          500000,
          750000,
          500000,
          250000,
          250000,
          750000,
          250000,
          1000000,
          750000,
          1000000,
          750000,
          1000000,
          750000,
          750000,
          1000000,
          250000,
          250000,
          750000,
          250000,
          750000,
          750000,
          1000000,
          100000,
          250000,
          250000,
          750000,
          750000,
          250000,
          250000,
          750000,
          750000,
          250000,
          200000,
          750000,
          250000,
          750000,
          750000,
          750000,
          750000,
          750000,
          750000,
          750000,
          750000,
          250000,
          750000,
          250000,
          100000,
          450000,
          80000,
          500000,
          500000,
          250000,
          750000,
          100000,
          50000,
          750000,
          750000,
          250000,
          600000,
          750000,
          750000,
          250000,
          750000,
          750000,
          100000,
          1000000,
          750000,
          100000,
          250000,
          1000000,
          750000,
          750000,
          750000,
          250000,
          40000,
          250000,
          750000,
          750000,
          150000,
          250000,
          750000,
          200000,
          750000,
          350000,
          1000000,
          750000,
          500000,
          600000,
          750000,
          250000,
          750000,
          750000,
          250000,
          250000,
          600000,
          750000,
          250000,
          500000,
          20000,
          250000,
          250000,
          750000,
          6000,
          250000,
          750000,
          750000,
          750000,
          400000,
          250000,
          700000,
          750000,
          100000,
          250000,
          250000,
          100000,
          250000,
          100000,
          1000000,
          1000000,
          100000,
          250000,
          750000,
          250000,
          250000,
          250000,
          250000,
          30000,
          750000,
          1000000,
          750000,
          750000,
          250000,
          600000,
          600000,
          250000,
          250000,
          250000,
          750000,
          250000,
          250000,
          750000,
          100000,
          750000,
          750000,
          250000,
          250000,
          400000,
          250000,
          750000,
          750000,
          500000,
          750000,
          100000,
          750000,
          2000000,
          750000,
          750000,
          2000000,
          200000,
          750000,
          450000,
          750000,
          80000,
          750000,
          750000,
          750000,
          2000000,
          750000,
          2000000,
          750000,
          2000000,
          750000,
          350000,
          300000,
          2000000,
          750000,
          1000000,
          750000,
          400000,
          50000,
          750000,
          300000,
          750000,
          300000,
          300000,
          2000000,
          1000000,
          2000000,
          2000000,
          750000,
          2000000,
          2000000,
          200000,
          750000,
          750000,
          1000000,
          500000,
          250000,
          400000,
          750000,
          2000000,
          500000,
          750000,
          750000,
          750000,
          2000000,
          2000000,
          2000000,
          2000000,
          2000000,
          200000,
          2000000,
          1000000,
          2000000,
          2000000,
          750000,
          750000,
          2000000,
          300000,
          30000,
          750000,
          2000000,
          300000,
          750000,
          150000,
          2000000,
          2000000,
          750000,
          750000,
          750000,
          750000,
          750000,
          750000,
          100000,
          50000,
          200000,
          750000,
          750000,
          100000,
          750000,
          500000,
          750000,
          750000,
          2000000,
          2000000,
          2000000,
          550000,
          250000,
          300000,
          250000,
          400000,
          750000,
          2000000,
          750000,
          400000,
          300000,
          500000,
          750000,
          200000,
          750000,
          2000000,
          750000,
          2000000,
          2000000,
          100000,
          100000,
          750000,
          2000000,
          750000,
          750000,
          150000,
          1000000,
          1000000,
          1500000,
          750000,
          750000,
          2000000,
          400000,
          750000,
          750000,
          100000,
          500000,
          100000,
          2000000,
          500000,
          2000000,
          200000,
          200000,
          2000000,
          2000000,
          250000,
          500000,
          300000,
          150000,
          2000000,
          2000000,
          750000,
          500000,
          250000,
          750000,
          2000000,
          2000000,
          1000000,
          250000,
          750000,
          100000,
          2000000,
          2000000,
          2000000,
          750000,
          2000000,
          2000000,
          250000,
          750000,
          2000000,
          2000000,
          750000,
          750000,
          750000,
          2000000,
          750000,
          750000,
          750000,
          750000,
          750000,
          750000,
          2000000,
          250000,
          2000000,
          750000,
          750000,
          750000,
          2000000,
          2000000,
          750000,
          400000,
          750000,
          250000,
          2000000,
          2000,
          500000,
          750000,
          250000,
          750000,
          750000,
          750000,
          2000000,
          500000,
          750000,
          250000,
          2000000,
          750000,
          2000000,
          750000,
          750000,
          750000,
          750000,
          2000000,
          250000,
          750000,
          750000,
          750000,
          750000,
          500000,
          2000000,
          750000,
          1100000,
          2000000,
          750000,
          2000000,
          2000000,
          750000,
          2000000,
          750000,
          100000,
          2000000,
          2000000,
          750000,
          750000,
          2000000,
          750000,
          2000000,
          750000,
          750000,
          2000000,
          750000,
          2000000,
          750000,
          400000,
          2000000,
          750000,
          2000000,
          750000,
          750000,
          750000,
          2000000,
          750000,
          2000000,
          750000,
          2000000,
          750000,
          2000000,
          750000,
          750000,
          750000,
          300000,
          750000,
          500000,
          750000,
          750000,
          2000000,
          750000,
          500000,
          2000000,
          2000000,
          750000,
          500000,
          600000,
          750000,
          350000,
          400000,
          1500000,
          750000,
          750000,
          300000,
          750000,
          1750000,
          750000,
          30000,
          750000,
          2000000,
          50000,
          2000000,
          200000,
          500000,
          50000,
          1000000,
          750000,
          750000,
          2000000,
          2000000,
          750000,
          750000,
          250000,
          1500000,
          2000000,
          1500000,
          1200000,
          400000,
          750000,
          2000000,
          750000,
          750000,
          2000000,
          750000,
          750000,
          2000000,
          300000,
          750000,
          750000,
          100000,
          750000,
          2000000,
          750000,
          250000,
          500000,
          2000000,
          2000000,
          750000,
          750000,
          100000,
          1000000,
          2000000,
          2000000,
          750000,
          750000,
          2000000,
          750000,
          750000,
          2000000,
          2000000,
          2000000,
          600000,
          600000,
          2000000,
          2000000,
          600000,
          750000,
          750000,
          750000,
          2000000,
          750000,
          150000,
          400000,
          2000000,
          750000,
          2000000,
          2000000,
          750000,
          2000000,
          750000,
          750000,
          150000,
          750000,
          750000,
          750000,
          20000,
          2000000,
          750000,
          750000,
          300000,
          1500000,
          400000,
          2000000,
          500000,
          2000000,
          750000,
          750000,
          1300000,
          350000,
          100000,
          500000,
          1500000,
          750000,
          750000,
          2000000,
          750000,
          2000000,
          700000,
          2000000,
          2000000,
          2000000,
          2000000,
          50000,
          300000,
          750000,
          500000,
          500000,
          750000,
          750000,
          750000,
          450000,
          750000,
          2000000,
          2000000,
          750000,
          2000000,
          2000000,
          750000,
          2000000,
          2000000,
          2000000,
          2000000,
          2000000,
          2000000,
          200000,
          750000,
          2000000,
          2000000,
          750000,
          200000,
          950000,
          750000,
          750000,
          100000,
          250000,
          1000000,
          750000,
          2000000,
          750000,
          750000,
          750000,
          500000,
          750000,
          2000000,
          2000000,
          750000,
          250000,
          2000000,
          1200000,
          750000,
          750000,
          2000000,
          400000,
          350000,
          2000000,
          1200000,
          1400000,
          2000000,
          200000,
          750000,
          400000,
          2000000,
          750000,
          250000,
          1400000,
          750000,
          1000000,
          750000,
          300000,
          2000000,
          2000000,
          2000000,
          750000,
          300000,
          300000,
          750000,
          750000,
          500000,
          750000,
          750000,
          350000,
          1000000,
          750000,
          2000000,
          600000,
          2000000,
          750000,
          1500000,
          400000,
          900000,
          750000,
          200000,
          750000,
          2000000,
          750000,
          40000,
          750000,
          50000,
          750000,
          750000,
          750000,
          350000,
          200000,
          800000,
          750000,
          1400000,
          750000,
          500000,
          750000,
          600000,
          600000,
          750000,
          2000000,
          600000,
          250000,
          400000,
          1500000,
          500000,
          750000,
          500000,
          75000,
          200000,
          750000,
          500000,
          550000,
          2000000,
          750000,
          720000,
          2000000,
          20000,
          750000,
          900000,
          750000,
          2000000,
          1200000,
          2000000,
          750000,
          1200000,
          750000,
          750000,
          300000,
          1000000,
          2000000,
          500000,
          900000,
          750000,
          550000,
          750000,
          2000000,
          750000,
          1000000,
          750000,
          750000,
          1500000,
          750000,
          750000,
          2000000,
          600000,
          1200000,
          750000,
          450000,
          2000000,
          750000,
          2000000,
          450000
         ],
         "y0": " ",
         "yaxis": "y"
        },
        {
         "alignmentgroup": "True",
         "hovertemplate": "status=Projekt nie bierze udziału w głosowaniu<br>category=%{x}<br>budget=%{y}<extra></extra>",
         "legendgroup": "Projekt nie bierze udziału w głosowaniu",
         "marker": {
          "color": "#EF553B"
         },
         "name": "Projekt nie bierze udziału w głosowaniu",
         "notched": false,
         "offsetgroup": "Projekt nie bierze udziału w głosowaniu",
         "orientation": "v",
         "showlegend": true,
         "type": "box",
         "x": [
          "piesze/rowerowe",
          "sport",
          "piesze/rowerowe",
          "piesze/rowerowe",
          "zieleń/rekreacja",
          "komunikacja zbiorowa",
          "komunikacja zbiorowa",
          "zieleń/rekreacja",
          "inne",
          "inne",
          "piesze/rowerowe",
          "piesze/rowerowe",
          "komunikacja zbiorowa",
          "drogowe",
          "inne",
          "inne",
          "inne",
          "rewitalizacja",
          "drogowe",
          "komunikacja zbiorowa",
          "komunikacja zbiorowa",
          "komunikacja zbiorowa",
          "komunikacja zbiorowa",
          "piesze/rowerowe",
          "piesze/rowerowe",
          "komunikacja zbiorowa",
          "piesze/rowerowe",
          null,
          "piesze/rowerowe",
          "komunikacja zbiorowa",
          "drogowe",
          "piesze/rowerowe",
          "zieleń/rekreacja",
          "piesze/rowerowe",
          "drogowe",
          "inne",
          "zieleń/rekreacja",
          null,
          "piesze/rowerowe",
          "piesze/rowerowe",
          "place zabaw",
          "drogowe",
          "inne",
          "edukacja",
          "piesze/rowerowe",
          "sport",
          "inne",
          "piesze/rowerowe",
          "edukacja",
          "inne",
          "drogowe",
          "rewitalizacja",
          "piesze/rowerowe",
          "inne",
          "piesze/rowerowe",
          "inne",
          "drogowe",
          "piesze/rowerowe",
          "drogowe",
          "drogowe",
          "drogowe",
          "piesze/rowerowe",
          "zieleń/rekreacja",
          "zieleń/rekreacja",
          "inne",
          "inne",
          "sport",
          "rewitalizacja",
          "piesze/rowerowe",
          "drogowe",
          "zieleń/rekreacja",
          "komunikacja zbiorowa",
          "drogowe",
          "komunikacja zbiorowa",
          "komunikacja zbiorowa",
          "zieleń/rekreacja",
          "inne",
          "drogowe",
          "inne",
          "piesze/rowerowe",
          "drogowe",
          "piesze/rowerowe",
          "edukacja",
          "inne",
          "zieleń/rekreacja",
          "sport",
          "komunikacja zbiorowa",
          "piesze/rowerowe",
          "piesze/rowerowe",
          "inne",
          "inne",
          "drogowe",
          "inne",
          "drogowe",
          "piesze/rowerowe",
          "piesze/rowerowe",
          "piesze/rowerowe",
          "edukacja",
          "drogowe",
          "drogowe",
          "rewitalizacja",
          "place zabaw",
          "inne",
          "place zabaw",
          "piesze/rowerowe",
          "inne",
          "edukacja",
          "edukacja",
          "piesze/rowerowe",
          "sport",
          "zieleń/rekreacja",
          "edukacja",
          "inne",
          "rewitalizacja",
          "edukacja",
          "zieleń/rekreacja",
          "piesze/rowerowe",
          "edukacja",
          "zieleń/rekreacja",
          "inne",
          "piesze/rowerowe",
          "edukacja",
          "edukacja",
          "piesze/rowerowe",
          "drogowe",
          "inne",
          "rewitalizacja",
          "rewitalizacja",
          "sport",
          "zieleń/rekreacja",
          "sport",
          "inne",
          "place zabaw",
          "inne",
          "sport",
          "sport",
          "inne",
          "inne",
          "inne",
          "inne",
          "inne",
          "rewitalizacja",
          "zieleń/rekreacja",
          "inne",
          "inne",
          "inne",
          "inne",
          "piesze/rowerowe",
          "zieleń/rekreacja",
          "sport",
          "inne",
          "inne",
          "zieleń/rekreacja",
          "drogowe",
          "rewitalizacja",
          "inne",
          "inne",
          "inne",
          "inne",
          "inne",
          "inne",
          "piesze/rowerowe",
          "zieleń/rekreacja",
          "drogowe",
          "zieleń/rekreacja",
          "drogowe",
          "zieleń/rekreacja",
          "inne",
          "inne",
          "inne",
          "inne",
          "zieleń/rekreacja",
          "edukacja",
          "drogowe",
          "piesze/rowerowe",
          "inne",
          "drogowe",
          "zieleń/rekreacja",
          "zieleń/rekreacja",
          "edukacja",
          "place zabaw",
          "edukacja",
          "drogowe",
          "inne",
          "piesze/rowerowe",
          "zieleń/rekreacja",
          "rewitalizacja",
          "piesze/rowerowe",
          "sport",
          "drogowe",
          "piesze/rowerowe",
          "zieleń/rekreacja",
          "inne",
          "piesze/rowerowe",
          "zieleń/rekreacja",
          "zieleń/rekreacja",
          "zieleń/rekreacja",
          "piesze/rowerowe",
          "zieleń/rekreacja",
          "sport",
          "inne",
          "sport",
          "drogowe",
          "piesze/rowerowe",
          "sport",
          "inne",
          "rewitalizacja",
          "drogowe",
          "zieleń/rekreacja",
          "drogowe",
          "inne",
          "inne",
          "komunikacja zbiorowa",
          "inne",
          "piesze/rowerowe",
          "drogowe",
          "edukacja",
          "piesze/rowerowe",
          "zieleń/rekreacja",
          "zieleń/rekreacja",
          "zieleń/rekreacja",
          "zieleń/rekreacja",
          "drogowe",
          "edukacja",
          "drogowe",
          "sport",
          "zieleń/rekreacja",
          "drogowe",
          "edukacja",
          "zieleń/rekreacja",
          "zieleń/rekreacja",
          "zieleń/rekreacja",
          "zieleń/rekreacja",
          "piesze/rowerowe",
          "zieleń/rekreacja",
          "place zabaw",
          "sport",
          "zieleń/rekreacja",
          "zieleń/rekreacja",
          "edukacja",
          "piesze/rowerowe",
          "piesze/rowerowe",
          "inne",
          "komunikacja zbiorowa",
          "rewitalizacja",
          "piesze/rowerowe",
          "zieleń/rekreacja",
          "piesze/rowerowe",
          "zieleń/rekreacja",
          "piesze/rowerowe",
          "inne",
          "zieleń/rekreacja",
          "inne",
          "drogowe",
          "inne",
          "inne",
          "inne",
          "zieleń/rekreacja",
          "zieleń/rekreacja",
          "zieleń/rekreacja",
          "zieleń/rekreacja",
          "zieleń/rekreacja",
          "inne",
          "drogowe",
          "inne",
          "inne",
          "inne",
          "inne",
          "piesze/rowerowe",
          "zieleń/rekreacja",
          "drogowe",
          "piesze/rowerowe",
          "rewitalizacja",
          "piesze/rowerowe",
          "inne",
          "piesze/rowerowe",
          "drogowe",
          "piesze/rowerowe",
          "piesze/rowerowe",
          "drogowe",
          "zieleń/rekreacja",
          "piesze/rowerowe",
          "piesze/rowerowe",
          "drogowe",
          "inne",
          "inne",
          "inne",
          "place zabaw",
          "zieleń/rekreacja",
          "rewitalizacja",
          "piesze/rowerowe",
          "drogowe",
          "sport",
          "inne",
          "zieleń/rekreacja",
          "zieleń/rekreacja",
          "inne",
          "piesze/rowerowe",
          "drogowe",
          "edukacja",
          "inne",
          "drogowe",
          "zieleń/rekreacja",
          "zieleń/rekreacja",
          "drogowe",
          "inne",
          "inne",
          "piesze/rowerowe",
          "inne",
          "zieleń/rekreacja",
          "inne",
          "zieleń/rekreacja",
          "sport",
          "zieleń/rekreacja",
          "zieleń/rekreacja",
          "piesze/rowerowe",
          "piesze/rowerowe",
          "piesze/rowerowe",
          "komunikacja zbiorowa",
          "drogowe",
          "komunikacja zbiorowa",
          "inne",
          "komunikacja zbiorowa",
          "piesze/rowerowe",
          "zieleń/rekreacja",
          "piesze/rowerowe",
          "piesze/rowerowe",
          "piesze/rowerowe",
          "zieleń/rekreacja",
          "komunikacja zbiorowa",
          "komunikacja zbiorowa",
          "komunikacja zbiorowa",
          "inne",
          "inne",
          "piesze/rowerowe",
          "zieleń/rekreacja",
          "piesze/rowerowe",
          "komunikacja zbiorowa",
          "piesze/rowerowe",
          "zieleń/rekreacja",
          "komunikacja zbiorowa",
          "komunikacja zbiorowa",
          "komunikacja zbiorowa",
          "komunikacja zbiorowa",
          "komunikacja zbiorowa",
          "komunikacja zbiorowa",
          "drogowe",
          "komunikacja zbiorowa",
          "drogowe",
          "piesze/rowerowe",
          "komunikacja zbiorowa",
          "zieleń/rekreacja",
          "drogowe",
          "drogowe",
          "komunikacja zbiorowa",
          "inne",
          "zieleń/rekreacja",
          "piesze/rowerowe",
          "piesze/rowerowe",
          "podwórka",
          "piesze/rowerowe",
          "komunikacja zbiorowa",
          "drogowe",
          "drogowe",
          "drogowe",
          "inne",
          "drogowe",
          "piesze/rowerowe",
          "piesze/rowerowe",
          "piesze/rowerowe",
          "komunikacja zbiorowa",
          "piesze/rowerowe",
          "inne",
          "sport",
          "rewitalizacja",
          "inne",
          "drogowe",
          "komunikacja zbiorowa",
          "piesze/rowerowe",
          "piesze/rowerowe",
          "drogowe",
          "komunikacja zbiorowa",
          "zieleń/rekreacja",
          "drogowe",
          "piesze/rowerowe",
          "place zabaw",
          "komunikacja zbiorowa",
          "zieleń/rekreacja",
          "drogowe",
          "podwórka",
          "inne",
          "inne",
          "inne",
          "piesze/rowerowe",
          "drogowe",
          "inne",
          "inne",
          "zieleń/rekreacja",
          "sport",
          "inne",
          "piesze/rowerowe",
          "zieleń/rekreacja",
          "inne",
          "komunikacja zbiorowa",
          "zieleń/rekreacja",
          "zieleń/rekreacja",
          "piesze/rowerowe",
          "drogowe",
          "sport",
          "drogowe",
          "inne",
          "drogowe",
          "inne",
          "komunikacja zbiorowa",
          "piesze/rowerowe",
          "drogowe",
          "sport",
          "komunikacja zbiorowa",
          "piesze/rowerowe",
          "piesze/rowerowe",
          "piesze/rowerowe",
          "drogowe",
          "drogowe",
          "piesze/rowerowe",
          "piesze/rowerowe",
          "piesze/rowerowe",
          "piesze/rowerowe",
          "piesze/rowerowe",
          "piesze/rowerowe",
          "drogowe",
          "piesze/rowerowe",
          "zieleń/rekreacja",
          "zieleń/rekreacja",
          "piesze/rowerowe",
          "podwórka",
          "zieleń/rekreacja",
          "drogowe",
          "piesze/rowerowe",
          "zieleń/rekreacja",
          "inne",
          "piesze/rowerowe",
          "zieleń/rekreacja",
          "inne",
          "podwórka",
          "piesze/rowerowe",
          "place zabaw",
          "drogowe",
          "inne",
          "rewitalizacja",
          "place zabaw",
          "inne",
          "sport",
          "sport",
          "sport",
          "sport",
          "drogowe",
          "drogowe",
          "zieleń/rekreacja",
          "piesze/rowerowe",
          "inne",
          "drogowe",
          "zieleń/rekreacja",
          "komunikacja zbiorowa",
          "drogowe",
          "drogowe",
          "drogowe",
          "drogowe",
          "place zabaw",
          "sport",
          "drogowe",
          "sport",
          "zieleń/rekreacja",
          "zieleń/rekreacja",
          "piesze/rowerowe",
          "piesze/rowerowe",
          "drogowe",
          "drogowe",
          "piesze/rowerowe",
          "drogowe",
          "inne",
          "komunikacja zbiorowa",
          "drogowe",
          "sport",
          "zieleń/rekreacja",
          "piesze/rowerowe",
          "komunikacja zbiorowa",
          "inne",
          "piesze/rowerowe",
          "inne",
          "zieleń/rekreacja",
          "komunikacja zbiorowa",
          "komunikacja zbiorowa",
          "piesze/rowerowe",
          "place zabaw",
          "drogowe",
          "zieleń/rekreacja",
          "piesze/rowerowe",
          "komunikacja zbiorowa",
          "piesze/rowerowe",
          "zieleń/rekreacja",
          "inne",
          "zieleń/rekreacja",
          "zieleń/rekreacja",
          "zieleń/rekreacja",
          "rewitalizacja",
          "zieleń/rekreacja",
          "piesze/rowerowe",
          "inne",
          "zieleń/rekreacja",
          "sport",
          "drogowe",
          "drogowe",
          "piesze/rowerowe",
          "inne",
          "piesze/rowerowe",
          "sport",
          "zieleń/rekreacja",
          "drogowe",
          "zieleń/rekreacja",
          "sport",
          "inne",
          "piesze/rowerowe",
          "zieleń/rekreacja",
          "zieleń/rekreacja",
          "zieleń/rekreacja",
          "zieleń/rekreacja",
          "drogowe",
          "drogowe",
          "drogowe",
          "drogowe",
          "drogowe",
          "drogowe",
          "komunikacja zbiorowa",
          "drogowe",
          "zieleń/rekreacja",
          "zieleń/rekreacja",
          "zieleń/rekreacja",
          "inne",
          "piesze/rowerowe",
          "zieleń/rekreacja",
          "sport",
          "zieleń/rekreacja",
          "inne",
          "inne",
          "zieleń/rekreacja",
          "inne",
          "zieleń/rekreacja",
          "inne",
          "sport",
          "inne",
          "zieleń/rekreacja",
          "sport",
          "zieleń/rekreacja",
          "piesze/rowerowe",
          "piesze/rowerowe",
          "inne",
          "inne",
          "inne",
          "sport",
          "piesze/rowerowe",
          "inne",
          "inne",
          "podwórka",
          "podwórka",
          "sport",
          "zieleń/rekreacja",
          "inne",
          "piesze/rowerowe",
          "drogowe",
          "zieleń/rekreacja",
          "inne",
          "zieleń/rekreacja",
          "drogowe",
          "drogowe",
          "inne",
          "piesze/rowerowe",
          "inne",
          "sport",
          "zieleń/rekreacja",
          "zieleń/rekreacja",
          "drogowe",
          "podwórka",
          "zieleń/rekreacja",
          "zieleń/rekreacja",
          "komunikacja zbiorowa",
          "zieleń/rekreacja",
          "drogowe",
          "piesze/rowerowe",
          "zieleń/rekreacja",
          "zieleń/rekreacja",
          "zieleń/rekreacja",
          "piesze/rowerowe",
          "place zabaw",
          "rewitalizacja",
          "inne",
          "piesze/rowerowe",
          "drogowe",
          "inne",
          "piesze/rowerowe",
          "drogowe",
          "edukacja",
          "inne",
          "drogowe",
          "zieleń/rekreacja",
          "zieleń/rekreacja",
          "drogowe",
          "inne",
          "inne",
          "piesze/rowerowe",
          "inne",
          "zieleń/rekreacja",
          "inne",
          "zieleń/rekreacja",
          "sport",
          "zabytkowe",
          "zieleń/rekreacja",
          "drogowe",
          "zieleń/rekreacja",
          "zieleń/rekreacja",
          "drogowe",
          "rewitalizacja",
          "piesze/rowerowe",
          "drogowe",
          "zieleń/rekreacja",
          "zieleń/rekreacja",
          "zieleń/rekreacja",
          "zieleń/rekreacja",
          "inne",
          "drogowe",
          "rewitalizacja",
          "piesze/rowerowe",
          "drogowe",
          "zieleń/rekreacja",
          "drogowe",
          "drogowe",
          "zieleń/rekreacja",
          "zieleń/rekreacja",
          "piesze/rowerowe",
          "inne",
          "inne",
          "inne",
          "zieleń/rekreacja",
          "piesze/rowerowe",
          "inne",
          "zabytkowe",
          "inne",
          "zieleń/rekreacja",
          "komunikacja zbiorowa",
          "komunikacja zbiorowa",
          "drogowe",
          "place zabaw",
          "inne",
          "inne",
          "zabytkowe",
          "piesze/rowerowe",
          "piesze/rowerowe",
          "drogowe",
          "zieleń/rekreacja",
          "sport",
          "piesze/rowerowe",
          "drogowe",
          "podwórka",
          "piesze/rowerowe",
          "piesze/rowerowe",
          "zabytkowe",
          "zabytkowe",
          "zabytkowe",
          "sport",
          "komunikacja zbiorowa",
          "inne",
          "piesze/rowerowe",
          "piesze/rowerowe",
          "drogowe",
          "piesze/rowerowe",
          "zabytkowe",
          "zabytkowe",
          "piesze/rowerowe",
          "inne",
          "podwórka",
          "piesze/rowerowe",
          "drogowe",
          "zieleń/rekreacja",
          "zieleń/rekreacja",
          "zieleń/rekreacja",
          "rewitalizacja",
          "inne",
          "drogowe",
          "drogowe",
          "drogowe",
          "piesze/rowerowe",
          "place zabaw",
          "piesze/rowerowe",
          "zieleń/rekreacja",
          "inne",
          "piesze/rowerowe",
          "piesze/rowerowe",
          "piesze/rowerowe",
          "zieleń/rekreacja",
          "piesze/rowerowe",
          "sport",
          "zieleń/rekreacja",
          "drogowe",
          "inne",
          "inne",
          "drogowe",
          "zieleń/rekreacja",
          "komunikacja zbiorowa",
          "drogowe",
          "drogowe",
          "sport",
          "piesze/rowerowe",
          "piesze/rowerowe",
          "inne",
          "inne",
          "piesze/rowerowe",
          "inne",
          "sport",
          "piesze/rowerowe",
          "rewitalizacja",
          "piesze/rowerowe",
          "piesze/rowerowe",
          "rewitalizacja",
          "drogowe",
          "drogowe",
          "komunikacja zbiorowa",
          "piesze/rowerowe",
          "piesze/rowerowe",
          "inne",
          "inne",
          "sport",
          "inne",
          "inne",
          "zieleń/rekreacja",
          "zieleń/rekreacja",
          "zieleń/rekreacja",
          "drogowe",
          "zieleń/rekreacja",
          "zieleń/rekreacja",
          "zieleń/rekreacja",
          "zieleń/rekreacja",
          "inne",
          "podwórka",
          "zieleń/rekreacja",
          "zieleń/rekreacja",
          "zieleń/rekreacja",
          "zieleń/rekreacja",
          "inne",
          "zieleń/rekreacja",
          "zieleń/rekreacja",
          "zieleń/rekreacja",
          "piesze/rowerowe",
          "drogowe",
          "zabytkowe",
          "drogowe",
          "inne",
          "inne",
          "zieleń/rekreacja",
          "zabytkowe",
          "inne",
          "inne",
          "inne",
          "zieleń/rekreacja",
          "drogowe",
          "podwórka",
          "podwórka",
          "inne",
          "inne",
          "piesze/rowerowe",
          "zieleń/rekreacja",
          "zieleń/rekreacja",
          "inne",
          "zieleń/rekreacja",
          "piesze/rowerowe",
          "drogowe",
          "zabytkowe",
          "zieleń/rekreacja",
          "zieleń/rekreacja",
          "zieleń/rekreacja",
          "zabytkowe",
          "inne",
          "drogowe",
          "drogowe",
          "inne",
          "sport",
          "drogowe",
          "inne",
          "zabytkowe",
          "zabytkowe",
          "drogowe",
          "zieleń/rekreacja",
          "piesze/rowerowe",
          "sport",
          "piesze/rowerowe",
          "sport",
          "drogowe",
          "piesze/rowerowe",
          "piesze/rowerowe",
          "zieleń/rekreacja",
          "drogowe",
          "inne",
          "komunikacja zbiorowa",
          "zabytkowe",
          "inne",
          "zieleń/rekreacja",
          "sport",
          "zabytkowe",
          "zieleń/rekreacja",
          "inne",
          "zabytkowe",
          "zieleń/rekreacja",
          "inne",
          "zieleń/rekreacja",
          "inne",
          "inne",
          "inne",
          "drogowe",
          "zieleń/rekreacja",
          "zieleń/rekreacja",
          "zieleń/rekreacja",
          "drogowe",
          "zabytkowe",
          "piesze/rowerowe",
          "piesze/rowerowe",
          "piesze/rowerowe",
          "inne",
          "place zabaw",
          "place zabaw",
          "drogowe",
          "piesze/rowerowe",
          "zieleń/rekreacja",
          "piesze/rowerowe",
          "piesze/rowerowe",
          "drogowe",
          "inne",
          "zieleń/rekreacja",
          "zieleń/rekreacja",
          "zieleń/rekreacja",
          "inne",
          "inne",
          "sport",
          "zieleń/rekreacja",
          "komunikacja zbiorowa",
          "drogowe",
          "komunikacja zbiorowa",
          "sport",
          "komunikacja zbiorowa",
          "inne",
          "sport",
          "zabytkowe",
          "sport",
          "podwórka",
          "zabytkowe",
          "zieleń/rekreacja",
          "zieleń/rekreacja",
          "zieleń/rekreacja",
          "zieleń/rekreacja",
          "inne",
          "rewitalizacja",
          "piesze/rowerowe",
          "inne",
          "piesze/rowerowe",
          "zieleń/rekreacja",
          "piesze/rowerowe",
          "inne",
          "inne",
          "piesze/rowerowe",
          "zabytkowe",
          "drogowe",
          "zieleń/rekreacja",
          "zieleń/rekreacja",
          "zieleń/rekreacja",
          "zieleń/rekreacja",
          "piesze/rowerowe",
          "piesze/rowerowe",
          "sport",
          "zieleń/rekreacja",
          "inne",
          "drogowe",
          "drogowe",
          "piesze/rowerowe",
          "zieleń/rekreacja",
          "podwórka",
          "piesze/rowerowe",
          "zabytkowe",
          "zieleń/rekreacja",
          "drogowe",
          "piesze/rowerowe",
          "place zabaw",
          "piesze/rowerowe",
          "zabytkowe",
          "podwórka",
          "zieleń/rekreacja",
          "piesze/rowerowe",
          "zabytkowe",
          "piesze/rowerowe",
          "inne",
          "piesze/rowerowe",
          "zabytkowe",
          "drogowe",
          "piesze/rowerowe",
          "piesze/rowerowe",
          "piesze/rowerowe",
          "komunikacja zbiorowa",
          "piesze/rowerowe",
          "rewitalizacja",
          "zieleń/rekreacja",
          "nieinwestycyjne",
          "rewitalizacja",
          "zieleń/rekreacja",
          "piesze/rowerowe",
          "rewitalizacja",
          "komunikacja zbiorowa",
          "sport",
          "inne",
          "inne",
          "inne",
          "inne",
          "piesze/rowerowe",
          "sport",
          "piesze/rowerowe",
          "inne",
          "inne",
          "inne",
          "piesze/rowerowe",
          "zieleń/rekreacja",
          "piesze/rowerowe",
          "inne",
          "inne",
          "zieleń/rekreacja",
          "zieleń/rekreacja",
          "komunikacja zbiorowa",
          "komunikacja zbiorowa",
          "piesze/rowerowe",
          "inne",
          "place zabaw",
          "piesze/rowerowe",
          "drogowe",
          "piesze/rowerowe",
          "zieleń/rekreacja",
          "komunikacja zbiorowa",
          "inne",
          "zieleń/rekreacja",
          "place zabaw",
          "komunikacja zbiorowa",
          "podwórka",
          "inne",
          "zieleń/rekreacja",
          "zieleń/rekreacja",
          "zieleń/rekreacja",
          "drogowe",
          "drogowe",
          "zieleń/rekreacja",
          "drogowe",
          "zieleń/rekreacja",
          "zieleń/rekreacja",
          "zieleń/rekreacja",
          "drogowe",
          "podwórka",
          "piesze/rowerowe",
          "piesze/rowerowe",
          "zieleń/rekreacja",
          "zieleń/rekreacja",
          "sport",
          "piesze/rowerowe",
          "inne",
          "zieleń/rekreacja",
          "drogowe",
          "piesze/rowerowe",
          "piesze/rowerowe",
          "zieleń/rekreacja",
          "inne",
          "zieleń/rekreacja",
          "inne",
          "drogowe",
          "inne",
          "drogowe",
          "drogowe",
          "drogowe",
          "zieleń/rekreacja",
          "drogowe",
          "zieleń/rekreacja",
          "piesze/rowerowe",
          "zieleń/rekreacja",
          "drogowe",
          "zieleń/rekreacja",
          "sport",
          "drogowe",
          "drogowe",
          "sport",
          "piesze/rowerowe",
          "place zabaw",
          "piesze/rowerowe",
          "place zabaw",
          "drogowe",
          "zieleń/rekreacja",
          "place zabaw",
          "piesze/rowerowe",
          "zieleń/rekreacja",
          "zieleń/rekreacja",
          "komunikacja zbiorowa",
          "zieleń/rekreacja",
          "sport",
          "zieleń/rekreacja",
          "piesze/rowerowe",
          "drogowe",
          "inne",
          "zieleń/rekreacja",
          "podwórka",
          "inne",
          "zieleń/rekreacja",
          "inne",
          "inne",
          "piesze/rowerowe",
          "sport",
          "sport",
          "inne",
          "komunikacja zbiorowa",
          "zieleń/rekreacja",
          "inne",
          "piesze/rowerowe",
          "zieleń/rekreacja",
          "nieinwestycyjne",
          "drogowe",
          "zieleń/rekreacja",
          "piesze/rowerowe",
          "zieleń/rekreacja",
          "inne",
          "zieleń/rekreacja",
          "zieleń/rekreacja",
          "piesze/rowerowe",
          "nieinwestycyjne",
          "zieleń/rekreacja",
          "piesze/rowerowe",
          "zieleń/rekreacja",
          "piesze/rowerowe",
          "zieleń/rekreacja",
          "piesze/rowerowe",
          "piesze/rowerowe",
          "komunikacja zbiorowa",
          "drogowe",
          "podwórka",
          "podwórka",
          "piesze/rowerowe",
          "zieleń/rekreacja",
          "drogowe",
          "inne",
          "zieleń/rekreacja",
          "piesze/rowerowe",
          "drogowe",
          "komunikacja zbiorowa",
          "piesze/rowerowe",
          "piesze/rowerowe",
          "inne",
          "drogowe",
          "sport",
          "inne",
          "drogowe",
          "drogowe",
          "komunikacja zbiorowa",
          "podwórka",
          "zieleń/rekreacja",
          "sport",
          "nieinwestycyjne",
          "nieinwestycyjne",
          "zieleń/rekreacja",
          "rewitalizacja",
          "zieleń/rekreacja",
          "zieleń/rekreacja",
          "zieleń/rekreacja",
          "zieleń/rekreacja",
          "zieleń/rekreacja",
          "zieleń/rekreacja",
          "zieleń/rekreacja",
          "drogowe",
          "zieleń/rekreacja",
          "zieleń/rekreacja",
          "podwórka",
          "piesze/rowerowe",
          "zieleń/rekreacja",
          "piesze/rowerowe",
          "zieleń/rekreacja",
          "komunikacja zbiorowa",
          "komunikacja zbiorowa",
          "inne",
          "inne",
          "piesze/rowerowe",
          "zieleń/rekreacja",
          "zieleń/rekreacja",
          "piesze/rowerowe",
          "inne",
          "drogowe",
          "drogowe",
          "piesze/rowerowe",
          "sport",
          "zieleń/rekreacja",
          "place zabaw",
          "inne",
          "komunikacja zbiorowa",
          "drogowe",
          "komunikacja zbiorowa",
          "komunikacja zbiorowa",
          "komunikacja zbiorowa",
          "inne",
          "piesze/rowerowe",
          "piesze/rowerowe",
          "inne",
          "drogowe",
          "inne",
          "drogowe",
          "drogowe",
          "drogowe",
          "zieleń/rekreacja",
          "inne",
          "komunikacja zbiorowa",
          "piesze/rowerowe",
          "zieleń/rekreacja",
          "zieleń/rekreacja",
          "drogowe",
          "komunikacja zbiorowa",
          "drogowe",
          "sport",
          "inne",
          "komunikacja zbiorowa",
          "drogowe",
          "komunikacja zbiorowa",
          "inne",
          "zieleń/rekreacja",
          "rewitalizacja",
          "zieleń/rekreacja",
          "komunikacja zbiorowa",
          "sport",
          "podwórka",
          "zieleń/rekreacja",
          "drogowe",
          "drogowe",
          "drogowe",
          "zieleń/rekreacja",
          "inne",
          "inne",
          "inne",
          "inne",
          "piesze/rowerowe",
          "piesze/rowerowe",
          "zieleń/rekreacja",
          "podwórka",
          "piesze/rowerowe",
          "piesze/rowerowe",
          "inne",
          "drogowe",
          "zieleń/rekreacja",
          "podwórka",
          "inne",
          "drogowe",
          "zieleń/rekreacja",
          "piesze/rowerowe",
          "sport",
          "inne",
          "zieleń/rekreacja",
          "piesze/rowerowe",
          "zieleń/rekreacja",
          "zieleń/rekreacja",
          "inne",
          "piesze/rowerowe",
          "inne",
          "inne",
          "zieleń/rekreacja",
          "zieleń/rekreacja",
          "inne",
          "zieleń/rekreacja",
          "zieleń/rekreacja",
          "inne",
          "zieleń/rekreacja",
          "zieleń/rekreacja",
          "zieleń/rekreacja",
          "zieleń/rekreacja",
          "place zabaw",
          "inne",
          "piesze/rowerowe",
          "zieleń/rekreacja",
          "inne",
          "inne",
          "zieleń/rekreacja",
          "inne",
          "inne",
          "inne",
          "inne",
          "piesze/rowerowe",
          "piesze/rowerowe",
          "drogowe",
          "zieleń/rekreacja",
          "inne",
          "piesze/rowerowe",
          "rewitalizacja",
          "sport",
          "inne",
          "inne",
          "sport",
          "zieleń/rekreacja",
          "zieleń/rekreacja",
          "inne",
          "inne",
          "zieleń/rekreacja",
          "inne",
          "inne",
          "nieinwestycyjne",
          "zieleń/rekreacja",
          "piesze/rowerowe",
          "place zabaw",
          "drogowe",
          "drogowe",
          "zieleń/rekreacja",
          "place zabaw",
          "sport",
          "zieleń/rekreacja",
          "zieleń/rekreacja",
          "drogowe",
          "piesze/rowerowe",
          "zieleń/rekreacja",
          "place zabaw",
          "piesze/rowerowe",
          "zieleń/rekreacja",
          "inne",
          "zieleń/rekreacja",
          "inne",
          "zieleń/rekreacja",
          "inne",
          "zieleń/rekreacja",
          "inne",
          "zieleń/rekreacja",
          "inne",
          "inne",
          "zieleń/rekreacja",
          "zieleń/rekreacja",
          "nieinwestycyjne",
          "sport",
          "inne",
          "place zabaw",
          "zieleń/rekreacja",
          "piesze/rowerowe",
          "zieleń/rekreacja",
          "sport",
          "inne",
          "komunikacja zbiorowa",
          "drogowe",
          "komunikacja zbiorowa",
          "piesze/rowerowe",
          "komunikacja zbiorowa",
          "piesze/rowerowe",
          "inne",
          "zieleń/rekreacja",
          "drogowe",
          "sport",
          "komunikacja zbiorowa",
          "komunikacja zbiorowa",
          "piesze/rowerowe",
          "zieleń/rekreacja",
          "sport",
          "zieleń/rekreacja",
          "zieleń/rekreacja",
          "zieleń/rekreacja",
          "inne",
          "inne",
          "piesze/rowerowe",
          "inne",
          "inne",
          "zieleń/rekreacja",
          "drogowe",
          "inne",
          "komunikacja zbiorowa",
          "piesze/rowerowe",
          "piesze/rowerowe",
          "zieleń/rekreacja",
          "komunikacja zbiorowa",
          "komunikacja zbiorowa",
          "inne",
          "piesze/rowerowe",
          "komunikacja zbiorowa",
          "piesze/rowerowe",
          "piesze/rowerowe",
          "piesze/rowerowe",
          "piesze/rowerowe",
          "rewitalizacja",
          "sport",
          "inne",
          "piesze/rowerowe",
          "inne",
          "piesze/rowerowe",
          "zieleń/rekreacja",
          "sport",
          "inne",
          "inne",
          "inne",
          "piesze/rowerowe",
          "inne",
          "drogowe",
          "zieleń/rekreacja",
          "piesze/rowerowe",
          "inne",
          "piesze/rowerowe",
          "inne",
          "inne",
          "inne",
          "piesze/rowerowe",
          "inne",
          "drogowe",
          "piesze/rowerowe",
          "piesze/rowerowe",
          "place zabaw",
          "piesze/rowerowe",
          "zieleń/rekreacja",
          "komunikacja zbiorowa",
          "sport",
          "sport",
          "sport",
          "piesze/rowerowe",
          "sport",
          "zieleń/rekreacja",
          "sport",
          "piesze/rowerowe",
          "inne",
          "inne",
          "rewitalizacja",
          "piesze/rowerowe",
          "drogowe",
          "piesze/rowerowe",
          "piesze/rowerowe",
          "sport",
          "place zabaw",
          "inne",
          "sport",
          "zieleń/rekreacja",
          "zieleń/rekreacja",
          "zieleń/rekreacja",
          "zieleń/rekreacja",
          "piesze/rowerowe",
          "komunikacja zbiorowa",
          "zieleń/rekreacja",
          "sport",
          "piesze/rowerowe",
          "zieleń/rekreacja",
          "nieinwestycyjne",
          "komunikacja zbiorowa",
          "sport",
          "inne",
          "inne",
          "place zabaw",
          "zieleń/rekreacja",
          "piesze/rowerowe",
          "inne",
          "inne",
          "inne",
          "zieleń/rekreacja",
          "piesze/rowerowe",
          "zieleń/rekreacja",
          "piesze/rowerowe",
          "zieleń/rekreacja",
          "zieleń/rekreacja",
          "piesze/rowerowe",
          "inne",
          "piesze/rowerowe",
          "zieleń/rekreacja",
          "inne",
          "piesze/rowerowe",
          "piesze/rowerowe",
          "zieleń/rekreacja",
          "piesze/rowerowe",
          "rewitalizacja",
          "rewitalizacja",
          "rewitalizacja",
          "rewitalizacja",
          "komunikacja zbiorowa",
          "zieleń/rekreacja",
          "zieleń/rekreacja",
          "inne",
          "zieleń/rekreacja",
          "inne",
          "inne",
          "inne",
          "nieinwestycyjne",
          "place zabaw",
          "nieinwestycyjne",
          "inne",
          "drogowe",
          "piesze/rowerowe",
          "sport",
          "drogowe",
          "zieleń/rekreacja",
          "sport",
          "rewitalizacja",
          "piesze/rowerowe",
          "sport",
          "zieleń/rekreacja"
         ],
         "x0": " ",
         "xaxis": "x",
         "y": [
          1000000,
          750000,
          1000000,
          500000,
          500000,
          1000000,
          20000,
          1000,
          250000,
          1311100,
          1000000,
          950000,
          30000,
          50000,
          150000,
          1000,
          1000000,
          250000,
          750000,
          100000,
          100000,
          100000,
          100000,
          9000,
          250000,
          500000,
          1000000,
          50000,
          250000,
          30000,
          1000000,
          50000,
          250000,
          240000,
          500000,
          100000,
          150000,
          100000,
          740000,
          50000,
          500000,
          80000,
          20000,
          300000,
          10000,
          650000,
          129999,
          250000,
          80000,
          250000,
          200000,
          500000,
          600000,
          500000,
          300000,
          999999,
          98000,
          125000,
          750000,
          193000,
          750000,
          455555,
          64000,
          500000,
          750000,
          750000,
          1000000,
          750000,
          500000,
          750000,
          750000,
          1000000,
          680000,
          900000,
          100000,
          700000,
          90000,
          200000,
          175000,
          695000,
          500000,
          500000,
          250000,
          500000,
          750000,
          750000,
          1000000,
          15000,
          750000,
          6000,
          1000000,
          250000,
          250000,
          50000,
          235000,
          250000,
          250000,
          250000,
          800000,
          160000,
          500000,
          100000,
          750000,
          150000,
          750000,
          1000000,
          500000,
          400000,
          195400,
          750000,
          700000,
          90000,
          250000,
          500000,
          90000,
          50000,
          750000,
          250000,
          100000,
          105600,
          250000,
          1000000,
          250000,
          550000,
          700000,
          150000,
          746950,
          221230,
          250000,
          30000,
          300000,
          53500,
          250000,
          150000,
          250000,
          750000,
          1000000,
          750000,
          750000,
          750000,
          750000,
          250000,
          700000,
          250000,
          250000,
          250000,
          250000,
          150000,
          750000,
          48000,
          100000,
          20000,
          200000,
          75000,
          250000,
          750000,
          750000,
          750000,
          750000,
          750000,
          750000,
          104000,
          500000,
          2000,
          250000,
          700000,
          1000000,
          750000,
          750000,
          750000,
          750000,
          1500000,
          996000,
          60000,
          95000,
          20000,
          250000,
          250000,
          750000,
          250000,
          250000,
          90000,
          650000,
          250000,
          250000,
          500000,
          250000,
          150000,
          640000,
          50000,
          250000,
          250000,
          108000,
          750000,
          80000,
          1000000,
          30000,
          25000,
          1000000,
          250000,
          1000000,
          200000,
          14700,
          250000,
          1000000,
          77600,
          500000,
          1000,
          250000,
          900000,
          1000,
          300000,
          10000,
          900000,
          750000,
          195000,
          520000,
          500000,
          500000,
          750000,
          100000,
          250000,
          1000000,
          680000,
          250000,
          750000,
          750000,
          14999,
          1000000,
          350000,
          750000,
          250000,
          250000,
          650000,
          440000,
          500000,
          500000,
          750000,
          1000000,
          250000,
          750000,
          250000,
          1000000,
          750000,
          1000000,
          250000,
          250000,
          242000,
          1000000,
          1000000,
          500000,
          250000,
          500000,
          250000,
          250000,
          150000,
          240200,
          150000,
          18000,
          200000,
          250000,
          500000,
          250000,
          1000000,
          250000,
          15000,
          2500,
          300000,
          750000,
          250000,
          750000,
          750000,
          245000,
          750000,
          60000,
          55000,
          250000,
          750000,
          750000,
          150000,
          250000,
          500000,
          750000,
          1000000,
          1000000,
          85000,
          250000,
          250000,
          1000000,
          115000,
          1000000,
          750000,
          750000,
          1000000,
          150000,
          150000,
          95000,
          750000,
          250000,
          250000,
          150000,
          250000,
          250000,
          300000,
          750000,
          200000,
          500000,
          750000,
          0,
          980000,
          1000000,
          242000,
          109500,
          550000,
          500000,
          250000,
          600000,
          200000,
          200000,
          1000000,
          250000,
          1000000,
          100000,
          1000000,
          750000,
          1000000,
          300000,
          470000,
          1000000,
          100000,
          250000,
          400000,
          1000000,
          500000,
          900000,
          500000,
          460000,
          1000000,
          250000,
          20,
          150000,
          150000,
          100000,
          100000,
          150000,
          250000,
          700000,
          200000,
          200000,
          30000,
          30000,
          750000,
          1500,
          1000000,
          500000,
          1000000,
          15000,
          50000,
          250000,
          500000,
          750000,
          200000,
          750000,
          750000,
          250000,
          555000,
          750000,
          750000,
          100000,
          750000,
          50000,
          1000000,
          20000,
          210000,
          750000,
          409500,
          120000,
          500000,
          152500,
          210000,
          468000,
          250000,
          250000,
          150000,
          250000,
          550000,
          4500,
          1000000,
          500000,
          165075,
          520000,
          20000,
          1000000,
          200000,
          550000,
          750000,
          50000,
          150000,
          232000,
          20000,
          750000,
          249000,
          1000,
          1000000,
          250000,
          18000,
          35000,
          250000,
          750000,
          1000000,
          1000000,
          1000000,
          100000,
          500000,
          250000,
          750000,
          250000,
          750000,
          250000,
          250000,
          750000,
          500000,
          500000,
          300000,
          750000,
          100000,
          200,
          100000,
          250000,
          200000,
          750000,
          150000,
          750000,
          245000,
          250000,
          1000000,
          249000,
          75000,
          10000,
          400000,
          240000,
          300000,
          500000,
          250000,
          150000,
          750000,
          750000,
          170000,
          750000,
          250000,
          14000,
          999996,
          999999,
          999999,
          999999,
          400000,
          1000000,
          600000,
          750000,
          400000,
          499999,
          985000,
          2600,
          750000,
          1000000,
          1000000,
          1000000,
          200000,
          250000,
          210000,
          250000,
          100000,
          250000,
          100000,
          483000,
          200000,
          244000,
          350000,
          100,
          120000,
          2000,
          1000000,
          750000,
          750000,
          3000,
          1000000,
          250000,
          100000,
          250000,
          750000,
          1000000,
          500000,
          80000,
          50000,
          750000,
          14999,
          750000,
          500000,
          70000,
          100000,
          300000,
          1000000,
          800000,
          1000000,
          250000,
          250,
          450000,
          320000,
          100000,
          48000,
          500000,
          750000,
          50000,
          13000,
          80000,
          500000,
          250,
          730000,
          150000,
          1000000,
          1000,
          60000,
          400000,
          750000,
          250,
          600000,
          27500,
          27500,
          17000,
          750000,
          25000,
          20000,
          1000000,
          70000,
          500000,
          150000,
          700000,
          50000,
          1000000,
          750000,
          450000,
          1000000,
          90000,
          250000,
          300000,
          1000000,
          750000,
          250000,
          346082,
          750000,
          100000,
          250000,
          1000000,
          250000,
          750000,
          175000,
          156000,
          40000,
          750000,
          100000,
          1000000,
          135000,
          240000,
          269500,
          750000,
          240000,
          161700,
          210000,
          700000,
          750000,
          30000,
          50000,
          750000,
          1000000,
          100000,
          200000,
          1000000,
          250000,
          130000,
          1000000,
          1000000,
          180000,
          150000,
          750000,
          750000,
          150000,
          1000000,
          150000,
          50000,
          200000,
          250000,
          50000,
          750000,
          250000,
          250000,
          70000,
          967000,
          0,
          750000,
          250000,
          250000,
          150000,
          250000,
          250000,
          300000,
          750000,
          200000,
          500000,
          750000,
          0,
          980000,
          1000000,
          242000,
          109500,
          100000,
          500000,
          100000,
          400000,
          750000,
          1000000,
          750000,
          1000000,
          750000,
          100000,
          150000,
          200000,
          750000,
          300000,
          1000000,
          250000,
          400000,
          750000,
          750000,
          750000,
          1000000,
          20000,
          100000,
          50000,
          1000000,
          1000000,
          30000,
          40000,
          400000,
          75000,
          30000,
          250000,
          1000000,
          600000,
          750000,
          700000,
          750000,
          750000,
          250000,
          100000,
          200000,
          100000,
          250000,
          300000,
          100000,
          50000,
          1000000,
          500000,
          10000,
          300000,
          100000,
          40000,
          100000,
          750000,
          100000,
          100000,
          250000,
          750000,
          250000,
          1000000,
          100000,
          50000,
          1000000,
          250000,
          750000,
          250000,
          100000,
          1000000,
          250000,
          450000,
          500000,
          150000,
          150000,
          1000000,
          250000,
          250000,
          750000,
          104000,
          60000,
          10000,
          420000,
          240000,
          750000,
          560000,
          235000,
          550000,
          750000,
          200000,
          300000,
          435000,
          1000000,
          200000,
          750000,
          750000,
          750000,
          250000,
          750000,
          240000,
          245000,
          500000,
          15000,
          1000000,
          250000,
          980000,
          250000,
          1000000,
          250000,
          250000,
          250000,
          1000000,
          660000,
          200000,
          5000,
          99999,
          150000,
          750000,
          250000,
          250000,
          250000,
          750000,
          250000,
          50000,
          250000,
          250000,
          750000,
          750000,
          250000,
          250000,
          250000,
          750000,
          250000,
          250000,
          250000,
          250000,
          250000,
          1000000,
          750000,
          250000,
          100000,
          100000,
          1700,
          77000,
          333000,
          40000,
          250000,
          250000,
          100000,
          250000,
          150000,
          250000,
          750000,
          250000,
          250000,
          250000,
          250000,
          250000,
          300000,
          150000,
          500000,
          1000000,
          40000,
          250000,
          750000,
          250000,
          20000,
          500000,
          500000,
          50000,
          1000000,
          1000000,
          750000,
          735000,
          50000,
          70000,
          2000,
          250000,
          750000,
          750000,
          745000,
          1000000,
          250000,
          572000,
          728000,
          1000000,
          250000,
          749000,
          100000,
          95000,
          25000,
          740000,
          750000,
          100000,
          250000,
          1000000,
          15000,
          900000,
          750000,
          1000000,
          200000,
          166000,
          500000,
          240000,
          400000,
          150000,
          250000,
          250000,
          6000,
          350000,
          350000,
          250000,
          1000000,
          500000,
          500000,
          10000,
          1000000,
          1000000,
          200000,
          1000000,
          700000,
          1000000,
          749998,
          100000,
          100000,
          68000,
          250000,
          700000,
          150000,
          250000,
          250000,
          250000,
          180000,
          250000,
          250000,
          250000,
          100000,
          240000,
          750000,
          98500,
          750000,
          1000000,
          250000,
          122000,
          350000,
          250000,
          750000,
          250000,
          400,
          750000,
          120000,
          80000,
          500000,
          100000,
          80000,
          200000,
          750000,
          250000,
          1000000,
          1000000,
          750000,
          750000,
          750000,
          200000,
          1000000,
          750000,
          30000,
          750000,
          200000,
          750000,
          250000,
          20000,
          250000,
          250000,
          400000,
          250000,
          1000000,
          100000,
          750000,
          1000000,
          500000,
          100000,
          200000,
          500000,
          400000,
          60000,
          90000,
          1000000,
          440000,
          250000,
          1000000,
          750000,
          200000,
          2000000,
          350000,
          750000,
          2000000,
          750000,
          750000,
          1295000,
          650000,
          2000000,
          500000,
          250000,
          80000,
          750000,
          400000,
          500000,
          1000000,
          2000000,
          2000000,
          2000000,
          700000,
          2000000,
          2000000,
          2000000,
          750000,
          2000000,
          1000000,
          100000,
          1000000,
          95000,
          250000,
          750000,
          1900000,
          960000,
          70000,
          2000000,
          2000000,
          750000,
          900000,
          200000,
          750000,
          500000,
          800000,
          150000,
          1900000,
          750000,
          400000,
          147500,
          750000,
          750000,
          750000,
          750000,
          2000000,
          300000,
          2000000,
          2000000,
          500000,
          500000,
          250000,
          750000,
          749000,
          85000,
          190000,
          180000,
          200000,
          150000,
          1500000,
          2000000,
          100000,
          500,
          20000,
          750000,
          2000000,
          1100000,
          750000,
          1500000,
          2000000,
          500000,
          750000,
          300000,
          2000000,
          700000,
          750000,
          199000,
          750000,
          750000,
          750000,
          750000,
          300000,
          20000,
          500000,
          50000,
          500000,
          749000,
          750000,
          2000000,
          10000,
          2000000,
          300000,
          1000000,
          30000,
          500000,
          250000,
          750000,
          480000,
          750000,
          2000000,
          2000000,
          600000,
          2000000,
          2000000,
          350000,
          2000000,
          100000,
          80000,
          2000000,
          750000,
          160145,
          600000,
          2000000,
          300000,
          300000,
          80000,
          750000,
          750000,
          445000,
          500000,
          250000,
          2000000,
          750000,
          750000,
          2000000,
          2000000,
          2000000,
          2000000,
          750000,
          2000000,
          550000,
          250000,
          2000000,
          75000,
          2000000,
          300000,
          200000,
          749910,
          2000000,
          2000000,
          2000000,
          250000,
          150000,
          2000000,
          200000,
          750000,
          2000000,
          2000000,
          250000,
          2000000,
          750000,
          750000,
          397000,
          750000,
          2000000,
          750000,
          750000,
          2000000,
          750000,
          750000,
          2000000,
          750000,
          500000,
          2000000,
          750000,
          100000,
          2000000,
          500000,
          2000000,
          1000000,
          750000,
          2000000,
          1500000,
          2000000,
          2000000,
          2000000,
          250000,
          750000,
          150000,
          450000,
          700000,
          459996,
          499943,
          850001,
          750000,
          150000,
          260000,
          700000,
          2000000,
          2000000,
          400000,
          500000,
          710000,
          749000,
          50000,
          350000,
          55000,
          185000,
          745500,
          99997,
          45000,
          750000,
          564500,
          460000,
          1000000,
          2000000,
          100000,
          2000000,
          2,
          2000000,
          100000,
          2000000,
          750000,
          2000000,
          100000,
          30000,
          750000,
          300000,
          1000000,
          1000000,
          1200000,
          150000,
          615000,
          540000,
          31000,
          35496,
          598799,
          350,
          300000,
          89998,
          800000,
          499999,
          210000,
          2000000,
          1000000,
          100000,
          400000,
          10000,
          60000,
          750000,
          250000,
          750000,
          1000000,
          2000000,
          1500000,
          30000,
          2000000,
          1000000,
          300000,
          200000,
          1000000,
          200000,
          900000,
          500000,
          600000,
          650000,
          100000,
          710000,
          700000,
          1000000,
          300000,
          2000000,
          450000,
          620000,
          2000000,
          600000,
          2000000,
          900000,
          300000,
          745000,
          250000,
          200000,
          200000,
          2000000,
          750000,
          1500000,
          400000,
          750000,
          750000,
          10000,
          250000,
          2000000,
          15000,
          1000000,
          900000,
          500000,
          750000,
          250000,
          750000,
          750000,
          150000,
          55000,
          350000,
          142400,
          750000,
          2000000,
          750000,
          40000,
          2000000,
          250000,
          250000,
          1200000,
          400000,
          95000,
          2000000,
          2000000,
          2000000,
          200000,
          600000,
          150000,
          600000,
          2000000,
          150000,
          2000000,
          2000000,
          1999999,
          550000,
          2000000,
          2000000,
          1999961,
          750000,
          2000000,
          200000,
          750000,
          200000,
          750000,
          500000,
          750000,
          1000000,
          150000,
          2000000,
          2000000,
          750000,
          1000000,
          60000,
          1000000,
          500000,
          50000,
          2000000,
          2000000,
          750000,
          100000,
          100000,
          200000,
          100000,
          80000,
          850000,
          1500000,
          750000,
          2000000,
          1300000,
          2000000,
          690000,
          747500,
          750000,
          500000,
          1900000,
          750000,
          2000000,
          55000,
          750000,
          750000,
          2000000,
          750000,
          750000,
          2000000,
          500000,
          200000,
          600000,
          600000,
          750000,
          208989,
          36000,
          400000,
          2000000,
          100000,
          750000,
          700000,
          1500000,
          600000,
          50000,
          400000,
          85000,
          15430,
          740000,
          320000,
          55000,
          432000,
          348900,
          30000,
          45000,
          60000,
          48000,
          678000,
          850000,
          300000,
          750000,
          750000,
          165000,
          500000,
          100000,
          900000,
          100000,
          65000,
          100000,
          30000,
          100000,
          80000,
          600000,
          500000,
          250000,
          500000,
          2000000,
          500000,
          750000,
          103200,
          15000,
          1000000,
          270000,
          1750000,
          750000,
          2000000,
          237028,
          55000,
          750000,
          250000,
          30000,
          740000,
          180000,
          750000,
          1000000,
          300000,
          1010500,
          2000000,
          500000,
          2000000,
          220,
          170000,
          300000,
          1500000,
          150000,
          2000000,
          750000,
          130000,
          750000,
          2000000,
          750000,
          500000,
          2000000,
          150000,
          89000,
          10000,
          178500,
          555000,
          500000,
          350000,
          350000,
          350000,
          350000,
          551000,
          2000000,
          2000000,
          155000,
          200000,
          251000,
          30000,
          251000,
          10000,
          300000,
          2000,
          344000,
          650000,
          50000,
          750000,
          125000,
          2000000,
          2000000,
          750000,
          2000000,
          750000,
          20000
         ],
         "y0": " ",
         "yaxis": "y"
        },
        {
         "alignmentgroup": "True",
         "hovertemplate": "status=Wybrany w głosowaniu<br>category=%{x}<br>budget=%{y}<extra></extra>",
         "legendgroup": "Wybrany w głosowaniu",
         "marker": {
          "color": "#00cc96"
         },
         "name": "Wybrany w głosowaniu",
         "notched": false,
         "offsetgroup": "Wybrany w głosowaniu",
         "orientation": "v",
         "showlegend": true,
         "type": "box",
         "x": [
          "zieleń/rekreacja",
          "piesze/rowerowe",
          "piesze/rowerowe",
          "inne",
          "zieleń/rekreacja",
          "zieleń/rekreacja",
          "piesze/rowerowe",
          "inne",
          "sport",
          "place zabaw",
          "zieleń/rekreacja",
          "place zabaw",
          "zieleń/rekreacja",
          "sport",
          "drogowe",
          "piesze/rowerowe",
          "inne",
          "zieleń/rekreacja",
          "zieleń/rekreacja",
          "edukacja",
          "piesze/rowerowe",
          "piesze/rowerowe",
          "edukacja",
          "piesze/rowerowe",
          "zieleń/rekreacja",
          "drogowe",
          "edukacja",
          "sport",
          "edukacja",
          "zieleń/rekreacja",
          "place zabaw",
          "drogowe",
          "drogowe",
          "edukacja",
          "zieleń/rekreacja",
          "zieleń/rekreacja",
          "rewitalizacja",
          "edukacja",
          "zieleń/rekreacja",
          "zieleń/rekreacja",
          "place zabaw",
          "sport",
          "piesze/rowerowe",
          "sport",
          "drogowe",
          "edukacja",
          "edukacja",
          "zieleń/rekreacja",
          "zieleń/rekreacja",
          "drogowe",
          "place zabaw",
          "piesze/rowerowe",
          "rewitalizacja",
          "edukacja",
          "place zabaw",
          "drogowe",
          "zieleń/rekreacja",
          "zieleń/rekreacja",
          "inne",
          "drogowe",
          "zieleń/rekreacja",
          "zieleń/rekreacja",
          "zieleń/rekreacja",
          "place zabaw",
          "zieleń/rekreacja",
          "zieleń/rekreacja",
          "sport",
          "rewitalizacja",
          "piesze/rowerowe",
          "sport",
          "piesze/rowerowe",
          "zieleń/rekreacja",
          "zieleń/rekreacja",
          "piesze/rowerowe",
          "piesze/rowerowe",
          "place zabaw",
          "drogowe",
          "place zabaw",
          "zieleń/rekreacja",
          "zieleń/rekreacja",
          "zieleń/rekreacja",
          "sport",
          "piesze/rowerowe",
          "zieleń/rekreacja",
          "drogowe",
          "zieleń/rekreacja",
          "podwórka",
          "sport",
          "inne",
          "zieleń/rekreacja",
          "sport",
          "piesze/rowerowe",
          "zieleń/rekreacja",
          "sport",
          "sport",
          "place zabaw",
          "zieleń/rekreacja",
          "sport",
          "sport",
          "zieleń/rekreacja",
          "sport",
          "zieleń/rekreacja",
          "sport",
          "piesze/rowerowe",
          "piesze/rowerowe",
          "sport",
          "zieleń/rekreacja",
          "sport",
          "place zabaw",
          "sport",
          "zieleń/rekreacja",
          "zieleń/rekreacja",
          "piesze/rowerowe",
          "sport",
          "zieleń/rekreacja",
          "piesze/rowerowe",
          "sport",
          "podwórka",
          "zieleń/rekreacja",
          "zieleń/rekreacja",
          "podwórka",
          "zieleń/rekreacja",
          "zieleń/rekreacja",
          "piesze/rowerowe",
          "zieleń/rekreacja",
          "piesze/rowerowe",
          "drogowe",
          "piesze/rowerowe",
          "inne",
          "drogowe",
          "zieleń/rekreacja",
          "zieleń/rekreacja",
          "zieleń/rekreacja",
          "place zabaw",
          "piesze/rowerowe",
          "piesze/rowerowe",
          "zieleń/rekreacja",
          "zieleń/rekreacja",
          "sport",
          "piesze/rowerowe",
          "zieleń/rekreacja",
          "zieleń/rekreacja",
          "piesze/rowerowe",
          "zieleń/rekreacja",
          "zieleń/rekreacja",
          "zieleń/rekreacja",
          "zieleń/rekreacja",
          "zieleń/rekreacja",
          "zieleń/rekreacja",
          "zieleń/rekreacja",
          "zieleń/rekreacja",
          "zieleń/rekreacja",
          "place zabaw",
          "piesze/rowerowe",
          "podwórka",
          "zieleń/rekreacja",
          "zieleń/rekreacja",
          "zieleń/rekreacja",
          "piesze/rowerowe",
          "sport",
          "zieleń/rekreacja",
          "zieleń/rekreacja",
          "place zabaw",
          "zieleń/rekreacja",
          "zieleń/rekreacja",
          "zieleń/rekreacja",
          "sport",
          "sport",
          "place zabaw",
          "sport",
          "sport",
          "zieleń/rekreacja",
          "place zabaw",
          "place zabaw",
          "place zabaw",
          "podwórka",
          "zieleń/rekreacja",
          "zieleń/rekreacja",
          "inne",
          "inne",
          "inne",
          "zieleń/rekreacja",
          "sport",
          "zieleń/rekreacja",
          "zabytkowe",
          "zieleń/rekreacja",
          "place zabaw",
          "zieleń/rekreacja",
          "zieleń/rekreacja",
          "zieleń/rekreacja",
          "zieleń/rekreacja",
          "zieleń/rekreacja",
          "zieleń/rekreacja",
          "piesze/rowerowe",
          "place zabaw",
          "zieleń/rekreacja",
          "zieleń/rekreacja",
          "zieleń/rekreacja",
          "zieleń/rekreacja",
          "zieleń/rekreacja",
          "place zabaw",
          "zieleń/rekreacja",
          "sport",
          "rewitalizacja",
          "place zabaw",
          "place zabaw",
          "zieleń/rekreacja",
          "sport",
          "zieleń/rekreacja",
          "zieleń/rekreacja",
          "sport",
          "inne",
          "zieleń/rekreacja",
          "zieleń/rekreacja",
          "piesze/rowerowe",
          "zieleń/rekreacja",
          "zieleń/rekreacja",
          "zieleń/rekreacja",
          "zieleń/rekreacja",
          "zieleń/rekreacja",
          "zieleń/rekreacja",
          "zieleń/rekreacja",
          "zieleń/rekreacja",
          "zieleń/rekreacja",
          "zieleń/rekreacja",
          "zieleń/rekreacja",
          "zieleń/rekreacja",
          "zieleń/rekreacja",
          "zieleń/rekreacja",
          "drogowe",
          "piesze/rowerowe",
          "zieleń/rekreacja",
          "zieleń/rekreacja",
          "zieleń/rekreacja",
          "zieleń/rekreacja",
          "place zabaw",
          "rewitalizacja",
          "piesze/rowerowe",
          "drogowe",
          "zieleń/rekreacja",
          "zieleń/rekreacja",
          "zieleń/rekreacja",
          "inne",
          "zieleń/rekreacja",
          "zieleń/rekreacja",
          "zieleń/rekreacja",
          "zieleń/rekreacja",
          "zieleń/rekreacja",
          "place zabaw",
          "place zabaw",
          "zieleń/rekreacja",
          "piesze/rowerowe",
          "zieleń/rekreacja"
         ],
         "x0": " ",
         "xaxis": "x",
         "y": [
          250000,
          1000000,
          250000,
          70000,
          80000,
          750000,
          750000,
          250000,
          150000,
          250000,
          250000,
          250000,
          750000,
          750000,
          250000,
          140000,
          250000,
          100000,
          150000,
          250000,
          150000,
          250000,
          750000,
          150000,
          250000,
          250000,
          200000,
          250000,
          250000,
          750000,
          250000,
          250000,
          750000,
          250000,
          100000,
          750000,
          250000,
          250000,
          250000,
          750000,
          250000,
          750000,
          250000,
          250000,
          250000,
          500000,
          215000,
          250000,
          250000,
          250000,
          650000,
          150000,
          250000,
          750000,
          560000,
          250000,
          1000000,
          100000,
          1000000,
          250000,
          250000,
          750000,
          750000,
          250000,
          750000,
          900000,
          750000,
          250000,
          1000000,
          250000,
          250000,
          700000,
          150000,
          1000000,
          250000,
          250000,
          750000,
          250000,
          250000,
          250000,
          250000,
          200000,
          150000,
          250000,
          100000,
          100000,
          250000,
          250000,
          70000,
          250000,
          250000,
          250000,
          250000,
          700000,
          750000,
          250000,
          750000,
          750000,
          250000,
          750000,
          250000,
          750000,
          250000,
          250000,
          250000,
          250000,
          250000,
          250000,
          250000,
          250000,
          250000,
          250000,
          250000,
          250000,
          750000,
          250000,
          250000,
          250000,
          750000,
          250000,
          250000,
          200000,
          250000,
          200000,
          1000000,
          750000,
          170000,
          750000,
          1000000,
          250000,
          250000,
          750000,
          750000,
          250000,
          1000000,
          1000000,
          750000,
          250000,
          250000,
          250000,
          250000,
          750000,
          150000,
          1000000,
          750000,
          150000,
          250000,
          250000,
          750000,
          250000,
          250000,
          250000,
          250000,
          250000,
          250000,
          250000,
          250000,
          750000,
          250000,
          200000,
          250000,
          250000,
          750000,
          250000,
          250000,
          250000,
          250000,
          750000,
          250000,
          250000,
          500000,
          250000,
          250000,
          250000,
          250000,
          750000,
          250000,
          750000,
          750000,
          250000,
          250000,
          250000,
          750000,
          750000,
          100000,
          1000000,
          250000,
          250000,
          250000,
          750000,
          250000,
          250000,
          250000,
          2000000,
          750000,
          2000000,
          2000000,
          750000,
          750000,
          2000000,
          750000,
          750000,
          750000,
          1500000,
          2000000,
          2000000,
          750000,
          750000,
          750000,
          750000,
          2000000,
          750000,
          750000,
          2000000,
          2000000,
          2000000,
          2000000,
          750000,
          2000000,
          750000,
          750000,
          2000000,
          750000,
          2000000,
          750000,
          600000,
          750000,
          2000000,
          750000,
          750000,
          750000,
          750000,
          750000,
          2000000,
          2000000,
          750000,
          2000000,
          2000000,
          750000,
          750000,
          750000,
          750000,
          750000,
          2000000,
          750000,
          2000000,
          750000,
          750000,
          750000,
          750000,
          2000000,
          2000000,
          750000
         ],
         "y0": " ",
         "yaxis": "y"
        },
        {
         "alignmentgroup": "True",
         "hovertemplate": "status=Realizacja z listy rezerwowej<br>category=%{x}<br>budget=%{y}<extra></extra>",
         "legendgroup": "Realizacja z listy rezerwowej",
         "marker": {
          "color": "#ab63fa"
         },
         "name": "Realizacja z listy rezerwowej",
         "notched": false,
         "offsetgroup": "Realizacja z listy rezerwowej",
         "orientation": "v",
         "showlegend": true,
         "type": "box",
         "x": [
          "piesze/rowerowe",
          "piesze/rowerowe",
          "sport"
         ],
         "x0": " ",
         "xaxis": "x",
         "y": [
          30000,
          90000,
          250000
         ],
         "y0": " ",
         "yaxis": "y"
        },
        {
         "alignmentgroup": "True",
         "hovertemplate": "status=Wycofane z realizacji w ramach WBO<br>category=%{x}<br>budget=%{y}<extra></extra>",
         "legendgroup": "Wycofane z realizacji w ramach WBO",
         "marker": {
          "color": "#FFA15A"
         },
         "name": "Wycofane z realizacji w ramach WBO",
         "notched": false,
         "offsetgroup": "Wycofane z realizacji w ramach WBO",
         "orientation": "v",
         "showlegend": true,
         "type": "box",
         "x": [
          "komunikacja zbiorowa",
          "zieleń/rekreacja",
          "piesze/rowerowe",
          "drogowe",
          "zieleń/rekreacja",
          "drogowe",
          "sport",
          "rewitalizacja",
          "piesze/rowerowe",
          "zieleń/rekreacja",
          "inne",
          null,
          "inne",
          "zieleń/rekreacja",
          "piesze/rowerowe",
          "sport",
          "sport",
          "rewitalizacja",
          "inne",
          "edukacja",
          "drogowe",
          "piesze/rowerowe",
          "edukacja",
          "drogowe",
          "piesze/rowerowe",
          "inne",
          "place zabaw",
          "piesze/rowerowe",
          "rewitalizacja",
          "drogowe",
          "zieleń/rekreacja",
          "sport",
          "zieleń/rekreacja",
          "komunikacja zbiorowa",
          "piesze/rowerowe",
          "piesze/rowerowe",
          "piesze/rowerowe",
          "zieleń/rekreacja",
          "piesze/rowerowe",
          "zieleń/rekreacja",
          "drogowe",
          "zieleń/rekreacja",
          "zieleń/rekreacja",
          "podwórka",
          "place zabaw",
          "zieleń/rekreacja",
          "drogowe",
          "place zabaw",
          "piesze/rowerowe",
          "zieleń/rekreacja",
          "drogowe",
          "zieleń/rekreacja",
          "inne",
          "piesze/rowerowe",
          "podwórka",
          "podwórka",
          "sport",
          "place zabaw",
          "inne",
          "zieleń/rekreacja",
          "sport",
          "place zabaw",
          "piesze/rowerowe",
          "piesze/rowerowe",
          "piesze/rowerowe",
          "zieleń/rekreacja",
          "place zabaw",
          "sport",
          "drogowe",
          "drogowe",
          "inne",
          "drogowe",
          "sport",
          "zieleń/rekreacja",
          "zieleń/rekreacja",
          "zieleń/rekreacja",
          "rewitalizacja",
          "drogowe",
          "zieleń/rekreacja",
          "piesze/rowerowe",
          "inne",
          "piesze/rowerowe",
          "piesze/rowerowe",
          "zieleń/rekreacja",
          "drogowe",
          "podwórka",
          "zieleń/rekreacja",
          "zieleń/rekreacja",
          "piesze/rowerowe",
          "zieleń/rekreacja",
          "piesze/rowerowe",
          "zieleń/rekreacja",
          "zabytkowe",
          "zieleń/rekreacja",
          "piesze/rowerowe",
          "piesze/rowerowe",
          "drogowe",
          "zieleń/rekreacja",
          "podwórka",
          "podwórka",
          "place zabaw",
          "inne",
          "zabytkowe",
          "drogowe",
          "piesze/rowerowe",
          "place zabaw",
          "drogowe",
          "zieleń/rekreacja",
          "piesze/rowerowe",
          "piesze/rowerowe",
          "komunikacja zbiorowa",
          "zieleń/rekreacja",
          "zieleń/rekreacja",
          "zabytkowe",
          "zieleń/rekreacja",
          "piesze/rowerowe",
          "piesze/rowerowe",
          "zabytkowe",
          "zieleń/rekreacja",
          "sport",
          "inne",
          "zieleń/rekreacja",
          "place zabaw",
          "piesze/rowerowe",
          "podwórka",
          "piesze/rowerowe",
          "piesze/rowerowe",
          "drogowe",
          "piesze/rowerowe",
          "piesze/rowerowe",
          "zieleń/rekreacja",
          "piesze/rowerowe",
          "zieleń/rekreacja",
          "zieleń/rekreacja",
          "zieleń/rekreacja",
          "zieleń/rekreacja",
          "zieleń/rekreacja",
          "zieleń/rekreacja",
          "zieleń/rekreacja",
          "zieleń/rekreacja",
          "podwórka",
          "drogowe",
          "piesze/rowerowe",
          "zieleń/rekreacja",
          "sport",
          "piesze/rowerowe",
          "zieleń/rekreacja",
          "inne",
          "zieleń/rekreacja",
          "zieleń/rekreacja",
          "zieleń/rekreacja",
          "komunikacja zbiorowa",
          "piesze/rowerowe",
          "drogowe",
          "zieleń/rekreacja",
          "inne",
          "sport",
          "sport",
          "zieleń/rekreacja",
          "sport",
          "zieleń/rekreacja",
          "drogowe",
          "piesze/rowerowe",
          "zieleń/rekreacja",
          "zieleń/rekreacja",
          "zieleń/rekreacja",
          "zieleń/rekreacja",
          "sport",
          "zieleń/rekreacja",
          "zieleń/rekreacja",
          "drogowe",
          "inne",
          "inne",
          "zieleń/rekreacja",
          "podwórka",
          "piesze/rowerowe",
          "drogowe",
          "zieleń/rekreacja",
          "komunikacja zbiorowa",
          "zieleń/rekreacja",
          "zieleń/rekreacja",
          "drogowe",
          "place zabaw",
          "place zabaw",
          "inne",
          "zieleń/rekreacja",
          "zieleń/rekreacja",
          "zieleń/rekreacja",
          "zieleń/rekreacja",
          "place zabaw",
          "rewitalizacja",
          "zieleń/rekreacja",
          "piesze/rowerowe",
          "piesze/rowerowe",
          "piesze/rowerowe",
          "zieleń/rekreacja",
          "zieleń/rekreacja",
          "sport",
          "rewitalizacja",
          "sport",
          "inne",
          "piesze/rowerowe",
          "inne",
          "zieleń/rekreacja",
          "inne",
          "zieleń/rekreacja",
          "rewitalizacja",
          "piesze/rowerowe",
          "piesze/rowerowe",
          "zieleń/rekreacja",
          "rewitalizacja",
          "rewitalizacja",
          "place zabaw",
          "zieleń/rekreacja",
          "zieleń/rekreacja",
          "inne",
          "zieleń/rekreacja",
          "zieleń/rekreacja",
          "piesze/rowerowe",
          "piesze/rowerowe",
          "zieleń/rekreacja",
          "place zabaw",
          "place zabaw",
          "zieleń/rekreacja",
          "sport",
          "sport",
          "rewitalizacja",
          "piesze/rowerowe",
          "zieleń/rekreacja",
          "inne",
          "piesze/rowerowe",
          "piesze/rowerowe",
          "zieleń/rekreacja",
          "piesze/rowerowe",
          "zieleń/rekreacja",
          "komunikacja zbiorowa",
          "piesze/rowerowe",
          "piesze/rowerowe",
          "piesze/rowerowe",
          "piesze/rowerowe",
          "inne",
          "sport",
          "zieleń/rekreacja",
          "podwórka",
          "piesze/rowerowe",
          "zieleń/rekreacja",
          "zieleń/rekreacja",
          "sport",
          "zieleń/rekreacja",
          "place zabaw"
         ],
         "x0": " ",
         "xaxis": "x",
         "y": [
          240000,
          250000,
          250000,
          750000,
          750000,
          250000,
          500000,
          245000,
          250000,
          240000,
          250000,
          250000,
          250000,
          750000,
          120000,
          1000000,
          1000000,
          750000,
          1000000,
          1000000,
          249999,
          150000,
          150000,
          230000,
          250000,
          814260,
          500000,
          150000,
          250000,
          750000,
          1000000,
          750000,
          750000,
          250000,
          250000,
          300000,
          750000,
          750000,
          230000,
          830000,
          250000,
          750000,
          500000,
          250000,
          250000,
          250000,
          600000,
          250000,
          750000,
          750000,
          550000,
          73350,
          50000,
          400000,
          250000,
          500000,
          750000,
          750000,
          100000,
          500000,
          750000,
          750000,
          250000,
          250000,
          40000,
          250000,
          750000,
          1000000,
          745000,
          249000,
          50000,
          1000000,
          250000,
          750000,
          400000,
          400000,
          250000,
          750000,
          250000,
          750000,
          250000,
          250000,
          250000,
          750000,
          750000,
          250000,
          350000,
          750000,
          750000,
          250000,
          224000,
          250000,
          100000,
          250000,
          750000,
          750000,
          64000,
          700000,
          250000,
          250000,
          250000,
          250000,
          100000,
          750000,
          250000,
          250000,
          150000,
          1000000,
          250000,
          250000,
          240000,
          250000,
          250000,
          100000,
          248000,
          250000,
          750000,
          100000,
          750000,
          750000,
          180000,
          900000,
          250000,
          250000,
          250000,
          247590,
          250000,
          750000,
          30000,
          30000,
          750000,
          2000,
          250000,
          65400,
          250000,
          250000,
          250000,
          50000,
          250000,
          750000,
          250000,
          700000,
          2000000,
          300000,
          1000000,
          300000,
          2000000,
          750000,
          350000,
          750000,
          1500000,
          750000,
          1000000,
          500000,
          750000,
          1500000,
          750000,
          500000,
          750000,
          300000,
          750000,
          750000,
          750000,
          500000,
          750000,
          300000,
          2000000,
          1000000,
          750000,
          750000,
          2000000,
          200000,
          200000,
          1000000,
          750000,
          250000,
          2000000,
          2000000,
          2000000,
          750000,
          750000,
          750000,
          2000000,
          750000,
          430000,
          2000000,
          750000,
          750000,
          750000,
          199997,
          150000,
          500000,
          475000,
          248000,
          455000,
          100000,
          450000,
          750000,
          2000000,
          200000,
          719000,
          654000,
          600000,
          92499,
          300000,
          750000,
          750000,
          750000,
          750000,
          2000000,
          2000000,
          2000000,
          2000000,
          1000000,
          750000,
          750000,
          750000,
          750000,
          2000000,
          750000,
          2000000,
          2000000,
          750000,
          750000,
          1500000,
          1500000,
          20000,
          1000000,
          750000,
          750000,
          1200000,
          750000,
          750000,
          1000000,
          750000,
          749900,
          1000000,
          1000000,
          1500000,
          750000,
          750000,
          750000,
          750000,
          750000,
          1000000,
          750000,
          750000,
          300000,
          750000,
          750000
         ],
         "y0": " ",
         "yaxis": "y"
        },
        {
         "alignmentgroup": "True",
         "hovertemplate": "status=Realizowany poza WBO, nie bierze udziału w głosowaniu<br>category=%{x}<br>budget=%{y}<extra></extra>",
         "legendgroup": "Realizowany poza WBO, nie bierze udziału w głosowaniu",
         "marker": {
          "color": "#19d3f3"
         },
         "name": "Realizowany poza WBO, nie bierze udziału w głosowaniu",
         "notched": false,
         "offsetgroup": "Realizowany poza WBO, nie bierze udziału w głosowaniu",
         "orientation": "v",
         "showlegend": true,
         "type": "box",
         "x": [
          "drogowe",
          "piesze/rowerowe",
          "komunikacja zbiorowa",
          "piesze/rowerowe",
          "komunikacja zbiorowa",
          "piesze/rowerowe",
          "komunikacja zbiorowa",
          "sport",
          "piesze/rowerowe",
          "drogowe",
          "drogowe",
          "komunikacja zbiorowa",
          "zieleń/rekreacja",
          "drogowe",
          "piesze/rowerowe",
          "piesze/rowerowe",
          "drogowe",
          "drogowe",
          "komunikacja zbiorowa",
          "drogowe",
          "piesze/rowerowe",
          "piesze/rowerowe",
          "piesze/rowerowe",
          "drogowe",
          "komunikacja zbiorowa",
          "rewitalizacja",
          "piesze/rowerowe",
          "komunikacja zbiorowa",
          "piesze/rowerowe",
          "zieleń/rekreacja",
          "sport",
          "drogowe",
          "place zabaw",
          "piesze/rowerowe",
          "drogowe",
          "piesze/rowerowe",
          "drogowe",
          "piesze/rowerowe",
          "drogowe",
          "drogowe",
          "drogowe",
          "drogowe",
          "sport",
          "drogowe",
          "zieleń/rekreacja",
          "piesze/rowerowe",
          "piesze/rowerowe",
          "piesze/rowerowe",
          "zieleń/rekreacja",
          "zieleń/rekreacja",
          "zabytkowe",
          "zieleń/rekreacja",
          "komunikacja zbiorowa",
          "zieleń/rekreacja",
          "piesze/rowerowe",
          "zabytkowe",
          "komunikacja zbiorowa",
          "drogowe",
          "nieinwestycyjne",
          "inne",
          "inne",
          "piesze/rowerowe",
          "piesze/rowerowe",
          "piesze/rowerowe",
          "zieleń/rekreacja",
          "drogowe",
          "piesze/rowerowe",
          "piesze/rowerowe",
          "piesze/rowerowe",
          "komunikacja zbiorowa",
          "drogowe",
          "komunikacja zbiorowa",
          "komunikacja zbiorowa",
          "drogowe",
          "inne",
          "piesze/rowerowe",
          "inne",
          "drogowe",
          "piesze/rowerowe",
          "drogowe",
          "piesze/rowerowe"
         ],
         "x0": " ",
         "xaxis": "x",
         "y": [
          150000,
          250000,
          100000,
          250000,
          100000,
          50000,
          50000,
          200000,
          350000,
          750000,
          50000,
          100,
          250000,
          250000,
          748000,
          100000,
          1000000,
          20000,
          750000,
          350000,
          100000,
          50000,
          50000,
          250000,
          225000,
          135000,
          40000,
          80000,
          100000,
          80000,
          700000,
          250000,
          250000,
          5000,
          70000,
          4000,
          70000,
          10000,
          250000,
          250000,
          250000,
          100000,
          750000,
          750000,
          750000,
          250000,
          200000,
          750000,
          100000,
          745000,
          20000,
          650000,
          20000,
          100000,
          150000,
          100000,
          1000000,
          1000000,
          5000,
          2000000,
          750000,
          50000,
          50000,
          250000,
          250000,
          100000,
          100000,
          75000,
          75025,
          750000,
          750000,
          2000000,
          500000,
          745050,
          10000,
          117000,
          2000000,
          350000,
          2000000,
          500000,
          750000
         ],
         "y0": " ",
         "yaxis": "y"
        }
       ],
       "layout": {
        "boxmode": "group",
        "legend": {
         "title": {
          "text": "status"
         },
         "tracegroupgap": 0
        },
        "margin": {
         "t": 60
        },
        "template": {
         "data": {
          "bar": [
           {
            "error_x": {
             "color": "#2a3f5f"
            },
            "error_y": {
             "color": "#2a3f5f"
            },
            "marker": {
             "line": {
              "color": "#E5ECF6",
              "width": 0.5
             },
             "pattern": {
              "fillmode": "overlay",
              "size": 10,
              "solidity": 0.2
             }
            },
            "type": "bar"
           }
          ],
          "barpolar": [
           {
            "marker": {
             "line": {
              "color": "#E5ECF6",
              "width": 0.5
             },
             "pattern": {
              "fillmode": "overlay",
              "size": 10,
              "solidity": 0.2
             }
            },
            "type": "barpolar"
           }
          ],
          "carpet": [
           {
            "aaxis": {
             "endlinecolor": "#2a3f5f",
             "gridcolor": "white",
             "linecolor": "white",
             "minorgridcolor": "white",
             "startlinecolor": "#2a3f5f"
            },
            "baxis": {
             "endlinecolor": "#2a3f5f",
             "gridcolor": "white",
             "linecolor": "white",
             "minorgridcolor": "white",
             "startlinecolor": "#2a3f5f"
            },
            "type": "carpet"
           }
          ],
          "choropleth": [
           {
            "colorbar": {
             "outlinewidth": 0,
             "ticks": ""
            },
            "type": "choropleth"
           }
          ],
          "contour": [
           {
            "colorbar": {
             "outlinewidth": 0,
             "ticks": ""
            },
            "colorscale": [
             [
              0,
              "#0d0887"
             ],
             [
              0.1111111111111111,
              "#46039f"
             ],
             [
              0.2222222222222222,
              "#7201a8"
             ],
             [
              0.3333333333333333,
              "#9c179e"
             ],
             [
              0.4444444444444444,
              "#bd3786"
             ],
             [
              0.5555555555555556,
              "#d8576b"
             ],
             [
              0.6666666666666666,
              "#ed7953"
             ],
             [
              0.7777777777777778,
              "#fb9f3a"
             ],
             [
              0.8888888888888888,
              "#fdca26"
             ],
             [
              1,
              "#f0f921"
             ]
            ],
            "type": "contour"
           }
          ],
          "contourcarpet": [
           {
            "colorbar": {
             "outlinewidth": 0,
             "ticks": ""
            },
            "type": "contourcarpet"
           }
          ],
          "heatmap": [
           {
            "colorbar": {
             "outlinewidth": 0,
             "ticks": ""
            },
            "colorscale": [
             [
              0,
              "#0d0887"
             ],
             [
              0.1111111111111111,
              "#46039f"
             ],
             [
              0.2222222222222222,
              "#7201a8"
             ],
             [
              0.3333333333333333,
              "#9c179e"
             ],
             [
              0.4444444444444444,
              "#bd3786"
             ],
             [
              0.5555555555555556,
              "#d8576b"
             ],
             [
              0.6666666666666666,
              "#ed7953"
             ],
             [
              0.7777777777777778,
              "#fb9f3a"
             ],
             [
              0.8888888888888888,
              "#fdca26"
             ],
             [
              1,
              "#f0f921"
             ]
            ],
            "type": "heatmap"
           }
          ],
          "heatmapgl": [
           {
            "colorbar": {
             "outlinewidth": 0,
             "ticks": ""
            },
            "colorscale": [
             [
              0,
              "#0d0887"
             ],
             [
              0.1111111111111111,
              "#46039f"
             ],
             [
              0.2222222222222222,
              "#7201a8"
             ],
             [
              0.3333333333333333,
              "#9c179e"
             ],
             [
              0.4444444444444444,
              "#bd3786"
             ],
             [
              0.5555555555555556,
              "#d8576b"
             ],
             [
              0.6666666666666666,
              "#ed7953"
             ],
             [
              0.7777777777777778,
              "#fb9f3a"
             ],
             [
              0.8888888888888888,
              "#fdca26"
             ],
             [
              1,
              "#f0f921"
             ]
            ],
            "type": "heatmapgl"
           }
          ],
          "histogram": [
           {
            "marker": {
             "pattern": {
              "fillmode": "overlay",
              "size": 10,
              "solidity": 0.2
             }
            },
            "type": "histogram"
           }
          ],
          "histogram2d": [
           {
            "colorbar": {
             "outlinewidth": 0,
             "ticks": ""
            },
            "colorscale": [
             [
              0,
              "#0d0887"
             ],
             [
              0.1111111111111111,
              "#46039f"
             ],
             [
              0.2222222222222222,
              "#7201a8"
             ],
             [
              0.3333333333333333,
              "#9c179e"
             ],
             [
              0.4444444444444444,
              "#bd3786"
             ],
             [
              0.5555555555555556,
              "#d8576b"
             ],
             [
              0.6666666666666666,
              "#ed7953"
             ],
             [
              0.7777777777777778,
              "#fb9f3a"
             ],
             [
              0.8888888888888888,
              "#fdca26"
             ],
             [
              1,
              "#f0f921"
             ]
            ],
            "type": "histogram2d"
           }
          ],
          "histogram2dcontour": [
           {
            "colorbar": {
             "outlinewidth": 0,
             "ticks": ""
            },
            "colorscale": [
             [
              0,
              "#0d0887"
             ],
             [
              0.1111111111111111,
              "#46039f"
             ],
             [
              0.2222222222222222,
              "#7201a8"
             ],
             [
              0.3333333333333333,
              "#9c179e"
             ],
             [
              0.4444444444444444,
              "#bd3786"
             ],
             [
              0.5555555555555556,
              "#d8576b"
             ],
             [
              0.6666666666666666,
              "#ed7953"
             ],
             [
              0.7777777777777778,
              "#fb9f3a"
             ],
             [
              0.8888888888888888,
              "#fdca26"
             ],
             [
              1,
              "#f0f921"
             ]
            ],
            "type": "histogram2dcontour"
           }
          ],
          "mesh3d": [
           {
            "colorbar": {
             "outlinewidth": 0,
             "ticks": ""
            },
            "type": "mesh3d"
           }
          ],
          "parcoords": [
           {
            "line": {
             "colorbar": {
              "outlinewidth": 0,
              "ticks": ""
             }
            },
            "type": "parcoords"
           }
          ],
          "pie": [
           {
            "automargin": true,
            "type": "pie"
           }
          ],
          "scatter": [
           {
            "marker": {
             "colorbar": {
              "outlinewidth": 0,
              "ticks": ""
             }
            },
            "type": "scatter"
           }
          ],
          "scatter3d": [
           {
            "line": {
             "colorbar": {
              "outlinewidth": 0,
              "ticks": ""
             }
            },
            "marker": {
             "colorbar": {
              "outlinewidth": 0,
              "ticks": ""
             }
            },
            "type": "scatter3d"
           }
          ],
          "scattercarpet": [
           {
            "marker": {
             "colorbar": {
              "outlinewidth": 0,
              "ticks": ""
             }
            },
            "type": "scattercarpet"
           }
          ],
          "scattergeo": [
           {
            "marker": {
             "colorbar": {
              "outlinewidth": 0,
              "ticks": ""
             }
            },
            "type": "scattergeo"
           }
          ],
          "scattergl": [
           {
            "marker": {
             "colorbar": {
              "outlinewidth": 0,
              "ticks": ""
             }
            },
            "type": "scattergl"
           }
          ],
          "scattermapbox": [
           {
            "marker": {
             "colorbar": {
              "outlinewidth": 0,
              "ticks": ""
             }
            },
            "type": "scattermapbox"
           }
          ],
          "scatterpolar": [
           {
            "marker": {
             "colorbar": {
              "outlinewidth": 0,
              "ticks": ""
             }
            },
            "type": "scatterpolar"
           }
          ],
          "scatterpolargl": [
           {
            "marker": {
             "colorbar": {
              "outlinewidth": 0,
              "ticks": ""
             }
            },
            "type": "scatterpolargl"
           }
          ],
          "scatterternary": [
           {
            "marker": {
             "colorbar": {
              "outlinewidth": 0,
              "ticks": ""
             }
            },
            "type": "scatterternary"
           }
          ],
          "surface": [
           {
            "colorbar": {
             "outlinewidth": 0,
             "ticks": ""
            },
            "colorscale": [
             [
              0,
              "#0d0887"
             ],
             [
              0.1111111111111111,
              "#46039f"
             ],
             [
              0.2222222222222222,
              "#7201a8"
             ],
             [
              0.3333333333333333,
              "#9c179e"
             ],
             [
              0.4444444444444444,
              "#bd3786"
             ],
             [
              0.5555555555555556,
              "#d8576b"
             ],
             [
              0.6666666666666666,
              "#ed7953"
             ],
             [
              0.7777777777777778,
              "#fb9f3a"
             ],
             [
              0.8888888888888888,
              "#fdca26"
             ],
             [
              1,
              "#f0f921"
             ]
            ],
            "type": "surface"
           }
          ],
          "table": [
           {
            "cells": {
             "fill": {
              "color": "#EBF0F8"
             },
             "line": {
              "color": "white"
             }
            },
            "header": {
             "fill": {
              "color": "#C8D4E3"
             },
             "line": {
              "color": "white"
             }
            },
            "type": "table"
           }
          ]
         },
         "layout": {
          "annotationdefaults": {
           "arrowcolor": "#2a3f5f",
           "arrowhead": 0,
           "arrowwidth": 1
          },
          "autotypenumbers": "strict",
          "coloraxis": {
           "colorbar": {
            "outlinewidth": 0,
            "ticks": ""
           }
          },
          "colorscale": {
           "diverging": [
            [
             0,
             "#8e0152"
            ],
            [
             0.1,
             "#c51b7d"
            ],
            [
             0.2,
             "#de77ae"
            ],
            [
             0.3,
             "#f1b6da"
            ],
            [
             0.4,
             "#fde0ef"
            ],
            [
             0.5,
             "#f7f7f7"
            ],
            [
             0.6,
             "#e6f5d0"
            ],
            [
             0.7,
             "#b8e186"
            ],
            [
             0.8,
             "#7fbc41"
            ],
            [
             0.9,
             "#4d9221"
            ],
            [
             1,
             "#276419"
            ]
           ],
           "sequential": [
            [
             0,
             "#0d0887"
            ],
            [
             0.1111111111111111,
             "#46039f"
            ],
            [
             0.2222222222222222,
             "#7201a8"
            ],
            [
             0.3333333333333333,
             "#9c179e"
            ],
            [
             0.4444444444444444,
             "#bd3786"
            ],
            [
             0.5555555555555556,
             "#d8576b"
            ],
            [
             0.6666666666666666,
             "#ed7953"
            ],
            [
             0.7777777777777778,
             "#fb9f3a"
            ],
            [
             0.8888888888888888,
             "#fdca26"
            ],
            [
             1,
             "#f0f921"
            ]
           ],
           "sequentialminus": [
            [
             0,
             "#0d0887"
            ],
            [
             0.1111111111111111,
             "#46039f"
            ],
            [
             0.2222222222222222,
             "#7201a8"
            ],
            [
             0.3333333333333333,
             "#9c179e"
            ],
            [
             0.4444444444444444,
             "#bd3786"
            ],
            [
             0.5555555555555556,
             "#d8576b"
            ],
            [
             0.6666666666666666,
             "#ed7953"
            ],
            [
             0.7777777777777778,
             "#fb9f3a"
            ],
            [
             0.8888888888888888,
             "#fdca26"
            ],
            [
             1,
             "#f0f921"
            ]
           ]
          },
          "colorway": [
           "#636efa",
           "#EF553B",
           "#00cc96",
           "#ab63fa",
           "#FFA15A",
           "#19d3f3",
           "#FF6692",
           "#B6E880",
           "#FF97FF",
           "#FECB52"
          ],
          "font": {
           "color": "#2a3f5f"
          },
          "geo": {
           "bgcolor": "white",
           "lakecolor": "white",
           "landcolor": "#E5ECF6",
           "showlakes": true,
           "showland": true,
           "subunitcolor": "white"
          },
          "hoverlabel": {
           "align": "left"
          },
          "hovermode": "closest",
          "mapbox": {
           "style": "light"
          },
          "paper_bgcolor": "white",
          "plot_bgcolor": "#E5ECF6",
          "polar": {
           "angularaxis": {
            "gridcolor": "white",
            "linecolor": "white",
            "ticks": ""
           },
           "bgcolor": "#E5ECF6",
           "radialaxis": {
            "gridcolor": "white",
            "linecolor": "white",
            "ticks": ""
           }
          },
          "scene": {
           "xaxis": {
            "backgroundcolor": "#E5ECF6",
            "gridcolor": "white",
            "gridwidth": 2,
            "linecolor": "white",
            "showbackground": true,
            "ticks": "",
            "zerolinecolor": "white"
           },
           "yaxis": {
            "backgroundcolor": "#E5ECF6",
            "gridcolor": "white",
            "gridwidth": 2,
            "linecolor": "white",
            "showbackground": true,
            "ticks": "",
            "zerolinecolor": "white"
           },
           "zaxis": {
            "backgroundcolor": "#E5ECF6",
            "gridcolor": "white",
            "gridwidth": 2,
            "linecolor": "white",
            "showbackground": true,
            "ticks": "",
            "zerolinecolor": "white"
           }
          },
          "shapedefaults": {
           "line": {
            "color": "#2a3f5f"
           }
          },
          "ternary": {
           "aaxis": {
            "gridcolor": "white",
            "linecolor": "white",
            "ticks": ""
           },
           "baxis": {
            "gridcolor": "white",
            "linecolor": "white",
            "ticks": ""
           },
           "bgcolor": "#E5ECF6",
           "caxis": {
            "gridcolor": "white",
            "linecolor": "white",
            "ticks": ""
           }
          },
          "title": {
           "x": 0.05
          },
          "xaxis": {
           "automargin": true,
           "gridcolor": "white",
           "linecolor": "white",
           "ticks": "",
           "title": {
            "standoff": 15
           },
           "zerolinecolor": "white",
           "zerolinewidth": 2
          },
          "yaxis": {
           "automargin": true,
           "gridcolor": "white",
           "linecolor": "white",
           "ticks": "",
           "title": {
            "standoff": 15
           },
           "zerolinecolor": "white",
           "zerolinewidth": 2
          }
         }
        },
        "xaxis": {
         "anchor": "y",
         "domain": [
          0,
          1
         ],
         "title": {
          "text": "category"
         }
        },
        "yaxis": {
         "anchor": "x",
         "domain": [
          0,
          1
         ],
         "title": {
          "text": "budget"
         }
        }
       }
      },
      "text/html": [
       "<div>                            <div id=\"415ef884-cde8-4a75-a6f0-053d7df6e6d0\" class=\"plotly-graph-div\" style=\"height:525px; width:100%;\"></div>            <script type=\"text/javascript\">                require([\"plotly\"], function(Plotly) {                    window.PLOTLYENV=window.PLOTLYENV || {};                                    if (document.getElementById(\"415ef884-cde8-4a75-a6f0-053d7df6e6d0\")) {                    Plotly.newPlot(                        \"415ef884-cde8-4a75-a6f0-053d7df6e6d0\",                        [{\"alignmentgroup\":\"True\",\"hovertemplate\":\"status=Niewybrany w g\\u0142osowaniu<br>category=%{x}<br>budget=%{y}<extra></extra>\",\"legendgroup\":\"Niewybrany w g\\u0142osowaniu\",\"marker\":{\"color\":\"#636efa\"},\"name\":\"Niewybrany w g\\u0142osowaniu\",\"notched\":false,\"offsetgroup\":\"Niewybrany w g\\u0142osowaniu\",\"orientation\":\"v\",\"showlegend\":true,\"x\":[\"place zabaw\",\"rewitalizacja\",\"ziele\\u0144/rekreacja\",\"ziele\\u0144/rekreacja\",\"sport\",\"drogowe\",\"ziele\\u0144/rekreacja\",\"ziele\\u0144/rekreacja\",\"inne\",\"ziele\\u0144/rekreacja\",\"piesze/rowerowe\",\"piesze/rowerowe\",\"komunikacja zbiorowa\",\"inne\",\"inne\",\"rewitalizacja\",\"piesze/rowerowe\",\"piesze/rowerowe\",\"drogowe\",\"rewitalizacja\",\"piesze/rowerowe\",\"komunikacja zbiorowa\",\"place zabaw\",\"rewitalizacja\",\"ziele\\u0144/rekreacja\",\"piesze/rowerowe\",\"piesze/rowerowe\",\"komunikacja zbiorowa\",\"ziele\\u0144/rekreacja\",\"ziele\\u0144/rekreacja\",\"rewitalizacja\",\"piesze/rowerowe\",\"place zabaw\",\"drogowe\",\"drogowe\",\"ziele\\u0144/rekreacja\",\"ziele\\u0144/rekreacja\",\"place zabaw\",\"rewitalizacja\",\"drogowe\",\"drogowe\",\"komunikacja zbiorowa\",\"piesze/rowerowe\",\"drogowe\",\"komunikacja zbiorowa\",\"piesze/rowerowe\",\"ziele\\u0144/rekreacja\",\"ziele\\u0144/rekreacja\",\"drogowe\",\"drogowe\",\"piesze/rowerowe\",\"drogowe\",\"inne\",\"drogowe\",\"drogowe\",\"drogowe\",\"ziele\\u0144/rekreacja\",\"ziele\\u0144/rekreacja\",\"piesze/rowerowe\",\"ziele\\u0144/rekreacja\",\"drogowe\",\"piesze/rowerowe\",\"piesze/rowerowe\",\"drogowe\",\"sport\",\"rewitalizacja\",\"piesze/rowerowe\",\"piesze/rowerowe\",\"ziele\\u0144/rekreacja\",\"ziele\\u0144/rekreacja\",\"piesze/rowerowe\",\"inne\",\"drogowe\",\"piesze/rowerowe\",\"piesze/rowerowe\",\"ziele\\u0144/rekreacja\",\"ziele\\u0144/rekreacja\",\"drogowe\",\"rewitalizacja\",\"inne\",\"piesze/rowerowe\",\"piesze/rowerowe\",\"drogowe\",\"edukacja\",\"drogowe\",\"piesze/rowerowe\",\"ziele\\u0144/rekreacja\",\"piesze/rowerowe\",\"komunikacja zbiorowa\",\"komunikacja zbiorowa\",\"drogowe\",\"drogowe\",\"piesze/rowerowe\",\"edukacja\",\"ziele\\u0144/rekreacja\",\"edukacja\",\"place zabaw\",\"sport\",\"drogowe\",\"place zabaw\",\"edukacja\",\"drogowe\",\"komunikacja zbiorowa\",\"ziele\\u0144/rekreacja\",\"piesze/rowerowe\",\"inne\",\"drogowe\",\"piesze/rowerowe\",\"drogowe\",\"drogowe\",\"place zabaw\",\"drogowe\",\"komunikacja zbiorowa\",\"drogowe\",\"drogowe\",\"rewitalizacja\",\"piesze/rowerowe\",\"piesze/rowerowe\",\"drogowe\",\"rewitalizacja\",\"drogowe\",\"piesze/rowerowe\",\"sport\",\"ziele\\u0144/rekreacja\",\"drogowe\",\"drogowe\",\"edukacja\",\"rewitalizacja\",\"rewitalizacja\",\"piesze/rowerowe\",\"komunikacja zbiorowa\",\"rewitalizacja\",\"drogowe\",\"rewitalizacja\",\"ziele\\u0144/rekreacja\",\"piesze/rowerowe\",\"komunikacja zbiorowa\",\"drogowe\",\"drogowe\",\"rewitalizacja\",\"piesze/rowerowe\",\"rewitalizacja\",\"komunikacja zbiorowa\",\"ziele\\u0144/rekreacja\",\"rewitalizacja\",\"edukacja\",\"piesze/rowerowe\",\"ziele\\u0144/rekreacja\",\"sport\",\"piesze/rowerowe\",\"drogowe\",\"rewitalizacja\",\"drogowe\",\"edukacja\",\"drogowe\",\"piesze/rowerowe\",\"place zabaw\",\"rewitalizacja\",\"ziele\\u0144/rekreacja\",\"inne\",\"komunikacja zbiorowa\",\"drogowe\",\"edukacja\",\"ziele\\u0144/rekreacja\",\"drogowe\",\"inne\",\"ziele\\u0144/rekreacja\",\"piesze/rowerowe\",\"ziele\\u0144/rekreacja\",\"piesze/rowerowe\",\"ziele\\u0144/rekreacja\",\"piesze/rowerowe\",\"rewitalizacja\",\"rewitalizacja\",\"piesze/rowerowe\",\"piesze/rowerowe\",\"ziele\\u0144/rekreacja\",\"ziele\\u0144/rekreacja\",\"drogowe\",\"edukacja\",\"rewitalizacja\",\"ziele\\u0144/rekreacja\",\"ziele\\u0144/rekreacja\",\"ziele\\u0144/rekreacja\",\"rewitalizacja\",\"piesze/rowerowe\",\"ziele\\u0144/rekreacja\",\"place zabaw\",\"edukacja\",\"place zabaw\",\"place zabaw\",\"drogowe\",\"rewitalizacja\",\"rewitalizacja\",\"piesze/rowerowe\",\"rewitalizacja\",\"edukacja\",\"komunikacja zbiorowa\",\"piesze/rowerowe\",\"piesze/rowerowe\",\"ziele\\u0144/rekreacja\",\"drogowe\",\"drogowe\",\"komunikacja zbiorowa\",\"piesze/rowerowe\",\"ziele\\u0144/rekreacja\",\"rewitalizacja\",\"ziele\\u0144/rekreacja\",\"rewitalizacja\",\"ziele\\u0144/rekreacja\",\"edukacja\",\"ziele\\u0144/rekreacja\",\"place zabaw\",\"ziele\\u0144/rekreacja\",\"ziele\\u0144/rekreacja\",\"drogowe\",\"sport\",\"piesze/rowerowe\",\"drogowe\",\"piesze/rowerowe\",\"piesze/rowerowe\",\"piesze/rowerowe\",\"drogowe\",\"piesze/rowerowe\",\"piesze/rowerowe\",\"drogowe\",\"piesze/rowerowe\",\"piesze/rowerowe\",\"piesze/rowerowe\",\"piesze/rowerowe\",\"piesze/rowerowe\",\"place zabaw\",\"piesze/rowerowe\",\"drogowe\",\"rewitalizacja\",\"edukacja\",\"ziele\\u0144/rekreacja\",\"drogowe\",\"rewitalizacja\",\"edukacja\",\"komunikacja zbiorowa\",\"piesze/rowerowe\",\"ziele\\u0144/rekreacja\",\"ziele\\u0144/rekreacja\",\"piesze/rowerowe\",\"edukacja\",\"sport\",\"place zabaw\",\"drogowe\",\"piesze/rowerowe\",\"piesze/rowerowe\",\"ziele\\u0144/rekreacja\",\"ziele\\u0144/rekreacja\",\"ziele\\u0144/rekreacja\",\"drogowe\",\"rewitalizacja\",\"rewitalizacja\",\"drogowe\",\"piesze/rowerowe\",\"edukacja\",\"rewitalizacja\",\"piesze/rowerowe\",\"edukacja\",\"komunikacja zbiorowa\",\"drogowe\",\"rewitalizacja\",\"rewitalizacja\",\"ziele\\u0144/rekreacja\",\"drogowe\",\"piesze/rowerowe\",\"komunikacja zbiorowa\",\"drogowe\",\"drogowe\",\"ziele\\u0144/rekreacja\",\"drogowe\",\"drogowe\",\"drogowe\",\"piesze/rowerowe\",\"rewitalizacja\",\"ziele\\u0144/rekreacja\",\"piesze/rowerowe\",\"piesze/rowerowe\",\"ziele\\u0144/rekreacja\",\"ziele\\u0144/rekreacja\",\"rewitalizacja\",\"drogowe\",\"piesze/rowerowe\",\"rewitalizacja\",\"edukacja\",\"edukacja\",\"edukacja\",\"rewitalizacja\",\"rewitalizacja\",\"sport\",\"piesze/rowerowe\",\"ziele\\u0144/rekreacja\",\"ziele\\u0144/rekreacja\",\"piesze/rowerowe\",\"piesze/rowerowe\",\"drogowe\",\"ziele\\u0144/rekreacja\",\"piesze/rowerowe\",\"piesze/rowerowe\",\"piesze/rowerowe\",\"piesze/rowerowe\",\"ziele\\u0144/rekreacja\",\"piesze/rowerowe\",\"rewitalizacja\",\"drogowe\",\"piesze/rowerowe\",\"ziele\\u0144/rekreacja\",\"piesze/rowerowe\",\"ziele\\u0144/rekreacja\",\"piesze/rowerowe\",\"rewitalizacja\",\"piesze/rowerowe\",\"sport\",\"ziele\\u0144/rekreacja\",\"ziele\\u0144/rekreacja\",\"piesze/rowerowe\",\"rewitalizacja\",\"rewitalizacja\",\"piesze/rowerowe\",\"place zabaw\",\"ziele\\u0144/rekreacja\",\"edukacja\",\"piesze/rowerowe\",\"rewitalizacja\",\"komunikacja zbiorowa\",\"ziele\\u0144/rekreacja\",\"ziele\\u0144/rekreacja\",\"ziele\\u0144/rekreacja\",\"rewitalizacja\",\"piesze/rowerowe\",\"piesze/rowerowe\",\"drogowe\",\"piesze/rowerowe\",\"drogowe\",\"piesze/rowerowe\",\"rewitalizacja\",\"piesze/rowerowe\",\"drogowe\",\"rewitalizacja\",\"rewitalizacja\",\"komunikacja zbiorowa\",\"piesze/rowerowe\",\"drogowe\",\"ziele\\u0144/rekreacja\",\"ziele\\u0144/rekreacja\",\"ziele\\u0144/rekreacja\",\"piesze/rowerowe\",\"drogowe\",\"piesze/rowerowe\",\"inne\",\"inne\",\"sport\",\"drogowe\",\"piesze/rowerowe\",\"drogowe\",\"inne\",\"ziele\\u0144/rekreacja\",\"ziele\\u0144/rekreacja\",\"piesze/rowerowe\",\"place zabaw\",\"piesze/rowerowe\",\"piesze/rowerowe\",\"rewitalizacja\",\"ziele\\u0144/rekreacja\",\"edukacja\",\"edukacja\",\"drogowe\",\"piesze/rowerowe\",\"drogowe\",\"edukacja\",\"rewitalizacja\",\"rewitalizacja\",\"piesze/rowerowe\",\"piesze/rowerowe\",\"ziele\\u0144/rekreacja\",\"rewitalizacja\",\"inne\",\"ziele\\u0144/rekreacja\",\"ziele\\u0144/rekreacja\",\"piesze/rowerowe\",\"piesze/rowerowe\",\"komunikacja zbiorowa\",\"komunikacja zbiorowa\",\"ziele\\u0144/rekreacja\",\"komunikacja zbiorowa\",\"ziele\\u0144/rekreacja\",\"piesze/rowerowe\",\"inne\",\"podw\\u00f3rka\",\"rewitalizacja\",\"sport\",\"komunikacja zbiorowa\",\"sport\",\"piesze/rowerowe\",\"piesze/rowerowe\",\"piesze/rowerowe\",\"piesze/rowerowe\",\"piesze/rowerowe\",\"piesze/rowerowe\",\"piesze/rowerowe\",\"drogowe\",\"ziele\\u0144/rekreacja\",\"piesze/rowerowe\",\"ziele\\u0144/rekreacja\",\"ziele\\u0144/rekreacja\",\"drogowe\",\"drogowe\",\"piesze/rowerowe\",\"piesze/rowerowe\",\"komunikacja zbiorowa\",\"piesze/rowerowe\",\"piesze/rowerowe\",\"piesze/rowerowe\",\"piesze/rowerowe\",\"komunikacja zbiorowa\",\"drogowe\",\"komunikacja zbiorowa\",\"komunikacja zbiorowa\",\"piesze/rowerowe\",\"drogowe\",\"ziele\\u0144/rekreacja\",\"ziele\\u0144/rekreacja\",\"ziele\\u0144/rekreacja\",\"place zabaw\",\"ziele\\u0144/rekreacja\",\"rewitalizacja\",\"ziele\\u0144/rekreacja\",\"podw\\u00f3rka\",\"piesze/rowerowe\",\"place zabaw\",\"piesze/rowerowe\",\"komunikacja zbiorowa\",\"inne\",\"piesze/rowerowe\",\"piesze/rowerowe\",\"piesze/rowerowe\",\"piesze/rowerowe\",\"podw\\u00f3rka\",\"ziele\\u0144/rekreacja\",\"drogowe\",\"podw\\u00f3rka\",\"ziele\\u0144/rekreacja\",\"piesze/rowerowe\",\"ziele\\u0144/rekreacja\",\"komunikacja zbiorowa\",\"piesze/rowerowe\",\"piesze/rowerowe\",\"komunikacja zbiorowa\",\"piesze/rowerowe\",\"piesze/rowerowe\",\"ziele\\u0144/rekreacja\",\"rewitalizacja\",\"podw\\u00f3rka\",\"ziele\\u0144/rekreacja\",\"drogowe\",\"sport\",\"komunikacja zbiorowa\",\"sport\",\"rewitalizacja\",\"podw\\u00f3rka\",\"ziele\\u0144/rekreacja\",\"podw\\u00f3rka\",\"drogowe\",\"piesze/rowerowe\",\"inne\",\"piesze/rowerowe\",\"piesze/rowerowe\",\"piesze/rowerowe\",\"drogowe\",\"drogowe\",\"rewitalizacja\",\"piesze/rowerowe\",\"piesze/rowerowe\",\"drogowe\",\"piesze/rowerowe\",\"ziele\\u0144/rekreacja\",\"ziele\\u0144/rekreacja\",\"komunikacja zbiorowa\",\"komunikacja zbiorowa\",\"sport\",\"ziele\\u0144/rekreacja\",\"piesze/rowerowe\",\"ziele\\u0144/rekreacja\",\"ziele\\u0144/rekreacja\",\"ziele\\u0144/rekreacja\",\"ziele\\u0144/rekreacja\",\"ziele\\u0144/rekreacja\",\"drogowe\",\"ziele\\u0144/rekreacja\",\"ziele\\u0144/rekreacja\",\"drogowe\",\"sport\",\"ziele\\u0144/rekreacja\",\"piesze/rowerowe\",\"piesze/rowerowe\",\"piesze/rowerowe\",\"drogowe\",\"piesze/rowerowe\",\"sport\",\"ziele\\u0144/rekreacja\",\"drogowe\",\"ziele\\u0144/rekreacja\",\"piesze/rowerowe\",\"piesze/rowerowe\",\"piesze/rowerowe\",\"ziele\\u0144/rekreacja\",\"ziele\\u0144/rekreacja\",\"drogowe\",\"drogowe\",\"ziele\\u0144/rekreacja\",\"piesze/rowerowe\",\"piesze/rowerowe\",\"piesze/rowerowe\",\"piesze/rowerowe\",\"podw\\u00f3rka\",\"ziele\\u0144/rekreacja\",\"ziele\\u0144/rekreacja\",\"ziele\\u0144/rekreacja\",\"drogowe\",\"piesze/rowerowe\",\"rewitalizacja\",\"podw\\u00f3rka\",\"place zabaw\",\"sport\",\"drogowe\",\"sport\",\"inne\",\"sport\",\"ziele\\u0144/rekreacja\",\"ziele\\u0144/rekreacja\",\"piesze/rowerowe\",\"podw\\u00f3rka\",\"ziele\\u0144/rekreacja\",\"drogowe\",\"ziele\\u0144/rekreacja\",\"ziele\\u0144/rekreacja\",\"drogowe\",\"ziele\\u0144/rekreacja\",\"piesze/rowerowe\",\"piesze/rowerowe\",\"piesze/rowerowe\",\"piesze/rowerowe\",\"ziele\\u0144/rekreacja\",\"ziele\\u0144/rekreacja\",\"rewitalizacja\",\"drogowe\",\"sport\",\"drogowe\",\"drogowe\",\"podw\\u00f3rka\",\"ziele\\u0144/rekreacja\",\"place zabaw\",\"ziele\\u0144/rekreacja\",\"sport\",\"podw\\u00f3rka\",\"ziele\\u0144/rekreacja\",\"podw\\u00f3rka\",\"place zabaw\",\"ziele\\u0144/rekreacja\",\"piesze/rowerowe\",\"ziele\\u0144/rekreacja\",\"inne\",\"rewitalizacja\",\"podw\\u00f3rka\",\"ziele\\u0144/rekreacja\",\"podw\\u00f3rka\",\"podw\\u00f3rka\",\"drogowe\",\"ziele\\u0144/rekreacja\",\"ziele\\u0144/rekreacja\",\"podw\\u00f3rka\",\"podw\\u00f3rka\",\"piesze/rowerowe\",\"drogowe\",\"ziele\\u0144/rekreacja\",\"drogowe\",\"ziele\\u0144/rekreacja\",\"ziele\\u0144/rekreacja\",\"ziele\\u0144/rekreacja\",\"rewitalizacja\",\"rewitalizacja\",\"place zabaw\",\"place zabaw\",\"drogowe\",\"drogowe\",\"ziele\\u0144/rekreacja\",\"ziele\\u0144/rekreacja\",\"ziele\\u0144/rekreacja\",\"place zabaw\",\"ziele\\u0144/rekreacja\",\"ziele\\u0144/rekreacja\",\"sport\",\"ziele\\u0144/rekreacja\",\"ziele\\u0144/rekreacja\",\"podw\\u00f3rka\",\"drogowe\",\"ziele\\u0144/rekreacja\",\"drogowe\",\"ziele\\u0144/rekreacja\",\"inne\",\"drogowe\",\"ziele\\u0144/rekreacja\",\"podw\\u00f3rka\",\"inne\",\"ziele\\u0144/rekreacja\",\"rewitalizacja\",\"ziele\\u0144/rekreacja\",\"sport\",\"sport\",\"ziele\\u0144/rekreacja\",\"podw\\u00f3rka\",\"podw\\u00f3rka\",\"inne\",\"ziele\\u0144/rekreacja\",\"drogowe\",\"ziele\\u0144/rekreacja\",\"ziele\\u0144/rekreacja\",\"ziele\\u0144/rekreacja\",\"rewitalizacja\",\"place zabaw\",\"ziele\\u0144/rekreacja\",\"place zabaw\",\"podw\\u00f3rka\",\"ziele\\u0144/rekreacja\",\"piesze/rowerowe\",\"sport\",\"drogowe\",\"ziele\\u0144/rekreacja\",\"piesze/rowerowe\",\"piesze/rowerowe\",\"piesze/rowerowe\",\"ziele\\u0144/rekreacja\",\"sport\",\"rewitalizacja\",\"piesze/rowerowe\",\"piesze/rowerowe\",\"podw\\u00f3rka\",\"ziele\\u0144/rekreacja\",\"sport\",\"ziele\\u0144/rekreacja\",\"podw\\u00f3rka\",\"podw\\u00f3rka\",\"ziele\\u0144/rekreacja\",\"ziele\\u0144/rekreacja\",\"piesze/rowerowe\",\"piesze/rowerowe\",\"ziele\\u0144/rekreacja\",\"ziele\\u0144/rekreacja\",\"komunikacja zbiorowa\",\"ziele\\u0144/rekreacja\",\"place zabaw\",\"ziele\\u0144/rekreacja\",\"ziele\\u0144/rekreacja\",\"ziele\\u0144/rekreacja\",\"piesze/rowerowe\",\"piesze/rowerowe\",\"piesze/rowerowe\",\"ziele\\u0144/rekreacja\",\"ziele\\u0144/rekreacja\",\"piesze/rowerowe\",\"inne\",\"ziele\\u0144/rekreacja\",\"ziele\\u0144/rekreacja\",\"sport\",\"ziele\\u0144/rekreacja\",\"podw\\u00f3rka\",\"ziele\\u0144/rekreacja\",\"ziele\\u0144/rekreacja\",\"piesze/rowerowe\",\"podw\\u00f3rka\",\"piesze/rowerowe\",\"ziele\\u0144/rekreacja\",\"ziele\\u0144/rekreacja\",\"rewitalizacja\",\"drogowe\",\"piesze/rowerowe\",\"piesze/rowerowe\",\"ziele\\u0144/rekreacja\",\"ziele\\u0144/rekreacja\",\"piesze/rowerowe\",\"place zabaw\",\"piesze/rowerowe\",\"piesze/rowerowe\",\"rewitalizacja\",\"ziele\\u0144/rekreacja\",\"edukacja\",\"edukacja\",\"drogowe\",\"piesze/rowerowe\",\"drogowe\",\"edukacja\",\"ziele\\u0144/rekreacja\",\"zabytkowe\",\"sport\",\"place zabaw\",\"inne\",\"ziele\\u0144/rekreacja\",\"ziele\\u0144/rekreacja\",\"ziele\\u0144/rekreacja\",\"ziele\\u0144/rekreacja\",\"ziele\\u0144/rekreacja\",\"inne\",\"podw\\u00f3rka\",\"ziele\\u0144/rekreacja\",\"piesze/rowerowe\",\"podw\\u00f3rka\",\"ziele\\u0144/rekreacja\",\"drogowe\",\"drogowe\",\"ziele\\u0144/rekreacja\",\"piesze/rowerowe\",\"zabytkowe\",\"zabytkowe\",\"inne\",\"komunikacja zbiorowa\",\"piesze/rowerowe\",\"podw\\u00f3rka\",\"ziele\\u0144/rekreacja\",\"piesze/rowerowe\",\"ziele\\u0144/rekreacja\",\"inne\",\"ziele\\u0144/rekreacja\",\"piesze/rowerowe\",\"ziele\\u0144/rekreacja\",\"ziele\\u0144/rekreacja\",\"piesze/rowerowe\",\"drogowe\",\"piesze/rowerowe\",\"ziele\\u0144/rekreacja\",\"podw\\u00f3rka\",\"place zabaw\",\"ziele\\u0144/rekreacja\",\"piesze/rowerowe\",\"ziele\\u0144/rekreacja\",\"sport\",\"podw\\u00f3rka\",\"komunikacja zbiorowa\",\"piesze/rowerowe\",\"piesze/rowerowe\",\"piesze/rowerowe\",\"ziele\\u0144/rekreacja\",\"ziele\\u0144/rekreacja\",\"ziele\\u0144/rekreacja\",\"ziele\\u0144/rekreacja\",\"komunikacja zbiorowa\",\"inne\",\"ziele\\u0144/rekreacja\",\"piesze/rowerowe\",\"ziele\\u0144/rekreacja\",\"rewitalizacja\",\"drogowe\",\"ziele\\u0144/rekreacja\",\"zabytkowe\",\"place zabaw\",\"ziele\\u0144/rekreacja\",\"piesze/rowerowe\",\"piesze/rowerowe\",\"piesze/rowerowe\",\"ziele\\u0144/rekreacja\",\"ziele\\u0144/rekreacja\",\"ziele\\u0144/rekreacja\",\"ziele\\u0144/rekreacja\",\"ziele\\u0144/rekreacja\",\"ziele\\u0144/rekreacja\",\"ziele\\u0144/rekreacja\",\"ziele\\u0144/rekreacja\",\"place zabaw\",\"podw\\u00f3rka\",\"inne\",\"piesze/rowerowe\",\"ziele\\u0144/rekreacja\",\"place zabaw\",\"ziele\\u0144/rekreacja\",\"ziele\\u0144/rekreacja\",\"ziele\\u0144/rekreacja\",\"inne\",\"inne\",\"inne\",\"ziele\\u0144/rekreacja\",\"inne\",\"piesze/rowerowe\",\"ziele\\u0144/rekreacja\",\"ziele\\u0144/rekreacja\",\"zabytkowe\",\"zabytkowe\",\"sport\",\"podw\\u00f3rka\",\"ziele\\u0144/rekreacja\",\"place zabaw\",\"sport\",\"place zabaw\",\"ziele\\u0144/rekreacja\",\"ziele\\u0144/rekreacja\",\"ziele\\u0144/rekreacja\",\"zabytkowe\",\"piesze/rowerowe\",\"podw\\u00f3rka\",\"zabytkowe\",\"ziele\\u0144/rekreacja\",\"inne\",\"ziele\\u0144/rekreacja\",\"place zabaw\",\"ziele\\u0144/rekreacja\",\"piesze/rowerowe\",\"zabytkowe\",\"inne\",\"sport\",\"ziele\\u0144/rekreacja\",\"drogowe\",\"drogowe\",\"place zabaw\",\"ziele\\u0144/rekreacja\",\"ziele\\u0144/rekreacja\",\"ziele\\u0144/rekreacja\",\"rewitalizacja\",\"rewitalizacja\",\"podw\\u00f3rka\",\"place zabaw\",\"rewitalizacja\",\"podw\\u00f3rka\",\"drogowe\",\"drogowe\",\"piesze/rowerowe\",\"piesze/rowerowe\",\"piesze/rowerowe\",\"place zabaw\",\"ziele\\u0144/rekreacja\",\"podw\\u00f3rka\",\"ziele\\u0144/rekreacja\",\"ziele\\u0144/rekreacja\",\"ziele\\u0144/rekreacja\",\"ziele\\u0144/rekreacja\",\"zabytkowe\",\"inne\",\"ziele\\u0144/rekreacja\",\"drogowe\",\"ziele\\u0144/rekreacja\",\"drogowe\",\"ziele\\u0144/rekreacja\",\"piesze/rowerowe\",\"ziele\\u0144/rekreacja\",\"zabytkowe\",\"sport\",\"podw\\u00f3rka\",\"zabytkowe\",\"piesze/rowerowe\",\"zabytkowe\",\"place zabaw\",\"ziele\\u0144/rekreacja\",\"zabytkowe\",\"piesze/rowerowe\",\"ziele\\u0144/rekreacja\",\"piesze/rowerowe\",\"ziele\\u0144/rekreacja\",\"podw\\u00f3rka\",\"ziele\\u0144/rekreacja\",\"zabytkowe\",\"ziele\\u0144/rekreacja\",\"inne\",\"rewitalizacja\",\"podw\\u00f3rka\",\"place zabaw\",\"piesze/rowerowe\",\"piesze/rowerowe\",\"inne\",\"ziele\\u0144/rekreacja\",\"ziele\\u0144/rekreacja\",\"ziele\\u0144/rekreacja\",\"ziele\\u0144/rekreacja\",\"ziele\\u0144/rekreacja\",\"place zabaw\",\"ziele\\u0144/rekreacja\",\"ziele\\u0144/rekreacja\",\"drogowe\",\"ziele\\u0144/rekreacja\",\"podw\\u00f3rka\",\"piesze/rowerowe\",\"ziele\\u0144/rekreacja\",\"piesze/rowerowe\",\"rewitalizacja\",\"ziele\\u0144/rekreacja\",\"drogowe\",\"inne\",\"ziele\\u0144/rekreacja\",\"ziele\\u0144/rekreacja\",\"ziele\\u0144/rekreacja\",\"inne\",\"piesze/rowerowe\",\"inne\",\"piesze/rowerowe\",\"piesze/rowerowe\",\"piesze/rowerowe\",\"drogowe\",\"sport\",\"ziele\\u0144/rekreacja\",\"piesze/rowerowe\",\"ziele\\u0144/rekreacja\",\"ziele\\u0144/rekreacja\",\"ziele\\u0144/rekreacja\",\"ziele\\u0144/rekreacja\",\"ziele\\u0144/rekreacja\",\"inne\",\"ziele\\u0144/rekreacja\",\"ziele\\u0144/rekreacja\",\"piesze/rowerowe\",\"ziele\\u0144/rekreacja\",\"drogowe\",\"piesze/rowerowe\",\"komunikacja zbiorowa\",\"ziele\\u0144/rekreacja\",\"ziele\\u0144/rekreacja\",\"ziele\\u0144/rekreacja\",\"drogowe\",\"piesze/rowerowe\",\"piesze/rowerowe\",\"komunikacja zbiorowa\",\"place zabaw\",\"ziele\\u0144/rekreacja\",\"piesze/rowerowe\",\"inne\",\"piesze/rowerowe\",\"inne\",\"ziele\\u0144/rekreacja\",\"podw\\u00f3rka\",\"ziele\\u0144/rekreacja\",\"inne\",\"ziele\\u0144/rekreacja\",\"ziele\\u0144/rekreacja\",\"ziele\\u0144/rekreacja\",\"podw\\u00f3rka\",\"ziele\\u0144/rekreacja\",\"inne\",\"sport\",\"piesze/rowerowe\",\"ziele\\u0144/rekreacja\",\"inne\",\"ziele\\u0144/rekreacja\",\"ziele\\u0144/rekreacja\",\"ziele\\u0144/rekreacja\",\"ziele\\u0144/rekreacja\",\"ziele\\u0144/rekreacja\",\"ziele\\u0144/rekreacja\",\"ziele\\u0144/rekreacja\",\"ziele\\u0144/rekreacja\",\"sport\",\"inne\",\"piesze/rowerowe\",\"piesze/rowerowe\",\"komunikacja zbiorowa\",\"nieinwestycyjne\",\"komunikacja zbiorowa\",\"inne\",\"drogowe\",\"podw\\u00f3rka\",\"rewitalizacja\",\"podw\\u00f3rka\",\"ziele\\u0144/rekreacja\",\"place zabaw\",\"sport\",\"ziele\\u0144/rekreacja\",\"ziele\\u0144/rekreacja\",\"ziele\\u0144/rekreacja\",\"ziele\\u0144/rekreacja\",\"inne\",\"inne\",\"inne\",\"podw\\u00f3rka\",\"drogowe\",\"ziele\\u0144/rekreacja\",\"ziele\\u0144/rekreacja\",\"inne\",\"podw\\u00f3rka\",\"ziele\\u0144/rekreacja\",\"ziele\\u0144/rekreacja\",\"place zabaw\",\"piesze/rowerowe\",\"sport\",\"ziele\\u0144/rekreacja\",\"ziele\\u0144/rekreacja\",\"place zabaw\",\"inne\",\"inne\",\"inne\",\"drogowe\",\"piesze/rowerowe\",\"piesze/rowerowe\",\"piesze/rowerowe\",\"place zabaw\",\"komunikacja zbiorowa\",\"inne\",\"piesze/rowerowe\",\"drogowe\",\"ziele\\u0144/rekreacja\",\"inne\",\"place zabaw\",\"piesze/rowerowe\",\"place zabaw\",\"piesze/rowerowe\",\"drogowe\",\"drogowe\",\"drogowe\",\"piesze/rowerowe\",\"piesze/rowerowe\",\"sport\",\"ziele\\u0144/rekreacja\",\"sport\",\"piesze/rowerowe\",\"ziele\\u0144/rekreacja\",\"place zabaw\",\"ziele\\u0144/rekreacja\",\"ziele\\u0144/rekreacja\",\"piesze/rowerowe\",\"ziele\\u0144/rekreacja\",\"ziele\\u0144/rekreacja\",\"podw\\u00f3rka\",\"ziele\\u0144/rekreacja\",\"inne\",\"piesze/rowerowe\",\"inne\",\"place zabaw\",\"ziele\\u0144/rekreacja\",\"nieinwestycyjne\",\"inne\",\"inne\",\"ziele\\u0144/rekreacja\",\"ziele\\u0144/rekreacja\",\"ziele\\u0144/rekreacja\",\"piesze/rowerowe\",\"ziele\\u0144/rekreacja\",\"ziele\\u0144/rekreacja\",\"piesze/rowerowe\",\"piesze/rowerowe\",\"piesze/rowerowe\",\"inne\",\"ziele\\u0144/rekreacja\",\"inne\",\"piesze/rowerowe\",\"piesze/rowerowe\",\"sport\",\"inne\",\"ziele\\u0144/rekreacja\",\"ziele\\u0144/rekreacja\",\"ziele\\u0144/rekreacja\",\"place zabaw\",\"inne\",\"ziele\\u0144/rekreacja\",\"podw\\u00f3rka\",\"ziele\\u0144/rekreacja\",\"place zabaw\",\"ziele\\u0144/rekreacja\",\"ziele\\u0144/rekreacja\",\"ziele\\u0144/rekreacja\",\"ziele\\u0144/rekreacja\",\"drogowe\",\"inne\",\"piesze/rowerowe\",\"piesze/rowerowe\",\"inne\",\"piesze/rowerowe\",\"ziele\\u0144/rekreacja\",\"place zabaw\",\"drogowe\",\"podw\\u00f3rka\",\"ziele\\u0144/rekreacja\",\"nieinwestycyjne\",\"drogowe\",\"inne\",\"ziele\\u0144/rekreacja\",\"drogowe\",\"nieinwestycyjne\",\"sport\",\"ziele\\u0144/rekreacja\",\"drogowe\",\"place zabaw\",\"ziele\\u0144/rekreacja\",\"ziele\\u0144/rekreacja\",\"ziele\\u0144/rekreacja\",\"ziele\\u0144/rekreacja\",\"ziele\\u0144/rekreacja\",\"inne\",\"ziele\\u0144/rekreacja\",\"rewitalizacja\",\"rewitalizacja\",\"ziele\\u0144/rekreacja\",\"ziele\\u0144/rekreacja\",\"inne\",\"ziele\\u0144/rekreacja\",\"ziele\\u0144/rekreacja\",\"ziele\\u0144/rekreacja\",\"ziele\\u0144/rekreacja\",\"place zabaw\",\"ziele\\u0144/rekreacja\",\"sport\",\"ziele\\u0144/rekreacja\",\"piesze/rowerowe\",\"piesze/rowerowe\",\"ziele\\u0144/rekreacja\",\"ziele\\u0144/rekreacja\",\"ziele\\u0144/rekreacja\",\"ziele\\u0144/rekreacja\",\"place zabaw\",\"place zabaw\",\"place zabaw\",\"inne\",\"ziele\\u0144/rekreacja\",\"ziele\\u0144/rekreacja\",\"ziele\\u0144/rekreacja\",\"ziele\\u0144/rekreacja\",\"inne\",\"ziele\\u0144/rekreacja\",\"ziele\\u0144/rekreacja\",\"ziele\\u0144/rekreacja\",\"ziele\\u0144/rekreacja\",\"ziele\\u0144/rekreacja\",\"ziele\\u0144/rekreacja\",\"ziele\\u0144/rekreacja\",\"ziele\\u0144/rekreacja\",\"piesze/rowerowe\",\"drogowe\",\"ziele\\u0144/rekreacja\",\"ziele\\u0144/rekreacja\",\"ziele\\u0144/rekreacja\",\"ziele\\u0144/rekreacja\",\"ziele\\u0144/rekreacja\",\"ziele\\u0144/rekreacja\",\"ziele\\u0144/rekreacja\",\"ziele\\u0144/rekreacja\",\"ziele\\u0144/rekreacja\",\"ziele\\u0144/rekreacja\",\"ziele\\u0144/rekreacja\",\"ziele\\u0144/rekreacja\",\"ziele\\u0144/rekreacja\",\"ziele\\u0144/rekreacja\",\"ziele\\u0144/rekreacja\",\"podw\\u00f3rka\",\"ziele\\u0144/rekreacja\",\"ziele\\u0144/rekreacja\",\"ziele\\u0144/rekreacja\",\"ziele\\u0144/rekreacja\",\"ziele\\u0144/rekreacja\",\"place zabaw\",\"sport\",\"place zabaw\",\"drogowe\",\"ziele\\u0144/rekreacja\",\"sport\",\"komunikacja zbiorowa\",\"piesze/rowerowe\",\"ziele\\u0144/rekreacja\",\"piesze/rowerowe\",\"piesze/rowerowe\",\"piesze/rowerowe\",\"sport\",\"piesze/rowerowe\",\"drogowe\",\"piesze/rowerowe\",\"piesze/rowerowe\",\"ziele\\u0144/rekreacja\",\"ziele\\u0144/rekreacja\",\"ziele\\u0144/rekreacja\",\"rewitalizacja\",\"inne\",\"ziele\\u0144/rekreacja\",\"komunikacja zbiorowa\",\"ziele\\u0144/rekreacja\",\"ziele\\u0144/rekreacja\",\"sport\",\"ziele\\u0144/rekreacja\",\"place zabaw\",\"piesze/rowerowe\",\"ziele\\u0144/rekreacja\",\"piesze/rowerowe\",\"ziele\\u0144/rekreacja\",\"place zabaw\",\"piesze/rowerowe\",\"ziele\\u0144/rekreacja\",\"ziele\\u0144/rekreacja\",\"ziele\\u0144/rekreacja\",\"komunikacja zbiorowa\",\"rewitalizacja\",\"ziele\\u0144/rekreacja\",\"inne\",\"piesze/rowerowe\",\"ziele\\u0144/rekreacja\",\"ziele\\u0144/rekreacja\",\"piesze/rowerowe\",\"piesze/rowerowe\",\"ziele\\u0144/rekreacja\",\"komunikacja zbiorowa\",\"inne\",\"piesze/rowerowe\",\"ziele\\u0144/rekreacja\",\"piesze/rowerowe\",\"ziele\\u0144/rekreacja\",\"piesze/rowerowe\",\"piesze/rowerowe\",\"ziele\\u0144/rekreacja\",\"piesze/rowerowe\",\"ziele\\u0144/rekreacja\",\"piesze/rowerowe\",\"piesze/rowerowe\",\"sport\",\"piesze/rowerowe\",\"sport\",\"place zabaw\",\"podw\\u00f3rka\",\"ziele\\u0144/rekreacja\",\"podw\\u00f3rka\",\"podw\\u00f3rka\",\"piesze/rowerowe\",\"ziele\\u0144/rekreacja\",\"sport\",\"drogowe\",\"ziele\\u0144/rekreacja\",\"inne\",\"ziele\\u0144/rekreacja\",\"drogowe\",\"ziele\\u0144/rekreacja\",\"ziele\\u0144/rekreacja\",\"ziele\\u0144/rekreacja\",\"ziele\\u0144/rekreacja\",\"ziele\\u0144/rekreacja\",\"ziele\\u0144/rekreacja\",\"nieinwestycyjne\",\"ziele\\u0144/rekreacja\",\"ziele\\u0144/rekreacja\",\"piesze/rowerowe\",\"piesze/rowerowe\",\"drogowe\",\"piesze/rowerowe\",\"podw\\u00f3rka\",\"ziele\\u0144/rekreacja\",\"drogowe\",\"place zabaw\",\"ziele\\u0144/rekreacja\",\"ziele\\u0144/rekreacja\",\"place zabaw\",\"ziele\\u0144/rekreacja\",\"ziele\\u0144/rekreacja\",\"rewitalizacja\",\"place zabaw\",\"ziele\\u0144/rekreacja\",\"place zabaw\",\"piesze/rowerowe\",\"ziele\\u0144/rekreacja\",\"piesze/rowerowe\",\"place zabaw\",\"ziele\\u0144/rekreacja\",\"piesze/rowerowe\",\"inne\",\"drogowe\",\"inne\",\"sport\",\"place zabaw\",\"sport\",\"ziele\\u0144/rekreacja\",\"ziele\\u0144/rekreacja\",\"ziele\\u0144/rekreacja\",\"ziele\\u0144/rekreacja\",\"ziele\\u0144/rekreacja\",\"ziele\\u0144/rekreacja\",\"piesze/rowerowe\",\"ziele\\u0144/rekreacja\",\"piesze/rowerowe\",\"ziele\\u0144/rekreacja\",\"drogowe\",\"nieinwestycyjne\",\"inne\",\"ziele\\u0144/rekreacja\",\"rewitalizacja\",\"piesze/rowerowe\",\"ziele\\u0144/rekreacja\",\"place zabaw\",\"piesze/rowerowe\",\"komunikacja zbiorowa\",\"ziele\\u0144/rekreacja\",\"piesze/rowerowe\",\"place zabaw\",\"place zabaw\",\"sport\",\"ziele\\u0144/rekreacja\",\"piesze/rowerowe\",\"ziele\\u0144/rekreacja\",\"ziele\\u0144/rekreacja\",\"ziele\\u0144/rekreacja\",\"ziele\\u0144/rekreacja\",\"ziele\\u0144/rekreacja\",\"piesze/rowerowe\",\"inne\",\"ziele\\u0144/rekreacja\",\"ziele\\u0144/rekreacja\",\"inne\",\"piesze/rowerowe\",\"ziele\\u0144/rekreacja\",\"ziele\\u0144/rekreacja\",\"ziele\\u0144/rekreacja\",\"rewitalizacja\",\"inne\",\"ziele\\u0144/rekreacja\",\"piesze/rowerowe\",\"piesze/rowerowe\",\"ziele\\u0144/rekreacja\",\"ziele\\u0144/rekreacja\",\"sport\",\"ziele\\u0144/rekreacja\",\"rewitalizacja\",\"sport\",\"ziele\\u0144/rekreacja\",\"rewitalizacja\",\"piesze/rowerowe\",\"place zabaw\",\"nieinwestycyjne\",\"piesze/rowerowe\",\"inne\",\"inne\",\"inne\",\"piesze/rowerowe\",\"inne\",\"ziele\\u0144/rekreacja\",\"piesze/rowerowe\",\"ziele\\u0144/rekreacja\",\"sport\",\"sport\",\"place zabaw\",\"sport\",\"ziele\\u0144/rekreacja\",\"ziele\\u0144/rekreacja\",\"sport\",\"ziele\\u0144/rekreacja\",\"piesze/rowerowe\",\"piesze/rowerowe\",\"ziele\\u0144/rekreacja\",\"sport\",\"ziele\\u0144/rekreacja\",\"place zabaw\",\"podw\\u00f3rka\",\"ziele\\u0144/rekreacja\",\"piesze/rowerowe\",\"piesze/rowerowe\",\"piesze/rowerowe\",\"sport\",\"podw\\u00f3rka\",\"ziele\\u0144/rekreacja\",\"ziele\\u0144/rekreacja\",\"sport\",\"podw\\u00f3rka\",\"piesze/rowerowe\",\"ziele\\u0144/rekreacja\",\"piesze/rowerowe\",\"place zabaw\",\"inne\",\"nieinwestycyjne\",\"ziele\\u0144/rekreacja\",\"ziele\\u0144/rekreacja\",\"ziele\\u0144/rekreacja\",\"podw\\u00f3rka\",\"inne\",\"podw\\u00f3rka\",\"ziele\\u0144/rekreacja\",\"place zabaw\",\"podw\\u00f3rka\",\"rewitalizacja\",\"inne\",\"ziele\\u0144/rekreacja\",\"ziele\\u0144/rekreacja\",\"piesze/rowerowe\",\"rewitalizacja\",\"place zabaw\",\"piesze/rowerowe\",\"ziele\\u0144/rekreacja\",\"ziele\\u0144/rekreacja\",\"piesze/rowerowe\",\"rewitalizacja\",\"ziele\\u0144/rekreacja\",\"place zabaw\",\"sport\",\"piesze/rowerowe\",\"sport\",\"ziele\\u0144/rekreacja\",\"inne\",\"place zabaw\",\"inne\",\"piesze/rowerowe\",\"ziele\\u0144/rekreacja\",\"piesze/rowerowe\",\"inne\",\"ziele\\u0144/rekreacja\",\"ziele\\u0144/rekreacja\",\"nieinwestycyjne\",\"sport\",\"ziele\\u0144/rekreacja\",\"piesze/rowerowe\",\"ziele\\u0144/rekreacja\",\"drogowe\",\"ziele\\u0144/rekreacja\",\"piesze/rowerowe\",\"inne\",\"podw\\u00f3rka\",\"ziele\\u0144/rekreacja\",\"place zabaw\",\"place zabaw\",\"nieinwestycyjne\",\"ziele\\u0144/rekreacja\",\"piesze/rowerowe\",\"inne\",\"sport\",\"piesze/rowerowe\",\"inne\",\"sport\",\"sport\",\"inne\",\"rewitalizacja\",\"drogowe\",\"rewitalizacja\",\"ziele\\u0144/rekreacja\",\"drogowe\",\"ziele\\u0144/rekreacja\",\"ziele\\u0144/rekreacja\",\"inne\",\"ziele\\u0144/rekreacja\",\"podw\\u00f3rka\",\"podw\\u00f3rka\",\"rewitalizacja\",\"podw\\u00f3rka\",\"rewitalizacja\",\"ziele\\u0144/rekreacja\"],\"x0\":\" \",\"xaxis\":\"x\",\"y\":[250000.0,750000.0,1000000.0,750000.0,750000.0,750000.0,750000.0,400000.0,750000.0,80000.0,250000.0,750000.0,600000.0,100000.0,430000.0,55000.0,100000.0,250000.0,450000.0,500000.0,750000.0,200000.0,500000.0,300000.0,750000.0,750000.0,300000.0,750000.0,200000.0,750000.0,750000.0,650000.0,750000.0,200000.0,250000.0,750000.0,750000.0,250000.0,750000.0,750000.0,750000.0,100000.0,6000.0,500000.0,1000000.0,600000.0,80000.0,80000.0,750000.0,310000.0,250000.0,750000.0,500000.0,750000.0,250000.0,90000.0,750000.0,90000.0,750000.0,500000.0,900000.0,750000.0,250000.0,750000.0,150000.0,600000.0,150000.0,200000.0,750000.0,330000.0,180000.0,100000.0,650000.0,250000.0,750000.0,500000.0,250000.0,540000.0,300000.0,200000.0,300000.0,250000.0,570000.0,700000.0,400000.0,35000.0,18000.0,250000.0,200000.0,750000.0,750000.0,250000.0,60000.0,600000.0,220000.0,750000.0,750000.0,1000000.0,240000.0,750000.0,650000.0,750000.0,200000.0,80000.0,650000.0,250000.0,750000.0,250000.0,150000.0,100000.0,500000.0,700000.0,260000.0,1000000.0,510000.0,250000.0,600000.0,750000.0,400000.0,600000.0,520000.0,750000.0,200000.0,750000.0,750000.0,100000.0,600000.0,750000.0,150000.0,100000.0,100000.0,750000.0,320000.0,250000.0,85000.0,30000.0,200000.0,250000.0,250000.0,450000.0,210000.0,300000.0,100000.0,250000.0,250000.0,500000.0,100000.0,750000.0,70000.0,100000.0,100000.0,50000.0,1000000.0,600000.0,30000.0,100000.0,350000.0,750000.0,250000.0,750000.0,250000.0,30000.0,750000.0,750000.0,400000.0,200000.0,750000.0,500000.0,750000.0,100000.0,1000000.0,250000.0,750000.0,750000.0,150000.0,300000.0,750000.0,750000.0,750000.0,550000.0,250000.0,250000.0,250000.0,750000.0,250000.0,550000.0,750000.0,250000.0,750000.0,250000.0,500000.0,750000.0,250000.0,250000.0,40000.0,400000.0,500000.0,150000.0,100000.0,500000.0,10000.0,600000.0,450000.0,420000.0,80000.0,250000.0,150000.0,600000.0,500000.0,300000.0,750000.0,750000.0,300000.0,400000.0,25000.0,360000.0,250000.0,250000.0,500000.0,250000.0,250000.0,250000.0,170000.0,250000.0,400000.0,750000.0,250000.0,250000.0,250000.0,250000.0,500000.0,750000.0,750000.0,750000.0,250000.0,500000.0,20000.0,750000.0,250000.0,250000.0,600000.0,500000.0,400000.0,150000.0,400000.0,550000.0,750000.0,250000.0,650000.0,750000.0,750000.0,750000.0,100000.0,250000.0,250000.0,750000.0,750000.0,750000.0,10000.0,550000.0,350000.0,250000.0,1000000.0,300000.0,170000.0,250000.0,750000.0,250000.0,750000.0,350000.0,200000.0,750000.0,750000.0,250000.0,750000.0,200000.0,750000.0,1000000.0,250000.0,200000.0,250000.0,80000.0,750000.0,600000.0,350000.0,150000.0,750000.0,750000.0,750000.0,250000.0,250000.0,250000.0,750000.0,250000.0,25000.0,750000.0,500000.0,250000.0,200000.0,250000.0,1000000.0,250000.0,80000.0,250000.0,250000.0,750000.0,250000.0,750000.0,750000.0,250000.0,750000.0,250000.0,200000.0,100000.0,250000.0,250000.0,600000.0,100000.0,750000.0,700000.0,350000.0,350000.0,750000.0,250000.0,750000.0,550000.0,750000.0,150000.0,1000000.0,750000.0,50000.0,150000.0,250000.0,300000.0,50000.0,750000.0,250000.0,650000.0,250000.0,250000.0,100000.0,750000.0,570000.0,750000.0,1000000.0,1000000.0,75000.0,500000.0,400000.0,500000.0,1000000.0,250000.0,250000.0,110000.0,250000.0,150000.0,750000.0,100000.0,250000.0,50000.0,250000.0,750000.0,750000.0,250000.0,250000.0,15000.0,400000.0,50000.0,750000.0,500000.0,300000.0,200000.0,750000.0,250000.0,750000.0,250000.0,750000.0,250000.0,750000.0,1000000.0,430000.0,750000.0,250000.0,750000.0,750000.0,500000.0,750000.0,750000.0,500000.0,750000.0,50000.0,1000000.0,750000.0,1000000.0,750000.0,1000000.0,750000.0,750000.0,750000.0,750000.0,250000.0,250000.0,450000.0,750000.0,500000.0,250000.0,250000.0,750000.0,250000.0,750000.0,650000.0,50000.0,750000.0,400000.0,250000.0,350000.0,750000.0,450000.0,200000.0,750000.0,660000.0,750000.0,450000.0,400000.0,750000.0,250000.0,750000.0,1000000.0,750000.0,250000.0,250000.0,750000.0,70000.0,600000.0,550000.0,250000.0,150000.0,250000.0,250000.0,150000.0,250000.0,750000.0,750000.0,350000.0,750000.0,750000.0,100000.0,250000.0,200000.0,750000.0,50000.0,90000.0,250000.0,650000.0,250000.0,750000.0,750000.0,750000.0,90000.0,250000.0,250000.0,750000.0,250000.0,250000.0,100000.0,750000.0,750000.0,40000.0,200000.0,250000.0,750000.0,320000.0,400000.0,750000.0,600000.0,450000.0,750000.0,400000.0,150000.0,160000.0,750000.0,420000.0,250000.0,750000.0,250000.0,750000.0,750000.0,1000000.0,250000.0,50000.0,750000.0,600000.0,750000.0,350000.0,600000.0,250000.0,600000.0,400000.0,250000.0,50000.0,1000000.0,350000.0,250000.0,750000.0,210000.0,750000.0,180000.0,750000.0,700000.0,750000.0,250000.0,570000.0,750000.0,500000.0,600000.0,600000.0,250000.0,140000.0,750000.0,150000.0,500000.0,100000.0,500000.0,250000.0,250000.0,250000.0,750000.0,750000.0,400000.0,750000.0,320000.0,1000000.0,750000.0,250000.0,250000.0,750000.0,750000.0,300000.0,250000.0,750000.0,600000.0,250000.0,300000.0,700000.0,250000.0,250000.0,750000.0,250000.0,750000.0,750000.0,100000.0,350000.0,500000.0,750000.0,250000.0,1000000.0,500000.0,500000.0,250000.0,750000.0,750000.0,750000.0,250000.0,700000.0,750000.0,500000.0,750000.0,250000.0,750000.0,500000.0,750000.0,750000.0,600000.0,250000.0,750000.0,500000.0,1000000.0,750000.0,1000000.0,750000.0,1000000.0,250000.0,750000.0,250000.0,750000.0,250000.0,750000.0,400000.0,750000.0,250000.0,750000.0,150000.0,250000.0,750000.0,400000.0,750000.0,60000.0,400000.0,350000.0,250000.0,1000000.0,400000.0,150000.0,200000.0,60000.0,1000000.0,250000.0,250000.0,200000.0,750000.0,750000.0,200000.0,750000.0,200000.0,250000.0,750000.0,130000.0,750000.0,750000.0,300000.0,750000.0,750000.0,750000.0,750000.0,500000.0,500000.0,750000.0,1000000.0,250000.0,250000.0,750000.0,750000.0,250000.0,250000.0,250000.0,150000.0,600000.0,750000.0,500000.0,250000.0,750000.0,250000.0,250000.0,100000.0,150000.0,250000.0,750000.0,320000.0,20000.0,500000.0,250000.0,250000.0,250000.0,250000.0,250000.0,250000.0,100000.0,250000.0,250000.0,250000.0,1000000.0,220000.0,750000.0,250000.0,50000.0,250000.0,250000.0,250000.0,250000.0,750000.0,30000.0,250000.0,100000.0,750000.0,50000.0,250000.0,250000.0,750000.0,1000000.0,250000.0,750000.0,250000.0,750000.0,750000.0,250000.0,250000.0,15000.0,400000.0,50000.0,750000.0,500000.0,300000.0,200000.0,750000.0,250000.0,750000.0,100000.0,750000.0,750000.0,430000.0,1000000.0,250000.0,50000.0,100000.0,250000.0,750000.0,750000.0,250000.0,750000.0,750000.0,250000.0,750000.0,750000.0,1000000.0,1000000.0,100000.0,100000.0,250000.0,1000000.0,250000.0,750000.0,750000.0,250000.0,750000.0,20000.0,750000.0,1000000.0,750000.0,750000.0,750000.0,750000.0,250000.0,250000.0,750000.0,500000.0,750000.0,500000.0,250000.0,250000.0,750000.0,250000.0,1000000.0,750000.0,1000000.0,750000.0,1000000.0,750000.0,750000.0,1000000.0,250000.0,250000.0,750000.0,250000.0,750000.0,750000.0,1000000.0,100000.0,250000.0,250000.0,750000.0,750000.0,250000.0,250000.0,750000.0,750000.0,250000.0,200000.0,750000.0,250000.0,750000.0,750000.0,750000.0,750000.0,750000.0,750000.0,750000.0,750000.0,250000.0,750000.0,250000.0,100000.0,450000.0,80000.0,500000.0,500000.0,250000.0,750000.0,100000.0,50000.0,750000.0,750000.0,250000.0,600000.0,750000.0,750000.0,250000.0,750000.0,750000.0,100000.0,1000000.0,750000.0,100000.0,250000.0,1000000.0,750000.0,750000.0,750000.0,250000.0,40000.0,250000.0,750000.0,750000.0,150000.0,250000.0,750000.0,200000.0,750000.0,350000.0,1000000.0,750000.0,500000.0,600000.0,750000.0,250000.0,750000.0,750000.0,250000.0,250000.0,600000.0,750000.0,250000.0,500000.0,20000.0,250000.0,250000.0,750000.0,6000.0,250000.0,750000.0,750000.0,750000.0,400000.0,250000.0,700000.0,750000.0,100000.0,250000.0,250000.0,100000.0,250000.0,100000.0,1000000.0,1000000.0,100000.0,250000.0,750000.0,250000.0,250000.0,250000.0,250000.0,30000.0,750000.0,1000000.0,750000.0,750000.0,250000.0,600000.0,600000.0,250000.0,250000.0,250000.0,750000.0,250000.0,250000.0,750000.0,100000.0,750000.0,750000.0,250000.0,250000.0,400000.0,250000.0,750000.0,750000.0,500000.0,750000.0,100000.0,750000.0,2000000.0,750000.0,750000.0,2000000.0,200000.0,750000.0,450000.0,750000.0,80000.0,750000.0,750000.0,750000.0,2000000.0,750000.0,2000000.0,750000.0,2000000.0,750000.0,350000.0,300000.0,2000000.0,750000.0,1000000.0,750000.0,400000.0,50000.0,750000.0,300000.0,750000.0,300000.0,300000.0,2000000.0,1000000.0,2000000.0,2000000.0,750000.0,2000000.0,2000000.0,200000.0,750000.0,750000.0,1000000.0,500000.0,250000.0,400000.0,750000.0,2000000.0,500000.0,750000.0,750000.0,750000.0,2000000.0,2000000.0,2000000.0,2000000.0,2000000.0,200000.0,2000000.0,1000000.0,2000000.0,2000000.0,750000.0,750000.0,2000000.0,300000.0,30000.0,750000.0,2000000.0,300000.0,750000.0,150000.0,2000000.0,2000000.0,750000.0,750000.0,750000.0,750000.0,750000.0,750000.0,100000.0,50000.0,200000.0,750000.0,750000.0,100000.0,750000.0,500000.0,750000.0,750000.0,2000000.0,2000000.0,2000000.0,550000.0,250000.0,300000.0,250000.0,400000.0,750000.0,2000000.0,750000.0,400000.0,300000.0,500000.0,750000.0,200000.0,750000.0,2000000.0,750000.0,2000000.0,2000000.0,100000.0,100000.0,750000.0,2000000.0,750000.0,750000.0,150000.0,1000000.0,1000000.0,1500000.0,750000.0,750000.0,2000000.0,400000.0,750000.0,750000.0,100000.0,500000.0,100000.0,2000000.0,500000.0,2000000.0,200000.0,200000.0,2000000.0,2000000.0,250000.0,500000.0,300000.0,150000.0,2000000.0,2000000.0,750000.0,500000.0,250000.0,750000.0,2000000.0,2000000.0,1000000.0,250000.0,750000.0,100000.0,2000000.0,2000000.0,2000000.0,750000.0,2000000.0,2000000.0,250000.0,750000.0,2000000.0,2000000.0,750000.0,750000.0,750000.0,2000000.0,750000.0,750000.0,750000.0,750000.0,750000.0,750000.0,2000000.0,250000.0,2000000.0,750000.0,750000.0,750000.0,2000000.0,2000000.0,750000.0,400000.0,750000.0,250000.0,2000000.0,2000.0,500000.0,750000.0,250000.0,750000.0,750000.0,750000.0,2000000.0,500000.0,750000.0,250000.0,2000000.0,750000.0,2000000.0,750000.0,750000.0,750000.0,750000.0,2000000.0,250000.0,750000.0,750000.0,750000.0,750000.0,500000.0,2000000.0,750000.0,1100000.0,2000000.0,750000.0,2000000.0,2000000.0,750000.0,2000000.0,750000.0,100000.0,2000000.0,2000000.0,750000.0,750000.0,2000000.0,750000.0,2000000.0,750000.0,750000.0,2000000.0,750000.0,2000000.0,750000.0,400000.0,2000000.0,750000.0,2000000.0,750000.0,750000.0,750000.0,2000000.0,750000.0,2000000.0,750000.0,2000000.0,750000.0,2000000.0,750000.0,750000.0,750000.0,300000.0,750000.0,500000.0,750000.0,750000.0,2000000.0,750000.0,500000.0,2000000.0,2000000.0,750000.0,500000.0,600000.0,750000.0,350000.0,400000.0,1500000.0,750000.0,750000.0,300000.0,750000.0,1750000.0,750000.0,30000.0,750000.0,2000000.0,50000.0,2000000.0,200000.0,500000.0,50000.0,1000000.0,750000.0,750000.0,2000000.0,2000000.0,750000.0,750000.0,250000.0,1500000.0,2000000.0,1500000.0,1200000.0,400000.0,750000.0,2000000.0,750000.0,750000.0,2000000.0,750000.0,750000.0,2000000.0,300000.0,750000.0,750000.0,100000.0,750000.0,2000000.0,750000.0,250000.0,500000.0,2000000.0,2000000.0,750000.0,750000.0,100000.0,1000000.0,2000000.0,2000000.0,750000.0,750000.0,2000000.0,750000.0,750000.0,2000000.0,2000000.0,2000000.0,600000.0,600000.0,2000000.0,2000000.0,600000.0,750000.0,750000.0,750000.0,2000000.0,750000.0,150000.0,400000.0,2000000.0,750000.0,2000000.0,2000000.0,750000.0,2000000.0,750000.0,750000.0,150000.0,750000.0,750000.0,750000.0,20000.0,2000000.0,750000.0,750000.0,300000.0,1500000.0,400000.0,2000000.0,500000.0,2000000.0,750000.0,750000.0,1300000.0,350000.0,100000.0,500000.0,1500000.0,750000.0,750000.0,2000000.0,750000.0,2000000.0,700000.0,2000000.0,2000000.0,2000000.0,2000000.0,50000.0,300000.0,750000.0,500000.0,500000.0,750000.0,750000.0,750000.0,450000.0,750000.0,2000000.0,2000000.0,750000.0,2000000.0,2000000.0,750000.0,2000000.0,2000000.0,2000000.0,2000000.0,2000000.0,2000000.0,200000.0,750000.0,2000000.0,2000000.0,750000.0,200000.0,950000.0,750000.0,750000.0,100000.0,250000.0,1000000.0,750000.0,2000000.0,750000.0,750000.0,750000.0,500000.0,750000.0,2000000.0,2000000.0,750000.0,250000.0,2000000.0,1200000.0,750000.0,750000.0,2000000.0,400000.0,350000.0,2000000.0,1200000.0,1400000.0,2000000.0,200000.0,750000.0,400000.0,2000000.0,750000.0,250000.0,1400000.0,750000.0,1000000.0,750000.0,300000.0,2000000.0,2000000.0,2000000.0,750000.0,300000.0,300000.0,750000.0,750000.0,500000.0,750000.0,750000.0,350000.0,1000000.0,750000.0,2000000.0,600000.0,2000000.0,750000.0,1500000.0,400000.0,900000.0,750000.0,200000.0,750000.0,2000000.0,750000.0,40000.0,750000.0,50000.0,750000.0,750000.0,750000.0,350000.0,200000.0,800000.0,750000.0,1400000.0,750000.0,500000.0,750000.0,600000.0,600000.0,750000.0,2000000.0,600000.0,250000.0,400000.0,1500000.0,500000.0,750000.0,500000.0,75000.0,200000.0,750000.0,500000.0,550000.0,2000000.0,750000.0,720000.0,2000000.0,20000.0,750000.0,900000.0,750000.0,2000000.0,1200000.0,2000000.0,750000.0,1200000.0,750000.0,750000.0,300000.0,1000000.0,2000000.0,500000.0,900000.0,750000.0,550000.0,750000.0,2000000.0,750000.0,1000000.0,750000.0,750000.0,1500000.0,750000.0,750000.0,2000000.0,600000.0,1200000.0,750000.0,450000.0,2000000.0,750000.0,2000000.0,450000.0],\"y0\":\" \",\"yaxis\":\"y\",\"type\":\"box\"},{\"alignmentgroup\":\"True\",\"hovertemplate\":\"status=Projekt nie bierze udzia\\u0142u w g\\u0142osowaniu<br>category=%{x}<br>budget=%{y}<extra></extra>\",\"legendgroup\":\"Projekt nie bierze udzia\\u0142u w g\\u0142osowaniu\",\"marker\":{\"color\":\"#EF553B\"},\"name\":\"Projekt nie bierze udzia\\u0142u w g\\u0142osowaniu\",\"notched\":false,\"offsetgroup\":\"Projekt nie bierze udzia\\u0142u w g\\u0142osowaniu\",\"orientation\":\"v\",\"showlegend\":true,\"x\":[\"piesze/rowerowe\",\"sport\",\"piesze/rowerowe\",\"piesze/rowerowe\",\"ziele\\u0144/rekreacja\",\"komunikacja zbiorowa\",\"komunikacja zbiorowa\",\"ziele\\u0144/rekreacja\",\"inne\",\"inne\",\"piesze/rowerowe\",\"piesze/rowerowe\",\"komunikacja zbiorowa\",\"drogowe\",\"inne\",\"inne\",\"inne\",\"rewitalizacja\",\"drogowe\",\"komunikacja zbiorowa\",\"komunikacja zbiorowa\",\"komunikacja zbiorowa\",\"komunikacja zbiorowa\",\"piesze/rowerowe\",\"piesze/rowerowe\",\"komunikacja zbiorowa\",\"piesze/rowerowe\",null,\"piesze/rowerowe\",\"komunikacja zbiorowa\",\"drogowe\",\"piesze/rowerowe\",\"ziele\\u0144/rekreacja\",\"piesze/rowerowe\",\"drogowe\",\"inne\",\"ziele\\u0144/rekreacja\",null,\"piesze/rowerowe\",\"piesze/rowerowe\",\"place zabaw\",\"drogowe\",\"inne\",\"edukacja\",\"piesze/rowerowe\",\"sport\",\"inne\",\"piesze/rowerowe\",\"edukacja\",\"inne\",\"drogowe\",\"rewitalizacja\",\"piesze/rowerowe\",\"inne\",\"piesze/rowerowe\",\"inne\",\"drogowe\",\"piesze/rowerowe\",\"drogowe\",\"drogowe\",\"drogowe\",\"piesze/rowerowe\",\"ziele\\u0144/rekreacja\",\"ziele\\u0144/rekreacja\",\"inne\",\"inne\",\"sport\",\"rewitalizacja\",\"piesze/rowerowe\",\"drogowe\",\"ziele\\u0144/rekreacja\",\"komunikacja zbiorowa\",\"drogowe\",\"komunikacja zbiorowa\",\"komunikacja zbiorowa\",\"ziele\\u0144/rekreacja\",\"inne\",\"drogowe\",\"inne\",\"piesze/rowerowe\",\"drogowe\",\"piesze/rowerowe\",\"edukacja\",\"inne\",\"ziele\\u0144/rekreacja\",\"sport\",\"komunikacja zbiorowa\",\"piesze/rowerowe\",\"piesze/rowerowe\",\"inne\",\"inne\",\"drogowe\",\"inne\",\"drogowe\",\"piesze/rowerowe\",\"piesze/rowerowe\",\"piesze/rowerowe\",\"edukacja\",\"drogowe\",\"drogowe\",\"rewitalizacja\",\"place zabaw\",\"inne\",\"place zabaw\",\"piesze/rowerowe\",\"inne\",\"edukacja\",\"edukacja\",\"piesze/rowerowe\",\"sport\",\"ziele\\u0144/rekreacja\",\"edukacja\",\"inne\",\"rewitalizacja\",\"edukacja\",\"ziele\\u0144/rekreacja\",\"piesze/rowerowe\",\"edukacja\",\"ziele\\u0144/rekreacja\",\"inne\",\"piesze/rowerowe\",\"edukacja\",\"edukacja\",\"piesze/rowerowe\",\"drogowe\",\"inne\",\"rewitalizacja\",\"rewitalizacja\",\"sport\",\"ziele\\u0144/rekreacja\",\"sport\",\"inne\",\"place zabaw\",\"inne\",\"sport\",\"sport\",\"inne\",\"inne\",\"inne\",\"inne\",\"inne\",\"rewitalizacja\",\"ziele\\u0144/rekreacja\",\"inne\",\"inne\",\"inne\",\"inne\",\"piesze/rowerowe\",\"ziele\\u0144/rekreacja\",\"sport\",\"inne\",\"inne\",\"ziele\\u0144/rekreacja\",\"drogowe\",\"rewitalizacja\",\"inne\",\"inne\",\"inne\",\"inne\",\"inne\",\"inne\",\"piesze/rowerowe\",\"ziele\\u0144/rekreacja\",\"drogowe\",\"ziele\\u0144/rekreacja\",\"drogowe\",\"ziele\\u0144/rekreacja\",\"inne\",\"inne\",\"inne\",\"inne\",\"ziele\\u0144/rekreacja\",\"edukacja\",\"drogowe\",\"piesze/rowerowe\",\"inne\",\"drogowe\",\"ziele\\u0144/rekreacja\",\"ziele\\u0144/rekreacja\",\"edukacja\",\"place zabaw\",\"edukacja\",\"drogowe\",\"inne\",\"piesze/rowerowe\",\"ziele\\u0144/rekreacja\",\"rewitalizacja\",\"piesze/rowerowe\",\"sport\",\"drogowe\",\"piesze/rowerowe\",\"ziele\\u0144/rekreacja\",\"inne\",\"piesze/rowerowe\",\"ziele\\u0144/rekreacja\",\"ziele\\u0144/rekreacja\",\"ziele\\u0144/rekreacja\",\"piesze/rowerowe\",\"ziele\\u0144/rekreacja\",\"sport\",\"inne\",\"sport\",\"drogowe\",\"piesze/rowerowe\",\"sport\",\"inne\",\"rewitalizacja\",\"drogowe\",\"ziele\\u0144/rekreacja\",\"drogowe\",\"inne\",\"inne\",\"komunikacja zbiorowa\",\"inne\",\"piesze/rowerowe\",\"drogowe\",\"edukacja\",\"piesze/rowerowe\",\"ziele\\u0144/rekreacja\",\"ziele\\u0144/rekreacja\",\"ziele\\u0144/rekreacja\",\"ziele\\u0144/rekreacja\",\"drogowe\",\"edukacja\",\"drogowe\",\"sport\",\"ziele\\u0144/rekreacja\",\"drogowe\",\"edukacja\",\"ziele\\u0144/rekreacja\",\"ziele\\u0144/rekreacja\",\"ziele\\u0144/rekreacja\",\"ziele\\u0144/rekreacja\",\"piesze/rowerowe\",\"ziele\\u0144/rekreacja\",\"place zabaw\",\"sport\",\"ziele\\u0144/rekreacja\",\"ziele\\u0144/rekreacja\",\"edukacja\",\"piesze/rowerowe\",\"piesze/rowerowe\",\"inne\",\"komunikacja zbiorowa\",\"rewitalizacja\",\"piesze/rowerowe\",\"ziele\\u0144/rekreacja\",\"piesze/rowerowe\",\"ziele\\u0144/rekreacja\",\"piesze/rowerowe\",\"inne\",\"ziele\\u0144/rekreacja\",\"inne\",\"drogowe\",\"inne\",\"inne\",\"inne\",\"ziele\\u0144/rekreacja\",\"ziele\\u0144/rekreacja\",\"ziele\\u0144/rekreacja\",\"ziele\\u0144/rekreacja\",\"ziele\\u0144/rekreacja\",\"inne\",\"drogowe\",\"inne\",\"inne\",\"inne\",\"inne\",\"piesze/rowerowe\",\"ziele\\u0144/rekreacja\",\"drogowe\",\"piesze/rowerowe\",\"rewitalizacja\",\"piesze/rowerowe\",\"inne\",\"piesze/rowerowe\",\"drogowe\",\"piesze/rowerowe\",\"piesze/rowerowe\",\"drogowe\",\"ziele\\u0144/rekreacja\",\"piesze/rowerowe\",\"piesze/rowerowe\",\"drogowe\",\"inne\",\"inne\",\"inne\",\"place zabaw\",\"ziele\\u0144/rekreacja\",\"rewitalizacja\",\"piesze/rowerowe\",\"drogowe\",\"sport\",\"inne\",\"ziele\\u0144/rekreacja\",\"ziele\\u0144/rekreacja\",\"inne\",\"piesze/rowerowe\",\"drogowe\",\"edukacja\",\"inne\",\"drogowe\",\"ziele\\u0144/rekreacja\",\"ziele\\u0144/rekreacja\",\"drogowe\",\"inne\",\"inne\",\"piesze/rowerowe\",\"inne\",\"ziele\\u0144/rekreacja\",\"inne\",\"ziele\\u0144/rekreacja\",\"sport\",\"ziele\\u0144/rekreacja\",\"ziele\\u0144/rekreacja\",\"piesze/rowerowe\",\"piesze/rowerowe\",\"piesze/rowerowe\",\"komunikacja zbiorowa\",\"drogowe\",\"komunikacja zbiorowa\",\"inne\",\"komunikacja zbiorowa\",\"piesze/rowerowe\",\"ziele\\u0144/rekreacja\",\"piesze/rowerowe\",\"piesze/rowerowe\",\"piesze/rowerowe\",\"ziele\\u0144/rekreacja\",\"komunikacja zbiorowa\",\"komunikacja zbiorowa\",\"komunikacja zbiorowa\",\"inne\",\"inne\",\"piesze/rowerowe\",\"ziele\\u0144/rekreacja\",\"piesze/rowerowe\",\"komunikacja zbiorowa\",\"piesze/rowerowe\",\"ziele\\u0144/rekreacja\",\"komunikacja zbiorowa\",\"komunikacja zbiorowa\",\"komunikacja zbiorowa\",\"komunikacja zbiorowa\",\"komunikacja zbiorowa\",\"komunikacja zbiorowa\",\"drogowe\",\"komunikacja zbiorowa\",\"drogowe\",\"piesze/rowerowe\",\"komunikacja zbiorowa\",\"ziele\\u0144/rekreacja\",\"drogowe\",\"drogowe\",\"komunikacja zbiorowa\",\"inne\",\"ziele\\u0144/rekreacja\",\"piesze/rowerowe\",\"piesze/rowerowe\",\"podw\\u00f3rka\",\"piesze/rowerowe\",\"komunikacja zbiorowa\",\"drogowe\",\"drogowe\",\"drogowe\",\"inne\",\"drogowe\",\"piesze/rowerowe\",\"piesze/rowerowe\",\"piesze/rowerowe\",\"komunikacja zbiorowa\",\"piesze/rowerowe\",\"inne\",\"sport\",\"rewitalizacja\",\"inne\",\"drogowe\",\"komunikacja zbiorowa\",\"piesze/rowerowe\",\"piesze/rowerowe\",\"drogowe\",\"komunikacja zbiorowa\",\"ziele\\u0144/rekreacja\",\"drogowe\",\"piesze/rowerowe\",\"place zabaw\",\"komunikacja zbiorowa\",\"ziele\\u0144/rekreacja\",\"drogowe\",\"podw\\u00f3rka\",\"inne\",\"inne\",\"inne\",\"piesze/rowerowe\",\"drogowe\",\"inne\",\"inne\",\"ziele\\u0144/rekreacja\",\"sport\",\"inne\",\"piesze/rowerowe\",\"ziele\\u0144/rekreacja\",\"inne\",\"komunikacja zbiorowa\",\"ziele\\u0144/rekreacja\",\"ziele\\u0144/rekreacja\",\"piesze/rowerowe\",\"drogowe\",\"sport\",\"drogowe\",\"inne\",\"drogowe\",\"inne\",\"komunikacja zbiorowa\",\"piesze/rowerowe\",\"drogowe\",\"sport\",\"komunikacja zbiorowa\",\"piesze/rowerowe\",\"piesze/rowerowe\",\"piesze/rowerowe\",\"drogowe\",\"drogowe\",\"piesze/rowerowe\",\"piesze/rowerowe\",\"piesze/rowerowe\",\"piesze/rowerowe\",\"piesze/rowerowe\",\"piesze/rowerowe\",\"drogowe\",\"piesze/rowerowe\",\"ziele\\u0144/rekreacja\",\"ziele\\u0144/rekreacja\",\"piesze/rowerowe\",\"podw\\u00f3rka\",\"ziele\\u0144/rekreacja\",\"drogowe\",\"piesze/rowerowe\",\"ziele\\u0144/rekreacja\",\"inne\",\"piesze/rowerowe\",\"ziele\\u0144/rekreacja\",\"inne\",\"podw\\u00f3rka\",\"piesze/rowerowe\",\"place zabaw\",\"drogowe\",\"inne\",\"rewitalizacja\",\"place zabaw\",\"inne\",\"sport\",\"sport\",\"sport\",\"sport\",\"drogowe\",\"drogowe\",\"ziele\\u0144/rekreacja\",\"piesze/rowerowe\",\"inne\",\"drogowe\",\"ziele\\u0144/rekreacja\",\"komunikacja zbiorowa\",\"drogowe\",\"drogowe\",\"drogowe\",\"drogowe\",\"place zabaw\",\"sport\",\"drogowe\",\"sport\",\"ziele\\u0144/rekreacja\",\"ziele\\u0144/rekreacja\",\"piesze/rowerowe\",\"piesze/rowerowe\",\"drogowe\",\"drogowe\",\"piesze/rowerowe\",\"drogowe\",\"inne\",\"komunikacja zbiorowa\",\"drogowe\",\"sport\",\"ziele\\u0144/rekreacja\",\"piesze/rowerowe\",\"komunikacja zbiorowa\",\"inne\",\"piesze/rowerowe\",\"inne\",\"ziele\\u0144/rekreacja\",\"komunikacja zbiorowa\",\"komunikacja zbiorowa\",\"piesze/rowerowe\",\"place zabaw\",\"drogowe\",\"ziele\\u0144/rekreacja\",\"piesze/rowerowe\",\"komunikacja zbiorowa\",\"piesze/rowerowe\",\"ziele\\u0144/rekreacja\",\"inne\",\"ziele\\u0144/rekreacja\",\"ziele\\u0144/rekreacja\",\"ziele\\u0144/rekreacja\",\"rewitalizacja\",\"ziele\\u0144/rekreacja\",\"piesze/rowerowe\",\"inne\",\"ziele\\u0144/rekreacja\",\"sport\",\"drogowe\",\"drogowe\",\"piesze/rowerowe\",\"inne\",\"piesze/rowerowe\",\"sport\",\"ziele\\u0144/rekreacja\",\"drogowe\",\"ziele\\u0144/rekreacja\",\"sport\",\"inne\",\"piesze/rowerowe\",\"ziele\\u0144/rekreacja\",\"ziele\\u0144/rekreacja\",\"ziele\\u0144/rekreacja\",\"ziele\\u0144/rekreacja\",\"drogowe\",\"drogowe\",\"drogowe\",\"drogowe\",\"drogowe\",\"drogowe\",\"komunikacja zbiorowa\",\"drogowe\",\"ziele\\u0144/rekreacja\",\"ziele\\u0144/rekreacja\",\"ziele\\u0144/rekreacja\",\"inne\",\"piesze/rowerowe\",\"ziele\\u0144/rekreacja\",\"sport\",\"ziele\\u0144/rekreacja\",\"inne\",\"inne\",\"ziele\\u0144/rekreacja\",\"inne\",\"ziele\\u0144/rekreacja\",\"inne\",\"sport\",\"inne\",\"ziele\\u0144/rekreacja\",\"sport\",\"ziele\\u0144/rekreacja\",\"piesze/rowerowe\",\"piesze/rowerowe\",\"inne\",\"inne\",\"inne\",\"sport\",\"piesze/rowerowe\",\"inne\",\"inne\",\"podw\\u00f3rka\",\"podw\\u00f3rka\",\"sport\",\"ziele\\u0144/rekreacja\",\"inne\",\"piesze/rowerowe\",\"drogowe\",\"ziele\\u0144/rekreacja\",\"inne\",\"ziele\\u0144/rekreacja\",\"drogowe\",\"drogowe\",\"inne\",\"piesze/rowerowe\",\"inne\",\"sport\",\"ziele\\u0144/rekreacja\",\"ziele\\u0144/rekreacja\",\"drogowe\",\"podw\\u00f3rka\",\"ziele\\u0144/rekreacja\",\"ziele\\u0144/rekreacja\",\"komunikacja zbiorowa\",\"ziele\\u0144/rekreacja\",\"drogowe\",\"piesze/rowerowe\",\"ziele\\u0144/rekreacja\",\"ziele\\u0144/rekreacja\",\"ziele\\u0144/rekreacja\",\"piesze/rowerowe\",\"place zabaw\",\"rewitalizacja\",\"inne\",\"piesze/rowerowe\",\"drogowe\",\"inne\",\"piesze/rowerowe\",\"drogowe\",\"edukacja\",\"inne\",\"drogowe\",\"ziele\\u0144/rekreacja\",\"ziele\\u0144/rekreacja\",\"drogowe\",\"inne\",\"inne\",\"piesze/rowerowe\",\"inne\",\"ziele\\u0144/rekreacja\",\"inne\",\"ziele\\u0144/rekreacja\",\"sport\",\"zabytkowe\",\"ziele\\u0144/rekreacja\",\"drogowe\",\"ziele\\u0144/rekreacja\",\"ziele\\u0144/rekreacja\",\"drogowe\",\"rewitalizacja\",\"piesze/rowerowe\",\"drogowe\",\"ziele\\u0144/rekreacja\",\"ziele\\u0144/rekreacja\",\"ziele\\u0144/rekreacja\",\"ziele\\u0144/rekreacja\",\"inne\",\"drogowe\",\"rewitalizacja\",\"piesze/rowerowe\",\"drogowe\",\"ziele\\u0144/rekreacja\",\"drogowe\",\"drogowe\",\"ziele\\u0144/rekreacja\",\"ziele\\u0144/rekreacja\",\"piesze/rowerowe\",\"inne\",\"inne\",\"inne\",\"ziele\\u0144/rekreacja\",\"piesze/rowerowe\",\"inne\",\"zabytkowe\",\"inne\",\"ziele\\u0144/rekreacja\",\"komunikacja zbiorowa\",\"komunikacja zbiorowa\",\"drogowe\",\"place zabaw\",\"inne\",\"inne\",\"zabytkowe\",\"piesze/rowerowe\",\"piesze/rowerowe\",\"drogowe\",\"ziele\\u0144/rekreacja\",\"sport\",\"piesze/rowerowe\",\"drogowe\",\"podw\\u00f3rka\",\"piesze/rowerowe\",\"piesze/rowerowe\",\"zabytkowe\",\"zabytkowe\",\"zabytkowe\",\"sport\",\"komunikacja zbiorowa\",\"inne\",\"piesze/rowerowe\",\"piesze/rowerowe\",\"drogowe\",\"piesze/rowerowe\",\"zabytkowe\",\"zabytkowe\",\"piesze/rowerowe\",\"inne\",\"podw\\u00f3rka\",\"piesze/rowerowe\",\"drogowe\",\"ziele\\u0144/rekreacja\",\"ziele\\u0144/rekreacja\",\"ziele\\u0144/rekreacja\",\"rewitalizacja\",\"inne\",\"drogowe\",\"drogowe\",\"drogowe\",\"piesze/rowerowe\",\"place zabaw\",\"piesze/rowerowe\",\"ziele\\u0144/rekreacja\",\"inne\",\"piesze/rowerowe\",\"piesze/rowerowe\",\"piesze/rowerowe\",\"ziele\\u0144/rekreacja\",\"piesze/rowerowe\",\"sport\",\"ziele\\u0144/rekreacja\",\"drogowe\",\"inne\",\"inne\",\"drogowe\",\"ziele\\u0144/rekreacja\",\"komunikacja zbiorowa\",\"drogowe\",\"drogowe\",\"sport\",\"piesze/rowerowe\",\"piesze/rowerowe\",\"inne\",\"inne\",\"piesze/rowerowe\",\"inne\",\"sport\",\"piesze/rowerowe\",\"rewitalizacja\",\"piesze/rowerowe\",\"piesze/rowerowe\",\"rewitalizacja\",\"drogowe\",\"drogowe\",\"komunikacja zbiorowa\",\"piesze/rowerowe\",\"piesze/rowerowe\",\"inne\",\"inne\",\"sport\",\"inne\",\"inne\",\"ziele\\u0144/rekreacja\",\"ziele\\u0144/rekreacja\",\"ziele\\u0144/rekreacja\",\"drogowe\",\"ziele\\u0144/rekreacja\",\"ziele\\u0144/rekreacja\",\"ziele\\u0144/rekreacja\",\"ziele\\u0144/rekreacja\",\"inne\",\"podw\\u00f3rka\",\"ziele\\u0144/rekreacja\",\"ziele\\u0144/rekreacja\",\"ziele\\u0144/rekreacja\",\"ziele\\u0144/rekreacja\",\"inne\",\"ziele\\u0144/rekreacja\",\"ziele\\u0144/rekreacja\",\"ziele\\u0144/rekreacja\",\"piesze/rowerowe\",\"drogowe\",\"zabytkowe\",\"drogowe\",\"inne\",\"inne\",\"ziele\\u0144/rekreacja\",\"zabytkowe\",\"inne\",\"inne\",\"inne\",\"ziele\\u0144/rekreacja\",\"drogowe\",\"podw\\u00f3rka\",\"podw\\u00f3rka\",\"inne\",\"inne\",\"piesze/rowerowe\",\"ziele\\u0144/rekreacja\",\"ziele\\u0144/rekreacja\",\"inne\",\"ziele\\u0144/rekreacja\",\"piesze/rowerowe\",\"drogowe\",\"zabytkowe\",\"ziele\\u0144/rekreacja\",\"ziele\\u0144/rekreacja\",\"ziele\\u0144/rekreacja\",\"zabytkowe\",\"inne\",\"drogowe\",\"drogowe\",\"inne\",\"sport\",\"drogowe\",\"inne\",\"zabytkowe\",\"zabytkowe\",\"drogowe\",\"ziele\\u0144/rekreacja\",\"piesze/rowerowe\",\"sport\",\"piesze/rowerowe\",\"sport\",\"drogowe\",\"piesze/rowerowe\",\"piesze/rowerowe\",\"ziele\\u0144/rekreacja\",\"drogowe\",\"inne\",\"komunikacja zbiorowa\",\"zabytkowe\",\"inne\",\"ziele\\u0144/rekreacja\",\"sport\",\"zabytkowe\",\"ziele\\u0144/rekreacja\",\"inne\",\"zabytkowe\",\"ziele\\u0144/rekreacja\",\"inne\",\"ziele\\u0144/rekreacja\",\"inne\",\"inne\",\"inne\",\"drogowe\",\"ziele\\u0144/rekreacja\",\"ziele\\u0144/rekreacja\",\"ziele\\u0144/rekreacja\",\"drogowe\",\"zabytkowe\",\"piesze/rowerowe\",\"piesze/rowerowe\",\"piesze/rowerowe\",\"inne\",\"place zabaw\",\"place zabaw\",\"drogowe\",\"piesze/rowerowe\",\"ziele\\u0144/rekreacja\",\"piesze/rowerowe\",\"piesze/rowerowe\",\"drogowe\",\"inne\",\"ziele\\u0144/rekreacja\",\"ziele\\u0144/rekreacja\",\"ziele\\u0144/rekreacja\",\"inne\",\"inne\",\"sport\",\"ziele\\u0144/rekreacja\",\"komunikacja zbiorowa\",\"drogowe\",\"komunikacja zbiorowa\",\"sport\",\"komunikacja zbiorowa\",\"inne\",\"sport\",\"zabytkowe\",\"sport\",\"podw\\u00f3rka\",\"zabytkowe\",\"ziele\\u0144/rekreacja\",\"ziele\\u0144/rekreacja\",\"ziele\\u0144/rekreacja\",\"ziele\\u0144/rekreacja\",\"inne\",\"rewitalizacja\",\"piesze/rowerowe\",\"inne\",\"piesze/rowerowe\",\"ziele\\u0144/rekreacja\",\"piesze/rowerowe\",\"inne\",\"inne\",\"piesze/rowerowe\",\"zabytkowe\",\"drogowe\",\"ziele\\u0144/rekreacja\",\"ziele\\u0144/rekreacja\",\"ziele\\u0144/rekreacja\",\"ziele\\u0144/rekreacja\",\"piesze/rowerowe\",\"piesze/rowerowe\",\"sport\",\"ziele\\u0144/rekreacja\",\"inne\",\"drogowe\",\"drogowe\",\"piesze/rowerowe\",\"ziele\\u0144/rekreacja\",\"podw\\u00f3rka\",\"piesze/rowerowe\",\"zabytkowe\",\"ziele\\u0144/rekreacja\",\"drogowe\",\"piesze/rowerowe\",\"place zabaw\",\"piesze/rowerowe\",\"zabytkowe\",\"podw\\u00f3rka\",\"ziele\\u0144/rekreacja\",\"piesze/rowerowe\",\"zabytkowe\",\"piesze/rowerowe\",\"inne\",\"piesze/rowerowe\",\"zabytkowe\",\"drogowe\",\"piesze/rowerowe\",\"piesze/rowerowe\",\"piesze/rowerowe\",\"komunikacja zbiorowa\",\"piesze/rowerowe\",\"rewitalizacja\",\"ziele\\u0144/rekreacja\",\"nieinwestycyjne\",\"rewitalizacja\",\"ziele\\u0144/rekreacja\",\"piesze/rowerowe\",\"rewitalizacja\",\"komunikacja zbiorowa\",\"sport\",\"inne\",\"inne\",\"inne\",\"inne\",\"piesze/rowerowe\",\"sport\",\"piesze/rowerowe\",\"inne\",\"inne\",\"inne\",\"piesze/rowerowe\",\"ziele\\u0144/rekreacja\",\"piesze/rowerowe\",\"inne\",\"inne\",\"ziele\\u0144/rekreacja\",\"ziele\\u0144/rekreacja\",\"komunikacja zbiorowa\",\"komunikacja zbiorowa\",\"piesze/rowerowe\",\"inne\",\"place zabaw\",\"piesze/rowerowe\",\"drogowe\",\"piesze/rowerowe\",\"ziele\\u0144/rekreacja\",\"komunikacja zbiorowa\",\"inne\",\"ziele\\u0144/rekreacja\",\"place zabaw\",\"komunikacja zbiorowa\",\"podw\\u00f3rka\",\"inne\",\"ziele\\u0144/rekreacja\",\"ziele\\u0144/rekreacja\",\"ziele\\u0144/rekreacja\",\"drogowe\",\"drogowe\",\"ziele\\u0144/rekreacja\",\"drogowe\",\"ziele\\u0144/rekreacja\",\"ziele\\u0144/rekreacja\",\"ziele\\u0144/rekreacja\",\"drogowe\",\"podw\\u00f3rka\",\"piesze/rowerowe\",\"piesze/rowerowe\",\"ziele\\u0144/rekreacja\",\"ziele\\u0144/rekreacja\",\"sport\",\"piesze/rowerowe\",\"inne\",\"ziele\\u0144/rekreacja\",\"drogowe\",\"piesze/rowerowe\",\"piesze/rowerowe\",\"ziele\\u0144/rekreacja\",\"inne\",\"ziele\\u0144/rekreacja\",\"inne\",\"drogowe\",\"inne\",\"drogowe\",\"drogowe\",\"drogowe\",\"ziele\\u0144/rekreacja\",\"drogowe\",\"ziele\\u0144/rekreacja\",\"piesze/rowerowe\",\"ziele\\u0144/rekreacja\",\"drogowe\",\"ziele\\u0144/rekreacja\",\"sport\",\"drogowe\",\"drogowe\",\"sport\",\"piesze/rowerowe\",\"place zabaw\",\"piesze/rowerowe\",\"place zabaw\",\"drogowe\",\"ziele\\u0144/rekreacja\",\"place zabaw\",\"piesze/rowerowe\",\"ziele\\u0144/rekreacja\",\"ziele\\u0144/rekreacja\",\"komunikacja zbiorowa\",\"ziele\\u0144/rekreacja\",\"sport\",\"ziele\\u0144/rekreacja\",\"piesze/rowerowe\",\"drogowe\",\"inne\",\"ziele\\u0144/rekreacja\",\"podw\\u00f3rka\",\"inne\",\"ziele\\u0144/rekreacja\",\"inne\",\"inne\",\"piesze/rowerowe\",\"sport\",\"sport\",\"inne\",\"komunikacja zbiorowa\",\"ziele\\u0144/rekreacja\",\"inne\",\"piesze/rowerowe\",\"ziele\\u0144/rekreacja\",\"nieinwestycyjne\",\"drogowe\",\"ziele\\u0144/rekreacja\",\"piesze/rowerowe\",\"ziele\\u0144/rekreacja\",\"inne\",\"ziele\\u0144/rekreacja\",\"ziele\\u0144/rekreacja\",\"piesze/rowerowe\",\"nieinwestycyjne\",\"ziele\\u0144/rekreacja\",\"piesze/rowerowe\",\"ziele\\u0144/rekreacja\",\"piesze/rowerowe\",\"ziele\\u0144/rekreacja\",\"piesze/rowerowe\",\"piesze/rowerowe\",\"komunikacja zbiorowa\",\"drogowe\",\"podw\\u00f3rka\",\"podw\\u00f3rka\",\"piesze/rowerowe\",\"ziele\\u0144/rekreacja\",\"drogowe\",\"inne\",\"ziele\\u0144/rekreacja\",\"piesze/rowerowe\",\"drogowe\",\"komunikacja zbiorowa\",\"piesze/rowerowe\",\"piesze/rowerowe\",\"inne\",\"drogowe\",\"sport\",\"inne\",\"drogowe\",\"drogowe\",\"komunikacja zbiorowa\",\"podw\\u00f3rka\",\"ziele\\u0144/rekreacja\",\"sport\",\"nieinwestycyjne\",\"nieinwestycyjne\",\"ziele\\u0144/rekreacja\",\"rewitalizacja\",\"ziele\\u0144/rekreacja\",\"ziele\\u0144/rekreacja\",\"ziele\\u0144/rekreacja\",\"ziele\\u0144/rekreacja\",\"ziele\\u0144/rekreacja\",\"ziele\\u0144/rekreacja\",\"ziele\\u0144/rekreacja\",\"drogowe\",\"ziele\\u0144/rekreacja\",\"ziele\\u0144/rekreacja\",\"podw\\u00f3rka\",\"piesze/rowerowe\",\"ziele\\u0144/rekreacja\",\"piesze/rowerowe\",\"ziele\\u0144/rekreacja\",\"komunikacja zbiorowa\",\"komunikacja zbiorowa\",\"inne\",\"inne\",\"piesze/rowerowe\",\"ziele\\u0144/rekreacja\",\"ziele\\u0144/rekreacja\",\"piesze/rowerowe\",\"inne\",\"drogowe\",\"drogowe\",\"piesze/rowerowe\",\"sport\",\"ziele\\u0144/rekreacja\",\"place zabaw\",\"inne\",\"komunikacja zbiorowa\",\"drogowe\",\"komunikacja zbiorowa\",\"komunikacja zbiorowa\",\"komunikacja zbiorowa\",\"inne\",\"piesze/rowerowe\",\"piesze/rowerowe\",\"inne\",\"drogowe\",\"inne\",\"drogowe\",\"drogowe\",\"drogowe\",\"ziele\\u0144/rekreacja\",\"inne\",\"komunikacja zbiorowa\",\"piesze/rowerowe\",\"ziele\\u0144/rekreacja\",\"ziele\\u0144/rekreacja\",\"drogowe\",\"komunikacja zbiorowa\",\"drogowe\",\"sport\",\"inne\",\"komunikacja zbiorowa\",\"drogowe\",\"komunikacja zbiorowa\",\"inne\",\"ziele\\u0144/rekreacja\",\"rewitalizacja\",\"ziele\\u0144/rekreacja\",\"komunikacja zbiorowa\",\"sport\",\"podw\\u00f3rka\",\"ziele\\u0144/rekreacja\",\"drogowe\",\"drogowe\",\"drogowe\",\"ziele\\u0144/rekreacja\",\"inne\",\"inne\",\"inne\",\"inne\",\"piesze/rowerowe\",\"piesze/rowerowe\",\"ziele\\u0144/rekreacja\",\"podw\\u00f3rka\",\"piesze/rowerowe\",\"piesze/rowerowe\",\"inne\",\"drogowe\",\"ziele\\u0144/rekreacja\",\"podw\\u00f3rka\",\"inne\",\"drogowe\",\"ziele\\u0144/rekreacja\",\"piesze/rowerowe\",\"sport\",\"inne\",\"ziele\\u0144/rekreacja\",\"piesze/rowerowe\",\"ziele\\u0144/rekreacja\",\"ziele\\u0144/rekreacja\",\"inne\",\"piesze/rowerowe\",\"inne\",\"inne\",\"ziele\\u0144/rekreacja\",\"ziele\\u0144/rekreacja\",\"inne\",\"ziele\\u0144/rekreacja\",\"ziele\\u0144/rekreacja\",\"inne\",\"ziele\\u0144/rekreacja\",\"ziele\\u0144/rekreacja\",\"ziele\\u0144/rekreacja\",\"ziele\\u0144/rekreacja\",\"place zabaw\",\"inne\",\"piesze/rowerowe\",\"ziele\\u0144/rekreacja\",\"inne\",\"inne\",\"ziele\\u0144/rekreacja\",\"inne\",\"inne\",\"inne\",\"inne\",\"piesze/rowerowe\",\"piesze/rowerowe\",\"drogowe\",\"ziele\\u0144/rekreacja\",\"inne\",\"piesze/rowerowe\",\"rewitalizacja\",\"sport\",\"inne\",\"inne\",\"sport\",\"ziele\\u0144/rekreacja\",\"ziele\\u0144/rekreacja\",\"inne\",\"inne\",\"ziele\\u0144/rekreacja\",\"inne\",\"inne\",\"nieinwestycyjne\",\"ziele\\u0144/rekreacja\",\"piesze/rowerowe\",\"place zabaw\",\"drogowe\",\"drogowe\",\"ziele\\u0144/rekreacja\",\"place zabaw\",\"sport\",\"ziele\\u0144/rekreacja\",\"ziele\\u0144/rekreacja\",\"drogowe\",\"piesze/rowerowe\",\"ziele\\u0144/rekreacja\",\"place zabaw\",\"piesze/rowerowe\",\"ziele\\u0144/rekreacja\",\"inne\",\"ziele\\u0144/rekreacja\",\"inne\",\"ziele\\u0144/rekreacja\",\"inne\",\"ziele\\u0144/rekreacja\",\"inne\",\"ziele\\u0144/rekreacja\",\"inne\",\"inne\",\"ziele\\u0144/rekreacja\",\"ziele\\u0144/rekreacja\",\"nieinwestycyjne\",\"sport\",\"inne\",\"place zabaw\",\"ziele\\u0144/rekreacja\",\"piesze/rowerowe\",\"ziele\\u0144/rekreacja\",\"sport\",\"inne\",\"komunikacja zbiorowa\",\"drogowe\",\"komunikacja zbiorowa\",\"piesze/rowerowe\",\"komunikacja zbiorowa\",\"piesze/rowerowe\",\"inne\",\"ziele\\u0144/rekreacja\",\"drogowe\",\"sport\",\"komunikacja zbiorowa\",\"komunikacja zbiorowa\",\"piesze/rowerowe\",\"ziele\\u0144/rekreacja\",\"sport\",\"ziele\\u0144/rekreacja\",\"ziele\\u0144/rekreacja\",\"ziele\\u0144/rekreacja\",\"inne\",\"inne\",\"piesze/rowerowe\",\"inne\",\"inne\",\"ziele\\u0144/rekreacja\",\"drogowe\",\"inne\",\"komunikacja zbiorowa\",\"piesze/rowerowe\",\"piesze/rowerowe\",\"ziele\\u0144/rekreacja\",\"komunikacja zbiorowa\",\"komunikacja zbiorowa\",\"inne\",\"piesze/rowerowe\",\"komunikacja zbiorowa\",\"piesze/rowerowe\",\"piesze/rowerowe\",\"piesze/rowerowe\",\"piesze/rowerowe\",\"rewitalizacja\",\"sport\",\"inne\",\"piesze/rowerowe\",\"inne\",\"piesze/rowerowe\",\"ziele\\u0144/rekreacja\",\"sport\",\"inne\",\"inne\",\"inne\",\"piesze/rowerowe\",\"inne\",\"drogowe\",\"ziele\\u0144/rekreacja\",\"piesze/rowerowe\",\"inne\",\"piesze/rowerowe\",\"inne\",\"inne\",\"inne\",\"piesze/rowerowe\",\"inne\",\"drogowe\",\"piesze/rowerowe\",\"piesze/rowerowe\",\"place zabaw\",\"piesze/rowerowe\",\"ziele\\u0144/rekreacja\",\"komunikacja zbiorowa\",\"sport\",\"sport\",\"sport\",\"piesze/rowerowe\",\"sport\",\"ziele\\u0144/rekreacja\",\"sport\",\"piesze/rowerowe\",\"inne\",\"inne\",\"rewitalizacja\",\"piesze/rowerowe\",\"drogowe\",\"piesze/rowerowe\",\"piesze/rowerowe\",\"sport\",\"place zabaw\",\"inne\",\"sport\",\"ziele\\u0144/rekreacja\",\"ziele\\u0144/rekreacja\",\"ziele\\u0144/rekreacja\",\"ziele\\u0144/rekreacja\",\"piesze/rowerowe\",\"komunikacja zbiorowa\",\"ziele\\u0144/rekreacja\",\"sport\",\"piesze/rowerowe\",\"ziele\\u0144/rekreacja\",\"nieinwestycyjne\",\"komunikacja zbiorowa\",\"sport\",\"inne\",\"inne\",\"place zabaw\",\"ziele\\u0144/rekreacja\",\"piesze/rowerowe\",\"inne\",\"inne\",\"inne\",\"ziele\\u0144/rekreacja\",\"piesze/rowerowe\",\"ziele\\u0144/rekreacja\",\"piesze/rowerowe\",\"ziele\\u0144/rekreacja\",\"ziele\\u0144/rekreacja\",\"piesze/rowerowe\",\"inne\",\"piesze/rowerowe\",\"ziele\\u0144/rekreacja\",\"inne\",\"piesze/rowerowe\",\"piesze/rowerowe\",\"ziele\\u0144/rekreacja\",\"piesze/rowerowe\",\"rewitalizacja\",\"rewitalizacja\",\"rewitalizacja\",\"rewitalizacja\",\"komunikacja zbiorowa\",\"ziele\\u0144/rekreacja\",\"ziele\\u0144/rekreacja\",\"inne\",\"ziele\\u0144/rekreacja\",\"inne\",\"inne\",\"inne\",\"nieinwestycyjne\",\"place zabaw\",\"nieinwestycyjne\",\"inne\",\"drogowe\",\"piesze/rowerowe\",\"sport\",\"drogowe\",\"ziele\\u0144/rekreacja\",\"sport\",\"rewitalizacja\",\"piesze/rowerowe\",\"sport\",\"ziele\\u0144/rekreacja\"],\"x0\":\" \",\"xaxis\":\"x\",\"y\":[1000000.0,750000.0,1000000.0,500000.0,500000.0,1000000.0,20000.0,1000.0,250000.0,1311100.0,1000000.0,950000.0,30000.0,50000.0,150000.0,1000.0,1000000.0,250000.0,750000.0,100000.0,100000.0,100000.0,100000.0,9000.0,250000.0,500000.0,1000000.0,50000.0,250000.0,30000.0,1000000.0,50000.0,250000.0,240000.0,500000.0,100000.0,150000.0,100000.0,740000.0,50000.0,500000.0,80000.0,20000.0,300000.0,10000.0,650000.0,129999.0,250000.0,80000.0,250000.0,200000.0,500000.0,600000.0,500000.0,300000.0,999999.0,98000.0,125000.0,750000.0,193000.0,750000.0,455555.0,64000.0,500000.0,750000.0,750000.0,1000000.0,750000.0,500000.0,750000.0,750000.0,1000000.0,680000.0,900000.0,100000.0,700000.0,90000.0,200000.0,175000.0,695000.0,500000.0,500000.0,250000.0,500000.0,750000.0,750000.0,1000000.0,15000.0,750000.0,6000.0,1000000.0,250000.0,250000.0,50000.0,235000.0,250000.0,250000.0,250000.0,800000.0,160000.0,500000.0,100000.0,750000.0,150000.0,750000.0,1000000.0,500000.0,400000.0,195400.0,750000.0,700000.0,90000.0,250000.0,500000.0,90000.0,50000.0,750000.0,250000.0,100000.0,105600.0,250000.0,1000000.0,250000.0,550000.0,700000.0,150000.0,746950.0,221230.0,250000.0,30000.0,300000.0,53500.0,250000.0,150000.0,250000.0,750000.0,1000000.0,750000.0,750000.0,750000.0,750000.0,250000.0,700000.0,250000.0,250000.0,250000.0,250000.0,150000.0,750000.0,48000.0,100000.0,20000.0,200000.0,75000.0,250000.0,750000.0,750000.0,750000.0,750000.0,750000.0,750000.0,104000.0,500000.0,2000.0,250000.0,700000.0,1000000.0,750000.0,750000.0,750000.0,750000.0,1500000.0,996000.0,60000.0,95000.0,20000.0,250000.0,250000.0,750000.0,250000.0,250000.0,90000.0,650000.0,250000.0,250000.0,500000.0,250000.0,150000.0,640000.0,50000.0,250000.0,250000.0,108000.0,750000.0,80000.0,1000000.0,30000.0,25000.0,1000000.0,250000.0,1000000.0,200000.0,14700.0,250000.0,1000000.0,77600.0,500000.0,1000.0,250000.0,900000.0,1000.0,300000.0,10000.0,900000.0,750000.0,195000.0,520000.0,500000.0,500000.0,750000.0,100000.0,250000.0,1000000.0,680000.0,250000.0,750000.0,750000.0,14999.0,1000000.0,350000.0,750000.0,250000.0,250000.0,650000.0,440000.0,500000.0,500000.0,750000.0,1000000.0,250000.0,750000.0,250000.0,1000000.0,750000.0,1000000.0,250000.0,250000.0,242000.0,1000000.0,1000000.0,500000.0,250000.0,500000.0,250000.0,250000.0,150000.0,240200.0,150000.0,18000.0,200000.0,250000.0,500000.0,250000.0,1000000.0,250000.0,15000.0,2500.0,300000.0,750000.0,250000.0,750000.0,750000.0,245000.0,750000.0,60000.0,55000.0,250000.0,750000.0,750000.0,150000.0,250000.0,500000.0,750000.0,1000000.0,1000000.0,85000.0,250000.0,250000.0,1000000.0,115000.0,1000000.0,750000.0,750000.0,1000000.0,150000.0,150000.0,95000.0,750000.0,250000.0,250000.0,150000.0,250000.0,250000.0,300000.0,750000.0,200000.0,500000.0,750000.0,0.0,980000.0,1000000.0,242000.0,109500.0,550000.0,500000.0,250000.0,600000.0,200000.0,200000.0,1000000.0,250000.0,1000000.0,100000.0,1000000.0,750000.0,1000000.0,300000.0,470000.0,1000000.0,100000.0,250000.0,400000.0,1000000.0,500000.0,900000.0,500000.0,460000.0,1000000.0,250000.0,20.0,150000.0,150000.0,100000.0,100000.0,150000.0,250000.0,700000.0,200000.0,200000.0,30000.0,30000.0,750000.0,1500.0,1000000.0,500000.0,1000000.0,15000.0,50000.0,250000.0,500000.0,750000.0,200000.0,750000.0,750000.0,250000.0,555000.0,750000.0,750000.0,100000.0,750000.0,50000.0,1000000.0,20000.0,210000.0,750000.0,409500.0,120000.0,500000.0,152500.0,210000.0,468000.0,250000.0,250000.0,150000.0,250000.0,550000.0,4500.0,1000000.0,500000.0,165075.0,520000.0,20000.0,1000000.0,200000.0,550000.0,750000.0,50000.0,150000.0,232000.0,20000.0,750000.0,249000.0,1000.0,1000000.0,250000.0,18000.0,35000.0,250000.0,750000.0,1000000.0,1000000.0,1000000.0,100000.0,500000.0,250000.0,750000.0,250000.0,750000.0,250000.0,250000.0,750000.0,500000.0,500000.0,300000.0,750000.0,100000.0,200.0,100000.0,250000.0,200000.0,750000.0,150000.0,750000.0,245000.0,250000.0,1000000.0,249000.0,75000.0,10000.0,400000.0,240000.0,300000.0,500000.0,250000.0,150000.0,750000.0,750000.0,170000.0,750000.0,250000.0,14000.0,999996.0,999999.0,999999.0,999999.0,400000.0,1000000.0,600000.0,750000.0,400000.0,499999.0,985000.0,2600.0,750000.0,1000000.0,1000000.0,1000000.0,200000.0,250000.0,210000.0,250000.0,100000.0,250000.0,100000.0,483000.0,200000.0,244000.0,350000.0,100.0,120000.0,2000.0,1000000.0,750000.0,750000.0,3000.0,1000000.0,250000.0,100000.0,250000.0,750000.0,1000000.0,500000.0,80000.0,50000.0,750000.0,14999.0,750000.0,500000.0,70000.0,100000.0,300000.0,1000000.0,800000.0,1000000.0,250000.0,250.0,450000.0,320000.0,100000.0,48000.0,500000.0,750000.0,50000.0,13000.0,80000.0,500000.0,250.0,730000.0,150000.0,1000000.0,1000.0,60000.0,400000.0,750000.0,250.0,600000.0,27500.0,27500.0,17000.0,750000.0,25000.0,20000.0,1000000.0,70000.0,500000.0,150000.0,700000.0,50000.0,1000000.0,750000.0,450000.0,1000000.0,90000.0,250000.0,300000.0,1000000.0,750000.0,250000.0,346082.0,750000.0,100000.0,250000.0,1000000.0,250000.0,750000.0,175000.0,156000.0,40000.0,750000.0,100000.0,1000000.0,135000.0,240000.0,269500.0,750000.0,240000.0,161700.0,210000.0,700000.0,750000.0,30000.0,50000.0,750000.0,1000000.0,100000.0,200000.0,1000000.0,250000.0,130000.0,1000000.0,1000000.0,180000.0,150000.0,750000.0,750000.0,150000.0,1000000.0,150000.0,50000.0,200000.0,250000.0,50000.0,750000.0,250000.0,250000.0,70000.0,967000.0,0.0,750000.0,250000.0,250000.0,150000.0,250000.0,250000.0,300000.0,750000.0,200000.0,500000.0,750000.0,0.0,980000.0,1000000.0,242000.0,109500.0,100000.0,500000.0,100000.0,400000.0,750000.0,1000000.0,750000.0,1000000.0,750000.0,100000.0,150000.0,200000.0,750000.0,300000.0,1000000.0,250000.0,400000.0,750000.0,750000.0,750000.0,1000000.0,20000.0,100000.0,50000.0,1000000.0,1000000.0,30000.0,40000.0,400000.0,75000.0,30000.0,250000.0,1000000.0,600000.0,750000.0,700000.0,750000.0,750000.0,250000.0,100000.0,200000.0,100000.0,250000.0,300000.0,100000.0,50000.0,1000000.0,500000.0,10000.0,300000.0,100000.0,40000.0,100000.0,750000.0,100000.0,100000.0,250000.0,750000.0,250000.0,1000000.0,100000.0,50000.0,1000000.0,250000.0,750000.0,250000.0,100000.0,1000000.0,250000.0,450000.0,500000.0,150000.0,150000.0,1000000.0,250000.0,250000.0,750000.0,104000.0,60000.0,10000.0,420000.0,240000.0,750000.0,560000.0,235000.0,550000.0,750000.0,200000.0,300000.0,435000.0,1000000.0,200000.0,750000.0,750000.0,750000.0,250000.0,750000.0,240000.0,245000.0,500000.0,15000.0,1000000.0,250000.0,980000.0,250000.0,1000000.0,250000.0,250000.0,250000.0,1000000.0,660000.0,200000.0,5000.0,99999.0,150000.0,750000.0,250000.0,250000.0,250000.0,750000.0,250000.0,50000.0,250000.0,250000.0,750000.0,750000.0,250000.0,250000.0,250000.0,750000.0,250000.0,250000.0,250000.0,250000.0,250000.0,1000000.0,750000.0,250000.0,100000.0,100000.0,1700.0,77000.0,333000.0,40000.0,250000.0,250000.0,100000.0,250000.0,150000.0,250000.0,750000.0,250000.0,250000.0,250000.0,250000.0,250000.0,300000.0,150000.0,500000.0,1000000.0,40000.0,250000.0,750000.0,250000.0,20000.0,500000.0,500000.0,50000.0,1000000.0,1000000.0,750000.0,735000.0,50000.0,70000.0,2000.0,250000.0,750000.0,750000.0,745000.0,1000000.0,250000.0,572000.0,728000.0,1000000.0,250000.0,749000.0,100000.0,95000.0,25000.0,740000.0,750000.0,100000.0,250000.0,1000000.0,15000.0,900000.0,750000.0,1000000.0,200000.0,166000.0,500000.0,240000.0,400000.0,150000.0,250000.0,250000.0,6000.0,350000.0,350000.0,250000.0,1000000.0,500000.0,500000.0,10000.0,1000000.0,1000000.0,200000.0,1000000.0,700000.0,1000000.0,749998.0,100000.0,100000.0,68000.0,250000.0,700000.0,150000.0,250000.0,250000.0,250000.0,180000.0,250000.0,250000.0,250000.0,100000.0,240000.0,750000.0,98500.0,750000.0,1000000.0,250000.0,122000.0,350000.0,250000.0,750000.0,250000.0,400.0,750000.0,120000.0,80000.0,500000.0,100000.0,80000.0,200000.0,750000.0,250000.0,1000000.0,1000000.0,750000.0,750000.0,750000.0,200000.0,1000000.0,750000.0,30000.0,750000.0,200000.0,750000.0,250000.0,20000.0,250000.0,250000.0,400000.0,250000.0,1000000.0,100000.0,750000.0,1000000.0,500000.0,100000.0,200000.0,500000.0,400000.0,60000.0,90000.0,1000000.0,440000.0,250000.0,1000000.0,750000.0,200000.0,2000000.0,350000.0,750000.0,2000000.0,750000.0,750000.0,1295000.0,650000.0,2000000.0,500000.0,250000.0,80000.0,750000.0,400000.0,500000.0,1000000.0,2000000.0,2000000.0,2000000.0,700000.0,2000000.0,2000000.0,2000000.0,750000.0,2000000.0,1000000.0,100000.0,1000000.0,95000.0,250000.0,750000.0,1900000.0,960000.0,70000.0,2000000.0,2000000.0,750000.0,900000.0,200000.0,750000.0,500000.0,800000.0,150000.0,1900000.0,750000.0,400000.0,147500.0,750000.0,750000.0,750000.0,750000.0,2000000.0,300000.0,2000000.0,2000000.0,500000.0,500000.0,250000.0,750000.0,749000.0,85000.0,190000.0,180000.0,200000.0,150000.0,1500000.0,2000000.0,100000.0,500.0,20000.0,750000.0,2000000.0,1100000.0,750000.0,1500000.0,2000000.0,500000.0,750000.0,300000.0,2000000.0,700000.0,750000.0,199000.0,750000.0,750000.0,750000.0,750000.0,300000.0,20000.0,500000.0,50000.0,500000.0,749000.0,750000.0,2000000.0,10000.0,2000000.0,300000.0,1000000.0,30000.0,500000.0,250000.0,750000.0,480000.0,750000.0,2000000.0,2000000.0,600000.0,2000000.0,2000000.0,350000.0,2000000.0,100000.0,80000.0,2000000.0,750000.0,160145.0,600000.0,2000000.0,300000.0,300000.0,80000.0,750000.0,750000.0,445000.0,500000.0,250000.0,2000000.0,750000.0,750000.0,2000000.0,2000000.0,2000000.0,2000000.0,750000.0,2000000.0,550000.0,250000.0,2000000.0,75000.0,2000000.0,300000.0,200000.0,749910.0,2000000.0,2000000.0,2000000.0,250000.0,150000.0,2000000.0,200000.0,750000.0,2000000.0,2000000.0,250000.0,2000000.0,750000.0,750000.0,397000.0,750000.0,2000000.0,750000.0,750000.0,2000000.0,750000.0,750000.0,2000000.0,750000.0,500000.0,2000000.0,750000.0,100000.0,2000000.0,500000.0,2000000.0,1000000.0,750000.0,2000000.0,1500000.0,2000000.0,2000000.0,2000000.0,250000.0,750000.0,150000.0,450000.0,700000.0,459996.0,499943.0,850001.0,750000.0,150000.0,260000.0,700000.0,2000000.0,2000000.0,400000.0,500000.0,710000.0,749000.0,50000.0,350000.0,55000.0,185000.0,745500.0,99997.0,45000.0,750000.0,564500.0,460000.0,1000000.0,2000000.0,100000.0,2000000.0,2.0,2000000.0,100000.0,2000000.0,750000.0,2000000.0,100000.0,30000.0,750000.0,300000.0,1000000.0,1000000.0,1200000.0,150000.0,615000.0,540000.0,31000.0,35496.0,598799.0,350.0,300000.0,89998.0,800000.0,499999.0,210000.0,2000000.0,1000000.0,100000.0,400000.0,10000.0,60000.0,750000.0,250000.0,750000.0,1000000.0,2000000.0,1500000.0,30000.0,2000000.0,1000000.0,300000.0,200000.0,1000000.0,200000.0,900000.0,500000.0,600000.0,650000.0,100000.0,710000.0,700000.0,1000000.0,300000.0,2000000.0,450000.0,620000.0,2000000.0,600000.0,2000000.0,900000.0,300000.0,745000.0,250000.0,200000.0,200000.0,2000000.0,750000.0,1500000.0,400000.0,750000.0,750000.0,10000.0,250000.0,2000000.0,15000.0,1000000.0,900000.0,500000.0,750000.0,250000.0,750000.0,750000.0,150000.0,55000.0,350000.0,142400.0,750000.0,2000000.0,750000.0,40000.0,2000000.0,250000.0,250000.0,1200000.0,400000.0,95000.0,2000000.0,2000000.0,2000000.0,200000.0,600000.0,150000.0,600000.0,2000000.0,150000.0,2000000.0,2000000.0,1999999.0,550000.0,2000000.0,2000000.0,1999961.0,750000.0,2000000.0,200000.0,750000.0,200000.0,750000.0,500000.0,750000.0,1000000.0,150000.0,2000000.0,2000000.0,750000.0,1000000.0,60000.0,1000000.0,500000.0,50000.0,2000000.0,2000000.0,750000.0,100000.0,100000.0,200000.0,100000.0,80000.0,850000.0,1500000.0,750000.0,2000000.0,1300000.0,2000000.0,690000.0,747500.0,750000.0,500000.0,1900000.0,750000.0,2000000.0,55000.0,750000.0,750000.0,2000000.0,750000.0,750000.0,2000000.0,500000.0,200000.0,600000.0,600000.0,750000.0,208989.0,36000.0,400000.0,2000000.0,100000.0,750000.0,700000.0,1500000.0,600000.0,50000.0,400000.0,85000.0,15430.0,740000.0,320000.0,55000.0,432000.0,348900.0,30000.0,45000.0,60000.0,48000.0,678000.0,850000.0,300000.0,750000.0,750000.0,165000.0,500000.0,100000.0,900000.0,100000.0,65000.0,100000.0,30000.0,100000.0,80000.0,600000.0,500000.0,250000.0,500000.0,2000000.0,500000.0,750000.0,103200.0,15000.0,1000000.0,270000.0,1750000.0,750000.0,2000000.0,237028.0,55000.0,750000.0,250000.0,30000.0,740000.0,180000.0,750000.0,1000000.0,300000.0,1010500.0,2000000.0,500000.0,2000000.0,220.0,170000.0,300000.0,1500000.0,150000.0,2000000.0,750000.0,130000.0,750000.0,2000000.0,750000.0,500000.0,2000000.0,150000.0,89000.0,10000.0,178500.0,555000.0,500000.0,350000.0,350000.0,350000.0,350000.0,551000.0,2000000.0,2000000.0,155000.0,200000.0,251000.0,30000.0,251000.0,10000.0,300000.0,2000.0,344000.0,650000.0,50000.0,750000.0,125000.0,2000000.0,2000000.0,750000.0,2000000.0,750000.0,20000.0],\"y0\":\" \",\"yaxis\":\"y\",\"type\":\"box\"},{\"alignmentgroup\":\"True\",\"hovertemplate\":\"status=Wybrany w g\\u0142osowaniu<br>category=%{x}<br>budget=%{y}<extra></extra>\",\"legendgroup\":\"Wybrany w g\\u0142osowaniu\",\"marker\":{\"color\":\"#00cc96\"},\"name\":\"Wybrany w g\\u0142osowaniu\",\"notched\":false,\"offsetgroup\":\"Wybrany w g\\u0142osowaniu\",\"orientation\":\"v\",\"showlegend\":true,\"x\":[\"ziele\\u0144/rekreacja\",\"piesze/rowerowe\",\"piesze/rowerowe\",\"inne\",\"ziele\\u0144/rekreacja\",\"ziele\\u0144/rekreacja\",\"piesze/rowerowe\",\"inne\",\"sport\",\"place zabaw\",\"ziele\\u0144/rekreacja\",\"place zabaw\",\"ziele\\u0144/rekreacja\",\"sport\",\"drogowe\",\"piesze/rowerowe\",\"inne\",\"ziele\\u0144/rekreacja\",\"ziele\\u0144/rekreacja\",\"edukacja\",\"piesze/rowerowe\",\"piesze/rowerowe\",\"edukacja\",\"piesze/rowerowe\",\"ziele\\u0144/rekreacja\",\"drogowe\",\"edukacja\",\"sport\",\"edukacja\",\"ziele\\u0144/rekreacja\",\"place zabaw\",\"drogowe\",\"drogowe\",\"edukacja\",\"ziele\\u0144/rekreacja\",\"ziele\\u0144/rekreacja\",\"rewitalizacja\",\"edukacja\",\"ziele\\u0144/rekreacja\",\"ziele\\u0144/rekreacja\",\"place zabaw\",\"sport\",\"piesze/rowerowe\",\"sport\",\"drogowe\",\"edukacja\",\"edukacja\",\"ziele\\u0144/rekreacja\",\"ziele\\u0144/rekreacja\",\"drogowe\",\"place zabaw\",\"piesze/rowerowe\",\"rewitalizacja\",\"edukacja\",\"place zabaw\",\"drogowe\",\"ziele\\u0144/rekreacja\",\"ziele\\u0144/rekreacja\",\"inne\",\"drogowe\",\"ziele\\u0144/rekreacja\",\"ziele\\u0144/rekreacja\",\"ziele\\u0144/rekreacja\",\"place zabaw\",\"ziele\\u0144/rekreacja\",\"ziele\\u0144/rekreacja\",\"sport\",\"rewitalizacja\",\"piesze/rowerowe\",\"sport\",\"piesze/rowerowe\",\"ziele\\u0144/rekreacja\",\"ziele\\u0144/rekreacja\",\"piesze/rowerowe\",\"piesze/rowerowe\",\"place zabaw\",\"drogowe\",\"place zabaw\",\"ziele\\u0144/rekreacja\",\"ziele\\u0144/rekreacja\",\"ziele\\u0144/rekreacja\",\"sport\",\"piesze/rowerowe\",\"ziele\\u0144/rekreacja\",\"drogowe\",\"ziele\\u0144/rekreacja\",\"podw\\u00f3rka\",\"sport\",\"inne\",\"ziele\\u0144/rekreacja\",\"sport\",\"piesze/rowerowe\",\"ziele\\u0144/rekreacja\",\"sport\",\"sport\",\"place zabaw\",\"ziele\\u0144/rekreacja\",\"sport\",\"sport\",\"ziele\\u0144/rekreacja\",\"sport\",\"ziele\\u0144/rekreacja\",\"sport\",\"piesze/rowerowe\",\"piesze/rowerowe\",\"sport\",\"ziele\\u0144/rekreacja\",\"sport\",\"place zabaw\",\"sport\",\"ziele\\u0144/rekreacja\",\"ziele\\u0144/rekreacja\",\"piesze/rowerowe\",\"sport\",\"ziele\\u0144/rekreacja\",\"piesze/rowerowe\",\"sport\",\"podw\\u00f3rka\",\"ziele\\u0144/rekreacja\",\"ziele\\u0144/rekreacja\",\"podw\\u00f3rka\",\"ziele\\u0144/rekreacja\",\"ziele\\u0144/rekreacja\",\"piesze/rowerowe\",\"ziele\\u0144/rekreacja\",\"piesze/rowerowe\",\"drogowe\",\"piesze/rowerowe\",\"inne\",\"drogowe\",\"ziele\\u0144/rekreacja\",\"ziele\\u0144/rekreacja\",\"ziele\\u0144/rekreacja\",\"place zabaw\",\"piesze/rowerowe\",\"piesze/rowerowe\",\"ziele\\u0144/rekreacja\",\"ziele\\u0144/rekreacja\",\"sport\",\"piesze/rowerowe\",\"ziele\\u0144/rekreacja\",\"ziele\\u0144/rekreacja\",\"piesze/rowerowe\",\"ziele\\u0144/rekreacja\",\"ziele\\u0144/rekreacja\",\"ziele\\u0144/rekreacja\",\"ziele\\u0144/rekreacja\",\"ziele\\u0144/rekreacja\",\"ziele\\u0144/rekreacja\",\"ziele\\u0144/rekreacja\",\"ziele\\u0144/rekreacja\",\"ziele\\u0144/rekreacja\",\"place zabaw\",\"piesze/rowerowe\",\"podw\\u00f3rka\",\"ziele\\u0144/rekreacja\",\"ziele\\u0144/rekreacja\",\"ziele\\u0144/rekreacja\",\"piesze/rowerowe\",\"sport\",\"ziele\\u0144/rekreacja\",\"ziele\\u0144/rekreacja\",\"place zabaw\",\"ziele\\u0144/rekreacja\",\"ziele\\u0144/rekreacja\",\"ziele\\u0144/rekreacja\",\"sport\",\"sport\",\"place zabaw\",\"sport\",\"sport\",\"ziele\\u0144/rekreacja\",\"place zabaw\",\"place zabaw\",\"place zabaw\",\"podw\\u00f3rka\",\"ziele\\u0144/rekreacja\",\"ziele\\u0144/rekreacja\",\"inne\",\"inne\",\"inne\",\"ziele\\u0144/rekreacja\",\"sport\",\"ziele\\u0144/rekreacja\",\"zabytkowe\",\"ziele\\u0144/rekreacja\",\"place zabaw\",\"ziele\\u0144/rekreacja\",\"ziele\\u0144/rekreacja\",\"ziele\\u0144/rekreacja\",\"ziele\\u0144/rekreacja\",\"ziele\\u0144/rekreacja\",\"ziele\\u0144/rekreacja\",\"piesze/rowerowe\",\"place zabaw\",\"ziele\\u0144/rekreacja\",\"ziele\\u0144/rekreacja\",\"ziele\\u0144/rekreacja\",\"ziele\\u0144/rekreacja\",\"ziele\\u0144/rekreacja\",\"place zabaw\",\"ziele\\u0144/rekreacja\",\"sport\",\"rewitalizacja\",\"place zabaw\",\"place zabaw\",\"ziele\\u0144/rekreacja\",\"sport\",\"ziele\\u0144/rekreacja\",\"ziele\\u0144/rekreacja\",\"sport\",\"inne\",\"ziele\\u0144/rekreacja\",\"ziele\\u0144/rekreacja\",\"piesze/rowerowe\",\"ziele\\u0144/rekreacja\",\"ziele\\u0144/rekreacja\",\"ziele\\u0144/rekreacja\",\"ziele\\u0144/rekreacja\",\"ziele\\u0144/rekreacja\",\"ziele\\u0144/rekreacja\",\"ziele\\u0144/rekreacja\",\"ziele\\u0144/rekreacja\",\"ziele\\u0144/rekreacja\",\"ziele\\u0144/rekreacja\",\"ziele\\u0144/rekreacja\",\"ziele\\u0144/rekreacja\",\"ziele\\u0144/rekreacja\",\"ziele\\u0144/rekreacja\",\"drogowe\",\"piesze/rowerowe\",\"ziele\\u0144/rekreacja\",\"ziele\\u0144/rekreacja\",\"ziele\\u0144/rekreacja\",\"ziele\\u0144/rekreacja\",\"place zabaw\",\"rewitalizacja\",\"piesze/rowerowe\",\"drogowe\",\"ziele\\u0144/rekreacja\",\"ziele\\u0144/rekreacja\",\"ziele\\u0144/rekreacja\",\"inne\",\"ziele\\u0144/rekreacja\",\"ziele\\u0144/rekreacja\",\"ziele\\u0144/rekreacja\",\"ziele\\u0144/rekreacja\",\"ziele\\u0144/rekreacja\",\"place zabaw\",\"place zabaw\",\"ziele\\u0144/rekreacja\",\"piesze/rowerowe\",\"ziele\\u0144/rekreacja\"],\"x0\":\" \",\"xaxis\":\"x\",\"y\":[250000.0,1000000.0,250000.0,70000.0,80000.0,750000.0,750000.0,250000.0,150000.0,250000.0,250000.0,250000.0,750000.0,750000.0,250000.0,140000.0,250000.0,100000.0,150000.0,250000.0,150000.0,250000.0,750000.0,150000.0,250000.0,250000.0,200000.0,250000.0,250000.0,750000.0,250000.0,250000.0,750000.0,250000.0,100000.0,750000.0,250000.0,250000.0,250000.0,750000.0,250000.0,750000.0,250000.0,250000.0,250000.0,500000.0,215000.0,250000.0,250000.0,250000.0,650000.0,150000.0,250000.0,750000.0,560000.0,250000.0,1000000.0,100000.0,1000000.0,250000.0,250000.0,750000.0,750000.0,250000.0,750000.0,900000.0,750000.0,250000.0,1000000.0,250000.0,250000.0,700000.0,150000.0,1000000.0,250000.0,250000.0,750000.0,250000.0,250000.0,250000.0,250000.0,200000.0,150000.0,250000.0,100000.0,100000.0,250000.0,250000.0,70000.0,250000.0,250000.0,250000.0,250000.0,700000.0,750000.0,250000.0,750000.0,750000.0,250000.0,750000.0,250000.0,750000.0,250000.0,250000.0,250000.0,250000.0,250000.0,250000.0,250000.0,250000.0,250000.0,250000.0,250000.0,250000.0,750000.0,250000.0,250000.0,250000.0,750000.0,250000.0,250000.0,200000.0,250000.0,200000.0,1000000.0,750000.0,170000.0,750000.0,1000000.0,250000.0,250000.0,750000.0,750000.0,250000.0,1000000.0,1000000.0,750000.0,250000.0,250000.0,250000.0,250000.0,750000.0,150000.0,1000000.0,750000.0,150000.0,250000.0,250000.0,750000.0,250000.0,250000.0,250000.0,250000.0,250000.0,250000.0,250000.0,250000.0,750000.0,250000.0,200000.0,250000.0,250000.0,750000.0,250000.0,250000.0,250000.0,250000.0,750000.0,250000.0,250000.0,500000.0,250000.0,250000.0,250000.0,250000.0,750000.0,250000.0,750000.0,750000.0,250000.0,250000.0,250000.0,750000.0,750000.0,100000.0,1000000.0,250000.0,250000.0,250000.0,750000.0,250000.0,250000.0,250000.0,2000000.0,750000.0,2000000.0,2000000.0,750000.0,750000.0,2000000.0,750000.0,750000.0,750000.0,1500000.0,2000000.0,2000000.0,750000.0,750000.0,750000.0,750000.0,2000000.0,750000.0,750000.0,2000000.0,2000000.0,2000000.0,2000000.0,750000.0,2000000.0,750000.0,750000.0,2000000.0,750000.0,2000000.0,750000.0,600000.0,750000.0,2000000.0,750000.0,750000.0,750000.0,750000.0,750000.0,2000000.0,2000000.0,750000.0,2000000.0,2000000.0,750000.0,750000.0,750000.0,750000.0,750000.0,2000000.0,750000.0,2000000.0,750000.0,750000.0,750000.0,750000.0,2000000.0,2000000.0,750000.0],\"y0\":\" \",\"yaxis\":\"y\",\"type\":\"box\"},{\"alignmentgroup\":\"True\",\"hovertemplate\":\"status=Realizacja z listy rezerwowej<br>category=%{x}<br>budget=%{y}<extra></extra>\",\"legendgroup\":\"Realizacja z listy rezerwowej\",\"marker\":{\"color\":\"#ab63fa\"},\"name\":\"Realizacja z listy rezerwowej\",\"notched\":false,\"offsetgroup\":\"Realizacja z listy rezerwowej\",\"orientation\":\"v\",\"showlegend\":true,\"x\":[\"piesze/rowerowe\",\"piesze/rowerowe\",\"sport\"],\"x0\":\" \",\"xaxis\":\"x\",\"y\":[30000.0,90000.0,250000.0],\"y0\":\" \",\"yaxis\":\"y\",\"type\":\"box\"},{\"alignmentgroup\":\"True\",\"hovertemplate\":\"status=Wycofane z realizacji w ramach WBO<br>category=%{x}<br>budget=%{y}<extra></extra>\",\"legendgroup\":\"Wycofane z realizacji w ramach WBO\",\"marker\":{\"color\":\"#FFA15A\"},\"name\":\"Wycofane z realizacji w ramach WBO\",\"notched\":false,\"offsetgroup\":\"Wycofane z realizacji w ramach WBO\",\"orientation\":\"v\",\"showlegend\":true,\"x\":[\"komunikacja zbiorowa\",\"ziele\\u0144/rekreacja\",\"piesze/rowerowe\",\"drogowe\",\"ziele\\u0144/rekreacja\",\"drogowe\",\"sport\",\"rewitalizacja\",\"piesze/rowerowe\",\"ziele\\u0144/rekreacja\",\"inne\",null,\"inne\",\"ziele\\u0144/rekreacja\",\"piesze/rowerowe\",\"sport\",\"sport\",\"rewitalizacja\",\"inne\",\"edukacja\",\"drogowe\",\"piesze/rowerowe\",\"edukacja\",\"drogowe\",\"piesze/rowerowe\",\"inne\",\"place zabaw\",\"piesze/rowerowe\",\"rewitalizacja\",\"drogowe\",\"ziele\\u0144/rekreacja\",\"sport\",\"ziele\\u0144/rekreacja\",\"komunikacja zbiorowa\",\"piesze/rowerowe\",\"piesze/rowerowe\",\"piesze/rowerowe\",\"ziele\\u0144/rekreacja\",\"piesze/rowerowe\",\"ziele\\u0144/rekreacja\",\"drogowe\",\"ziele\\u0144/rekreacja\",\"ziele\\u0144/rekreacja\",\"podw\\u00f3rka\",\"place zabaw\",\"ziele\\u0144/rekreacja\",\"drogowe\",\"place zabaw\",\"piesze/rowerowe\",\"ziele\\u0144/rekreacja\",\"drogowe\",\"ziele\\u0144/rekreacja\",\"inne\",\"piesze/rowerowe\",\"podw\\u00f3rka\",\"podw\\u00f3rka\",\"sport\",\"place zabaw\",\"inne\",\"ziele\\u0144/rekreacja\",\"sport\",\"place zabaw\",\"piesze/rowerowe\",\"piesze/rowerowe\",\"piesze/rowerowe\",\"ziele\\u0144/rekreacja\",\"place zabaw\",\"sport\",\"drogowe\",\"drogowe\",\"inne\",\"drogowe\",\"sport\",\"ziele\\u0144/rekreacja\",\"ziele\\u0144/rekreacja\",\"ziele\\u0144/rekreacja\",\"rewitalizacja\",\"drogowe\",\"ziele\\u0144/rekreacja\",\"piesze/rowerowe\",\"inne\",\"piesze/rowerowe\",\"piesze/rowerowe\",\"ziele\\u0144/rekreacja\",\"drogowe\",\"podw\\u00f3rka\",\"ziele\\u0144/rekreacja\",\"ziele\\u0144/rekreacja\",\"piesze/rowerowe\",\"ziele\\u0144/rekreacja\",\"piesze/rowerowe\",\"ziele\\u0144/rekreacja\",\"zabytkowe\",\"ziele\\u0144/rekreacja\",\"piesze/rowerowe\",\"piesze/rowerowe\",\"drogowe\",\"ziele\\u0144/rekreacja\",\"podw\\u00f3rka\",\"podw\\u00f3rka\",\"place zabaw\",\"inne\",\"zabytkowe\",\"drogowe\",\"piesze/rowerowe\",\"place zabaw\",\"drogowe\",\"ziele\\u0144/rekreacja\",\"piesze/rowerowe\",\"piesze/rowerowe\",\"komunikacja zbiorowa\",\"ziele\\u0144/rekreacja\",\"ziele\\u0144/rekreacja\",\"zabytkowe\",\"ziele\\u0144/rekreacja\",\"piesze/rowerowe\",\"piesze/rowerowe\",\"zabytkowe\",\"ziele\\u0144/rekreacja\",\"sport\",\"inne\",\"ziele\\u0144/rekreacja\",\"place zabaw\",\"piesze/rowerowe\",\"podw\\u00f3rka\",\"piesze/rowerowe\",\"piesze/rowerowe\",\"drogowe\",\"piesze/rowerowe\",\"piesze/rowerowe\",\"ziele\\u0144/rekreacja\",\"piesze/rowerowe\",\"ziele\\u0144/rekreacja\",\"ziele\\u0144/rekreacja\",\"ziele\\u0144/rekreacja\",\"ziele\\u0144/rekreacja\",\"ziele\\u0144/rekreacja\",\"ziele\\u0144/rekreacja\",\"ziele\\u0144/rekreacja\",\"ziele\\u0144/rekreacja\",\"podw\\u00f3rka\",\"drogowe\",\"piesze/rowerowe\",\"ziele\\u0144/rekreacja\",\"sport\",\"piesze/rowerowe\",\"ziele\\u0144/rekreacja\",\"inne\",\"ziele\\u0144/rekreacja\",\"ziele\\u0144/rekreacja\",\"ziele\\u0144/rekreacja\",\"komunikacja zbiorowa\",\"piesze/rowerowe\",\"drogowe\",\"ziele\\u0144/rekreacja\",\"inne\",\"sport\",\"sport\",\"ziele\\u0144/rekreacja\",\"sport\",\"ziele\\u0144/rekreacja\",\"drogowe\",\"piesze/rowerowe\",\"ziele\\u0144/rekreacja\",\"ziele\\u0144/rekreacja\",\"ziele\\u0144/rekreacja\",\"ziele\\u0144/rekreacja\",\"sport\",\"ziele\\u0144/rekreacja\",\"ziele\\u0144/rekreacja\",\"drogowe\",\"inne\",\"inne\",\"ziele\\u0144/rekreacja\",\"podw\\u00f3rka\",\"piesze/rowerowe\",\"drogowe\",\"ziele\\u0144/rekreacja\",\"komunikacja zbiorowa\",\"ziele\\u0144/rekreacja\",\"ziele\\u0144/rekreacja\",\"drogowe\",\"place zabaw\",\"place zabaw\",\"inne\",\"ziele\\u0144/rekreacja\",\"ziele\\u0144/rekreacja\",\"ziele\\u0144/rekreacja\",\"ziele\\u0144/rekreacja\",\"place zabaw\",\"rewitalizacja\",\"ziele\\u0144/rekreacja\",\"piesze/rowerowe\",\"piesze/rowerowe\",\"piesze/rowerowe\",\"ziele\\u0144/rekreacja\",\"ziele\\u0144/rekreacja\",\"sport\",\"rewitalizacja\",\"sport\",\"inne\",\"piesze/rowerowe\",\"inne\",\"ziele\\u0144/rekreacja\",\"inne\",\"ziele\\u0144/rekreacja\",\"rewitalizacja\",\"piesze/rowerowe\",\"piesze/rowerowe\",\"ziele\\u0144/rekreacja\",\"rewitalizacja\",\"rewitalizacja\",\"place zabaw\",\"ziele\\u0144/rekreacja\",\"ziele\\u0144/rekreacja\",\"inne\",\"ziele\\u0144/rekreacja\",\"ziele\\u0144/rekreacja\",\"piesze/rowerowe\",\"piesze/rowerowe\",\"ziele\\u0144/rekreacja\",\"place zabaw\",\"place zabaw\",\"ziele\\u0144/rekreacja\",\"sport\",\"sport\",\"rewitalizacja\",\"piesze/rowerowe\",\"ziele\\u0144/rekreacja\",\"inne\",\"piesze/rowerowe\",\"piesze/rowerowe\",\"ziele\\u0144/rekreacja\",\"piesze/rowerowe\",\"ziele\\u0144/rekreacja\",\"komunikacja zbiorowa\",\"piesze/rowerowe\",\"piesze/rowerowe\",\"piesze/rowerowe\",\"piesze/rowerowe\",\"inne\",\"sport\",\"ziele\\u0144/rekreacja\",\"podw\\u00f3rka\",\"piesze/rowerowe\",\"ziele\\u0144/rekreacja\",\"ziele\\u0144/rekreacja\",\"sport\",\"ziele\\u0144/rekreacja\",\"place zabaw\"],\"x0\":\" \",\"xaxis\":\"x\",\"y\":[240000.0,250000.0,250000.0,750000.0,750000.0,250000.0,500000.0,245000.0,250000.0,240000.0,250000.0,250000.0,250000.0,750000.0,120000.0,1000000.0,1000000.0,750000.0,1000000.0,1000000.0,249999.0,150000.0,150000.0,230000.0,250000.0,814260.0,500000.0,150000.0,250000.0,750000.0,1000000.0,750000.0,750000.0,250000.0,250000.0,300000.0,750000.0,750000.0,230000.0,830000.0,250000.0,750000.0,500000.0,250000.0,250000.0,250000.0,600000.0,250000.0,750000.0,750000.0,550000.0,73350.0,50000.0,400000.0,250000.0,500000.0,750000.0,750000.0,100000.0,500000.0,750000.0,750000.0,250000.0,250000.0,40000.0,250000.0,750000.0,1000000.0,745000.0,249000.0,50000.0,1000000.0,250000.0,750000.0,400000.0,400000.0,250000.0,750000.0,250000.0,750000.0,250000.0,250000.0,250000.0,750000.0,750000.0,250000.0,350000.0,750000.0,750000.0,250000.0,224000.0,250000.0,100000.0,250000.0,750000.0,750000.0,64000.0,700000.0,250000.0,250000.0,250000.0,250000.0,100000.0,750000.0,250000.0,250000.0,150000.0,1000000.0,250000.0,250000.0,240000.0,250000.0,250000.0,100000.0,248000.0,250000.0,750000.0,100000.0,750000.0,750000.0,180000.0,900000.0,250000.0,250000.0,250000.0,247590.0,250000.0,750000.0,30000.0,30000.0,750000.0,2000.0,250000.0,65400.0,250000.0,250000.0,250000.0,50000.0,250000.0,750000.0,250000.0,700000.0,2000000.0,300000.0,1000000.0,300000.0,2000000.0,750000.0,350000.0,750000.0,1500000.0,750000.0,1000000.0,500000.0,750000.0,1500000.0,750000.0,500000.0,750000.0,300000.0,750000.0,750000.0,750000.0,500000.0,750000.0,300000.0,2000000.0,1000000.0,750000.0,750000.0,2000000.0,200000.0,200000.0,1000000.0,750000.0,250000.0,2000000.0,2000000.0,2000000.0,750000.0,750000.0,750000.0,2000000.0,750000.0,430000.0,2000000.0,750000.0,750000.0,750000.0,199997.0,150000.0,500000.0,475000.0,248000.0,455000.0,100000.0,450000.0,750000.0,2000000.0,200000.0,719000.0,654000.0,600000.0,92499.0,300000.0,750000.0,750000.0,750000.0,750000.0,2000000.0,2000000.0,2000000.0,2000000.0,1000000.0,750000.0,750000.0,750000.0,750000.0,2000000.0,750000.0,2000000.0,2000000.0,750000.0,750000.0,1500000.0,1500000.0,20000.0,1000000.0,750000.0,750000.0,1200000.0,750000.0,750000.0,1000000.0,750000.0,749900.0,1000000.0,1000000.0,1500000.0,750000.0,750000.0,750000.0,750000.0,750000.0,1000000.0,750000.0,750000.0,300000.0,750000.0,750000.0],\"y0\":\" \",\"yaxis\":\"y\",\"type\":\"box\"},{\"alignmentgroup\":\"True\",\"hovertemplate\":\"status=Realizowany poza WBO, nie bierze udzia\\u0142u w g\\u0142osowaniu<br>category=%{x}<br>budget=%{y}<extra></extra>\",\"legendgroup\":\"Realizowany poza WBO, nie bierze udzia\\u0142u w g\\u0142osowaniu\",\"marker\":{\"color\":\"#19d3f3\"},\"name\":\"Realizowany poza WBO, nie bierze udzia\\u0142u w g\\u0142osowaniu\",\"notched\":false,\"offsetgroup\":\"Realizowany poza WBO, nie bierze udzia\\u0142u w g\\u0142osowaniu\",\"orientation\":\"v\",\"showlegend\":true,\"x\":[\"drogowe\",\"piesze/rowerowe\",\"komunikacja zbiorowa\",\"piesze/rowerowe\",\"komunikacja zbiorowa\",\"piesze/rowerowe\",\"komunikacja zbiorowa\",\"sport\",\"piesze/rowerowe\",\"drogowe\",\"drogowe\",\"komunikacja zbiorowa\",\"ziele\\u0144/rekreacja\",\"drogowe\",\"piesze/rowerowe\",\"piesze/rowerowe\",\"drogowe\",\"drogowe\",\"komunikacja zbiorowa\",\"drogowe\",\"piesze/rowerowe\",\"piesze/rowerowe\",\"piesze/rowerowe\",\"drogowe\",\"komunikacja zbiorowa\",\"rewitalizacja\",\"piesze/rowerowe\",\"komunikacja zbiorowa\",\"piesze/rowerowe\",\"ziele\\u0144/rekreacja\",\"sport\",\"drogowe\",\"place zabaw\",\"piesze/rowerowe\",\"drogowe\",\"piesze/rowerowe\",\"drogowe\",\"piesze/rowerowe\",\"drogowe\",\"drogowe\",\"drogowe\",\"drogowe\",\"sport\",\"drogowe\",\"ziele\\u0144/rekreacja\",\"piesze/rowerowe\",\"piesze/rowerowe\",\"piesze/rowerowe\",\"ziele\\u0144/rekreacja\",\"ziele\\u0144/rekreacja\",\"zabytkowe\",\"ziele\\u0144/rekreacja\",\"komunikacja zbiorowa\",\"ziele\\u0144/rekreacja\",\"piesze/rowerowe\",\"zabytkowe\",\"komunikacja zbiorowa\",\"drogowe\",\"nieinwestycyjne\",\"inne\",\"inne\",\"piesze/rowerowe\",\"piesze/rowerowe\",\"piesze/rowerowe\",\"ziele\\u0144/rekreacja\",\"drogowe\",\"piesze/rowerowe\",\"piesze/rowerowe\",\"piesze/rowerowe\",\"komunikacja zbiorowa\",\"drogowe\",\"komunikacja zbiorowa\",\"komunikacja zbiorowa\",\"drogowe\",\"inne\",\"piesze/rowerowe\",\"inne\",\"drogowe\",\"piesze/rowerowe\",\"drogowe\",\"piesze/rowerowe\"],\"x0\":\" \",\"xaxis\":\"x\",\"y\":[150000.0,250000.0,100000.0,250000.0,100000.0,50000.0,50000.0,200000.0,350000.0,750000.0,50000.0,100.0,250000.0,250000.0,748000.0,100000.0,1000000.0,20000.0,750000.0,350000.0,100000.0,50000.0,50000.0,250000.0,225000.0,135000.0,40000.0,80000.0,100000.0,80000.0,700000.0,250000.0,250000.0,5000.0,70000.0,4000.0,70000.0,10000.0,250000.0,250000.0,250000.0,100000.0,750000.0,750000.0,750000.0,250000.0,200000.0,750000.0,100000.0,745000.0,20000.0,650000.0,20000.0,100000.0,150000.0,100000.0,1000000.0,1000000.0,5000.0,2000000.0,750000.0,50000.0,50000.0,250000.0,250000.0,100000.0,100000.0,75000.0,75025.0,750000.0,750000.0,2000000.0,500000.0,745050.0,10000.0,117000.0,2000000.0,350000.0,2000000.0,500000.0,750000.0],\"y0\":\" \",\"yaxis\":\"y\",\"type\":\"box\"}],                        {\"template\":{\"data\":{\"bar\":[{\"error_x\":{\"color\":\"#2a3f5f\"},\"error_y\":{\"color\":\"#2a3f5f\"},\"marker\":{\"line\":{\"color\":\"#E5ECF6\",\"width\":0.5},\"pattern\":{\"fillmode\":\"overlay\",\"size\":10,\"solidity\":0.2}},\"type\":\"bar\"}],\"barpolar\":[{\"marker\":{\"line\":{\"color\":\"#E5ECF6\",\"width\":0.5},\"pattern\":{\"fillmode\":\"overlay\",\"size\":10,\"solidity\":0.2}},\"type\":\"barpolar\"}],\"carpet\":[{\"aaxis\":{\"endlinecolor\":\"#2a3f5f\",\"gridcolor\":\"white\",\"linecolor\":\"white\",\"minorgridcolor\":\"white\",\"startlinecolor\":\"#2a3f5f\"},\"baxis\":{\"endlinecolor\":\"#2a3f5f\",\"gridcolor\":\"white\",\"linecolor\":\"white\",\"minorgridcolor\":\"white\",\"startlinecolor\":\"#2a3f5f\"},\"type\":\"carpet\"}],\"choropleth\":[{\"colorbar\":{\"outlinewidth\":0,\"ticks\":\"\"},\"type\":\"choropleth\"}],\"contour\":[{\"colorbar\":{\"outlinewidth\":0,\"ticks\":\"\"},\"colorscale\":[[0.0,\"#0d0887\"],[0.1111111111111111,\"#46039f\"],[0.2222222222222222,\"#7201a8\"],[0.3333333333333333,\"#9c179e\"],[0.4444444444444444,\"#bd3786\"],[0.5555555555555556,\"#d8576b\"],[0.6666666666666666,\"#ed7953\"],[0.7777777777777778,\"#fb9f3a\"],[0.8888888888888888,\"#fdca26\"],[1.0,\"#f0f921\"]],\"type\":\"contour\"}],\"contourcarpet\":[{\"colorbar\":{\"outlinewidth\":0,\"ticks\":\"\"},\"type\":\"contourcarpet\"}],\"heatmap\":[{\"colorbar\":{\"outlinewidth\":0,\"ticks\":\"\"},\"colorscale\":[[0.0,\"#0d0887\"],[0.1111111111111111,\"#46039f\"],[0.2222222222222222,\"#7201a8\"],[0.3333333333333333,\"#9c179e\"],[0.4444444444444444,\"#bd3786\"],[0.5555555555555556,\"#d8576b\"],[0.6666666666666666,\"#ed7953\"],[0.7777777777777778,\"#fb9f3a\"],[0.8888888888888888,\"#fdca26\"],[1.0,\"#f0f921\"]],\"type\":\"heatmap\"}],\"heatmapgl\":[{\"colorbar\":{\"outlinewidth\":0,\"ticks\":\"\"},\"colorscale\":[[0.0,\"#0d0887\"],[0.1111111111111111,\"#46039f\"],[0.2222222222222222,\"#7201a8\"],[0.3333333333333333,\"#9c179e\"],[0.4444444444444444,\"#bd3786\"],[0.5555555555555556,\"#d8576b\"],[0.6666666666666666,\"#ed7953\"],[0.7777777777777778,\"#fb9f3a\"],[0.8888888888888888,\"#fdca26\"],[1.0,\"#f0f921\"]],\"type\":\"heatmapgl\"}],\"histogram\":[{\"marker\":{\"pattern\":{\"fillmode\":\"overlay\",\"size\":10,\"solidity\":0.2}},\"type\":\"histogram\"}],\"histogram2d\":[{\"colorbar\":{\"outlinewidth\":0,\"ticks\":\"\"},\"colorscale\":[[0.0,\"#0d0887\"],[0.1111111111111111,\"#46039f\"],[0.2222222222222222,\"#7201a8\"],[0.3333333333333333,\"#9c179e\"],[0.4444444444444444,\"#bd3786\"],[0.5555555555555556,\"#d8576b\"],[0.6666666666666666,\"#ed7953\"],[0.7777777777777778,\"#fb9f3a\"],[0.8888888888888888,\"#fdca26\"],[1.0,\"#f0f921\"]],\"type\":\"histogram2d\"}],\"histogram2dcontour\":[{\"colorbar\":{\"outlinewidth\":0,\"ticks\":\"\"},\"colorscale\":[[0.0,\"#0d0887\"],[0.1111111111111111,\"#46039f\"],[0.2222222222222222,\"#7201a8\"],[0.3333333333333333,\"#9c179e\"],[0.4444444444444444,\"#bd3786\"],[0.5555555555555556,\"#d8576b\"],[0.6666666666666666,\"#ed7953\"],[0.7777777777777778,\"#fb9f3a\"],[0.8888888888888888,\"#fdca26\"],[1.0,\"#f0f921\"]],\"type\":\"histogram2dcontour\"}],\"mesh3d\":[{\"colorbar\":{\"outlinewidth\":0,\"ticks\":\"\"},\"type\":\"mesh3d\"}],\"parcoords\":[{\"line\":{\"colorbar\":{\"outlinewidth\":0,\"ticks\":\"\"}},\"type\":\"parcoords\"}],\"pie\":[{\"automargin\":true,\"type\":\"pie\"}],\"scatter\":[{\"marker\":{\"colorbar\":{\"outlinewidth\":0,\"ticks\":\"\"}},\"type\":\"scatter\"}],\"scatter3d\":[{\"line\":{\"colorbar\":{\"outlinewidth\":0,\"ticks\":\"\"}},\"marker\":{\"colorbar\":{\"outlinewidth\":0,\"ticks\":\"\"}},\"type\":\"scatter3d\"}],\"scattercarpet\":[{\"marker\":{\"colorbar\":{\"outlinewidth\":0,\"ticks\":\"\"}},\"type\":\"scattercarpet\"}],\"scattergeo\":[{\"marker\":{\"colorbar\":{\"outlinewidth\":0,\"ticks\":\"\"}},\"type\":\"scattergeo\"}],\"scattergl\":[{\"marker\":{\"colorbar\":{\"outlinewidth\":0,\"ticks\":\"\"}},\"type\":\"scattergl\"}],\"scattermapbox\":[{\"marker\":{\"colorbar\":{\"outlinewidth\":0,\"ticks\":\"\"}},\"type\":\"scattermapbox\"}],\"scatterpolar\":[{\"marker\":{\"colorbar\":{\"outlinewidth\":0,\"ticks\":\"\"}},\"type\":\"scatterpolar\"}],\"scatterpolargl\":[{\"marker\":{\"colorbar\":{\"outlinewidth\":0,\"ticks\":\"\"}},\"type\":\"scatterpolargl\"}],\"scatterternary\":[{\"marker\":{\"colorbar\":{\"outlinewidth\":0,\"ticks\":\"\"}},\"type\":\"scatterternary\"}],\"surface\":[{\"colorbar\":{\"outlinewidth\":0,\"ticks\":\"\"},\"colorscale\":[[0.0,\"#0d0887\"],[0.1111111111111111,\"#46039f\"],[0.2222222222222222,\"#7201a8\"],[0.3333333333333333,\"#9c179e\"],[0.4444444444444444,\"#bd3786\"],[0.5555555555555556,\"#d8576b\"],[0.6666666666666666,\"#ed7953\"],[0.7777777777777778,\"#fb9f3a\"],[0.8888888888888888,\"#fdca26\"],[1.0,\"#f0f921\"]],\"type\":\"surface\"}],\"table\":[{\"cells\":{\"fill\":{\"color\":\"#EBF0F8\"},\"line\":{\"color\":\"white\"}},\"header\":{\"fill\":{\"color\":\"#C8D4E3\"},\"line\":{\"color\":\"white\"}},\"type\":\"table\"}]},\"layout\":{\"annotationdefaults\":{\"arrowcolor\":\"#2a3f5f\",\"arrowhead\":0,\"arrowwidth\":1},\"autotypenumbers\":\"strict\",\"coloraxis\":{\"colorbar\":{\"outlinewidth\":0,\"ticks\":\"\"}},\"colorscale\":{\"diverging\":[[0,\"#8e0152\"],[0.1,\"#c51b7d\"],[0.2,\"#de77ae\"],[0.3,\"#f1b6da\"],[0.4,\"#fde0ef\"],[0.5,\"#f7f7f7\"],[0.6,\"#e6f5d0\"],[0.7,\"#b8e186\"],[0.8,\"#7fbc41\"],[0.9,\"#4d9221\"],[1,\"#276419\"]],\"sequential\":[[0.0,\"#0d0887\"],[0.1111111111111111,\"#46039f\"],[0.2222222222222222,\"#7201a8\"],[0.3333333333333333,\"#9c179e\"],[0.4444444444444444,\"#bd3786\"],[0.5555555555555556,\"#d8576b\"],[0.6666666666666666,\"#ed7953\"],[0.7777777777777778,\"#fb9f3a\"],[0.8888888888888888,\"#fdca26\"],[1.0,\"#f0f921\"]],\"sequentialminus\":[[0.0,\"#0d0887\"],[0.1111111111111111,\"#46039f\"],[0.2222222222222222,\"#7201a8\"],[0.3333333333333333,\"#9c179e\"],[0.4444444444444444,\"#bd3786\"],[0.5555555555555556,\"#d8576b\"],[0.6666666666666666,\"#ed7953\"],[0.7777777777777778,\"#fb9f3a\"],[0.8888888888888888,\"#fdca26\"],[1.0,\"#f0f921\"]]},\"colorway\":[\"#636efa\",\"#EF553B\",\"#00cc96\",\"#ab63fa\",\"#FFA15A\",\"#19d3f3\",\"#FF6692\",\"#B6E880\",\"#FF97FF\",\"#FECB52\"],\"font\":{\"color\":\"#2a3f5f\"},\"geo\":{\"bgcolor\":\"white\",\"lakecolor\":\"white\",\"landcolor\":\"#E5ECF6\",\"showlakes\":true,\"showland\":true,\"subunitcolor\":\"white\"},\"hoverlabel\":{\"align\":\"left\"},\"hovermode\":\"closest\",\"mapbox\":{\"style\":\"light\"},\"paper_bgcolor\":\"white\",\"plot_bgcolor\":\"#E5ECF6\",\"polar\":{\"angularaxis\":{\"gridcolor\":\"white\",\"linecolor\":\"white\",\"ticks\":\"\"},\"bgcolor\":\"#E5ECF6\",\"radialaxis\":{\"gridcolor\":\"white\",\"linecolor\":\"white\",\"ticks\":\"\"}},\"scene\":{\"xaxis\":{\"backgroundcolor\":\"#E5ECF6\",\"gridcolor\":\"white\",\"gridwidth\":2,\"linecolor\":\"white\",\"showbackground\":true,\"ticks\":\"\",\"zerolinecolor\":\"white\"},\"yaxis\":{\"backgroundcolor\":\"#E5ECF6\",\"gridcolor\":\"white\",\"gridwidth\":2,\"linecolor\":\"white\",\"showbackground\":true,\"ticks\":\"\",\"zerolinecolor\":\"white\"},\"zaxis\":{\"backgroundcolor\":\"#E5ECF6\",\"gridcolor\":\"white\",\"gridwidth\":2,\"linecolor\":\"white\",\"showbackground\":true,\"ticks\":\"\",\"zerolinecolor\":\"white\"}},\"shapedefaults\":{\"line\":{\"color\":\"#2a3f5f\"}},\"ternary\":{\"aaxis\":{\"gridcolor\":\"white\",\"linecolor\":\"white\",\"ticks\":\"\"},\"baxis\":{\"gridcolor\":\"white\",\"linecolor\":\"white\",\"ticks\":\"\"},\"bgcolor\":\"#E5ECF6\",\"caxis\":{\"gridcolor\":\"white\",\"linecolor\":\"white\",\"ticks\":\"\"}},\"title\":{\"x\":0.05},\"xaxis\":{\"automargin\":true,\"gridcolor\":\"white\",\"linecolor\":\"white\",\"ticks\":\"\",\"title\":{\"standoff\":15},\"zerolinecolor\":\"white\",\"zerolinewidth\":2},\"yaxis\":{\"automargin\":true,\"gridcolor\":\"white\",\"linecolor\":\"white\",\"ticks\":\"\",\"title\":{\"standoff\":15},\"zerolinecolor\":\"white\",\"zerolinewidth\":2}}},\"xaxis\":{\"anchor\":\"y\",\"domain\":[0.0,1.0],\"title\":{\"text\":\"category\"}},\"yaxis\":{\"anchor\":\"x\",\"domain\":[0.0,1.0],\"title\":{\"text\":\"budget\"}},\"legend\":{\"title\":{\"text\":\"status\"},\"tracegroupgap\":0},\"margin\":{\"t\":60},\"boxmode\":\"group\"},                        {\"responsive\": true}                    ).then(function(){\n",
       "                            \n",
       "var gd = document.getElementById('415ef884-cde8-4a75-a6f0-053d7df6e6d0');\n",
       "var x = new MutationObserver(function (mutations, observer) {{\n",
       "        var display = window.getComputedStyle(gd).display;\n",
       "        if (!display || display === 'none') {{\n",
       "            console.log([gd, 'removed!']);\n",
       "            Plotly.purge(gd);\n",
       "            observer.disconnect();\n",
       "        }}\n",
       "}});\n",
       "\n",
       "// Listen for the removal of the full notebook cells\n",
       "var notebookContainer = gd.closest('#notebook-container');\n",
       "if (notebookContainer) {{\n",
       "    x.observe(notebookContainer, {childList: true});\n",
       "}}\n",
       "\n",
       "// Listen for the clearing of the current output cell\n",
       "var outputEl = gd.closest('.output');\n",
       "if (outputEl) {{\n",
       "    x.observe(outputEl, {childList: true});\n",
       "}}\n",
       "\n",
       "                        })                };                });            </script>        </div>"
      ]
     },
     "metadata": {},
     "output_type": "display_data"
    }
   ],
   "source": [
    "fig = px.box(df, x='category', y='budget', color='status')\n",
    "fig.show()"
   ]
  },
  {
   "cell_type": "code",
   "execution_count": 11,
   "id": "6ac62e08",
   "metadata": {},
   "outputs": [],
   "source": [
    "category = df.groupby('category').agg({'id': 'count'}).sort_values('id', ascending=False).reset_index().rename(columns={'id': 'projects'})\n",
    "year = df.groupby('year').agg({'id': 'count'}).sort_values('id', ascending=False).reset_index().rename(columns={'id': 'projects'})\n",
    "scope = df.groupby('scope').agg({'id': 'count'}).sort_values('id', ascending=False).reset_index().rename(columns={'id': 'projects'})\n",
    "status = df.groupby('status').agg({'id': 'count'}).sort_values('id', ascending=False).reset_index().rename(columns={'id': 'projects'})\n",
    "area2 = df.groupby('area2').agg({'id': 'count'}).sort_values('id', ascending=False).reset_index().rename(columns={'id': 'projects'})\n",
    "\n"
   ]
  },
  {
   "cell_type": "code",
   "execution_count": 12,
   "id": "8e4ef4eb",
   "metadata": {},
   "outputs": [
    {
     "data": {
      "application/vnd.plotly.v1+json": {
       "config": {
        "plotlyServerURL": "https://plot.ly"
       },
       "data": [
        {
         "alignmentgroup": "True",
         "hovertemplate": "category=%{x}<br>projects=%{y}<extra></extra>",
         "legendgroup": "",
         "marker": {
          "color": "rgb(76,114,176)",
          "pattern": {
           "shape": ""
          }
         },
         "name": "",
         "offsetgroup": "",
         "orientation": "v",
         "showlegend": false,
         "textposition": "auto",
         "texttemplate": "%{y:.}",
         "type": "bar",
         "x": [
          "zieleń/rekreacja",
          "piesze/rowerowe",
          "inne",
          "drogowe",
          "sport",
          "place zabaw",
          "komunikacja zbiorowa",
          "rewitalizacja",
          "podwórka",
          "edukacja",
          "zabytkowe",
          "nieinwestycyjne"
         ],
         "xaxis": "x",
         "y": [
          996,
          689,
          415,
          399,
          214,
          159,
          157,
          144,
          107,
          58,
          47,
          21
         ],
         "yaxis": "y"
        }
       ],
       "layout": {
        "barmode": "relative",
        "legend": {
         "tracegroupgap": 0
        },
        "margin": {
         "t": 60
        },
        "template": {
         "data": {
          "bar": [
           {
            "error_x": {
             "color": "rgb(36,36,36)"
            },
            "error_y": {
             "color": "rgb(36,36,36)"
            },
            "marker": {
             "line": {
              "color": "rgb(234,234,242)",
              "width": 0.5
             },
             "pattern": {
              "fillmode": "overlay",
              "size": 10,
              "solidity": 0.2
             }
            },
            "type": "bar"
           }
          ],
          "barpolar": [
           {
            "marker": {
             "line": {
              "color": "rgb(234,234,242)",
              "width": 0.5
             },
             "pattern": {
              "fillmode": "overlay",
              "size": 10,
              "solidity": 0.2
             }
            },
            "type": "barpolar"
           }
          ],
          "carpet": [
           {
            "aaxis": {
             "endlinecolor": "rgb(36,36,36)",
             "gridcolor": "white",
             "linecolor": "white",
             "minorgridcolor": "white",
             "startlinecolor": "rgb(36,36,36)"
            },
            "baxis": {
             "endlinecolor": "rgb(36,36,36)",
             "gridcolor": "white",
             "linecolor": "white",
             "minorgridcolor": "white",
             "startlinecolor": "rgb(36,36,36)"
            },
            "type": "carpet"
           }
          ],
          "choropleth": [
           {
            "colorbar": {
             "outlinewidth": 0,
             "tickcolor": "rgb(36,36,36)",
             "ticklen": 8,
             "ticks": "outside",
             "tickwidth": 2
            },
            "type": "choropleth"
           }
          ],
          "contour": [
           {
            "colorbar": {
             "outlinewidth": 0,
             "tickcolor": "rgb(36,36,36)",
             "ticklen": 8,
             "ticks": "outside",
             "tickwidth": 2
            },
            "colorscale": [
             [
              0,
              "rgb(2,4,25)"
             ],
             [
              0.06274509803921569,
              "rgb(24,15,41)"
             ],
             [
              0.12549019607843137,
              "rgb(47,23,57)"
             ],
             [
              0.18823529411764706,
              "rgb(71,28,72)"
             ],
             [
              0.25098039215686274,
              "rgb(97,30,82)"
             ],
             [
              0.3137254901960784,
              "rgb(123,30,89)"
             ],
             [
              0.3764705882352941,
              "rgb(150,27,91)"
             ],
             [
              0.4392156862745098,
              "rgb(177,22,88)"
             ],
             [
              0.5019607843137255,
              "rgb(203,26,79)"
             ],
             [
              0.5647058823529412,
              "rgb(223,47,67)"
             ],
             [
              0.6274509803921569,
              "rgb(236,76,61)"
             ],
             [
              0.6901960784313725,
              "rgb(242,107,73)"
             ],
             [
              0.7529411764705882,
              "rgb(244,135,95)"
             ],
             [
              0.8156862745098039,
              "rgb(245,162,122)"
             ],
             [
              0.8784313725490196,
              "rgb(246,188,153)"
             ],
             [
              0.9411764705882353,
              "rgb(247,212,187)"
             ],
             [
              1,
              "rgb(250,234,220)"
             ]
            ],
            "type": "contour"
           }
          ],
          "contourcarpet": [
           {
            "colorbar": {
             "outlinewidth": 0,
             "tickcolor": "rgb(36,36,36)",
             "ticklen": 8,
             "ticks": "outside",
             "tickwidth": 2
            },
            "type": "contourcarpet"
           }
          ],
          "heatmap": [
           {
            "colorbar": {
             "outlinewidth": 0,
             "tickcolor": "rgb(36,36,36)",
             "ticklen": 8,
             "ticks": "outside",
             "tickwidth": 2
            },
            "colorscale": [
             [
              0,
              "rgb(2,4,25)"
             ],
             [
              0.06274509803921569,
              "rgb(24,15,41)"
             ],
             [
              0.12549019607843137,
              "rgb(47,23,57)"
             ],
             [
              0.18823529411764706,
              "rgb(71,28,72)"
             ],
             [
              0.25098039215686274,
              "rgb(97,30,82)"
             ],
             [
              0.3137254901960784,
              "rgb(123,30,89)"
             ],
             [
              0.3764705882352941,
              "rgb(150,27,91)"
             ],
             [
              0.4392156862745098,
              "rgb(177,22,88)"
             ],
             [
              0.5019607843137255,
              "rgb(203,26,79)"
             ],
             [
              0.5647058823529412,
              "rgb(223,47,67)"
             ],
             [
              0.6274509803921569,
              "rgb(236,76,61)"
             ],
             [
              0.6901960784313725,
              "rgb(242,107,73)"
             ],
             [
              0.7529411764705882,
              "rgb(244,135,95)"
             ],
             [
              0.8156862745098039,
              "rgb(245,162,122)"
             ],
             [
              0.8784313725490196,
              "rgb(246,188,153)"
             ],
             [
              0.9411764705882353,
              "rgb(247,212,187)"
             ],
             [
              1,
              "rgb(250,234,220)"
             ]
            ],
            "type": "heatmap"
           }
          ],
          "heatmapgl": [
           {
            "colorbar": {
             "outlinewidth": 0,
             "tickcolor": "rgb(36,36,36)",
             "ticklen": 8,
             "ticks": "outside",
             "tickwidth": 2
            },
            "colorscale": [
             [
              0,
              "rgb(2,4,25)"
             ],
             [
              0.06274509803921569,
              "rgb(24,15,41)"
             ],
             [
              0.12549019607843137,
              "rgb(47,23,57)"
             ],
             [
              0.18823529411764706,
              "rgb(71,28,72)"
             ],
             [
              0.25098039215686274,
              "rgb(97,30,82)"
             ],
             [
              0.3137254901960784,
              "rgb(123,30,89)"
             ],
             [
              0.3764705882352941,
              "rgb(150,27,91)"
             ],
             [
              0.4392156862745098,
              "rgb(177,22,88)"
             ],
             [
              0.5019607843137255,
              "rgb(203,26,79)"
             ],
             [
              0.5647058823529412,
              "rgb(223,47,67)"
             ],
             [
              0.6274509803921569,
              "rgb(236,76,61)"
             ],
             [
              0.6901960784313725,
              "rgb(242,107,73)"
             ],
             [
              0.7529411764705882,
              "rgb(244,135,95)"
             ],
             [
              0.8156862745098039,
              "rgb(245,162,122)"
             ],
             [
              0.8784313725490196,
              "rgb(246,188,153)"
             ],
             [
              0.9411764705882353,
              "rgb(247,212,187)"
             ],
             [
              1,
              "rgb(250,234,220)"
             ]
            ],
            "type": "heatmapgl"
           }
          ],
          "histogram": [
           {
            "marker": {
             "pattern": {
              "fillmode": "overlay",
              "size": 10,
              "solidity": 0.2
             }
            },
            "type": "histogram"
           }
          ],
          "histogram2d": [
           {
            "colorbar": {
             "outlinewidth": 0,
             "tickcolor": "rgb(36,36,36)",
             "ticklen": 8,
             "ticks": "outside",
             "tickwidth": 2
            },
            "colorscale": [
             [
              0,
              "rgb(2,4,25)"
             ],
             [
              0.06274509803921569,
              "rgb(24,15,41)"
             ],
             [
              0.12549019607843137,
              "rgb(47,23,57)"
             ],
             [
              0.18823529411764706,
              "rgb(71,28,72)"
             ],
             [
              0.25098039215686274,
              "rgb(97,30,82)"
             ],
             [
              0.3137254901960784,
              "rgb(123,30,89)"
             ],
             [
              0.3764705882352941,
              "rgb(150,27,91)"
             ],
             [
              0.4392156862745098,
              "rgb(177,22,88)"
             ],
             [
              0.5019607843137255,
              "rgb(203,26,79)"
             ],
             [
              0.5647058823529412,
              "rgb(223,47,67)"
             ],
             [
              0.6274509803921569,
              "rgb(236,76,61)"
             ],
             [
              0.6901960784313725,
              "rgb(242,107,73)"
             ],
             [
              0.7529411764705882,
              "rgb(244,135,95)"
             ],
             [
              0.8156862745098039,
              "rgb(245,162,122)"
             ],
             [
              0.8784313725490196,
              "rgb(246,188,153)"
             ],
             [
              0.9411764705882353,
              "rgb(247,212,187)"
             ],
             [
              1,
              "rgb(250,234,220)"
             ]
            ],
            "type": "histogram2d"
           }
          ],
          "histogram2dcontour": [
           {
            "colorbar": {
             "outlinewidth": 0,
             "tickcolor": "rgb(36,36,36)",
             "ticklen": 8,
             "ticks": "outside",
             "tickwidth": 2
            },
            "colorscale": [
             [
              0,
              "rgb(2,4,25)"
             ],
             [
              0.06274509803921569,
              "rgb(24,15,41)"
             ],
             [
              0.12549019607843137,
              "rgb(47,23,57)"
             ],
             [
              0.18823529411764706,
              "rgb(71,28,72)"
             ],
             [
              0.25098039215686274,
              "rgb(97,30,82)"
             ],
             [
              0.3137254901960784,
              "rgb(123,30,89)"
             ],
             [
              0.3764705882352941,
              "rgb(150,27,91)"
             ],
             [
              0.4392156862745098,
              "rgb(177,22,88)"
             ],
             [
              0.5019607843137255,
              "rgb(203,26,79)"
             ],
             [
              0.5647058823529412,
              "rgb(223,47,67)"
             ],
             [
              0.6274509803921569,
              "rgb(236,76,61)"
             ],
             [
              0.6901960784313725,
              "rgb(242,107,73)"
             ],
             [
              0.7529411764705882,
              "rgb(244,135,95)"
             ],
             [
              0.8156862745098039,
              "rgb(245,162,122)"
             ],
             [
              0.8784313725490196,
              "rgb(246,188,153)"
             ],
             [
              0.9411764705882353,
              "rgb(247,212,187)"
             ],
             [
              1,
              "rgb(250,234,220)"
             ]
            ],
            "type": "histogram2dcontour"
           }
          ],
          "mesh3d": [
           {
            "colorbar": {
             "outlinewidth": 0,
             "tickcolor": "rgb(36,36,36)",
             "ticklen": 8,
             "ticks": "outside",
             "tickwidth": 2
            },
            "type": "mesh3d"
           }
          ],
          "parcoords": [
           {
            "line": {
             "colorbar": {
              "outlinewidth": 0,
              "tickcolor": "rgb(36,36,36)",
              "ticklen": 8,
              "ticks": "outside",
              "tickwidth": 2
             }
            },
            "type": "parcoords"
           }
          ],
          "pie": [
           {
            "automargin": true,
            "type": "pie"
           }
          ],
          "scatter": [
           {
            "marker": {
             "colorbar": {
              "outlinewidth": 0,
              "tickcolor": "rgb(36,36,36)",
              "ticklen": 8,
              "ticks": "outside",
              "tickwidth": 2
             }
            },
            "type": "scatter"
           }
          ],
          "scatter3d": [
           {
            "line": {
             "colorbar": {
              "outlinewidth": 0,
              "tickcolor": "rgb(36,36,36)",
              "ticklen": 8,
              "ticks": "outside",
              "tickwidth": 2
             }
            },
            "marker": {
             "colorbar": {
              "outlinewidth": 0,
              "tickcolor": "rgb(36,36,36)",
              "ticklen": 8,
              "ticks": "outside",
              "tickwidth": 2
             }
            },
            "type": "scatter3d"
           }
          ],
          "scattercarpet": [
           {
            "marker": {
             "colorbar": {
              "outlinewidth": 0,
              "tickcolor": "rgb(36,36,36)",
              "ticklen": 8,
              "ticks": "outside",
              "tickwidth": 2
             }
            },
            "type": "scattercarpet"
           }
          ],
          "scattergeo": [
           {
            "marker": {
             "colorbar": {
              "outlinewidth": 0,
              "tickcolor": "rgb(36,36,36)",
              "ticklen": 8,
              "ticks": "outside",
              "tickwidth": 2
             }
            },
            "type": "scattergeo"
           }
          ],
          "scattergl": [
           {
            "marker": {
             "colorbar": {
              "outlinewidth": 0,
              "tickcolor": "rgb(36,36,36)",
              "ticklen": 8,
              "ticks": "outside",
              "tickwidth": 2
             }
            },
            "type": "scattergl"
           }
          ],
          "scattermapbox": [
           {
            "marker": {
             "colorbar": {
              "outlinewidth": 0,
              "tickcolor": "rgb(36,36,36)",
              "ticklen": 8,
              "ticks": "outside",
              "tickwidth": 2
             }
            },
            "type": "scattermapbox"
           }
          ],
          "scatterpolar": [
           {
            "marker": {
             "colorbar": {
              "outlinewidth": 0,
              "tickcolor": "rgb(36,36,36)",
              "ticklen": 8,
              "ticks": "outside",
              "tickwidth": 2
             }
            },
            "type": "scatterpolar"
           }
          ],
          "scatterpolargl": [
           {
            "marker": {
             "colorbar": {
              "outlinewidth": 0,
              "tickcolor": "rgb(36,36,36)",
              "ticklen": 8,
              "ticks": "outside",
              "tickwidth": 2
             }
            },
            "type": "scatterpolargl"
           }
          ],
          "scatterternary": [
           {
            "marker": {
             "colorbar": {
              "outlinewidth": 0,
              "tickcolor": "rgb(36,36,36)",
              "ticklen": 8,
              "ticks": "outside",
              "tickwidth": 2
             }
            },
            "type": "scatterternary"
           }
          ],
          "surface": [
           {
            "colorbar": {
             "outlinewidth": 0,
             "tickcolor": "rgb(36,36,36)",
             "ticklen": 8,
             "ticks": "outside",
             "tickwidth": 2
            },
            "colorscale": [
             [
              0,
              "rgb(2,4,25)"
             ],
             [
              0.06274509803921569,
              "rgb(24,15,41)"
             ],
             [
              0.12549019607843137,
              "rgb(47,23,57)"
             ],
             [
              0.18823529411764706,
              "rgb(71,28,72)"
             ],
             [
              0.25098039215686274,
              "rgb(97,30,82)"
             ],
             [
              0.3137254901960784,
              "rgb(123,30,89)"
             ],
             [
              0.3764705882352941,
              "rgb(150,27,91)"
             ],
             [
              0.4392156862745098,
              "rgb(177,22,88)"
             ],
             [
              0.5019607843137255,
              "rgb(203,26,79)"
             ],
             [
              0.5647058823529412,
              "rgb(223,47,67)"
             ],
             [
              0.6274509803921569,
              "rgb(236,76,61)"
             ],
             [
              0.6901960784313725,
              "rgb(242,107,73)"
             ],
             [
              0.7529411764705882,
              "rgb(244,135,95)"
             ],
             [
              0.8156862745098039,
              "rgb(245,162,122)"
             ],
             [
              0.8784313725490196,
              "rgb(246,188,153)"
             ],
             [
              0.9411764705882353,
              "rgb(247,212,187)"
             ],
             [
              1,
              "rgb(250,234,220)"
             ]
            ],
            "type": "surface"
           }
          ],
          "table": [
           {
            "cells": {
             "fill": {
              "color": "rgb(231,231,240)"
             },
             "line": {
              "color": "white"
             }
            },
            "header": {
             "fill": {
              "color": "rgb(183,183,191)"
             },
             "line": {
              "color": "white"
             }
            },
            "type": "table"
           }
          ]
         },
         "layout": {
          "annotationdefaults": {
           "arrowcolor": "rgb(67,103,167)"
          },
          "autotypenumbers": "strict",
          "coloraxis": {
           "colorbar": {
            "outlinewidth": 0,
            "tickcolor": "rgb(36,36,36)",
            "ticklen": 8,
            "ticks": "outside",
            "tickwidth": 2
           }
          },
          "colorscale": {
           "sequential": [
            [
             0,
             "rgb(2,4,25)"
            ],
            [
             0.06274509803921569,
             "rgb(24,15,41)"
            ],
            [
             0.12549019607843137,
             "rgb(47,23,57)"
            ],
            [
             0.18823529411764706,
             "rgb(71,28,72)"
            ],
            [
             0.25098039215686274,
             "rgb(97,30,82)"
            ],
            [
             0.3137254901960784,
             "rgb(123,30,89)"
            ],
            [
             0.3764705882352941,
             "rgb(150,27,91)"
            ],
            [
             0.4392156862745098,
             "rgb(177,22,88)"
            ],
            [
             0.5019607843137255,
             "rgb(203,26,79)"
            ],
            [
             0.5647058823529412,
             "rgb(223,47,67)"
            ],
            [
             0.6274509803921569,
             "rgb(236,76,61)"
            ],
            [
             0.6901960784313725,
             "rgb(242,107,73)"
            ],
            [
             0.7529411764705882,
             "rgb(244,135,95)"
            ],
            [
             0.8156862745098039,
             "rgb(245,162,122)"
            ],
            [
             0.8784313725490196,
             "rgb(246,188,153)"
            ],
            [
             0.9411764705882353,
             "rgb(247,212,187)"
            ],
            [
             1,
             "rgb(250,234,220)"
            ]
           ],
           "sequentialminus": [
            [
             0,
             "rgb(2,4,25)"
            ],
            [
             0.06274509803921569,
             "rgb(24,15,41)"
            ],
            [
             0.12549019607843137,
             "rgb(47,23,57)"
            ],
            [
             0.18823529411764706,
             "rgb(71,28,72)"
            ],
            [
             0.25098039215686274,
             "rgb(97,30,82)"
            ],
            [
             0.3137254901960784,
             "rgb(123,30,89)"
            ],
            [
             0.3764705882352941,
             "rgb(150,27,91)"
            ],
            [
             0.4392156862745098,
             "rgb(177,22,88)"
            ],
            [
             0.5019607843137255,
             "rgb(203,26,79)"
            ],
            [
             0.5647058823529412,
             "rgb(223,47,67)"
            ],
            [
             0.6274509803921569,
             "rgb(236,76,61)"
            ],
            [
             0.6901960784313725,
             "rgb(242,107,73)"
            ],
            [
             0.7529411764705882,
             "rgb(244,135,95)"
            ],
            [
             0.8156862745098039,
             "rgb(245,162,122)"
            ],
            [
             0.8784313725490196,
             "rgb(246,188,153)"
            ],
            [
             0.9411764705882353,
             "rgb(247,212,187)"
            ],
            [
             1,
             "rgb(250,234,220)"
            ]
           ]
          },
          "colorway": [
           "rgb(76,114,176)",
           "rgb(221,132,82)",
           "rgb(85,168,104)",
           "rgb(196,78,82)",
           "rgb(129,114,179)",
           "rgb(147,120,96)",
           "rgb(218,139,195)",
           "rgb(140,140,140)",
           "rgb(204,185,116)",
           "rgb(100,181,205)"
          ],
          "font": {
           "color": "rgb(36,36,36)"
          },
          "geo": {
           "bgcolor": "white",
           "lakecolor": "white",
           "landcolor": "rgb(234,234,242)",
           "showlakes": true,
           "showland": true,
           "subunitcolor": "white"
          },
          "hoverlabel": {
           "align": "left"
          },
          "hovermode": "closest",
          "paper_bgcolor": "white",
          "plot_bgcolor": "rgb(234,234,242)",
          "polar": {
           "angularaxis": {
            "gridcolor": "white",
            "linecolor": "white",
            "showgrid": true,
            "ticks": ""
           },
           "bgcolor": "rgb(234,234,242)",
           "radialaxis": {
            "gridcolor": "white",
            "linecolor": "white",
            "showgrid": true,
            "ticks": ""
           }
          },
          "scene": {
           "xaxis": {
            "backgroundcolor": "rgb(234,234,242)",
            "gridcolor": "white",
            "gridwidth": 2,
            "linecolor": "white",
            "showbackground": true,
            "showgrid": true,
            "ticks": "",
            "zerolinecolor": "white"
           },
           "yaxis": {
            "backgroundcolor": "rgb(234,234,242)",
            "gridcolor": "white",
            "gridwidth": 2,
            "linecolor": "white",
            "showbackground": true,
            "showgrid": true,
            "ticks": "",
            "zerolinecolor": "white"
           },
           "zaxis": {
            "backgroundcolor": "rgb(234,234,242)",
            "gridcolor": "white",
            "gridwidth": 2,
            "linecolor": "white",
            "showbackground": true,
            "showgrid": true,
            "ticks": "",
            "zerolinecolor": "white"
           }
          },
          "shapedefaults": {
           "fillcolor": "rgb(67,103,167)",
           "line": {
            "width": 0
           },
           "opacity": 0.5
          },
          "ternary": {
           "aaxis": {
            "gridcolor": "white",
            "linecolor": "white",
            "showgrid": true,
            "ticks": ""
           },
           "baxis": {
            "gridcolor": "white",
            "linecolor": "white",
            "showgrid": true,
            "ticks": ""
           },
           "bgcolor": "rgb(234,234,242)",
           "caxis": {
            "gridcolor": "white",
            "linecolor": "white",
            "showgrid": true,
            "ticks": ""
           }
          },
          "xaxis": {
           "automargin": true,
           "gridcolor": "white",
           "linecolor": "white",
           "showgrid": true,
           "ticks": "",
           "title": {
            "standoff": 15
           },
           "zerolinecolor": "white"
          },
          "yaxis": {
           "automargin": true,
           "gridcolor": "white",
           "linecolor": "white",
           "showgrid": true,
           "ticks": "",
           "title": {
            "standoff": 15
           },
           "zerolinecolor": "white"
          }
         }
        },
        "xaxis": {
         "anchor": "y",
         "domain": [
          0,
          1
         ],
         "title": {
          "text": "category"
         }
        },
        "yaxis": {
         "anchor": "x",
         "domain": [
          0,
          1
         ],
         "title": {
          "text": "projects"
         }
        }
       }
      },
      "text/html": [
       "<div>                            <div id=\"0967a19d-d2c9-44b6-8446-b117bb6c34d4\" class=\"plotly-graph-div\" style=\"height:525px; width:100%;\"></div>            <script type=\"text/javascript\">                require([\"plotly\"], function(Plotly) {                    window.PLOTLYENV=window.PLOTLYENV || {};                                    if (document.getElementById(\"0967a19d-d2c9-44b6-8446-b117bb6c34d4\")) {                    Plotly.newPlot(                        \"0967a19d-d2c9-44b6-8446-b117bb6c34d4\",                        [{\"alignmentgroup\":\"True\",\"hovertemplate\":\"category=%{x}<br>projects=%{y}<extra></extra>\",\"legendgroup\":\"\",\"marker\":{\"color\":\"rgb(76,114,176)\",\"pattern\":{\"shape\":\"\"}},\"name\":\"\",\"offsetgroup\":\"\",\"orientation\":\"v\",\"showlegend\":false,\"textposition\":\"auto\",\"texttemplate\":\"%{y:.}\",\"x\":[\"ziele\\u0144/rekreacja\",\"piesze/rowerowe\",\"inne\",\"drogowe\",\"sport\",\"place zabaw\",\"komunikacja zbiorowa\",\"rewitalizacja\",\"podw\\u00f3rka\",\"edukacja\",\"zabytkowe\",\"nieinwestycyjne\"],\"xaxis\":\"x\",\"y\":[996,689,415,399,214,159,157,144,107,58,47,21],\"yaxis\":\"y\",\"type\":\"bar\"}],                        {\"template\":{\"data\":{\"barpolar\":[{\"marker\":{\"line\":{\"color\":\"rgb(234,234,242)\",\"width\":0.5},\"pattern\":{\"fillmode\":\"overlay\",\"size\":10,\"solidity\":0.2}},\"type\":\"barpolar\"}],\"bar\":[{\"error_x\":{\"color\":\"rgb(36,36,36)\"},\"error_y\":{\"color\":\"rgb(36,36,36)\"},\"marker\":{\"line\":{\"color\":\"rgb(234,234,242)\",\"width\":0.5},\"pattern\":{\"fillmode\":\"overlay\",\"size\":10,\"solidity\":0.2}},\"type\":\"bar\"}],\"carpet\":[{\"aaxis\":{\"endlinecolor\":\"rgb(36,36,36)\",\"gridcolor\":\"white\",\"linecolor\":\"white\",\"minorgridcolor\":\"white\",\"startlinecolor\":\"rgb(36,36,36)\"},\"baxis\":{\"endlinecolor\":\"rgb(36,36,36)\",\"gridcolor\":\"white\",\"linecolor\":\"white\",\"minorgridcolor\":\"white\",\"startlinecolor\":\"rgb(36,36,36)\"},\"type\":\"carpet\"}],\"choropleth\":[{\"colorbar\":{\"outlinewidth\":0,\"tickcolor\":\"rgb(36,36,36)\",\"ticklen\":8,\"ticks\":\"outside\",\"tickwidth\":2},\"type\":\"choropleth\"}],\"contourcarpet\":[{\"colorbar\":{\"outlinewidth\":0,\"tickcolor\":\"rgb(36,36,36)\",\"ticklen\":8,\"ticks\":\"outside\",\"tickwidth\":2},\"type\":\"contourcarpet\"}],\"contour\":[{\"colorbar\":{\"outlinewidth\":0,\"tickcolor\":\"rgb(36,36,36)\",\"ticklen\":8,\"ticks\":\"outside\",\"tickwidth\":2},\"colorscale\":[[0.0,\"rgb(2,4,25)\"],[0.06274509803921569,\"rgb(24,15,41)\"],[0.12549019607843137,\"rgb(47,23,57)\"],[0.18823529411764706,\"rgb(71,28,72)\"],[0.25098039215686274,\"rgb(97,30,82)\"],[0.3137254901960784,\"rgb(123,30,89)\"],[0.3764705882352941,\"rgb(150,27,91)\"],[0.4392156862745098,\"rgb(177,22,88)\"],[0.5019607843137255,\"rgb(203,26,79)\"],[0.5647058823529412,\"rgb(223,47,67)\"],[0.6274509803921569,\"rgb(236,76,61)\"],[0.6901960784313725,\"rgb(242,107,73)\"],[0.7529411764705882,\"rgb(244,135,95)\"],[0.8156862745098039,\"rgb(245,162,122)\"],[0.8784313725490196,\"rgb(246,188,153)\"],[0.9411764705882353,\"rgb(247,212,187)\"],[1.0,\"rgb(250,234,220)\"]],\"type\":\"contour\"}],\"heatmapgl\":[{\"colorbar\":{\"outlinewidth\":0,\"tickcolor\":\"rgb(36,36,36)\",\"ticklen\":8,\"ticks\":\"outside\",\"tickwidth\":2},\"colorscale\":[[0.0,\"rgb(2,4,25)\"],[0.06274509803921569,\"rgb(24,15,41)\"],[0.12549019607843137,\"rgb(47,23,57)\"],[0.18823529411764706,\"rgb(71,28,72)\"],[0.25098039215686274,\"rgb(97,30,82)\"],[0.3137254901960784,\"rgb(123,30,89)\"],[0.3764705882352941,\"rgb(150,27,91)\"],[0.4392156862745098,\"rgb(177,22,88)\"],[0.5019607843137255,\"rgb(203,26,79)\"],[0.5647058823529412,\"rgb(223,47,67)\"],[0.6274509803921569,\"rgb(236,76,61)\"],[0.6901960784313725,\"rgb(242,107,73)\"],[0.7529411764705882,\"rgb(244,135,95)\"],[0.8156862745098039,\"rgb(245,162,122)\"],[0.8784313725490196,\"rgb(246,188,153)\"],[0.9411764705882353,\"rgb(247,212,187)\"],[1.0,\"rgb(250,234,220)\"]],\"type\":\"heatmapgl\"}],\"heatmap\":[{\"colorbar\":{\"outlinewidth\":0,\"tickcolor\":\"rgb(36,36,36)\",\"ticklen\":8,\"ticks\":\"outside\",\"tickwidth\":2},\"colorscale\":[[0.0,\"rgb(2,4,25)\"],[0.06274509803921569,\"rgb(24,15,41)\"],[0.12549019607843137,\"rgb(47,23,57)\"],[0.18823529411764706,\"rgb(71,28,72)\"],[0.25098039215686274,\"rgb(97,30,82)\"],[0.3137254901960784,\"rgb(123,30,89)\"],[0.3764705882352941,\"rgb(150,27,91)\"],[0.4392156862745098,\"rgb(177,22,88)\"],[0.5019607843137255,\"rgb(203,26,79)\"],[0.5647058823529412,\"rgb(223,47,67)\"],[0.6274509803921569,\"rgb(236,76,61)\"],[0.6901960784313725,\"rgb(242,107,73)\"],[0.7529411764705882,\"rgb(244,135,95)\"],[0.8156862745098039,\"rgb(245,162,122)\"],[0.8784313725490196,\"rgb(246,188,153)\"],[0.9411764705882353,\"rgb(247,212,187)\"],[1.0,\"rgb(250,234,220)\"]],\"type\":\"heatmap\"}],\"histogram2dcontour\":[{\"colorbar\":{\"outlinewidth\":0,\"tickcolor\":\"rgb(36,36,36)\",\"ticklen\":8,\"ticks\":\"outside\",\"tickwidth\":2},\"colorscale\":[[0.0,\"rgb(2,4,25)\"],[0.06274509803921569,\"rgb(24,15,41)\"],[0.12549019607843137,\"rgb(47,23,57)\"],[0.18823529411764706,\"rgb(71,28,72)\"],[0.25098039215686274,\"rgb(97,30,82)\"],[0.3137254901960784,\"rgb(123,30,89)\"],[0.3764705882352941,\"rgb(150,27,91)\"],[0.4392156862745098,\"rgb(177,22,88)\"],[0.5019607843137255,\"rgb(203,26,79)\"],[0.5647058823529412,\"rgb(223,47,67)\"],[0.6274509803921569,\"rgb(236,76,61)\"],[0.6901960784313725,\"rgb(242,107,73)\"],[0.7529411764705882,\"rgb(244,135,95)\"],[0.8156862745098039,\"rgb(245,162,122)\"],[0.8784313725490196,\"rgb(246,188,153)\"],[0.9411764705882353,\"rgb(247,212,187)\"],[1.0,\"rgb(250,234,220)\"]],\"type\":\"histogram2dcontour\"}],\"histogram2d\":[{\"colorbar\":{\"outlinewidth\":0,\"tickcolor\":\"rgb(36,36,36)\",\"ticklen\":8,\"ticks\":\"outside\",\"tickwidth\":2},\"colorscale\":[[0.0,\"rgb(2,4,25)\"],[0.06274509803921569,\"rgb(24,15,41)\"],[0.12549019607843137,\"rgb(47,23,57)\"],[0.18823529411764706,\"rgb(71,28,72)\"],[0.25098039215686274,\"rgb(97,30,82)\"],[0.3137254901960784,\"rgb(123,30,89)\"],[0.3764705882352941,\"rgb(150,27,91)\"],[0.4392156862745098,\"rgb(177,22,88)\"],[0.5019607843137255,\"rgb(203,26,79)\"],[0.5647058823529412,\"rgb(223,47,67)\"],[0.6274509803921569,\"rgb(236,76,61)\"],[0.6901960784313725,\"rgb(242,107,73)\"],[0.7529411764705882,\"rgb(244,135,95)\"],[0.8156862745098039,\"rgb(245,162,122)\"],[0.8784313725490196,\"rgb(246,188,153)\"],[0.9411764705882353,\"rgb(247,212,187)\"],[1.0,\"rgb(250,234,220)\"]],\"type\":\"histogram2d\"}],\"histogram\":[{\"marker\":{\"pattern\":{\"fillmode\":\"overlay\",\"size\":10,\"solidity\":0.2}},\"type\":\"histogram\"}],\"mesh3d\":[{\"colorbar\":{\"outlinewidth\":0,\"tickcolor\":\"rgb(36,36,36)\",\"ticklen\":8,\"ticks\":\"outside\",\"tickwidth\":2},\"type\":\"mesh3d\"}],\"parcoords\":[{\"line\":{\"colorbar\":{\"outlinewidth\":0,\"tickcolor\":\"rgb(36,36,36)\",\"ticklen\":8,\"ticks\":\"outside\",\"tickwidth\":2}},\"type\":\"parcoords\"}],\"pie\":[{\"automargin\":true,\"type\":\"pie\"}],\"scatter3d\":[{\"line\":{\"colorbar\":{\"outlinewidth\":0,\"tickcolor\":\"rgb(36,36,36)\",\"ticklen\":8,\"ticks\":\"outside\",\"tickwidth\":2}},\"marker\":{\"colorbar\":{\"outlinewidth\":0,\"tickcolor\":\"rgb(36,36,36)\",\"ticklen\":8,\"ticks\":\"outside\",\"tickwidth\":2}},\"type\":\"scatter3d\"}],\"scattercarpet\":[{\"marker\":{\"colorbar\":{\"outlinewidth\":0,\"tickcolor\":\"rgb(36,36,36)\",\"ticklen\":8,\"ticks\":\"outside\",\"tickwidth\":2}},\"type\":\"scattercarpet\"}],\"scattergeo\":[{\"marker\":{\"colorbar\":{\"outlinewidth\":0,\"tickcolor\":\"rgb(36,36,36)\",\"ticklen\":8,\"ticks\":\"outside\",\"tickwidth\":2}},\"type\":\"scattergeo\"}],\"scattergl\":[{\"marker\":{\"colorbar\":{\"outlinewidth\":0,\"tickcolor\":\"rgb(36,36,36)\",\"ticklen\":8,\"ticks\":\"outside\",\"tickwidth\":2}},\"type\":\"scattergl\"}],\"scattermapbox\":[{\"marker\":{\"colorbar\":{\"outlinewidth\":0,\"tickcolor\":\"rgb(36,36,36)\",\"ticklen\":8,\"ticks\":\"outside\",\"tickwidth\":2}},\"type\":\"scattermapbox\"}],\"scatterpolargl\":[{\"marker\":{\"colorbar\":{\"outlinewidth\":0,\"tickcolor\":\"rgb(36,36,36)\",\"ticklen\":8,\"ticks\":\"outside\",\"tickwidth\":2}},\"type\":\"scatterpolargl\"}],\"scatterpolar\":[{\"marker\":{\"colorbar\":{\"outlinewidth\":0,\"tickcolor\":\"rgb(36,36,36)\",\"ticklen\":8,\"ticks\":\"outside\",\"tickwidth\":2}},\"type\":\"scatterpolar\"}],\"scatter\":[{\"marker\":{\"colorbar\":{\"outlinewidth\":0,\"tickcolor\":\"rgb(36,36,36)\",\"ticklen\":8,\"ticks\":\"outside\",\"tickwidth\":2}},\"type\":\"scatter\"}],\"scatterternary\":[{\"marker\":{\"colorbar\":{\"outlinewidth\":0,\"tickcolor\":\"rgb(36,36,36)\",\"ticklen\":8,\"ticks\":\"outside\",\"tickwidth\":2}},\"type\":\"scatterternary\"}],\"surface\":[{\"colorbar\":{\"outlinewidth\":0,\"tickcolor\":\"rgb(36,36,36)\",\"ticklen\":8,\"ticks\":\"outside\",\"tickwidth\":2},\"colorscale\":[[0.0,\"rgb(2,4,25)\"],[0.06274509803921569,\"rgb(24,15,41)\"],[0.12549019607843137,\"rgb(47,23,57)\"],[0.18823529411764706,\"rgb(71,28,72)\"],[0.25098039215686274,\"rgb(97,30,82)\"],[0.3137254901960784,\"rgb(123,30,89)\"],[0.3764705882352941,\"rgb(150,27,91)\"],[0.4392156862745098,\"rgb(177,22,88)\"],[0.5019607843137255,\"rgb(203,26,79)\"],[0.5647058823529412,\"rgb(223,47,67)\"],[0.6274509803921569,\"rgb(236,76,61)\"],[0.6901960784313725,\"rgb(242,107,73)\"],[0.7529411764705882,\"rgb(244,135,95)\"],[0.8156862745098039,\"rgb(245,162,122)\"],[0.8784313725490196,\"rgb(246,188,153)\"],[0.9411764705882353,\"rgb(247,212,187)\"],[1.0,\"rgb(250,234,220)\"]],\"type\":\"surface\"}],\"table\":[{\"cells\":{\"fill\":{\"color\":\"rgb(231,231,240)\"},\"line\":{\"color\":\"white\"}},\"header\":{\"fill\":{\"color\":\"rgb(183,183,191)\"},\"line\":{\"color\":\"white\"}},\"type\":\"table\"}]},\"layout\":{\"annotationdefaults\":{\"arrowcolor\":\"rgb(67,103,167)\"},\"autotypenumbers\":\"strict\",\"coloraxis\":{\"colorbar\":{\"outlinewidth\":0,\"tickcolor\":\"rgb(36,36,36)\",\"ticklen\":8,\"ticks\":\"outside\",\"tickwidth\":2}},\"colorscale\":{\"sequential\":[[0.0,\"rgb(2,4,25)\"],[0.06274509803921569,\"rgb(24,15,41)\"],[0.12549019607843137,\"rgb(47,23,57)\"],[0.18823529411764706,\"rgb(71,28,72)\"],[0.25098039215686274,\"rgb(97,30,82)\"],[0.3137254901960784,\"rgb(123,30,89)\"],[0.3764705882352941,\"rgb(150,27,91)\"],[0.4392156862745098,\"rgb(177,22,88)\"],[0.5019607843137255,\"rgb(203,26,79)\"],[0.5647058823529412,\"rgb(223,47,67)\"],[0.6274509803921569,\"rgb(236,76,61)\"],[0.6901960784313725,\"rgb(242,107,73)\"],[0.7529411764705882,\"rgb(244,135,95)\"],[0.8156862745098039,\"rgb(245,162,122)\"],[0.8784313725490196,\"rgb(246,188,153)\"],[0.9411764705882353,\"rgb(247,212,187)\"],[1.0,\"rgb(250,234,220)\"]],\"sequentialminus\":[[0.0,\"rgb(2,4,25)\"],[0.06274509803921569,\"rgb(24,15,41)\"],[0.12549019607843137,\"rgb(47,23,57)\"],[0.18823529411764706,\"rgb(71,28,72)\"],[0.25098039215686274,\"rgb(97,30,82)\"],[0.3137254901960784,\"rgb(123,30,89)\"],[0.3764705882352941,\"rgb(150,27,91)\"],[0.4392156862745098,\"rgb(177,22,88)\"],[0.5019607843137255,\"rgb(203,26,79)\"],[0.5647058823529412,\"rgb(223,47,67)\"],[0.6274509803921569,\"rgb(236,76,61)\"],[0.6901960784313725,\"rgb(242,107,73)\"],[0.7529411764705882,\"rgb(244,135,95)\"],[0.8156862745098039,\"rgb(245,162,122)\"],[0.8784313725490196,\"rgb(246,188,153)\"],[0.9411764705882353,\"rgb(247,212,187)\"],[1.0,\"rgb(250,234,220)\"]]},\"colorway\":[\"rgb(76,114,176)\",\"rgb(221,132,82)\",\"rgb(85,168,104)\",\"rgb(196,78,82)\",\"rgb(129,114,179)\",\"rgb(147,120,96)\",\"rgb(218,139,195)\",\"rgb(140,140,140)\",\"rgb(204,185,116)\",\"rgb(100,181,205)\"],\"font\":{\"color\":\"rgb(36,36,36)\"},\"geo\":{\"bgcolor\":\"white\",\"lakecolor\":\"white\",\"landcolor\":\"rgb(234,234,242)\",\"showlakes\":true,\"showland\":true,\"subunitcolor\":\"white\"},\"hoverlabel\":{\"align\":\"left\"},\"hovermode\":\"closest\",\"paper_bgcolor\":\"white\",\"plot_bgcolor\":\"rgb(234,234,242)\",\"polar\":{\"angularaxis\":{\"gridcolor\":\"white\",\"linecolor\":\"white\",\"showgrid\":true,\"ticks\":\"\"},\"bgcolor\":\"rgb(234,234,242)\",\"radialaxis\":{\"gridcolor\":\"white\",\"linecolor\":\"white\",\"showgrid\":true,\"ticks\":\"\"}},\"scene\":{\"xaxis\":{\"backgroundcolor\":\"rgb(234,234,242)\",\"gridcolor\":\"white\",\"gridwidth\":2,\"linecolor\":\"white\",\"showbackground\":true,\"showgrid\":true,\"ticks\":\"\",\"zerolinecolor\":\"white\"},\"yaxis\":{\"backgroundcolor\":\"rgb(234,234,242)\",\"gridcolor\":\"white\",\"gridwidth\":2,\"linecolor\":\"white\",\"showbackground\":true,\"showgrid\":true,\"ticks\":\"\",\"zerolinecolor\":\"white\"},\"zaxis\":{\"backgroundcolor\":\"rgb(234,234,242)\",\"gridcolor\":\"white\",\"gridwidth\":2,\"linecolor\":\"white\",\"showbackground\":true,\"showgrid\":true,\"ticks\":\"\",\"zerolinecolor\":\"white\"}},\"shapedefaults\":{\"fillcolor\":\"rgb(67,103,167)\",\"line\":{\"width\":0},\"opacity\":0.5},\"ternary\":{\"aaxis\":{\"gridcolor\":\"white\",\"linecolor\":\"white\",\"showgrid\":true,\"ticks\":\"\"},\"baxis\":{\"gridcolor\":\"white\",\"linecolor\":\"white\",\"showgrid\":true,\"ticks\":\"\"},\"bgcolor\":\"rgb(234,234,242)\",\"caxis\":{\"gridcolor\":\"white\",\"linecolor\":\"white\",\"showgrid\":true,\"ticks\":\"\"}},\"xaxis\":{\"automargin\":true,\"gridcolor\":\"white\",\"linecolor\":\"white\",\"showgrid\":true,\"ticks\":\"\",\"title\":{\"standoff\":15},\"zerolinecolor\":\"white\"},\"yaxis\":{\"automargin\":true,\"gridcolor\":\"white\",\"linecolor\":\"white\",\"showgrid\":true,\"ticks\":\"\",\"title\":{\"standoff\":15},\"zerolinecolor\":\"white\"}}},\"xaxis\":{\"anchor\":\"y\",\"domain\":[0.0,1.0],\"title\":{\"text\":\"category\"}},\"yaxis\":{\"anchor\":\"x\",\"domain\":[0.0,1.0],\"title\":{\"text\":\"projects\"}},\"legend\":{\"tracegroupgap\":0},\"margin\":{\"t\":60},\"barmode\":\"relative\"},                        {\"responsive\": true}                    ).then(function(){\n",
       "                            \n",
       "var gd = document.getElementById('0967a19d-d2c9-44b6-8446-b117bb6c34d4');\n",
       "var x = new MutationObserver(function (mutations, observer) {{\n",
       "        var display = window.getComputedStyle(gd).display;\n",
       "        if (!display || display === 'none') {{\n",
       "            console.log([gd, 'removed!']);\n",
       "            Plotly.purge(gd);\n",
       "            observer.disconnect();\n",
       "        }}\n",
       "}});\n",
       "\n",
       "// Listen for the removal of the full notebook cells\n",
       "var notebookContainer = gd.closest('#notebook-container');\n",
       "if (notebookContainer) {{\n",
       "    x.observe(notebookContainer, {childList: true});\n",
       "}}\n",
       "\n",
       "// Listen for the clearing of the current output cell\n",
       "var outputEl = gd.closest('.output');\n",
       "if (outputEl) {{\n",
       "    x.observe(outputEl, {childList: true});\n",
       "}}\n",
       "\n",
       "                        })                };                });            </script>        </div>"
      ]
     },
     "metadata": {},
     "output_type": "display_data"
    }
   ],
   "source": [
    "fig = px.bar(category, x='category', y='projects', text_auto='.', template=\"seaborn\")\n",
    "fig.show()"
   ]
  },
  {
   "cell_type": "code",
   "execution_count": 13,
   "id": "6155708e",
   "metadata": {},
   "outputs": [
    {
     "data": {
      "application/vnd.plotly.v1+json": {
       "config": {
        "plotlyServerURL": "https://plot.ly"
       },
       "data": [
        {
         "alignmentgroup": "True",
         "hovertemplate": "year=%{x}<br>projects=%{y}<extra></extra>",
         "legendgroup": "",
         "marker": {
          "color": "rgb(76,114,176)",
          "pattern": {
           "shape": ""
          }
         },
         "name": "",
         "offsetgroup": "",
         "orientation": "v",
         "showlegend": false,
         "textposition": "auto",
         "texttemplate": "%{y:.}",
         "type": "bar",
         "x": [
          2016,
          2017,
          2018,
          2019,
          2020,
          2021
         ],
         "xaxis": "x",
         "y": [
          791,
          785,
          606,
          446,
          413,
          368
         ],
         "yaxis": "y"
        }
       ],
       "layout": {
        "barmode": "relative",
        "legend": {
         "tracegroupgap": 0
        },
        "margin": {
         "t": 60
        },
        "template": {
         "data": {
          "bar": [
           {
            "error_x": {
             "color": "rgb(36,36,36)"
            },
            "error_y": {
             "color": "rgb(36,36,36)"
            },
            "marker": {
             "line": {
              "color": "rgb(234,234,242)",
              "width": 0.5
             },
             "pattern": {
              "fillmode": "overlay",
              "size": 10,
              "solidity": 0.2
             }
            },
            "type": "bar"
           }
          ],
          "barpolar": [
           {
            "marker": {
             "line": {
              "color": "rgb(234,234,242)",
              "width": 0.5
             },
             "pattern": {
              "fillmode": "overlay",
              "size": 10,
              "solidity": 0.2
             }
            },
            "type": "barpolar"
           }
          ],
          "carpet": [
           {
            "aaxis": {
             "endlinecolor": "rgb(36,36,36)",
             "gridcolor": "white",
             "linecolor": "white",
             "minorgridcolor": "white",
             "startlinecolor": "rgb(36,36,36)"
            },
            "baxis": {
             "endlinecolor": "rgb(36,36,36)",
             "gridcolor": "white",
             "linecolor": "white",
             "minorgridcolor": "white",
             "startlinecolor": "rgb(36,36,36)"
            },
            "type": "carpet"
           }
          ],
          "choropleth": [
           {
            "colorbar": {
             "outlinewidth": 0,
             "tickcolor": "rgb(36,36,36)",
             "ticklen": 8,
             "ticks": "outside",
             "tickwidth": 2
            },
            "type": "choropleth"
           }
          ],
          "contour": [
           {
            "colorbar": {
             "outlinewidth": 0,
             "tickcolor": "rgb(36,36,36)",
             "ticklen": 8,
             "ticks": "outside",
             "tickwidth": 2
            },
            "colorscale": [
             [
              0,
              "rgb(2,4,25)"
             ],
             [
              0.06274509803921569,
              "rgb(24,15,41)"
             ],
             [
              0.12549019607843137,
              "rgb(47,23,57)"
             ],
             [
              0.18823529411764706,
              "rgb(71,28,72)"
             ],
             [
              0.25098039215686274,
              "rgb(97,30,82)"
             ],
             [
              0.3137254901960784,
              "rgb(123,30,89)"
             ],
             [
              0.3764705882352941,
              "rgb(150,27,91)"
             ],
             [
              0.4392156862745098,
              "rgb(177,22,88)"
             ],
             [
              0.5019607843137255,
              "rgb(203,26,79)"
             ],
             [
              0.5647058823529412,
              "rgb(223,47,67)"
             ],
             [
              0.6274509803921569,
              "rgb(236,76,61)"
             ],
             [
              0.6901960784313725,
              "rgb(242,107,73)"
             ],
             [
              0.7529411764705882,
              "rgb(244,135,95)"
             ],
             [
              0.8156862745098039,
              "rgb(245,162,122)"
             ],
             [
              0.8784313725490196,
              "rgb(246,188,153)"
             ],
             [
              0.9411764705882353,
              "rgb(247,212,187)"
             ],
             [
              1,
              "rgb(250,234,220)"
             ]
            ],
            "type": "contour"
           }
          ],
          "contourcarpet": [
           {
            "colorbar": {
             "outlinewidth": 0,
             "tickcolor": "rgb(36,36,36)",
             "ticklen": 8,
             "ticks": "outside",
             "tickwidth": 2
            },
            "type": "contourcarpet"
           }
          ],
          "heatmap": [
           {
            "colorbar": {
             "outlinewidth": 0,
             "tickcolor": "rgb(36,36,36)",
             "ticklen": 8,
             "ticks": "outside",
             "tickwidth": 2
            },
            "colorscale": [
             [
              0,
              "rgb(2,4,25)"
             ],
             [
              0.06274509803921569,
              "rgb(24,15,41)"
             ],
             [
              0.12549019607843137,
              "rgb(47,23,57)"
             ],
             [
              0.18823529411764706,
              "rgb(71,28,72)"
             ],
             [
              0.25098039215686274,
              "rgb(97,30,82)"
             ],
             [
              0.3137254901960784,
              "rgb(123,30,89)"
             ],
             [
              0.3764705882352941,
              "rgb(150,27,91)"
             ],
             [
              0.4392156862745098,
              "rgb(177,22,88)"
             ],
             [
              0.5019607843137255,
              "rgb(203,26,79)"
             ],
             [
              0.5647058823529412,
              "rgb(223,47,67)"
             ],
             [
              0.6274509803921569,
              "rgb(236,76,61)"
             ],
             [
              0.6901960784313725,
              "rgb(242,107,73)"
             ],
             [
              0.7529411764705882,
              "rgb(244,135,95)"
             ],
             [
              0.8156862745098039,
              "rgb(245,162,122)"
             ],
             [
              0.8784313725490196,
              "rgb(246,188,153)"
             ],
             [
              0.9411764705882353,
              "rgb(247,212,187)"
             ],
             [
              1,
              "rgb(250,234,220)"
             ]
            ],
            "type": "heatmap"
           }
          ],
          "heatmapgl": [
           {
            "colorbar": {
             "outlinewidth": 0,
             "tickcolor": "rgb(36,36,36)",
             "ticklen": 8,
             "ticks": "outside",
             "tickwidth": 2
            },
            "colorscale": [
             [
              0,
              "rgb(2,4,25)"
             ],
             [
              0.06274509803921569,
              "rgb(24,15,41)"
             ],
             [
              0.12549019607843137,
              "rgb(47,23,57)"
             ],
             [
              0.18823529411764706,
              "rgb(71,28,72)"
             ],
             [
              0.25098039215686274,
              "rgb(97,30,82)"
             ],
             [
              0.3137254901960784,
              "rgb(123,30,89)"
             ],
             [
              0.3764705882352941,
              "rgb(150,27,91)"
             ],
             [
              0.4392156862745098,
              "rgb(177,22,88)"
             ],
             [
              0.5019607843137255,
              "rgb(203,26,79)"
             ],
             [
              0.5647058823529412,
              "rgb(223,47,67)"
             ],
             [
              0.6274509803921569,
              "rgb(236,76,61)"
             ],
             [
              0.6901960784313725,
              "rgb(242,107,73)"
             ],
             [
              0.7529411764705882,
              "rgb(244,135,95)"
             ],
             [
              0.8156862745098039,
              "rgb(245,162,122)"
             ],
             [
              0.8784313725490196,
              "rgb(246,188,153)"
             ],
             [
              0.9411764705882353,
              "rgb(247,212,187)"
             ],
             [
              1,
              "rgb(250,234,220)"
             ]
            ],
            "type": "heatmapgl"
           }
          ],
          "histogram": [
           {
            "marker": {
             "pattern": {
              "fillmode": "overlay",
              "size": 10,
              "solidity": 0.2
             }
            },
            "type": "histogram"
           }
          ],
          "histogram2d": [
           {
            "colorbar": {
             "outlinewidth": 0,
             "tickcolor": "rgb(36,36,36)",
             "ticklen": 8,
             "ticks": "outside",
             "tickwidth": 2
            },
            "colorscale": [
             [
              0,
              "rgb(2,4,25)"
             ],
             [
              0.06274509803921569,
              "rgb(24,15,41)"
             ],
             [
              0.12549019607843137,
              "rgb(47,23,57)"
             ],
             [
              0.18823529411764706,
              "rgb(71,28,72)"
             ],
             [
              0.25098039215686274,
              "rgb(97,30,82)"
             ],
             [
              0.3137254901960784,
              "rgb(123,30,89)"
             ],
             [
              0.3764705882352941,
              "rgb(150,27,91)"
             ],
             [
              0.4392156862745098,
              "rgb(177,22,88)"
             ],
             [
              0.5019607843137255,
              "rgb(203,26,79)"
             ],
             [
              0.5647058823529412,
              "rgb(223,47,67)"
             ],
             [
              0.6274509803921569,
              "rgb(236,76,61)"
             ],
             [
              0.6901960784313725,
              "rgb(242,107,73)"
             ],
             [
              0.7529411764705882,
              "rgb(244,135,95)"
             ],
             [
              0.8156862745098039,
              "rgb(245,162,122)"
             ],
             [
              0.8784313725490196,
              "rgb(246,188,153)"
             ],
             [
              0.9411764705882353,
              "rgb(247,212,187)"
             ],
             [
              1,
              "rgb(250,234,220)"
             ]
            ],
            "type": "histogram2d"
           }
          ],
          "histogram2dcontour": [
           {
            "colorbar": {
             "outlinewidth": 0,
             "tickcolor": "rgb(36,36,36)",
             "ticklen": 8,
             "ticks": "outside",
             "tickwidth": 2
            },
            "colorscale": [
             [
              0,
              "rgb(2,4,25)"
             ],
             [
              0.06274509803921569,
              "rgb(24,15,41)"
             ],
             [
              0.12549019607843137,
              "rgb(47,23,57)"
             ],
             [
              0.18823529411764706,
              "rgb(71,28,72)"
             ],
             [
              0.25098039215686274,
              "rgb(97,30,82)"
             ],
             [
              0.3137254901960784,
              "rgb(123,30,89)"
             ],
             [
              0.3764705882352941,
              "rgb(150,27,91)"
             ],
             [
              0.4392156862745098,
              "rgb(177,22,88)"
             ],
             [
              0.5019607843137255,
              "rgb(203,26,79)"
             ],
             [
              0.5647058823529412,
              "rgb(223,47,67)"
             ],
             [
              0.6274509803921569,
              "rgb(236,76,61)"
             ],
             [
              0.6901960784313725,
              "rgb(242,107,73)"
             ],
             [
              0.7529411764705882,
              "rgb(244,135,95)"
             ],
             [
              0.8156862745098039,
              "rgb(245,162,122)"
             ],
             [
              0.8784313725490196,
              "rgb(246,188,153)"
             ],
             [
              0.9411764705882353,
              "rgb(247,212,187)"
             ],
             [
              1,
              "rgb(250,234,220)"
             ]
            ],
            "type": "histogram2dcontour"
           }
          ],
          "mesh3d": [
           {
            "colorbar": {
             "outlinewidth": 0,
             "tickcolor": "rgb(36,36,36)",
             "ticklen": 8,
             "ticks": "outside",
             "tickwidth": 2
            },
            "type": "mesh3d"
           }
          ],
          "parcoords": [
           {
            "line": {
             "colorbar": {
              "outlinewidth": 0,
              "tickcolor": "rgb(36,36,36)",
              "ticklen": 8,
              "ticks": "outside",
              "tickwidth": 2
             }
            },
            "type": "parcoords"
           }
          ],
          "pie": [
           {
            "automargin": true,
            "type": "pie"
           }
          ],
          "scatter": [
           {
            "marker": {
             "colorbar": {
              "outlinewidth": 0,
              "tickcolor": "rgb(36,36,36)",
              "ticklen": 8,
              "ticks": "outside",
              "tickwidth": 2
             }
            },
            "type": "scatter"
           }
          ],
          "scatter3d": [
           {
            "line": {
             "colorbar": {
              "outlinewidth": 0,
              "tickcolor": "rgb(36,36,36)",
              "ticklen": 8,
              "ticks": "outside",
              "tickwidth": 2
             }
            },
            "marker": {
             "colorbar": {
              "outlinewidth": 0,
              "tickcolor": "rgb(36,36,36)",
              "ticklen": 8,
              "ticks": "outside",
              "tickwidth": 2
             }
            },
            "type": "scatter3d"
           }
          ],
          "scattercarpet": [
           {
            "marker": {
             "colorbar": {
              "outlinewidth": 0,
              "tickcolor": "rgb(36,36,36)",
              "ticklen": 8,
              "ticks": "outside",
              "tickwidth": 2
             }
            },
            "type": "scattercarpet"
           }
          ],
          "scattergeo": [
           {
            "marker": {
             "colorbar": {
              "outlinewidth": 0,
              "tickcolor": "rgb(36,36,36)",
              "ticklen": 8,
              "ticks": "outside",
              "tickwidth": 2
             }
            },
            "type": "scattergeo"
           }
          ],
          "scattergl": [
           {
            "marker": {
             "colorbar": {
              "outlinewidth": 0,
              "tickcolor": "rgb(36,36,36)",
              "ticklen": 8,
              "ticks": "outside",
              "tickwidth": 2
             }
            },
            "type": "scattergl"
           }
          ],
          "scattermapbox": [
           {
            "marker": {
             "colorbar": {
              "outlinewidth": 0,
              "tickcolor": "rgb(36,36,36)",
              "ticklen": 8,
              "ticks": "outside",
              "tickwidth": 2
             }
            },
            "type": "scattermapbox"
           }
          ],
          "scatterpolar": [
           {
            "marker": {
             "colorbar": {
              "outlinewidth": 0,
              "tickcolor": "rgb(36,36,36)",
              "ticklen": 8,
              "ticks": "outside",
              "tickwidth": 2
             }
            },
            "type": "scatterpolar"
           }
          ],
          "scatterpolargl": [
           {
            "marker": {
             "colorbar": {
              "outlinewidth": 0,
              "tickcolor": "rgb(36,36,36)",
              "ticklen": 8,
              "ticks": "outside",
              "tickwidth": 2
             }
            },
            "type": "scatterpolargl"
           }
          ],
          "scatterternary": [
           {
            "marker": {
             "colorbar": {
              "outlinewidth": 0,
              "tickcolor": "rgb(36,36,36)",
              "ticklen": 8,
              "ticks": "outside",
              "tickwidth": 2
             }
            },
            "type": "scatterternary"
           }
          ],
          "surface": [
           {
            "colorbar": {
             "outlinewidth": 0,
             "tickcolor": "rgb(36,36,36)",
             "ticklen": 8,
             "ticks": "outside",
             "tickwidth": 2
            },
            "colorscale": [
             [
              0,
              "rgb(2,4,25)"
             ],
             [
              0.06274509803921569,
              "rgb(24,15,41)"
             ],
             [
              0.12549019607843137,
              "rgb(47,23,57)"
             ],
             [
              0.18823529411764706,
              "rgb(71,28,72)"
             ],
             [
              0.25098039215686274,
              "rgb(97,30,82)"
             ],
             [
              0.3137254901960784,
              "rgb(123,30,89)"
             ],
             [
              0.3764705882352941,
              "rgb(150,27,91)"
             ],
             [
              0.4392156862745098,
              "rgb(177,22,88)"
             ],
             [
              0.5019607843137255,
              "rgb(203,26,79)"
             ],
             [
              0.5647058823529412,
              "rgb(223,47,67)"
             ],
             [
              0.6274509803921569,
              "rgb(236,76,61)"
             ],
             [
              0.6901960784313725,
              "rgb(242,107,73)"
             ],
             [
              0.7529411764705882,
              "rgb(244,135,95)"
             ],
             [
              0.8156862745098039,
              "rgb(245,162,122)"
             ],
             [
              0.8784313725490196,
              "rgb(246,188,153)"
             ],
             [
              0.9411764705882353,
              "rgb(247,212,187)"
             ],
             [
              1,
              "rgb(250,234,220)"
             ]
            ],
            "type": "surface"
           }
          ],
          "table": [
           {
            "cells": {
             "fill": {
              "color": "rgb(231,231,240)"
             },
             "line": {
              "color": "white"
             }
            },
            "header": {
             "fill": {
              "color": "rgb(183,183,191)"
             },
             "line": {
              "color": "white"
             }
            },
            "type": "table"
           }
          ]
         },
         "layout": {
          "annotationdefaults": {
           "arrowcolor": "rgb(67,103,167)"
          },
          "autotypenumbers": "strict",
          "coloraxis": {
           "colorbar": {
            "outlinewidth": 0,
            "tickcolor": "rgb(36,36,36)",
            "ticklen": 8,
            "ticks": "outside",
            "tickwidth": 2
           }
          },
          "colorscale": {
           "sequential": [
            [
             0,
             "rgb(2,4,25)"
            ],
            [
             0.06274509803921569,
             "rgb(24,15,41)"
            ],
            [
             0.12549019607843137,
             "rgb(47,23,57)"
            ],
            [
             0.18823529411764706,
             "rgb(71,28,72)"
            ],
            [
             0.25098039215686274,
             "rgb(97,30,82)"
            ],
            [
             0.3137254901960784,
             "rgb(123,30,89)"
            ],
            [
             0.3764705882352941,
             "rgb(150,27,91)"
            ],
            [
             0.4392156862745098,
             "rgb(177,22,88)"
            ],
            [
             0.5019607843137255,
             "rgb(203,26,79)"
            ],
            [
             0.5647058823529412,
             "rgb(223,47,67)"
            ],
            [
             0.6274509803921569,
             "rgb(236,76,61)"
            ],
            [
             0.6901960784313725,
             "rgb(242,107,73)"
            ],
            [
             0.7529411764705882,
             "rgb(244,135,95)"
            ],
            [
             0.8156862745098039,
             "rgb(245,162,122)"
            ],
            [
             0.8784313725490196,
             "rgb(246,188,153)"
            ],
            [
             0.9411764705882353,
             "rgb(247,212,187)"
            ],
            [
             1,
             "rgb(250,234,220)"
            ]
           ],
           "sequentialminus": [
            [
             0,
             "rgb(2,4,25)"
            ],
            [
             0.06274509803921569,
             "rgb(24,15,41)"
            ],
            [
             0.12549019607843137,
             "rgb(47,23,57)"
            ],
            [
             0.18823529411764706,
             "rgb(71,28,72)"
            ],
            [
             0.25098039215686274,
             "rgb(97,30,82)"
            ],
            [
             0.3137254901960784,
             "rgb(123,30,89)"
            ],
            [
             0.3764705882352941,
             "rgb(150,27,91)"
            ],
            [
             0.4392156862745098,
             "rgb(177,22,88)"
            ],
            [
             0.5019607843137255,
             "rgb(203,26,79)"
            ],
            [
             0.5647058823529412,
             "rgb(223,47,67)"
            ],
            [
             0.6274509803921569,
             "rgb(236,76,61)"
            ],
            [
             0.6901960784313725,
             "rgb(242,107,73)"
            ],
            [
             0.7529411764705882,
             "rgb(244,135,95)"
            ],
            [
             0.8156862745098039,
             "rgb(245,162,122)"
            ],
            [
             0.8784313725490196,
             "rgb(246,188,153)"
            ],
            [
             0.9411764705882353,
             "rgb(247,212,187)"
            ],
            [
             1,
             "rgb(250,234,220)"
            ]
           ]
          },
          "colorway": [
           "rgb(76,114,176)",
           "rgb(221,132,82)",
           "rgb(85,168,104)",
           "rgb(196,78,82)",
           "rgb(129,114,179)",
           "rgb(147,120,96)",
           "rgb(218,139,195)",
           "rgb(140,140,140)",
           "rgb(204,185,116)",
           "rgb(100,181,205)"
          ],
          "font": {
           "color": "rgb(36,36,36)"
          },
          "geo": {
           "bgcolor": "white",
           "lakecolor": "white",
           "landcolor": "rgb(234,234,242)",
           "showlakes": true,
           "showland": true,
           "subunitcolor": "white"
          },
          "hoverlabel": {
           "align": "left"
          },
          "hovermode": "closest",
          "paper_bgcolor": "white",
          "plot_bgcolor": "rgb(234,234,242)",
          "polar": {
           "angularaxis": {
            "gridcolor": "white",
            "linecolor": "white",
            "showgrid": true,
            "ticks": ""
           },
           "bgcolor": "rgb(234,234,242)",
           "radialaxis": {
            "gridcolor": "white",
            "linecolor": "white",
            "showgrid": true,
            "ticks": ""
           }
          },
          "scene": {
           "xaxis": {
            "backgroundcolor": "rgb(234,234,242)",
            "gridcolor": "white",
            "gridwidth": 2,
            "linecolor": "white",
            "showbackground": true,
            "showgrid": true,
            "ticks": "",
            "zerolinecolor": "white"
           },
           "yaxis": {
            "backgroundcolor": "rgb(234,234,242)",
            "gridcolor": "white",
            "gridwidth": 2,
            "linecolor": "white",
            "showbackground": true,
            "showgrid": true,
            "ticks": "",
            "zerolinecolor": "white"
           },
           "zaxis": {
            "backgroundcolor": "rgb(234,234,242)",
            "gridcolor": "white",
            "gridwidth": 2,
            "linecolor": "white",
            "showbackground": true,
            "showgrid": true,
            "ticks": "",
            "zerolinecolor": "white"
           }
          },
          "shapedefaults": {
           "fillcolor": "rgb(67,103,167)",
           "line": {
            "width": 0
           },
           "opacity": 0.5
          },
          "ternary": {
           "aaxis": {
            "gridcolor": "white",
            "linecolor": "white",
            "showgrid": true,
            "ticks": ""
           },
           "baxis": {
            "gridcolor": "white",
            "linecolor": "white",
            "showgrid": true,
            "ticks": ""
           },
           "bgcolor": "rgb(234,234,242)",
           "caxis": {
            "gridcolor": "white",
            "linecolor": "white",
            "showgrid": true,
            "ticks": ""
           }
          },
          "xaxis": {
           "automargin": true,
           "gridcolor": "white",
           "linecolor": "white",
           "showgrid": true,
           "ticks": "",
           "title": {
            "standoff": 15
           },
           "zerolinecolor": "white"
          },
          "yaxis": {
           "automargin": true,
           "gridcolor": "white",
           "linecolor": "white",
           "showgrid": true,
           "ticks": "",
           "title": {
            "standoff": 15
           },
           "zerolinecolor": "white"
          }
         }
        },
        "xaxis": {
         "anchor": "y",
         "domain": [
          0,
          1
         ],
         "title": {
          "text": "year"
         }
        },
        "yaxis": {
         "anchor": "x",
         "domain": [
          0,
          1
         ],
         "title": {
          "text": "projects"
         }
        }
       }
      },
      "text/html": [
       "<div>                            <div id=\"8a464cb9-e083-4fac-b2b5-5c263191ba2d\" class=\"plotly-graph-div\" style=\"height:525px; width:100%;\"></div>            <script type=\"text/javascript\">                require([\"plotly\"], function(Plotly) {                    window.PLOTLYENV=window.PLOTLYENV || {};                                    if (document.getElementById(\"8a464cb9-e083-4fac-b2b5-5c263191ba2d\")) {                    Plotly.newPlot(                        \"8a464cb9-e083-4fac-b2b5-5c263191ba2d\",                        [{\"alignmentgroup\":\"True\",\"hovertemplate\":\"year=%{x}<br>projects=%{y}<extra></extra>\",\"legendgroup\":\"\",\"marker\":{\"color\":\"rgb(76,114,176)\",\"pattern\":{\"shape\":\"\"}},\"name\":\"\",\"offsetgroup\":\"\",\"orientation\":\"v\",\"showlegend\":false,\"textposition\":\"auto\",\"texttemplate\":\"%{y:.}\",\"x\":[2016,2017,2018,2019,2020,2021],\"xaxis\":\"x\",\"y\":[791,785,606,446,413,368],\"yaxis\":\"y\",\"type\":\"bar\"}],                        {\"template\":{\"data\":{\"barpolar\":[{\"marker\":{\"line\":{\"color\":\"rgb(234,234,242)\",\"width\":0.5},\"pattern\":{\"fillmode\":\"overlay\",\"size\":10,\"solidity\":0.2}},\"type\":\"barpolar\"}],\"bar\":[{\"error_x\":{\"color\":\"rgb(36,36,36)\"},\"error_y\":{\"color\":\"rgb(36,36,36)\"},\"marker\":{\"line\":{\"color\":\"rgb(234,234,242)\",\"width\":0.5},\"pattern\":{\"fillmode\":\"overlay\",\"size\":10,\"solidity\":0.2}},\"type\":\"bar\"}],\"carpet\":[{\"aaxis\":{\"endlinecolor\":\"rgb(36,36,36)\",\"gridcolor\":\"white\",\"linecolor\":\"white\",\"minorgridcolor\":\"white\",\"startlinecolor\":\"rgb(36,36,36)\"},\"baxis\":{\"endlinecolor\":\"rgb(36,36,36)\",\"gridcolor\":\"white\",\"linecolor\":\"white\",\"minorgridcolor\":\"white\",\"startlinecolor\":\"rgb(36,36,36)\"},\"type\":\"carpet\"}],\"choropleth\":[{\"colorbar\":{\"outlinewidth\":0,\"tickcolor\":\"rgb(36,36,36)\",\"ticklen\":8,\"ticks\":\"outside\",\"tickwidth\":2},\"type\":\"choropleth\"}],\"contourcarpet\":[{\"colorbar\":{\"outlinewidth\":0,\"tickcolor\":\"rgb(36,36,36)\",\"ticklen\":8,\"ticks\":\"outside\",\"tickwidth\":2},\"type\":\"contourcarpet\"}],\"contour\":[{\"colorbar\":{\"outlinewidth\":0,\"tickcolor\":\"rgb(36,36,36)\",\"ticklen\":8,\"ticks\":\"outside\",\"tickwidth\":2},\"colorscale\":[[0.0,\"rgb(2,4,25)\"],[0.06274509803921569,\"rgb(24,15,41)\"],[0.12549019607843137,\"rgb(47,23,57)\"],[0.18823529411764706,\"rgb(71,28,72)\"],[0.25098039215686274,\"rgb(97,30,82)\"],[0.3137254901960784,\"rgb(123,30,89)\"],[0.3764705882352941,\"rgb(150,27,91)\"],[0.4392156862745098,\"rgb(177,22,88)\"],[0.5019607843137255,\"rgb(203,26,79)\"],[0.5647058823529412,\"rgb(223,47,67)\"],[0.6274509803921569,\"rgb(236,76,61)\"],[0.6901960784313725,\"rgb(242,107,73)\"],[0.7529411764705882,\"rgb(244,135,95)\"],[0.8156862745098039,\"rgb(245,162,122)\"],[0.8784313725490196,\"rgb(246,188,153)\"],[0.9411764705882353,\"rgb(247,212,187)\"],[1.0,\"rgb(250,234,220)\"]],\"type\":\"contour\"}],\"heatmapgl\":[{\"colorbar\":{\"outlinewidth\":0,\"tickcolor\":\"rgb(36,36,36)\",\"ticklen\":8,\"ticks\":\"outside\",\"tickwidth\":2},\"colorscale\":[[0.0,\"rgb(2,4,25)\"],[0.06274509803921569,\"rgb(24,15,41)\"],[0.12549019607843137,\"rgb(47,23,57)\"],[0.18823529411764706,\"rgb(71,28,72)\"],[0.25098039215686274,\"rgb(97,30,82)\"],[0.3137254901960784,\"rgb(123,30,89)\"],[0.3764705882352941,\"rgb(150,27,91)\"],[0.4392156862745098,\"rgb(177,22,88)\"],[0.5019607843137255,\"rgb(203,26,79)\"],[0.5647058823529412,\"rgb(223,47,67)\"],[0.6274509803921569,\"rgb(236,76,61)\"],[0.6901960784313725,\"rgb(242,107,73)\"],[0.7529411764705882,\"rgb(244,135,95)\"],[0.8156862745098039,\"rgb(245,162,122)\"],[0.8784313725490196,\"rgb(246,188,153)\"],[0.9411764705882353,\"rgb(247,212,187)\"],[1.0,\"rgb(250,234,220)\"]],\"type\":\"heatmapgl\"}],\"heatmap\":[{\"colorbar\":{\"outlinewidth\":0,\"tickcolor\":\"rgb(36,36,36)\",\"ticklen\":8,\"ticks\":\"outside\",\"tickwidth\":2},\"colorscale\":[[0.0,\"rgb(2,4,25)\"],[0.06274509803921569,\"rgb(24,15,41)\"],[0.12549019607843137,\"rgb(47,23,57)\"],[0.18823529411764706,\"rgb(71,28,72)\"],[0.25098039215686274,\"rgb(97,30,82)\"],[0.3137254901960784,\"rgb(123,30,89)\"],[0.3764705882352941,\"rgb(150,27,91)\"],[0.4392156862745098,\"rgb(177,22,88)\"],[0.5019607843137255,\"rgb(203,26,79)\"],[0.5647058823529412,\"rgb(223,47,67)\"],[0.6274509803921569,\"rgb(236,76,61)\"],[0.6901960784313725,\"rgb(242,107,73)\"],[0.7529411764705882,\"rgb(244,135,95)\"],[0.8156862745098039,\"rgb(245,162,122)\"],[0.8784313725490196,\"rgb(246,188,153)\"],[0.9411764705882353,\"rgb(247,212,187)\"],[1.0,\"rgb(250,234,220)\"]],\"type\":\"heatmap\"}],\"histogram2dcontour\":[{\"colorbar\":{\"outlinewidth\":0,\"tickcolor\":\"rgb(36,36,36)\",\"ticklen\":8,\"ticks\":\"outside\",\"tickwidth\":2},\"colorscale\":[[0.0,\"rgb(2,4,25)\"],[0.06274509803921569,\"rgb(24,15,41)\"],[0.12549019607843137,\"rgb(47,23,57)\"],[0.18823529411764706,\"rgb(71,28,72)\"],[0.25098039215686274,\"rgb(97,30,82)\"],[0.3137254901960784,\"rgb(123,30,89)\"],[0.3764705882352941,\"rgb(150,27,91)\"],[0.4392156862745098,\"rgb(177,22,88)\"],[0.5019607843137255,\"rgb(203,26,79)\"],[0.5647058823529412,\"rgb(223,47,67)\"],[0.6274509803921569,\"rgb(236,76,61)\"],[0.6901960784313725,\"rgb(242,107,73)\"],[0.7529411764705882,\"rgb(244,135,95)\"],[0.8156862745098039,\"rgb(245,162,122)\"],[0.8784313725490196,\"rgb(246,188,153)\"],[0.9411764705882353,\"rgb(247,212,187)\"],[1.0,\"rgb(250,234,220)\"]],\"type\":\"histogram2dcontour\"}],\"histogram2d\":[{\"colorbar\":{\"outlinewidth\":0,\"tickcolor\":\"rgb(36,36,36)\",\"ticklen\":8,\"ticks\":\"outside\",\"tickwidth\":2},\"colorscale\":[[0.0,\"rgb(2,4,25)\"],[0.06274509803921569,\"rgb(24,15,41)\"],[0.12549019607843137,\"rgb(47,23,57)\"],[0.18823529411764706,\"rgb(71,28,72)\"],[0.25098039215686274,\"rgb(97,30,82)\"],[0.3137254901960784,\"rgb(123,30,89)\"],[0.3764705882352941,\"rgb(150,27,91)\"],[0.4392156862745098,\"rgb(177,22,88)\"],[0.5019607843137255,\"rgb(203,26,79)\"],[0.5647058823529412,\"rgb(223,47,67)\"],[0.6274509803921569,\"rgb(236,76,61)\"],[0.6901960784313725,\"rgb(242,107,73)\"],[0.7529411764705882,\"rgb(244,135,95)\"],[0.8156862745098039,\"rgb(245,162,122)\"],[0.8784313725490196,\"rgb(246,188,153)\"],[0.9411764705882353,\"rgb(247,212,187)\"],[1.0,\"rgb(250,234,220)\"]],\"type\":\"histogram2d\"}],\"histogram\":[{\"marker\":{\"pattern\":{\"fillmode\":\"overlay\",\"size\":10,\"solidity\":0.2}},\"type\":\"histogram\"}],\"mesh3d\":[{\"colorbar\":{\"outlinewidth\":0,\"tickcolor\":\"rgb(36,36,36)\",\"ticklen\":8,\"ticks\":\"outside\",\"tickwidth\":2},\"type\":\"mesh3d\"}],\"parcoords\":[{\"line\":{\"colorbar\":{\"outlinewidth\":0,\"tickcolor\":\"rgb(36,36,36)\",\"ticklen\":8,\"ticks\":\"outside\",\"tickwidth\":2}},\"type\":\"parcoords\"}],\"pie\":[{\"automargin\":true,\"type\":\"pie\"}],\"scatter3d\":[{\"line\":{\"colorbar\":{\"outlinewidth\":0,\"tickcolor\":\"rgb(36,36,36)\",\"ticklen\":8,\"ticks\":\"outside\",\"tickwidth\":2}},\"marker\":{\"colorbar\":{\"outlinewidth\":0,\"tickcolor\":\"rgb(36,36,36)\",\"ticklen\":8,\"ticks\":\"outside\",\"tickwidth\":2}},\"type\":\"scatter3d\"}],\"scattercarpet\":[{\"marker\":{\"colorbar\":{\"outlinewidth\":0,\"tickcolor\":\"rgb(36,36,36)\",\"ticklen\":8,\"ticks\":\"outside\",\"tickwidth\":2}},\"type\":\"scattercarpet\"}],\"scattergeo\":[{\"marker\":{\"colorbar\":{\"outlinewidth\":0,\"tickcolor\":\"rgb(36,36,36)\",\"ticklen\":8,\"ticks\":\"outside\",\"tickwidth\":2}},\"type\":\"scattergeo\"}],\"scattergl\":[{\"marker\":{\"colorbar\":{\"outlinewidth\":0,\"tickcolor\":\"rgb(36,36,36)\",\"ticklen\":8,\"ticks\":\"outside\",\"tickwidth\":2}},\"type\":\"scattergl\"}],\"scattermapbox\":[{\"marker\":{\"colorbar\":{\"outlinewidth\":0,\"tickcolor\":\"rgb(36,36,36)\",\"ticklen\":8,\"ticks\":\"outside\",\"tickwidth\":2}},\"type\":\"scattermapbox\"}],\"scatterpolargl\":[{\"marker\":{\"colorbar\":{\"outlinewidth\":0,\"tickcolor\":\"rgb(36,36,36)\",\"ticklen\":8,\"ticks\":\"outside\",\"tickwidth\":2}},\"type\":\"scatterpolargl\"}],\"scatterpolar\":[{\"marker\":{\"colorbar\":{\"outlinewidth\":0,\"tickcolor\":\"rgb(36,36,36)\",\"ticklen\":8,\"ticks\":\"outside\",\"tickwidth\":2}},\"type\":\"scatterpolar\"}],\"scatter\":[{\"marker\":{\"colorbar\":{\"outlinewidth\":0,\"tickcolor\":\"rgb(36,36,36)\",\"ticklen\":8,\"ticks\":\"outside\",\"tickwidth\":2}},\"type\":\"scatter\"}],\"scatterternary\":[{\"marker\":{\"colorbar\":{\"outlinewidth\":0,\"tickcolor\":\"rgb(36,36,36)\",\"ticklen\":8,\"ticks\":\"outside\",\"tickwidth\":2}},\"type\":\"scatterternary\"}],\"surface\":[{\"colorbar\":{\"outlinewidth\":0,\"tickcolor\":\"rgb(36,36,36)\",\"ticklen\":8,\"ticks\":\"outside\",\"tickwidth\":2},\"colorscale\":[[0.0,\"rgb(2,4,25)\"],[0.06274509803921569,\"rgb(24,15,41)\"],[0.12549019607843137,\"rgb(47,23,57)\"],[0.18823529411764706,\"rgb(71,28,72)\"],[0.25098039215686274,\"rgb(97,30,82)\"],[0.3137254901960784,\"rgb(123,30,89)\"],[0.3764705882352941,\"rgb(150,27,91)\"],[0.4392156862745098,\"rgb(177,22,88)\"],[0.5019607843137255,\"rgb(203,26,79)\"],[0.5647058823529412,\"rgb(223,47,67)\"],[0.6274509803921569,\"rgb(236,76,61)\"],[0.6901960784313725,\"rgb(242,107,73)\"],[0.7529411764705882,\"rgb(244,135,95)\"],[0.8156862745098039,\"rgb(245,162,122)\"],[0.8784313725490196,\"rgb(246,188,153)\"],[0.9411764705882353,\"rgb(247,212,187)\"],[1.0,\"rgb(250,234,220)\"]],\"type\":\"surface\"}],\"table\":[{\"cells\":{\"fill\":{\"color\":\"rgb(231,231,240)\"},\"line\":{\"color\":\"white\"}},\"header\":{\"fill\":{\"color\":\"rgb(183,183,191)\"},\"line\":{\"color\":\"white\"}},\"type\":\"table\"}]},\"layout\":{\"annotationdefaults\":{\"arrowcolor\":\"rgb(67,103,167)\"},\"autotypenumbers\":\"strict\",\"coloraxis\":{\"colorbar\":{\"outlinewidth\":0,\"tickcolor\":\"rgb(36,36,36)\",\"ticklen\":8,\"ticks\":\"outside\",\"tickwidth\":2}},\"colorscale\":{\"sequential\":[[0.0,\"rgb(2,4,25)\"],[0.06274509803921569,\"rgb(24,15,41)\"],[0.12549019607843137,\"rgb(47,23,57)\"],[0.18823529411764706,\"rgb(71,28,72)\"],[0.25098039215686274,\"rgb(97,30,82)\"],[0.3137254901960784,\"rgb(123,30,89)\"],[0.3764705882352941,\"rgb(150,27,91)\"],[0.4392156862745098,\"rgb(177,22,88)\"],[0.5019607843137255,\"rgb(203,26,79)\"],[0.5647058823529412,\"rgb(223,47,67)\"],[0.6274509803921569,\"rgb(236,76,61)\"],[0.6901960784313725,\"rgb(242,107,73)\"],[0.7529411764705882,\"rgb(244,135,95)\"],[0.8156862745098039,\"rgb(245,162,122)\"],[0.8784313725490196,\"rgb(246,188,153)\"],[0.9411764705882353,\"rgb(247,212,187)\"],[1.0,\"rgb(250,234,220)\"]],\"sequentialminus\":[[0.0,\"rgb(2,4,25)\"],[0.06274509803921569,\"rgb(24,15,41)\"],[0.12549019607843137,\"rgb(47,23,57)\"],[0.18823529411764706,\"rgb(71,28,72)\"],[0.25098039215686274,\"rgb(97,30,82)\"],[0.3137254901960784,\"rgb(123,30,89)\"],[0.3764705882352941,\"rgb(150,27,91)\"],[0.4392156862745098,\"rgb(177,22,88)\"],[0.5019607843137255,\"rgb(203,26,79)\"],[0.5647058823529412,\"rgb(223,47,67)\"],[0.6274509803921569,\"rgb(236,76,61)\"],[0.6901960784313725,\"rgb(242,107,73)\"],[0.7529411764705882,\"rgb(244,135,95)\"],[0.8156862745098039,\"rgb(245,162,122)\"],[0.8784313725490196,\"rgb(246,188,153)\"],[0.9411764705882353,\"rgb(247,212,187)\"],[1.0,\"rgb(250,234,220)\"]]},\"colorway\":[\"rgb(76,114,176)\",\"rgb(221,132,82)\",\"rgb(85,168,104)\",\"rgb(196,78,82)\",\"rgb(129,114,179)\",\"rgb(147,120,96)\",\"rgb(218,139,195)\",\"rgb(140,140,140)\",\"rgb(204,185,116)\",\"rgb(100,181,205)\"],\"font\":{\"color\":\"rgb(36,36,36)\"},\"geo\":{\"bgcolor\":\"white\",\"lakecolor\":\"white\",\"landcolor\":\"rgb(234,234,242)\",\"showlakes\":true,\"showland\":true,\"subunitcolor\":\"white\"},\"hoverlabel\":{\"align\":\"left\"},\"hovermode\":\"closest\",\"paper_bgcolor\":\"white\",\"plot_bgcolor\":\"rgb(234,234,242)\",\"polar\":{\"angularaxis\":{\"gridcolor\":\"white\",\"linecolor\":\"white\",\"showgrid\":true,\"ticks\":\"\"},\"bgcolor\":\"rgb(234,234,242)\",\"radialaxis\":{\"gridcolor\":\"white\",\"linecolor\":\"white\",\"showgrid\":true,\"ticks\":\"\"}},\"scene\":{\"xaxis\":{\"backgroundcolor\":\"rgb(234,234,242)\",\"gridcolor\":\"white\",\"gridwidth\":2,\"linecolor\":\"white\",\"showbackground\":true,\"showgrid\":true,\"ticks\":\"\",\"zerolinecolor\":\"white\"},\"yaxis\":{\"backgroundcolor\":\"rgb(234,234,242)\",\"gridcolor\":\"white\",\"gridwidth\":2,\"linecolor\":\"white\",\"showbackground\":true,\"showgrid\":true,\"ticks\":\"\",\"zerolinecolor\":\"white\"},\"zaxis\":{\"backgroundcolor\":\"rgb(234,234,242)\",\"gridcolor\":\"white\",\"gridwidth\":2,\"linecolor\":\"white\",\"showbackground\":true,\"showgrid\":true,\"ticks\":\"\",\"zerolinecolor\":\"white\"}},\"shapedefaults\":{\"fillcolor\":\"rgb(67,103,167)\",\"line\":{\"width\":0},\"opacity\":0.5},\"ternary\":{\"aaxis\":{\"gridcolor\":\"white\",\"linecolor\":\"white\",\"showgrid\":true,\"ticks\":\"\"},\"baxis\":{\"gridcolor\":\"white\",\"linecolor\":\"white\",\"showgrid\":true,\"ticks\":\"\"},\"bgcolor\":\"rgb(234,234,242)\",\"caxis\":{\"gridcolor\":\"white\",\"linecolor\":\"white\",\"showgrid\":true,\"ticks\":\"\"}},\"xaxis\":{\"automargin\":true,\"gridcolor\":\"white\",\"linecolor\":\"white\",\"showgrid\":true,\"ticks\":\"\",\"title\":{\"standoff\":15},\"zerolinecolor\":\"white\"},\"yaxis\":{\"automargin\":true,\"gridcolor\":\"white\",\"linecolor\":\"white\",\"showgrid\":true,\"ticks\":\"\",\"title\":{\"standoff\":15},\"zerolinecolor\":\"white\"}}},\"xaxis\":{\"anchor\":\"y\",\"domain\":[0.0,1.0],\"title\":{\"text\":\"year\"}},\"yaxis\":{\"anchor\":\"x\",\"domain\":[0.0,1.0],\"title\":{\"text\":\"projects\"}},\"legend\":{\"tracegroupgap\":0},\"margin\":{\"t\":60},\"barmode\":\"relative\"},                        {\"responsive\": true}                    ).then(function(){\n",
       "                            \n",
       "var gd = document.getElementById('8a464cb9-e083-4fac-b2b5-5c263191ba2d');\n",
       "var x = new MutationObserver(function (mutations, observer) {{\n",
       "        var display = window.getComputedStyle(gd).display;\n",
       "        if (!display || display === 'none') {{\n",
       "            console.log([gd, 'removed!']);\n",
       "            Plotly.purge(gd);\n",
       "            observer.disconnect();\n",
       "        }}\n",
       "}});\n",
       "\n",
       "// Listen for the removal of the full notebook cells\n",
       "var notebookContainer = gd.closest('#notebook-container');\n",
       "if (notebookContainer) {{\n",
       "    x.observe(notebookContainer, {childList: true});\n",
       "}}\n",
       "\n",
       "// Listen for the clearing of the current output cell\n",
       "var outputEl = gd.closest('.output');\n",
       "if (outputEl) {{\n",
       "    x.observe(outputEl, {childList: true});\n",
       "}}\n",
       "\n",
       "                        })                };                });            </script>        </div>"
      ]
     },
     "metadata": {},
     "output_type": "display_data"
    }
   ],
   "source": [
    "fig = px.bar(year, x='year', y='projects', text_auto='.', template=\"seaborn\")\n",
    "fig.show()"
   ]
  },
  {
   "cell_type": "code",
   "execution_count": 14,
   "id": "3529595b",
   "metadata": {},
   "outputs": [
    {
     "name": "stderr",
     "output_type": "stream",
     "text": [
      "D:\\Users\\aspr383\\Anaconda3\\lib\\site-packages\\seaborn\\_decorators.py:36: FutureWarning:\n",
      "\n",
      "Pass the following variable as a keyword arg: x. From version 0.12, the only valid positional argument will be `data`, and passing other arguments without an explicit keyword will result in an error or misinterpretation.\n",
      "\n"
     ]
    },
    {
     "ename": "ValueError",
     "evalue": "Could not interpret input 'projects'",
     "output_type": "error",
     "traceback": [
      "\u001b[1;31m---------------------------------------------------------------------------\u001b[0m",
      "\u001b[1;31mValueError\u001b[0m                                Traceback (most recent call last)",
      "\u001b[1;32m~\\AppData\\Local\\Temp/ipykernel_13476/462185181.py\u001b[0m in \u001b[0;36m<module>\u001b[1;34m\u001b[0m\n\u001b[0;32m      1\u001b[0m \u001b[0mplt\u001b[0m\u001b[1;33m.\u001b[0m\u001b[0mfigure\u001b[0m\u001b[1;33m(\u001b[0m\u001b[0mfigsize\u001b[0m\u001b[1;33m=\u001b[0m\u001b[1;33m(\u001b[0m\u001b[1;36m15\u001b[0m\u001b[1;33m,\u001b[0m \u001b[1;36m7\u001b[0m\u001b[1;33m)\u001b[0m\u001b[1;33m)\u001b[0m\u001b[1;33m\u001b[0m\u001b[1;33m\u001b[0m\u001b[0m\n\u001b[1;32m----> 2\u001b[1;33m \u001b[0msns\u001b[0m\u001b[1;33m.\u001b[0m\u001b[0mbarplot\u001b[0m\u001b[1;33m(\u001b[0m\u001b[0myear\u001b[0m\u001b[1;33m,\u001b[0m \u001b[0mx\u001b[0m\u001b[1;33m=\u001b[0m\u001b[1;34m'year'\u001b[0m\u001b[1;33m,\u001b[0m \u001b[0my\u001b[0m\u001b[1;33m=\u001b[0m\u001b[1;34m'projects'\u001b[0m\u001b[1;33m)\u001b[0m\u001b[1;33m\u001b[0m\u001b[1;33m\u001b[0m\u001b[0m\n\u001b[0m\u001b[0;32m      3\u001b[0m \u001b[0mplt\u001b[0m\u001b[1;33m.\u001b[0m\u001b[0mshow\u001b[0m\u001b[1;33m(\u001b[0m\u001b[1;33m)\u001b[0m\u001b[1;33m\u001b[0m\u001b[1;33m\u001b[0m\u001b[0m\n",
      "\u001b[1;32m~\\Anaconda3\\lib\\site-packages\\seaborn\\_decorators.py\u001b[0m in \u001b[0;36minner_f\u001b[1;34m(*args, **kwargs)\u001b[0m\n\u001b[0;32m     44\u001b[0m             )\n\u001b[0;32m     45\u001b[0m         \u001b[0mkwargs\u001b[0m\u001b[1;33m.\u001b[0m\u001b[0mupdate\u001b[0m\u001b[1;33m(\u001b[0m\u001b[1;33m{\u001b[0m\u001b[0mk\u001b[0m\u001b[1;33m:\u001b[0m \u001b[0marg\u001b[0m \u001b[1;32mfor\u001b[0m \u001b[0mk\u001b[0m\u001b[1;33m,\u001b[0m \u001b[0marg\u001b[0m \u001b[1;32min\u001b[0m \u001b[0mzip\u001b[0m\u001b[1;33m(\u001b[0m\u001b[0msig\u001b[0m\u001b[1;33m.\u001b[0m\u001b[0mparameters\u001b[0m\u001b[1;33m,\u001b[0m \u001b[0margs\u001b[0m\u001b[1;33m)\u001b[0m\u001b[1;33m}\u001b[0m\u001b[1;33m)\u001b[0m\u001b[1;33m\u001b[0m\u001b[1;33m\u001b[0m\u001b[0m\n\u001b[1;32m---> 46\u001b[1;33m         \u001b[1;32mreturn\u001b[0m \u001b[0mf\u001b[0m\u001b[1;33m(\u001b[0m\u001b[1;33m**\u001b[0m\u001b[0mkwargs\u001b[0m\u001b[1;33m)\u001b[0m\u001b[1;33m\u001b[0m\u001b[1;33m\u001b[0m\u001b[0m\n\u001b[0m\u001b[0;32m     47\u001b[0m     \u001b[1;32mreturn\u001b[0m \u001b[0minner_f\u001b[0m\u001b[1;33m\u001b[0m\u001b[1;33m\u001b[0m\u001b[0m\n\u001b[0;32m     48\u001b[0m \u001b[1;33m\u001b[0m\u001b[0m\n",
      "\u001b[1;32m~\\Anaconda3\\lib\\site-packages\\seaborn\\categorical.py\u001b[0m in \u001b[0;36mbarplot\u001b[1;34m(x, y, hue, data, order, hue_order, estimator, ci, n_boot, units, seed, orient, color, palette, saturation, errcolor, errwidth, capsize, dodge, ax, **kwargs)\u001b[0m\n\u001b[0;32m   3180\u001b[0m ):\n\u001b[0;32m   3181\u001b[0m \u001b[1;33m\u001b[0m\u001b[0m\n\u001b[1;32m-> 3182\u001b[1;33m     plotter = _BarPlotter(x, y, hue, data, order, hue_order,\n\u001b[0m\u001b[0;32m   3183\u001b[0m                           \u001b[0mestimator\u001b[0m\u001b[1;33m,\u001b[0m \u001b[0mci\u001b[0m\u001b[1;33m,\u001b[0m \u001b[0mn_boot\u001b[0m\u001b[1;33m,\u001b[0m \u001b[0munits\u001b[0m\u001b[1;33m,\u001b[0m \u001b[0mseed\u001b[0m\u001b[1;33m,\u001b[0m\u001b[1;33m\u001b[0m\u001b[1;33m\u001b[0m\u001b[0m\n\u001b[0;32m   3184\u001b[0m                           \u001b[0morient\u001b[0m\u001b[1;33m,\u001b[0m \u001b[0mcolor\u001b[0m\u001b[1;33m,\u001b[0m \u001b[0mpalette\u001b[0m\u001b[1;33m,\u001b[0m \u001b[0msaturation\u001b[0m\u001b[1;33m,\u001b[0m\u001b[1;33m\u001b[0m\u001b[1;33m\u001b[0m\u001b[0m\n",
      "\u001b[1;32m~\\Anaconda3\\lib\\site-packages\\seaborn\\categorical.py\u001b[0m in \u001b[0;36m__init__\u001b[1;34m(self, x, y, hue, data, order, hue_order, estimator, ci, n_boot, units, seed, orient, color, palette, saturation, errcolor, errwidth, capsize, dodge)\u001b[0m\n\u001b[0;32m   1582\u001b[0m                  errwidth, capsize, dodge):\n\u001b[0;32m   1583\u001b[0m         \u001b[1;34m\"\"\"Initialize the plotter.\"\"\"\u001b[0m\u001b[1;33m\u001b[0m\u001b[1;33m\u001b[0m\u001b[0m\n\u001b[1;32m-> 1584\u001b[1;33m         self.establish_variables(x, y, hue, data, orient,\n\u001b[0m\u001b[0;32m   1585\u001b[0m                                  order, hue_order, units)\n\u001b[0;32m   1586\u001b[0m         \u001b[0mself\u001b[0m\u001b[1;33m.\u001b[0m\u001b[0mestablish_colors\u001b[0m\u001b[1;33m(\u001b[0m\u001b[0mcolor\u001b[0m\u001b[1;33m,\u001b[0m \u001b[0mpalette\u001b[0m\u001b[1;33m,\u001b[0m \u001b[0msaturation\u001b[0m\u001b[1;33m)\u001b[0m\u001b[1;33m\u001b[0m\u001b[1;33m\u001b[0m\u001b[0m\n",
      "\u001b[1;32m~\\Anaconda3\\lib\\site-packages\\seaborn\\categorical.py\u001b[0m in \u001b[0;36mestablish_variables\u001b[1;34m(self, x, y, hue, data, orient, order, hue_order, units)\u001b[0m\n\u001b[0;32m    151\u001b[0m                 \u001b[1;32mif\u001b[0m \u001b[0misinstance\u001b[0m\u001b[1;33m(\u001b[0m\u001b[0mvar\u001b[0m\u001b[1;33m,\u001b[0m \u001b[0mstr\u001b[0m\u001b[1;33m)\u001b[0m\u001b[1;33m:\u001b[0m\u001b[1;33m\u001b[0m\u001b[1;33m\u001b[0m\u001b[0m\n\u001b[0;32m    152\u001b[0m                     \u001b[0merr\u001b[0m \u001b[1;33m=\u001b[0m \u001b[1;34m\"Could not interpret input '{}'\"\u001b[0m\u001b[1;33m.\u001b[0m\u001b[0mformat\u001b[0m\u001b[1;33m(\u001b[0m\u001b[0mvar\u001b[0m\u001b[1;33m)\u001b[0m\u001b[1;33m\u001b[0m\u001b[1;33m\u001b[0m\u001b[0m\n\u001b[1;32m--> 153\u001b[1;33m                     \u001b[1;32mraise\u001b[0m \u001b[0mValueError\u001b[0m\u001b[1;33m(\u001b[0m\u001b[0merr\u001b[0m\u001b[1;33m)\u001b[0m\u001b[1;33m\u001b[0m\u001b[1;33m\u001b[0m\u001b[0m\n\u001b[0m\u001b[0;32m    154\u001b[0m \u001b[1;33m\u001b[0m\u001b[0m\n\u001b[0;32m    155\u001b[0m             \u001b[1;31m# Figure out the plotting orientation\u001b[0m\u001b[1;33m\u001b[0m\u001b[1;33m\u001b[0m\u001b[0m\n",
      "\u001b[1;31mValueError\u001b[0m: Could not interpret input 'projects'"
     ]
    },
    {
     "data": {
      "text/plain": [
       "<Figure size 1080x504 with 0 Axes>"
      ]
     },
     "metadata": {},
     "output_type": "display_data"
    }
   ],
   "source": [
    "plt.figure(figsize=(15, 7))\n",
    "sns.barplot(year, x='year', y='projects')\n",
    "plt.show()"
   ]
  },
  {
   "cell_type": "code",
   "execution_count": 291,
   "id": "b2d3e7eb",
   "metadata": {},
   "outputs": [
    {
     "data": {
      "application/vnd.plotly.v1+json": {
       "config": {
        "plotlyServerURL": "https://plot.ly"
       },
       "data": [
        {
         "alignmentgroup": "True",
         "hovertemplate": "scope=%{x}<br>projects=%{y}<extra></extra>",
         "legendgroup": "",
         "marker": {
          "color": "rgb(76,114,176)",
          "pattern": {
           "shape": ""
          }
         },
         "name": "",
         "offsetgroup": "",
         "orientation": "v",
         "showlegend": false,
         "textposition": "auto",
         "texttemplate": "%{y:.}",
         "type": "bar",
         "x": [
          "Projekt rejonowy",
          "Projekt osiedlowy",
          "Projekt ponadosiedlowy",
          "Projekt ogólnomiejski",
          "Projekt zabytkowy"
         ],
         "xaxis": "x",
         "y": [
          1727,
          721,
          506,
          408,
          47
         ],
         "yaxis": "y"
        }
       ],
       "layout": {
        "barmode": "relative",
        "legend": {
         "tracegroupgap": 0
        },
        "margin": {
         "t": 60
        },
        "template": {
         "data": {
          "bar": [
           {
            "error_x": {
             "color": "rgb(36,36,36)"
            },
            "error_y": {
             "color": "rgb(36,36,36)"
            },
            "marker": {
             "line": {
              "color": "rgb(234,234,242)",
              "width": 0.5
             },
             "pattern": {
              "fillmode": "overlay",
              "size": 10,
              "solidity": 0.2
             }
            },
            "type": "bar"
           }
          ],
          "barpolar": [
           {
            "marker": {
             "line": {
              "color": "rgb(234,234,242)",
              "width": 0.5
             },
             "pattern": {
              "fillmode": "overlay",
              "size": 10,
              "solidity": 0.2
             }
            },
            "type": "barpolar"
           }
          ],
          "carpet": [
           {
            "aaxis": {
             "endlinecolor": "rgb(36,36,36)",
             "gridcolor": "white",
             "linecolor": "white",
             "minorgridcolor": "white",
             "startlinecolor": "rgb(36,36,36)"
            },
            "baxis": {
             "endlinecolor": "rgb(36,36,36)",
             "gridcolor": "white",
             "linecolor": "white",
             "minorgridcolor": "white",
             "startlinecolor": "rgb(36,36,36)"
            },
            "type": "carpet"
           }
          ],
          "choropleth": [
           {
            "colorbar": {
             "outlinewidth": 0,
             "tickcolor": "rgb(36,36,36)",
             "ticklen": 8,
             "ticks": "outside",
             "tickwidth": 2
            },
            "type": "choropleth"
           }
          ],
          "contour": [
           {
            "colorbar": {
             "outlinewidth": 0,
             "tickcolor": "rgb(36,36,36)",
             "ticklen": 8,
             "ticks": "outside",
             "tickwidth": 2
            },
            "colorscale": [
             [
              0,
              "rgb(2,4,25)"
             ],
             [
              0.06274509803921569,
              "rgb(24,15,41)"
             ],
             [
              0.12549019607843137,
              "rgb(47,23,57)"
             ],
             [
              0.18823529411764706,
              "rgb(71,28,72)"
             ],
             [
              0.25098039215686274,
              "rgb(97,30,82)"
             ],
             [
              0.3137254901960784,
              "rgb(123,30,89)"
             ],
             [
              0.3764705882352941,
              "rgb(150,27,91)"
             ],
             [
              0.4392156862745098,
              "rgb(177,22,88)"
             ],
             [
              0.5019607843137255,
              "rgb(203,26,79)"
             ],
             [
              0.5647058823529412,
              "rgb(223,47,67)"
             ],
             [
              0.6274509803921569,
              "rgb(236,76,61)"
             ],
             [
              0.6901960784313725,
              "rgb(242,107,73)"
             ],
             [
              0.7529411764705882,
              "rgb(244,135,95)"
             ],
             [
              0.8156862745098039,
              "rgb(245,162,122)"
             ],
             [
              0.8784313725490196,
              "rgb(246,188,153)"
             ],
             [
              0.9411764705882353,
              "rgb(247,212,187)"
             ],
             [
              1,
              "rgb(250,234,220)"
             ]
            ],
            "type": "contour"
           }
          ],
          "contourcarpet": [
           {
            "colorbar": {
             "outlinewidth": 0,
             "tickcolor": "rgb(36,36,36)",
             "ticklen": 8,
             "ticks": "outside",
             "tickwidth": 2
            },
            "type": "contourcarpet"
           }
          ],
          "heatmap": [
           {
            "colorbar": {
             "outlinewidth": 0,
             "tickcolor": "rgb(36,36,36)",
             "ticklen": 8,
             "ticks": "outside",
             "tickwidth": 2
            },
            "colorscale": [
             [
              0,
              "rgb(2,4,25)"
             ],
             [
              0.06274509803921569,
              "rgb(24,15,41)"
             ],
             [
              0.12549019607843137,
              "rgb(47,23,57)"
             ],
             [
              0.18823529411764706,
              "rgb(71,28,72)"
             ],
             [
              0.25098039215686274,
              "rgb(97,30,82)"
             ],
             [
              0.3137254901960784,
              "rgb(123,30,89)"
             ],
             [
              0.3764705882352941,
              "rgb(150,27,91)"
             ],
             [
              0.4392156862745098,
              "rgb(177,22,88)"
             ],
             [
              0.5019607843137255,
              "rgb(203,26,79)"
             ],
             [
              0.5647058823529412,
              "rgb(223,47,67)"
             ],
             [
              0.6274509803921569,
              "rgb(236,76,61)"
             ],
             [
              0.6901960784313725,
              "rgb(242,107,73)"
             ],
             [
              0.7529411764705882,
              "rgb(244,135,95)"
             ],
             [
              0.8156862745098039,
              "rgb(245,162,122)"
             ],
             [
              0.8784313725490196,
              "rgb(246,188,153)"
             ],
             [
              0.9411764705882353,
              "rgb(247,212,187)"
             ],
             [
              1,
              "rgb(250,234,220)"
             ]
            ],
            "type": "heatmap"
           }
          ],
          "heatmapgl": [
           {
            "colorbar": {
             "outlinewidth": 0,
             "tickcolor": "rgb(36,36,36)",
             "ticklen": 8,
             "ticks": "outside",
             "tickwidth": 2
            },
            "colorscale": [
             [
              0,
              "rgb(2,4,25)"
             ],
             [
              0.06274509803921569,
              "rgb(24,15,41)"
             ],
             [
              0.12549019607843137,
              "rgb(47,23,57)"
             ],
             [
              0.18823529411764706,
              "rgb(71,28,72)"
             ],
             [
              0.25098039215686274,
              "rgb(97,30,82)"
             ],
             [
              0.3137254901960784,
              "rgb(123,30,89)"
             ],
             [
              0.3764705882352941,
              "rgb(150,27,91)"
             ],
             [
              0.4392156862745098,
              "rgb(177,22,88)"
             ],
             [
              0.5019607843137255,
              "rgb(203,26,79)"
             ],
             [
              0.5647058823529412,
              "rgb(223,47,67)"
             ],
             [
              0.6274509803921569,
              "rgb(236,76,61)"
             ],
             [
              0.6901960784313725,
              "rgb(242,107,73)"
             ],
             [
              0.7529411764705882,
              "rgb(244,135,95)"
             ],
             [
              0.8156862745098039,
              "rgb(245,162,122)"
             ],
             [
              0.8784313725490196,
              "rgb(246,188,153)"
             ],
             [
              0.9411764705882353,
              "rgb(247,212,187)"
             ],
             [
              1,
              "rgb(250,234,220)"
             ]
            ],
            "type": "heatmapgl"
           }
          ],
          "histogram": [
           {
            "marker": {
             "pattern": {
              "fillmode": "overlay",
              "size": 10,
              "solidity": 0.2
             }
            },
            "type": "histogram"
           }
          ],
          "histogram2d": [
           {
            "colorbar": {
             "outlinewidth": 0,
             "tickcolor": "rgb(36,36,36)",
             "ticklen": 8,
             "ticks": "outside",
             "tickwidth": 2
            },
            "colorscale": [
             [
              0,
              "rgb(2,4,25)"
             ],
             [
              0.06274509803921569,
              "rgb(24,15,41)"
             ],
             [
              0.12549019607843137,
              "rgb(47,23,57)"
             ],
             [
              0.18823529411764706,
              "rgb(71,28,72)"
             ],
             [
              0.25098039215686274,
              "rgb(97,30,82)"
             ],
             [
              0.3137254901960784,
              "rgb(123,30,89)"
             ],
             [
              0.3764705882352941,
              "rgb(150,27,91)"
             ],
             [
              0.4392156862745098,
              "rgb(177,22,88)"
             ],
             [
              0.5019607843137255,
              "rgb(203,26,79)"
             ],
             [
              0.5647058823529412,
              "rgb(223,47,67)"
             ],
             [
              0.6274509803921569,
              "rgb(236,76,61)"
             ],
             [
              0.6901960784313725,
              "rgb(242,107,73)"
             ],
             [
              0.7529411764705882,
              "rgb(244,135,95)"
             ],
             [
              0.8156862745098039,
              "rgb(245,162,122)"
             ],
             [
              0.8784313725490196,
              "rgb(246,188,153)"
             ],
             [
              0.9411764705882353,
              "rgb(247,212,187)"
             ],
             [
              1,
              "rgb(250,234,220)"
             ]
            ],
            "type": "histogram2d"
           }
          ],
          "histogram2dcontour": [
           {
            "colorbar": {
             "outlinewidth": 0,
             "tickcolor": "rgb(36,36,36)",
             "ticklen": 8,
             "ticks": "outside",
             "tickwidth": 2
            },
            "colorscale": [
             [
              0,
              "rgb(2,4,25)"
             ],
             [
              0.06274509803921569,
              "rgb(24,15,41)"
             ],
             [
              0.12549019607843137,
              "rgb(47,23,57)"
             ],
             [
              0.18823529411764706,
              "rgb(71,28,72)"
             ],
             [
              0.25098039215686274,
              "rgb(97,30,82)"
             ],
             [
              0.3137254901960784,
              "rgb(123,30,89)"
             ],
             [
              0.3764705882352941,
              "rgb(150,27,91)"
             ],
             [
              0.4392156862745098,
              "rgb(177,22,88)"
             ],
             [
              0.5019607843137255,
              "rgb(203,26,79)"
             ],
             [
              0.5647058823529412,
              "rgb(223,47,67)"
             ],
             [
              0.6274509803921569,
              "rgb(236,76,61)"
             ],
             [
              0.6901960784313725,
              "rgb(242,107,73)"
             ],
             [
              0.7529411764705882,
              "rgb(244,135,95)"
             ],
             [
              0.8156862745098039,
              "rgb(245,162,122)"
             ],
             [
              0.8784313725490196,
              "rgb(246,188,153)"
             ],
             [
              0.9411764705882353,
              "rgb(247,212,187)"
             ],
             [
              1,
              "rgb(250,234,220)"
             ]
            ],
            "type": "histogram2dcontour"
           }
          ],
          "mesh3d": [
           {
            "colorbar": {
             "outlinewidth": 0,
             "tickcolor": "rgb(36,36,36)",
             "ticklen": 8,
             "ticks": "outside",
             "tickwidth": 2
            },
            "type": "mesh3d"
           }
          ],
          "parcoords": [
           {
            "line": {
             "colorbar": {
              "outlinewidth": 0,
              "tickcolor": "rgb(36,36,36)",
              "ticklen": 8,
              "ticks": "outside",
              "tickwidth": 2
             }
            },
            "type": "parcoords"
           }
          ],
          "pie": [
           {
            "automargin": true,
            "type": "pie"
           }
          ],
          "scatter": [
           {
            "marker": {
             "colorbar": {
              "outlinewidth": 0,
              "tickcolor": "rgb(36,36,36)",
              "ticklen": 8,
              "ticks": "outside",
              "tickwidth": 2
             }
            },
            "type": "scatter"
           }
          ],
          "scatter3d": [
           {
            "line": {
             "colorbar": {
              "outlinewidth": 0,
              "tickcolor": "rgb(36,36,36)",
              "ticklen": 8,
              "ticks": "outside",
              "tickwidth": 2
             }
            },
            "marker": {
             "colorbar": {
              "outlinewidth": 0,
              "tickcolor": "rgb(36,36,36)",
              "ticklen": 8,
              "ticks": "outside",
              "tickwidth": 2
             }
            },
            "type": "scatter3d"
           }
          ],
          "scattercarpet": [
           {
            "marker": {
             "colorbar": {
              "outlinewidth": 0,
              "tickcolor": "rgb(36,36,36)",
              "ticklen": 8,
              "ticks": "outside",
              "tickwidth": 2
             }
            },
            "type": "scattercarpet"
           }
          ],
          "scattergeo": [
           {
            "marker": {
             "colorbar": {
              "outlinewidth": 0,
              "tickcolor": "rgb(36,36,36)",
              "ticklen": 8,
              "ticks": "outside",
              "tickwidth": 2
             }
            },
            "type": "scattergeo"
           }
          ],
          "scattergl": [
           {
            "marker": {
             "colorbar": {
              "outlinewidth": 0,
              "tickcolor": "rgb(36,36,36)",
              "ticklen": 8,
              "ticks": "outside",
              "tickwidth": 2
             }
            },
            "type": "scattergl"
           }
          ],
          "scattermapbox": [
           {
            "marker": {
             "colorbar": {
              "outlinewidth": 0,
              "tickcolor": "rgb(36,36,36)",
              "ticklen": 8,
              "ticks": "outside",
              "tickwidth": 2
             }
            },
            "type": "scattermapbox"
           }
          ],
          "scatterpolar": [
           {
            "marker": {
             "colorbar": {
              "outlinewidth": 0,
              "tickcolor": "rgb(36,36,36)",
              "ticklen": 8,
              "ticks": "outside",
              "tickwidth": 2
             }
            },
            "type": "scatterpolar"
           }
          ],
          "scatterpolargl": [
           {
            "marker": {
             "colorbar": {
              "outlinewidth": 0,
              "tickcolor": "rgb(36,36,36)",
              "ticklen": 8,
              "ticks": "outside",
              "tickwidth": 2
             }
            },
            "type": "scatterpolargl"
           }
          ],
          "scatterternary": [
           {
            "marker": {
             "colorbar": {
              "outlinewidth": 0,
              "tickcolor": "rgb(36,36,36)",
              "ticklen": 8,
              "ticks": "outside",
              "tickwidth": 2
             }
            },
            "type": "scatterternary"
           }
          ],
          "surface": [
           {
            "colorbar": {
             "outlinewidth": 0,
             "tickcolor": "rgb(36,36,36)",
             "ticklen": 8,
             "ticks": "outside",
             "tickwidth": 2
            },
            "colorscale": [
             [
              0,
              "rgb(2,4,25)"
             ],
             [
              0.06274509803921569,
              "rgb(24,15,41)"
             ],
             [
              0.12549019607843137,
              "rgb(47,23,57)"
             ],
             [
              0.18823529411764706,
              "rgb(71,28,72)"
             ],
             [
              0.25098039215686274,
              "rgb(97,30,82)"
             ],
             [
              0.3137254901960784,
              "rgb(123,30,89)"
             ],
             [
              0.3764705882352941,
              "rgb(150,27,91)"
             ],
             [
              0.4392156862745098,
              "rgb(177,22,88)"
             ],
             [
              0.5019607843137255,
              "rgb(203,26,79)"
             ],
             [
              0.5647058823529412,
              "rgb(223,47,67)"
             ],
             [
              0.6274509803921569,
              "rgb(236,76,61)"
             ],
             [
              0.6901960784313725,
              "rgb(242,107,73)"
             ],
             [
              0.7529411764705882,
              "rgb(244,135,95)"
             ],
             [
              0.8156862745098039,
              "rgb(245,162,122)"
             ],
             [
              0.8784313725490196,
              "rgb(246,188,153)"
             ],
             [
              0.9411764705882353,
              "rgb(247,212,187)"
             ],
             [
              1,
              "rgb(250,234,220)"
             ]
            ],
            "type": "surface"
           }
          ],
          "table": [
           {
            "cells": {
             "fill": {
              "color": "rgb(231,231,240)"
             },
             "line": {
              "color": "white"
             }
            },
            "header": {
             "fill": {
              "color": "rgb(183,183,191)"
             },
             "line": {
              "color": "white"
             }
            },
            "type": "table"
           }
          ]
         },
         "layout": {
          "annotationdefaults": {
           "arrowcolor": "rgb(67,103,167)"
          },
          "autotypenumbers": "strict",
          "coloraxis": {
           "colorbar": {
            "outlinewidth": 0,
            "tickcolor": "rgb(36,36,36)",
            "ticklen": 8,
            "ticks": "outside",
            "tickwidth": 2
           }
          },
          "colorscale": {
           "sequential": [
            [
             0,
             "rgb(2,4,25)"
            ],
            [
             0.06274509803921569,
             "rgb(24,15,41)"
            ],
            [
             0.12549019607843137,
             "rgb(47,23,57)"
            ],
            [
             0.18823529411764706,
             "rgb(71,28,72)"
            ],
            [
             0.25098039215686274,
             "rgb(97,30,82)"
            ],
            [
             0.3137254901960784,
             "rgb(123,30,89)"
            ],
            [
             0.3764705882352941,
             "rgb(150,27,91)"
            ],
            [
             0.4392156862745098,
             "rgb(177,22,88)"
            ],
            [
             0.5019607843137255,
             "rgb(203,26,79)"
            ],
            [
             0.5647058823529412,
             "rgb(223,47,67)"
            ],
            [
             0.6274509803921569,
             "rgb(236,76,61)"
            ],
            [
             0.6901960784313725,
             "rgb(242,107,73)"
            ],
            [
             0.7529411764705882,
             "rgb(244,135,95)"
            ],
            [
             0.8156862745098039,
             "rgb(245,162,122)"
            ],
            [
             0.8784313725490196,
             "rgb(246,188,153)"
            ],
            [
             0.9411764705882353,
             "rgb(247,212,187)"
            ],
            [
             1,
             "rgb(250,234,220)"
            ]
           ],
           "sequentialminus": [
            [
             0,
             "rgb(2,4,25)"
            ],
            [
             0.06274509803921569,
             "rgb(24,15,41)"
            ],
            [
             0.12549019607843137,
             "rgb(47,23,57)"
            ],
            [
             0.18823529411764706,
             "rgb(71,28,72)"
            ],
            [
             0.25098039215686274,
             "rgb(97,30,82)"
            ],
            [
             0.3137254901960784,
             "rgb(123,30,89)"
            ],
            [
             0.3764705882352941,
             "rgb(150,27,91)"
            ],
            [
             0.4392156862745098,
             "rgb(177,22,88)"
            ],
            [
             0.5019607843137255,
             "rgb(203,26,79)"
            ],
            [
             0.5647058823529412,
             "rgb(223,47,67)"
            ],
            [
             0.6274509803921569,
             "rgb(236,76,61)"
            ],
            [
             0.6901960784313725,
             "rgb(242,107,73)"
            ],
            [
             0.7529411764705882,
             "rgb(244,135,95)"
            ],
            [
             0.8156862745098039,
             "rgb(245,162,122)"
            ],
            [
             0.8784313725490196,
             "rgb(246,188,153)"
            ],
            [
             0.9411764705882353,
             "rgb(247,212,187)"
            ],
            [
             1,
             "rgb(250,234,220)"
            ]
           ]
          },
          "colorway": [
           "rgb(76,114,176)",
           "rgb(221,132,82)",
           "rgb(85,168,104)",
           "rgb(196,78,82)",
           "rgb(129,114,179)",
           "rgb(147,120,96)",
           "rgb(218,139,195)",
           "rgb(140,140,140)",
           "rgb(204,185,116)",
           "rgb(100,181,205)"
          ],
          "font": {
           "color": "rgb(36,36,36)"
          },
          "geo": {
           "bgcolor": "white",
           "lakecolor": "white",
           "landcolor": "rgb(234,234,242)",
           "showlakes": true,
           "showland": true,
           "subunitcolor": "white"
          },
          "hoverlabel": {
           "align": "left"
          },
          "hovermode": "closest",
          "paper_bgcolor": "white",
          "plot_bgcolor": "rgb(234,234,242)",
          "polar": {
           "angularaxis": {
            "gridcolor": "white",
            "linecolor": "white",
            "showgrid": true,
            "ticks": ""
           },
           "bgcolor": "rgb(234,234,242)",
           "radialaxis": {
            "gridcolor": "white",
            "linecolor": "white",
            "showgrid": true,
            "ticks": ""
           }
          },
          "scene": {
           "xaxis": {
            "backgroundcolor": "rgb(234,234,242)",
            "gridcolor": "white",
            "gridwidth": 2,
            "linecolor": "white",
            "showbackground": true,
            "showgrid": true,
            "ticks": "",
            "zerolinecolor": "white"
           },
           "yaxis": {
            "backgroundcolor": "rgb(234,234,242)",
            "gridcolor": "white",
            "gridwidth": 2,
            "linecolor": "white",
            "showbackground": true,
            "showgrid": true,
            "ticks": "",
            "zerolinecolor": "white"
           },
           "zaxis": {
            "backgroundcolor": "rgb(234,234,242)",
            "gridcolor": "white",
            "gridwidth": 2,
            "linecolor": "white",
            "showbackground": true,
            "showgrid": true,
            "ticks": "",
            "zerolinecolor": "white"
           }
          },
          "shapedefaults": {
           "fillcolor": "rgb(67,103,167)",
           "line": {
            "width": 0
           },
           "opacity": 0.5
          },
          "ternary": {
           "aaxis": {
            "gridcolor": "white",
            "linecolor": "white",
            "showgrid": true,
            "ticks": ""
           },
           "baxis": {
            "gridcolor": "white",
            "linecolor": "white",
            "showgrid": true,
            "ticks": ""
           },
           "bgcolor": "rgb(234,234,242)",
           "caxis": {
            "gridcolor": "white",
            "linecolor": "white",
            "showgrid": true,
            "ticks": ""
           }
          },
          "xaxis": {
           "automargin": true,
           "gridcolor": "white",
           "linecolor": "white",
           "showgrid": true,
           "ticks": "",
           "title": {
            "standoff": 15
           },
           "zerolinecolor": "white"
          },
          "yaxis": {
           "automargin": true,
           "gridcolor": "white",
           "linecolor": "white",
           "showgrid": true,
           "ticks": "",
           "title": {
            "standoff": 15
           },
           "zerolinecolor": "white"
          }
         }
        },
        "xaxis": {
         "anchor": "y",
         "domain": [
          0,
          1
         ],
         "title": {
          "text": "scope"
         }
        },
        "yaxis": {
         "anchor": "x",
         "domain": [
          0,
          1
         ],
         "title": {
          "text": "projects"
         }
        }
       }
      },
      "text/html": [
       "<div>                            <div id=\"8191436e-7f14-4b57-982d-f52a3853adea\" class=\"plotly-graph-div\" style=\"height:525px; width:100%;\"></div>            <script type=\"text/javascript\">                require([\"plotly\"], function(Plotly) {                    window.PLOTLYENV=window.PLOTLYENV || {};                                    if (document.getElementById(\"8191436e-7f14-4b57-982d-f52a3853adea\")) {                    Plotly.newPlot(                        \"8191436e-7f14-4b57-982d-f52a3853adea\",                        [{\"alignmentgroup\":\"True\",\"hovertemplate\":\"scope=%{x}<br>projects=%{y}<extra></extra>\",\"legendgroup\":\"\",\"marker\":{\"color\":\"rgb(76,114,176)\",\"pattern\":{\"shape\":\"\"}},\"name\":\"\",\"offsetgroup\":\"\",\"orientation\":\"v\",\"showlegend\":false,\"textposition\":\"auto\",\"texttemplate\":\"%{y:.}\",\"x\":[\"Projekt rejonowy\",\"Projekt osiedlowy\",\"Projekt ponadosiedlowy\",\"Projekt og\\u00f3lnomiejski\",\"Projekt zabytkowy\"],\"xaxis\":\"x\",\"y\":[1727,721,506,408,47],\"yaxis\":\"y\",\"type\":\"bar\"}],                        {\"template\":{\"data\":{\"barpolar\":[{\"marker\":{\"line\":{\"color\":\"rgb(234,234,242)\",\"width\":0.5},\"pattern\":{\"fillmode\":\"overlay\",\"size\":10,\"solidity\":0.2}},\"type\":\"barpolar\"}],\"bar\":[{\"error_x\":{\"color\":\"rgb(36,36,36)\"},\"error_y\":{\"color\":\"rgb(36,36,36)\"},\"marker\":{\"line\":{\"color\":\"rgb(234,234,242)\",\"width\":0.5},\"pattern\":{\"fillmode\":\"overlay\",\"size\":10,\"solidity\":0.2}},\"type\":\"bar\"}],\"carpet\":[{\"aaxis\":{\"endlinecolor\":\"rgb(36,36,36)\",\"gridcolor\":\"white\",\"linecolor\":\"white\",\"minorgridcolor\":\"white\",\"startlinecolor\":\"rgb(36,36,36)\"},\"baxis\":{\"endlinecolor\":\"rgb(36,36,36)\",\"gridcolor\":\"white\",\"linecolor\":\"white\",\"minorgridcolor\":\"white\",\"startlinecolor\":\"rgb(36,36,36)\"},\"type\":\"carpet\"}],\"choropleth\":[{\"colorbar\":{\"outlinewidth\":0,\"tickcolor\":\"rgb(36,36,36)\",\"ticklen\":8,\"ticks\":\"outside\",\"tickwidth\":2},\"type\":\"choropleth\"}],\"contourcarpet\":[{\"colorbar\":{\"outlinewidth\":0,\"tickcolor\":\"rgb(36,36,36)\",\"ticklen\":8,\"ticks\":\"outside\",\"tickwidth\":2},\"type\":\"contourcarpet\"}],\"contour\":[{\"colorbar\":{\"outlinewidth\":0,\"tickcolor\":\"rgb(36,36,36)\",\"ticklen\":8,\"ticks\":\"outside\",\"tickwidth\":2},\"colorscale\":[[0.0,\"rgb(2,4,25)\"],[0.06274509803921569,\"rgb(24,15,41)\"],[0.12549019607843137,\"rgb(47,23,57)\"],[0.18823529411764706,\"rgb(71,28,72)\"],[0.25098039215686274,\"rgb(97,30,82)\"],[0.3137254901960784,\"rgb(123,30,89)\"],[0.3764705882352941,\"rgb(150,27,91)\"],[0.4392156862745098,\"rgb(177,22,88)\"],[0.5019607843137255,\"rgb(203,26,79)\"],[0.5647058823529412,\"rgb(223,47,67)\"],[0.6274509803921569,\"rgb(236,76,61)\"],[0.6901960784313725,\"rgb(242,107,73)\"],[0.7529411764705882,\"rgb(244,135,95)\"],[0.8156862745098039,\"rgb(245,162,122)\"],[0.8784313725490196,\"rgb(246,188,153)\"],[0.9411764705882353,\"rgb(247,212,187)\"],[1.0,\"rgb(250,234,220)\"]],\"type\":\"contour\"}],\"heatmapgl\":[{\"colorbar\":{\"outlinewidth\":0,\"tickcolor\":\"rgb(36,36,36)\",\"ticklen\":8,\"ticks\":\"outside\",\"tickwidth\":2},\"colorscale\":[[0.0,\"rgb(2,4,25)\"],[0.06274509803921569,\"rgb(24,15,41)\"],[0.12549019607843137,\"rgb(47,23,57)\"],[0.18823529411764706,\"rgb(71,28,72)\"],[0.25098039215686274,\"rgb(97,30,82)\"],[0.3137254901960784,\"rgb(123,30,89)\"],[0.3764705882352941,\"rgb(150,27,91)\"],[0.4392156862745098,\"rgb(177,22,88)\"],[0.5019607843137255,\"rgb(203,26,79)\"],[0.5647058823529412,\"rgb(223,47,67)\"],[0.6274509803921569,\"rgb(236,76,61)\"],[0.6901960784313725,\"rgb(242,107,73)\"],[0.7529411764705882,\"rgb(244,135,95)\"],[0.8156862745098039,\"rgb(245,162,122)\"],[0.8784313725490196,\"rgb(246,188,153)\"],[0.9411764705882353,\"rgb(247,212,187)\"],[1.0,\"rgb(250,234,220)\"]],\"type\":\"heatmapgl\"}],\"heatmap\":[{\"colorbar\":{\"outlinewidth\":0,\"tickcolor\":\"rgb(36,36,36)\",\"ticklen\":8,\"ticks\":\"outside\",\"tickwidth\":2},\"colorscale\":[[0.0,\"rgb(2,4,25)\"],[0.06274509803921569,\"rgb(24,15,41)\"],[0.12549019607843137,\"rgb(47,23,57)\"],[0.18823529411764706,\"rgb(71,28,72)\"],[0.25098039215686274,\"rgb(97,30,82)\"],[0.3137254901960784,\"rgb(123,30,89)\"],[0.3764705882352941,\"rgb(150,27,91)\"],[0.4392156862745098,\"rgb(177,22,88)\"],[0.5019607843137255,\"rgb(203,26,79)\"],[0.5647058823529412,\"rgb(223,47,67)\"],[0.6274509803921569,\"rgb(236,76,61)\"],[0.6901960784313725,\"rgb(242,107,73)\"],[0.7529411764705882,\"rgb(244,135,95)\"],[0.8156862745098039,\"rgb(245,162,122)\"],[0.8784313725490196,\"rgb(246,188,153)\"],[0.9411764705882353,\"rgb(247,212,187)\"],[1.0,\"rgb(250,234,220)\"]],\"type\":\"heatmap\"}],\"histogram2dcontour\":[{\"colorbar\":{\"outlinewidth\":0,\"tickcolor\":\"rgb(36,36,36)\",\"ticklen\":8,\"ticks\":\"outside\",\"tickwidth\":2},\"colorscale\":[[0.0,\"rgb(2,4,25)\"],[0.06274509803921569,\"rgb(24,15,41)\"],[0.12549019607843137,\"rgb(47,23,57)\"],[0.18823529411764706,\"rgb(71,28,72)\"],[0.25098039215686274,\"rgb(97,30,82)\"],[0.3137254901960784,\"rgb(123,30,89)\"],[0.3764705882352941,\"rgb(150,27,91)\"],[0.4392156862745098,\"rgb(177,22,88)\"],[0.5019607843137255,\"rgb(203,26,79)\"],[0.5647058823529412,\"rgb(223,47,67)\"],[0.6274509803921569,\"rgb(236,76,61)\"],[0.6901960784313725,\"rgb(242,107,73)\"],[0.7529411764705882,\"rgb(244,135,95)\"],[0.8156862745098039,\"rgb(245,162,122)\"],[0.8784313725490196,\"rgb(246,188,153)\"],[0.9411764705882353,\"rgb(247,212,187)\"],[1.0,\"rgb(250,234,220)\"]],\"type\":\"histogram2dcontour\"}],\"histogram2d\":[{\"colorbar\":{\"outlinewidth\":0,\"tickcolor\":\"rgb(36,36,36)\",\"ticklen\":8,\"ticks\":\"outside\",\"tickwidth\":2},\"colorscale\":[[0.0,\"rgb(2,4,25)\"],[0.06274509803921569,\"rgb(24,15,41)\"],[0.12549019607843137,\"rgb(47,23,57)\"],[0.18823529411764706,\"rgb(71,28,72)\"],[0.25098039215686274,\"rgb(97,30,82)\"],[0.3137254901960784,\"rgb(123,30,89)\"],[0.3764705882352941,\"rgb(150,27,91)\"],[0.4392156862745098,\"rgb(177,22,88)\"],[0.5019607843137255,\"rgb(203,26,79)\"],[0.5647058823529412,\"rgb(223,47,67)\"],[0.6274509803921569,\"rgb(236,76,61)\"],[0.6901960784313725,\"rgb(242,107,73)\"],[0.7529411764705882,\"rgb(244,135,95)\"],[0.8156862745098039,\"rgb(245,162,122)\"],[0.8784313725490196,\"rgb(246,188,153)\"],[0.9411764705882353,\"rgb(247,212,187)\"],[1.0,\"rgb(250,234,220)\"]],\"type\":\"histogram2d\"}],\"histogram\":[{\"marker\":{\"pattern\":{\"fillmode\":\"overlay\",\"size\":10,\"solidity\":0.2}},\"type\":\"histogram\"}],\"mesh3d\":[{\"colorbar\":{\"outlinewidth\":0,\"tickcolor\":\"rgb(36,36,36)\",\"ticklen\":8,\"ticks\":\"outside\",\"tickwidth\":2},\"type\":\"mesh3d\"}],\"parcoords\":[{\"line\":{\"colorbar\":{\"outlinewidth\":0,\"tickcolor\":\"rgb(36,36,36)\",\"ticklen\":8,\"ticks\":\"outside\",\"tickwidth\":2}},\"type\":\"parcoords\"}],\"pie\":[{\"automargin\":true,\"type\":\"pie\"}],\"scatter3d\":[{\"line\":{\"colorbar\":{\"outlinewidth\":0,\"tickcolor\":\"rgb(36,36,36)\",\"ticklen\":8,\"ticks\":\"outside\",\"tickwidth\":2}},\"marker\":{\"colorbar\":{\"outlinewidth\":0,\"tickcolor\":\"rgb(36,36,36)\",\"ticklen\":8,\"ticks\":\"outside\",\"tickwidth\":2}},\"type\":\"scatter3d\"}],\"scattercarpet\":[{\"marker\":{\"colorbar\":{\"outlinewidth\":0,\"tickcolor\":\"rgb(36,36,36)\",\"ticklen\":8,\"ticks\":\"outside\",\"tickwidth\":2}},\"type\":\"scattercarpet\"}],\"scattergeo\":[{\"marker\":{\"colorbar\":{\"outlinewidth\":0,\"tickcolor\":\"rgb(36,36,36)\",\"ticklen\":8,\"ticks\":\"outside\",\"tickwidth\":2}},\"type\":\"scattergeo\"}],\"scattergl\":[{\"marker\":{\"colorbar\":{\"outlinewidth\":0,\"tickcolor\":\"rgb(36,36,36)\",\"ticklen\":8,\"ticks\":\"outside\",\"tickwidth\":2}},\"type\":\"scattergl\"}],\"scattermapbox\":[{\"marker\":{\"colorbar\":{\"outlinewidth\":0,\"tickcolor\":\"rgb(36,36,36)\",\"ticklen\":8,\"ticks\":\"outside\",\"tickwidth\":2}},\"type\":\"scattermapbox\"}],\"scatterpolargl\":[{\"marker\":{\"colorbar\":{\"outlinewidth\":0,\"tickcolor\":\"rgb(36,36,36)\",\"ticklen\":8,\"ticks\":\"outside\",\"tickwidth\":2}},\"type\":\"scatterpolargl\"}],\"scatterpolar\":[{\"marker\":{\"colorbar\":{\"outlinewidth\":0,\"tickcolor\":\"rgb(36,36,36)\",\"ticklen\":8,\"ticks\":\"outside\",\"tickwidth\":2}},\"type\":\"scatterpolar\"}],\"scatter\":[{\"marker\":{\"colorbar\":{\"outlinewidth\":0,\"tickcolor\":\"rgb(36,36,36)\",\"ticklen\":8,\"ticks\":\"outside\",\"tickwidth\":2}},\"type\":\"scatter\"}],\"scatterternary\":[{\"marker\":{\"colorbar\":{\"outlinewidth\":0,\"tickcolor\":\"rgb(36,36,36)\",\"ticklen\":8,\"ticks\":\"outside\",\"tickwidth\":2}},\"type\":\"scatterternary\"}],\"surface\":[{\"colorbar\":{\"outlinewidth\":0,\"tickcolor\":\"rgb(36,36,36)\",\"ticklen\":8,\"ticks\":\"outside\",\"tickwidth\":2},\"colorscale\":[[0.0,\"rgb(2,4,25)\"],[0.06274509803921569,\"rgb(24,15,41)\"],[0.12549019607843137,\"rgb(47,23,57)\"],[0.18823529411764706,\"rgb(71,28,72)\"],[0.25098039215686274,\"rgb(97,30,82)\"],[0.3137254901960784,\"rgb(123,30,89)\"],[0.3764705882352941,\"rgb(150,27,91)\"],[0.4392156862745098,\"rgb(177,22,88)\"],[0.5019607843137255,\"rgb(203,26,79)\"],[0.5647058823529412,\"rgb(223,47,67)\"],[0.6274509803921569,\"rgb(236,76,61)\"],[0.6901960784313725,\"rgb(242,107,73)\"],[0.7529411764705882,\"rgb(244,135,95)\"],[0.8156862745098039,\"rgb(245,162,122)\"],[0.8784313725490196,\"rgb(246,188,153)\"],[0.9411764705882353,\"rgb(247,212,187)\"],[1.0,\"rgb(250,234,220)\"]],\"type\":\"surface\"}],\"table\":[{\"cells\":{\"fill\":{\"color\":\"rgb(231,231,240)\"},\"line\":{\"color\":\"white\"}},\"header\":{\"fill\":{\"color\":\"rgb(183,183,191)\"},\"line\":{\"color\":\"white\"}},\"type\":\"table\"}]},\"layout\":{\"annotationdefaults\":{\"arrowcolor\":\"rgb(67,103,167)\"},\"autotypenumbers\":\"strict\",\"coloraxis\":{\"colorbar\":{\"outlinewidth\":0,\"tickcolor\":\"rgb(36,36,36)\",\"ticklen\":8,\"ticks\":\"outside\",\"tickwidth\":2}},\"colorscale\":{\"sequential\":[[0.0,\"rgb(2,4,25)\"],[0.06274509803921569,\"rgb(24,15,41)\"],[0.12549019607843137,\"rgb(47,23,57)\"],[0.18823529411764706,\"rgb(71,28,72)\"],[0.25098039215686274,\"rgb(97,30,82)\"],[0.3137254901960784,\"rgb(123,30,89)\"],[0.3764705882352941,\"rgb(150,27,91)\"],[0.4392156862745098,\"rgb(177,22,88)\"],[0.5019607843137255,\"rgb(203,26,79)\"],[0.5647058823529412,\"rgb(223,47,67)\"],[0.6274509803921569,\"rgb(236,76,61)\"],[0.6901960784313725,\"rgb(242,107,73)\"],[0.7529411764705882,\"rgb(244,135,95)\"],[0.8156862745098039,\"rgb(245,162,122)\"],[0.8784313725490196,\"rgb(246,188,153)\"],[0.9411764705882353,\"rgb(247,212,187)\"],[1.0,\"rgb(250,234,220)\"]],\"sequentialminus\":[[0.0,\"rgb(2,4,25)\"],[0.06274509803921569,\"rgb(24,15,41)\"],[0.12549019607843137,\"rgb(47,23,57)\"],[0.18823529411764706,\"rgb(71,28,72)\"],[0.25098039215686274,\"rgb(97,30,82)\"],[0.3137254901960784,\"rgb(123,30,89)\"],[0.3764705882352941,\"rgb(150,27,91)\"],[0.4392156862745098,\"rgb(177,22,88)\"],[0.5019607843137255,\"rgb(203,26,79)\"],[0.5647058823529412,\"rgb(223,47,67)\"],[0.6274509803921569,\"rgb(236,76,61)\"],[0.6901960784313725,\"rgb(242,107,73)\"],[0.7529411764705882,\"rgb(244,135,95)\"],[0.8156862745098039,\"rgb(245,162,122)\"],[0.8784313725490196,\"rgb(246,188,153)\"],[0.9411764705882353,\"rgb(247,212,187)\"],[1.0,\"rgb(250,234,220)\"]]},\"colorway\":[\"rgb(76,114,176)\",\"rgb(221,132,82)\",\"rgb(85,168,104)\",\"rgb(196,78,82)\",\"rgb(129,114,179)\",\"rgb(147,120,96)\",\"rgb(218,139,195)\",\"rgb(140,140,140)\",\"rgb(204,185,116)\",\"rgb(100,181,205)\"],\"font\":{\"color\":\"rgb(36,36,36)\"},\"geo\":{\"bgcolor\":\"white\",\"lakecolor\":\"white\",\"landcolor\":\"rgb(234,234,242)\",\"showlakes\":true,\"showland\":true,\"subunitcolor\":\"white\"},\"hoverlabel\":{\"align\":\"left\"},\"hovermode\":\"closest\",\"paper_bgcolor\":\"white\",\"plot_bgcolor\":\"rgb(234,234,242)\",\"polar\":{\"angularaxis\":{\"gridcolor\":\"white\",\"linecolor\":\"white\",\"showgrid\":true,\"ticks\":\"\"},\"bgcolor\":\"rgb(234,234,242)\",\"radialaxis\":{\"gridcolor\":\"white\",\"linecolor\":\"white\",\"showgrid\":true,\"ticks\":\"\"}},\"scene\":{\"xaxis\":{\"backgroundcolor\":\"rgb(234,234,242)\",\"gridcolor\":\"white\",\"gridwidth\":2,\"linecolor\":\"white\",\"showbackground\":true,\"showgrid\":true,\"ticks\":\"\",\"zerolinecolor\":\"white\"},\"yaxis\":{\"backgroundcolor\":\"rgb(234,234,242)\",\"gridcolor\":\"white\",\"gridwidth\":2,\"linecolor\":\"white\",\"showbackground\":true,\"showgrid\":true,\"ticks\":\"\",\"zerolinecolor\":\"white\"},\"zaxis\":{\"backgroundcolor\":\"rgb(234,234,242)\",\"gridcolor\":\"white\",\"gridwidth\":2,\"linecolor\":\"white\",\"showbackground\":true,\"showgrid\":true,\"ticks\":\"\",\"zerolinecolor\":\"white\"}},\"shapedefaults\":{\"fillcolor\":\"rgb(67,103,167)\",\"line\":{\"width\":0},\"opacity\":0.5},\"ternary\":{\"aaxis\":{\"gridcolor\":\"white\",\"linecolor\":\"white\",\"showgrid\":true,\"ticks\":\"\"},\"baxis\":{\"gridcolor\":\"white\",\"linecolor\":\"white\",\"showgrid\":true,\"ticks\":\"\"},\"bgcolor\":\"rgb(234,234,242)\",\"caxis\":{\"gridcolor\":\"white\",\"linecolor\":\"white\",\"showgrid\":true,\"ticks\":\"\"}},\"xaxis\":{\"automargin\":true,\"gridcolor\":\"white\",\"linecolor\":\"white\",\"showgrid\":true,\"ticks\":\"\",\"title\":{\"standoff\":15},\"zerolinecolor\":\"white\"},\"yaxis\":{\"automargin\":true,\"gridcolor\":\"white\",\"linecolor\":\"white\",\"showgrid\":true,\"ticks\":\"\",\"title\":{\"standoff\":15},\"zerolinecolor\":\"white\"}}},\"xaxis\":{\"anchor\":\"y\",\"domain\":[0.0,1.0],\"title\":{\"text\":\"scope\"}},\"yaxis\":{\"anchor\":\"x\",\"domain\":[0.0,1.0],\"title\":{\"text\":\"projects\"}},\"legend\":{\"tracegroupgap\":0},\"margin\":{\"t\":60},\"barmode\":\"relative\"},                        {\"responsive\": true}                    ).then(function(){\n",
       "                            \n",
       "var gd = document.getElementById('8191436e-7f14-4b57-982d-f52a3853adea');\n",
       "var x = new MutationObserver(function (mutations, observer) {{\n",
       "        var display = window.getComputedStyle(gd).display;\n",
       "        if (!display || display === 'none') {{\n",
       "            console.log([gd, 'removed!']);\n",
       "            Plotly.purge(gd);\n",
       "            observer.disconnect();\n",
       "        }}\n",
       "}});\n",
       "\n",
       "// Listen for the removal of the full notebook cells\n",
       "var notebookContainer = gd.closest('#notebook-container');\n",
       "if (notebookContainer) {{\n",
       "    x.observe(notebookContainer, {childList: true});\n",
       "}}\n",
       "\n",
       "// Listen for the clearing of the current output cell\n",
       "var outputEl = gd.closest('.output');\n",
       "if (outputEl) {{\n",
       "    x.observe(outputEl, {childList: true});\n",
       "}}\n",
       "\n",
       "                        })                };                });            </script>        </div>"
      ]
     },
     "metadata": {},
     "output_type": "display_data"
    }
   ],
   "source": [
    "fig = px.bar(scope, x='scope', y='projects', text_auto='.', template=\"seaborn\")\n",
    "fig.show()"
   ]
  },
  {
   "cell_type": "code",
   "execution_count": 292,
   "id": "34ec71bf",
   "metadata": {},
   "outputs": [
    {
     "data": {
      "application/vnd.plotly.v1+json": {
       "config": {
        "plotlyServerURL": "https://plot.ly"
       },
       "data": [
        {
         "alignmentgroup": "True",
         "hovertemplate": "status=%{x}<br>projects=%{y}<extra></extra>",
         "legendgroup": "",
         "marker": {
          "color": "rgb(76,114,176)",
          "pattern": {
           "shape": ""
          }
         },
         "name": "",
         "offsetgroup": "",
         "orientation": "v",
         "showlegend": false,
         "textposition": "auto",
         "texttemplate": "%{y:.}",
         "type": "bar",
         "x": [
          "Niewybrany w głosowaniu",
          "Projekt nie bierze udziału w głosowaniu",
          "Wybrany w głosowaniu",
          "Wycofane z realizacji w ramach WBO",
          "Realizowany poza WBO, nie bierze udziału w głosowaniu",
          "Realizacja z listy rezerwowej"
         ],
         "xaxis": "x",
         "y": [
          1430,
          1392,
          253,
          250,
          81,
          3
         ],
         "yaxis": "y"
        }
       ],
       "layout": {
        "barmode": "relative",
        "legend": {
         "tracegroupgap": 0
        },
        "margin": {
         "t": 60
        },
        "template": {
         "data": {
          "bar": [
           {
            "error_x": {
             "color": "rgb(36,36,36)"
            },
            "error_y": {
             "color": "rgb(36,36,36)"
            },
            "marker": {
             "line": {
              "color": "rgb(234,234,242)",
              "width": 0.5
             },
             "pattern": {
              "fillmode": "overlay",
              "size": 10,
              "solidity": 0.2
             }
            },
            "type": "bar"
           }
          ],
          "barpolar": [
           {
            "marker": {
             "line": {
              "color": "rgb(234,234,242)",
              "width": 0.5
             },
             "pattern": {
              "fillmode": "overlay",
              "size": 10,
              "solidity": 0.2
             }
            },
            "type": "barpolar"
           }
          ],
          "carpet": [
           {
            "aaxis": {
             "endlinecolor": "rgb(36,36,36)",
             "gridcolor": "white",
             "linecolor": "white",
             "minorgridcolor": "white",
             "startlinecolor": "rgb(36,36,36)"
            },
            "baxis": {
             "endlinecolor": "rgb(36,36,36)",
             "gridcolor": "white",
             "linecolor": "white",
             "minorgridcolor": "white",
             "startlinecolor": "rgb(36,36,36)"
            },
            "type": "carpet"
           }
          ],
          "choropleth": [
           {
            "colorbar": {
             "outlinewidth": 0,
             "tickcolor": "rgb(36,36,36)",
             "ticklen": 8,
             "ticks": "outside",
             "tickwidth": 2
            },
            "type": "choropleth"
           }
          ],
          "contour": [
           {
            "colorbar": {
             "outlinewidth": 0,
             "tickcolor": "rgb(36,36,36)",
             "ticklen": 8,
             "ticks": "outside",
             "tickwidth": 2
            },
            "colorscale": [
             [
              0,
              "rgb(2,4,25)"
             ],
             [
              0.06274509803921569,
              "rgb(24,15,41)"
             ],
             [
              0.12549019607843137,
              "rgb(47,23,57)"
             ],
             [
              0.18823529411764706,
              "rgb(71,28,72)"
             ],
             [
              0.25098039215686274,
              "rgb(97,30,82)"
             ],
             [
              0.3137254901960784,
              "rgb(123,30,89)"
             ],
             [
              0.3764705882352941,
              "rgb(150,27,91)"
             ],
             [
              0.4392156862745098,
              "rgb(177,22,88)"
             ],
             [
              0.5019607843137255,
              "rgb(203,26,79)"
             ],
             [
              0.5647058823529412,
              "rgb(223,47,67)"
             ],
             [
              0.6274509803921569,
              "rgb(236,76,61)"
             ],
             [
              0.6901960784313725,
              "rgb(242,107,73)"
             ],
             [
              0.7529411764705882,
              "rgb(244,135,95)"
             ],
             [
              0.8156862745098039,
              "rgb(245,162,122)"
             ],
             [
              0.8784313725490196,
              "rgb(246,188,153)"
             ],
             [
              0.9411764705882353,
              "rgb(247,212,187)"
             ],
             [
              1,
              "rgb(250,234,220)"
             ]
            ],
            "type": "contour"
           }
          ],
          "contourcarpet": [
           {
            "colorbar": {
             "outlinewidth": 0,
             "tickcolor": "rgb(36,36,36)",
             "ticklen": 8,
             "ticks": "outside",
             "tickwidth": 2
            },
            "type": "contourcarpet"
           }
          ],
          "heatmap": [
           {
            "colorbar": {
             "outlinewidth": 0,
             "tickcolor": "rgb(36,36,36)",
             "ticklen": 8,
             "ticks": "outside",
             "tickwidth": 2
            },
            "colorscale": [
             [
              0,
              "rgb(2,4,25)"
             ],
             [
              0.06274509803921569,
              "rgb(24,15,41)"
             ],
             [
              0.12549019607843137,
              "rgb(47,23,57)"
             ],
             [
              0.18823529411764706,
              "rgb(71,28,72)"
             ],
             [
              0.25098039215686274,
              "rgb(97,30,82)"
             ],
             [
              0.3137254901960784,
              "rgb(123,30,89)"
             ],
             [
              0.3764705882352941,
              "rgb(150,27,91)"
             ],
             [
              0.4392156862745098,
              "rgb(177,22,88)"
             ],
             [
              0.5019607843137255,
              "rgb(203,26,79)"
             ],
             [
              0.5647058823529412,
              "rgb(223,47,67)"
             ],
             [
              0.6274509803921569,
              "rgb(236,76,61)"
             ],
             [
              0.6901960784313725,
              "rgb(242,107,73)"
             ],
             [
              0.7529411764705882,
              "rgb(244,135,95)"
             ],
             [
              0.8156862745098039,
              "rgb(245,162,122)"
             ],
             [
              0.8784313725490196,
              "rgb(246,188,153)"
             ],
             [
              0.9411764705882353,
              "rgb(247,212,187)"
             ],
             [
              1,
              "rgb(250,234,220)"
             ]
            ],
            "type": "heatmap"
           }
          ],
          "heatmapgl": [
           {
            "colorbar": {
             "outlinewidth": 0,
             "tickcolor": "rgb(36,36,36)",
             "ticklen": 8,
             "ticks": "outside",
             "tickwidth": 2
            },
            "colorscale": [
             [
              0,
              "rgb(2,4,25)"
             ],
             [
              0.06274509803921569,
              "rgb(24,15,41)"
             ],
             [
              0.12549019607843137,
              "rgb(47,23,57)"
             ],
             [
              0.18823529411764706,
              "rgb(71,28,72)"
             ],
             [
              0.25098039215686274,
              "rgb(97,30,82)"
             ],
             [
              0.3137254901960784,
              "rgb(123,30,89)"
             ],
             [
              0.3764705882352941,
              "rgb(150,27,91)"
             ],
             [
              0.4392156862745098,
              "rgb(177,22,88)"
             ],
             [
              0.5019607843137255,
              "rgb(203,26,79)"
             ],
             [
              0.5647058823529412,
              "rgb(223,47,67)"
             ],
             [
              0.6274509803921569,
              "rgb(236,76,61)"
             ],
             [
              0.6901960784313725,
              "rgb(242,107,73)"
             ],
             [
              0.7529411764705882,
              "rgb(244,135,95)"
             ],
             [
              0.8156862745098039,
              "rgb(245,162,122)"
             ],
             [
              0.8784313725490196,
              "rgb(246,188,153)"
             ],
             [
              0.9411764705882353,
              "rgb(247,212,187)"
             ],
             [
              1,
              "rgb(250,234,220)"
             ]
            ],
            "type": "heatmapgl"
           }
          ],
          "histogram": [
           {
            "marker": {
             "pattern": {
              "fillmode": "overlay",
              "size": 10,
              "solidity": 0.2
             }
            },
            "type": "histogram"
           }
          ],
          "histogram2d": [
           {
            "colorbar": {
             "outlinewidth": 0,
             "tickcolor": "rgb(36,36,36)",
             "ticklen": 8,
             "ticks": "outside",
             "tickwidth": 2
            },
            "colorscale": [
             [
              0,
              "rgb(2,4,25)"
             ],
             [
              0.06274509803921569,
              "rgb(24,15,41)"
             ],
             [
              0.12549019607843137,
              "rgb(47,23,57)"
             ],
             [
              0.18823529411764706,
              "rgb(71,28,72)"
             ],
             [
              0.25098039215686274,
              "rgb(97,30,82)"
             ],
             [
              0.3137254901960784,
              "rgb(123,30,89)"
             ],
             [
              0.3764705882352941,
              "rgb(150,27,91)"
             ],
             [
              0.4392156862745098,
              "rgb(177,22,88)"
             ],
             [
              0.5019607843137255,
              "rgb(203,26,79)"
             ],
             [
              0.5647058823529412,
              "rgb(223,47,67)"
             ],
             [
              0.6274509803921569,
              "rgb(236,76,61)"
             ],
             [
              0.6901960784313725,
              "rgb(242,107,73)"
             ],
             [
              0.7529411764705882,
              "rgb(244,135,95)"
             ],
             [
              0.8156862745098039,
              "rgb(245,162,122)"
             ],
             [
              0.8784313725490196,
              "rgb(246,188,153)"
             ],
             [
              0.9411764705882353,
              "rgb(247,212,187)"
             ],
             [
              1,
              "rgb(250,234,220)"
             ]
            ],
            "type": "histogram2d"
           }
          ],
          "histogram2dcontour": [
           {
            "colorbar": {
             "outlinewidth": 0,
             "tickcolor": "rgb(36,36,36)",
             "ticklen": 8,
             "ticks": "outside",
             "tickwidth": 2
            },
            "colorscale": [
             [
              0,
              "rgb(2,4,25)"
             ],
             [
              0.06274509803921569,
              "rgb(24,15,41)"
             ],
             [
              0.12549019607843137,
              "rgb(47,23,57)"
             ],
             [
              0.18823529411764706,
              "rgb(71,28,72)"
             ],
             [
              0.25098039215686274,
              "rgb(97,30,82)"
             ],
             [
              0.3137254901960784,
              "rgb(123,30,89)"
             ],
             [
              0.3764705882352941,
              "rgb(150,27,91)"
             ],
             [
              0.4392156862745098,
              "rgb(177,22,88)"
             ],
             [
              0.5019607843137255,
              "rgb(203,26,79)"
             ],
             [
              0.5647058823529412,
              "rgb(223,47,67)"
             ],
             [
              0.6274509803921569,
              "rgb(236,76,61)"
             ],
             [
              0.6901960784313725,
              "rgb(242,107,73)"
             ],
             [
              0.7529411764705882,
              "rgb(244,135,95)"
             ],
             [
              0.8156862745098039,
              "rgb(245,162,122)"
             ],
             [
              0.8784313725490196,
              "rgb(246,188,153)"
             ],
             [
              0.9411764705882353,
              "rgb(247,212,187)"
             ],
             [
              1,
              "rgb(250,234,220)"
             ]
            ],
            "type": "histogram2dcontour"
           }
          ],
          "mesh3d": [
           {
            "colorbar": {
             "outlinewidth": 0,
             "tickcolor": "rgb(36,36,36)",
             "ticklen": 8,
             "ticks": "outside",
             "tickwidth": 2
            },
            "type": "mesh3d"
           }
          ],
          "parcoords": [
           {
            "line": {
             "colorbar": {
              "outlinewidth": 0,
              "tickcolor": "rgb(36,36,36)",
              "ticklen": 8,
              "ticks": "outside",
              "tickwidth": 2
             }
            },
            "type": "parcoords"
           }
          ],
          "pie": [
           {
            "automargin": true,
            "type": "pie"
           }
          ],
          "scatter": [
           {
            "marker": {
             "colorbar": {
              "outlinewidth": 0,
              "tickcolor": "rgb(36,36,36)",
              "ticklen": 8,
              "ticks": "outside",
              "tickwidth": 2
             }
            },
            "type": "scatter"
           }
          ],
          "scatter3d": [
           {
            "line": {
             "colorbar": {
              "outlinewidth": 0,
              "tickcolor": "rgb(36,36,36)",
              "ticklen": 8,
              "ticks": "outside",
              "tickwidth": 2
             }
            },
            "marker": {
             "colorbar": {
              "outlinewidth": 0,
              "tickcolor": "rgb(36,36,36)",
              "ticklen": 8,
              "ticks": "outside",
              "tickwidth": 2
             }
            },
            "type": "scatter3d"
           }
          ],
          "scattercarpet": [
           {
            "marker": {
             "colorbar": {
              "outlinewidth": 0,
              "tickcolor": "rgb(36,36,36)",
              "ticklen": 8,
              "ticks": "outside",
              "tickwidth": 2
             }
            },
            "type": "scattercarpet"
           }
          ],
          "scattergeo": [
           {
            "marker": {
             "colorbar": {
              "outlinewidth": 0,
              "tickcolor": "rgb(36,36,36)",
              "ticklen": 8,
              "ticks": "outside",
              "tickwidth": 2
             }
            },
            "type": "scattergeo"
           }
          ],
          "scattergl": [
           {
            "marker": {
             "colorbar": {
              "outlinewidth": 0,
              "tickcolor": "rgb(36,36,36)",
              "ticklen": 8,
              "ticks": "outside",
              "tickwidth": 2
             }
            },
            "type": "scattergl"
           }
          ],
          "scattermapbox": [
           {
            "marker": {
             "colorbar": {
              "outlinewidth": 0,
              "tickcolor": "rgb(36,36,36)",
              "ticklen": 8,
              "ticks": "outside",
              "tickwidth": 2
             }
            },
            "type": "scattermapbox"
           }
          ],
          "scatterpolar": [
           {
            "marker": {
             "colorbar": {
              "outlinewidth": 0,
              "tickcolor": "rgb(36,36,36)",
              "ticklen": 8,
              "ticks": "outside",
              "tickwidth": 2
             }
            },
            "type": "scatterpolar"
           }
          ],
          "scatterpolargl": [
           {
            "marker": {
             "colorbar": {
              "outlinewidth": 0,
              "tickcolor": "rgb(36,36,36)",
              "ticklen": 8,
              "ticks": "outside",
              "tickwidth": 2
             }
            },
            "type": "scatterpolargl"
           }
          ],
          "scatterternary": [
           {
            "marker": {
             "colorbar": {
              "outlinewidth": 0,
              "tickcolor": "rgb(36,36,36)",
              "ticklen": 8,
              "ticks": "outside",
              "tickwidth": 2
             }
            },
            "type": "scatterternary"
           }
          ],
          "surface": [
           {
            "colorbar": {
             "outlinewidth": 0,
             "tickcolor": "rgb(36,36,36)",
             "ticklen": 8,
             "ticks": "outside",
             "tickwidth": 2
            },
            "colorscale": [
             [
              0,
              "rgb(2,4,25)"
             ],
             [
              0.06274509803921569,
              "rgb(24,15,41)"
             ],
             [
              0.12549019607843137,
              "rgb(47,23,57)"
             ],
             [
              0.18823529411764706,
              "rgb(71,28,72)"
             ],
             [
              0.25098039215686274,
              "rgb(97,30,82)"
             ],
             [
              0.3137254901960784,
              "rgb(123,30,89)"
             ],
             [
              0.3764705882352941,
              "rgb(150,27,91)"
             ],
             [
              0.4392156862745098,
              "rgb(177,22,88)"
             ],
             [
              0.5019607843137255,
              "rgb(203,26,79)"
             ],
             [
              0.5647058823529412,
              "rgb(223,47,67)"
             ],
             [
              0.6274509803921569,
              "rgb(236,76,61)"
             ],
             [
              0.6901960784313725,
              "rgb(242,107,73)"
             ],
             [
              0.7529411764705882,
              "rgb(244,135,95)"
             ],
             [
              0.8156862745098039,
              "rgb(245,162,122)"
             ],
             [
              0.8784313725490196,
              "rgb(246,188,153)"
             ],
             [
              0.9411764705882353,
              "rgb(247,212,187)"
             ],
             [
              1,
              "rgb(250,234,220)"
             ]
            ],
            "type": "surface"
           }
          ],
          "table": [
           {
            "cells": {
             "fill": {
              "color": "rgb(231,231,240)"
             },
             "line": {
              "color": "white"
             }
            },
            "header": {
             "fill": {
              "color": "rgb(183,183,191)"
             },
             "line": {
              "color": "white"
             }
            },
            "type": "table"
           }
          ]
         },
         "layout": {
          "annotationdefaults": {
           "arrowcolor": "rgb(67,103,167)"
          },
          "autotypenumbers": "strict",
          "coloraxis": {
           "colorbar": {
            "outlinewidth": 0,
            "tickcolor": "rgb(36,36,36)",
            "ticklen": 8,
            "ticks": "outside",
            "tickwidth": 2
           }
          },
          "colorscale": {
           "sequential": [
            [
             0,
             "rgb(2,4,25)"
            ],
            [
             0.06274509803921569,
             "rgb(24,15,41)"
            ],
            [
             0.12549019607843137,
             "rgb(47,23,57)"
            ],
            [
             0.18823529411764706,
             "rgb(71,28,72)"
            ],
            [
             0.25098039215686274,
             "rgb(97,30,82)"
            ],
            [
             0.3137254901960784,
             "rgb(123,30,89)"
            ],
            [
             0.3764705882352941,
             "rgb(150,27,91)"
            ],
            [
             0.4392156862745098,
             "rgb(177,22,88)"
            ],
            [
             0.5019607843137255,
             "rgb(203,26,79)"
            ],
            [
             0.5647058823529412,
             "rgb(223,47,67)"
            ],
            [
             0.6274509803921569,
             "rgb(236,76,61)"
            ],
            [
             0.6901960784313725,
             "rgb(242,107,73)"
            ],
            [
             0.7529411764705882,
             "rgb(244,135,95)"
            ],
            [
             0.8156862745098039,
             "rgb(245,162,122)"
            ],
            [
             0.8784313725490196,
             "rgb(246,188,153)"
            ],
            [
             0.9411764705882353,
             "rgb(247,212,187)"
            ],
            [
             1,
             "rgb(250,234,220)"
            ]
           ],
           "sequentialminus": [
            [
             0,
             "rgb(2,4,25)"
            ],
            [
             0.06274509803921569,
             "rgb(24,15,41)"
            ],
            [
             0.12549019607843137,
             "rgb(47,23,57)"
            ],
            [
             0.18823529411764706,
             "rgb(71,28,72)"
            ],
            [
             0.25098039215686274,
             "rgb(97,30,82)"
            ],
            [
             0.3137254901960784,
             "rgb(123,30,89)"
            ],
            [
             0.3764705882352941,
             "rgb(150,27,91)"
            ],
            [
             0.4392156862745098,
             "rgb(177,22,88)"
            ],
            [
             0.5019607843137255,
             "rgb(203,26,79)"
            ],
            [
             0.5647058823529412,
             "rgb(223,47,67)"
            ],
            [
             0.6274509803921569,
             "rgb(236,76,61)"
            ],
            [
             0.6901960784313725,
             "rgb(242,107,73)"
            ],
            [
             0.7529411764705882,
             "rgb(244,135,95)"
            ],
            [
             0.8156862745098039,
             "rgb(245,162,122)"
            ],
            [
             0.8784313725490196,
             "rgb(246,188,153)"
            ],
            [
             0.9411764705882353,
             "rgb(247,212,187)"
            ],
            [
             1,
             "rgb(250,234,220)"
            ]
           ]
          },
          "colorway": [
           "rgb(76,114,176)",
           "rgb(221,132,82)",
           "rgb(85,168,104)",
           "rgb(196,78,82)",
           "rgb(129,114,179)",
           "rgb(147,120,96)",
           "rgb(218,139,195)",
           "rgb(140,140,140)",
           "rgb(204,185,116)",
           "rgb(100,181,205)"
          ],
          "font": {
           "color": "rgb(36,36,36)"
          },
          "geo": {
           "bgcolor": "white",
           "lakecolor": "white",
           "landcolor": "rgb(234,234,242)",
           "showlakes": true,
           "showland": true,
           "subunitcolor": "white"
          },
          "hoverlabel": {
           "align": "left"
          },
          "hovermode": "closest",
          "paper_bgcolor": "white",
          "plot_bgcolor": "rgb(234,234,242)",
          "polar": {
           "angularaxis": {
            "gridcolor": "white",
            "linecolor": "white",
            "showgrid": true,
            "ticks": ""
           },
           "bgcolor": "rgb(234,234,242)",
           "radialaxis": {
            "gridcolor": "white",
            "linecolor": "white",
            "showgrid": true,
            "ticks": ""
           }
          },
          "scene": {
           "xaxis": {
            "backgroundcolor": "rgb(234,234,242)",
            "gridcolor": "white",
            "gridwidth": 2,
            "linecolor": "white",
            "showbackground": true,
            "showgrid": true,
            "ticks": "",
            "zerolinecolor": "white"
           },
           "yaxis": {
            "backgroundcolor": "rgb(234,234,242)",
            "gridcolor": "white",
            "gridwidth": 2,
            "linecolor": "white",
            "showbackground": true,
            "showgrid": true,
            "ticks": "",
            "zerolinecolor": "white"
           },
           "zaxis": {
            "backgroundcolor": "rgb(234,234,242)",
            "gridcolor": "white",
            "gridwidth": 2,
            "linecolor": "white",
            "showbackground": true,
            "showgrid": true,
            "ticks": "",
            "zerolinecolor": "white"
           }
          },
          "shapedefaults": {
           "fillcolor": "rgb(67,103,167)",
           "line": {
            "width": 0
           },
           "opacity": 0.5
          },
          "ternary": {
           "aaxis": {
            "gridcolor": "white",
            "linecolor": "white",
            "showgrid": true,
            "ticks": ""
           },
           "baxis": {
            "gridcolor": "white",
            "linecolor": "white",
            "showgrid": true,
            "ticks": ""
           },
           "bgcolor": "rgb(234,234,242)",
           "caxis": {
            "gridcolor": "white",
            "linecolor": "white",
            "showgrid": true,
            "ticks": ""
           }
          },
          "xaxis": {
           "automargin": true,
           "gridcolor": "white",
           "linecolor": "white",
           "showgrid": true,
           "ticks": "",
           "title": {
            "standoff": 15
           },
           "zerolinecolor": "white"
          },
          "yaxis": {
           "automargin": true,
           "gridcolor": "white",
           "linecolor": "white",
           "showgrid": true,
           "ticks": "",
           "title": {
            "standoff": 15
           },
           "zerolinecolor": "white"
          }
         }
        },
        "xaxis": {
         "anchor": "y",
         "domain": [
          0,
          1
         ],
         "title": {
          "text": "status"
         }
        },
        "yaxis": {
         "anchor": "x",
         "domain": [
          0,
          1
         ],
         "title": {
          "text": "projects"
         }
        }
       }
      },
      "text/html": [
       "<div>                            <div id=\"fa6193df-fc44-4cfd-ba5b-9d44221a4acd\" class=\"plotly-graph-div\" style=\"height:525px; width:100%;\"></div>            <script type=\"text/javascript\">                require([\"plotly\"], function(Plotly) {                    window.PLOTLYENV=window.PLOTLYENV || {};                                    if (document.getElementById(\"fa6193df-fc44-4cfd-ba5b-9d44221a4acd\")) {                    Plotly.newPlot(                        \"fa6193df-fc44-4cfd-ba5b-9d44221a4acd\",                        [{\"alignmentgroup\":\"True\",\"hovertemplate\":\"status=%{x}<br>projects=%{y}<extra></extra>\",\"legendgroup\":\"\",\"marker\":{\"color\":\"rgb(76,114,176)\",\"pattern\":{\"shape\":\"\"}},\"name\":\"\",\"offsetgroup\":\"\",\"orientation\":\"v\",\"showlegend\":false,\"textposition\":\"auto\",\"texttemplate\":\"%{y:.}\",\"x\":[\"Niewybrany w g\\u0142osowaniu\",\"Projekt nie bierze udzia\\u0142u w g\\u0142osowaniu\",\"Wybrany w g\\u0142osowaniu\",\"Wycofane z realizacji w ramach WBO\",\"Realizowany poza WBO, nie bierze udzia\\u0142u w g\\u0142osowaniu\",\"Realizacja z listy rezerwowej\"],\"xaxis\":\"x\",\"y\":[1430,1392,253,250,81,3],\"yaxis\":\"y\",\"type\":\"bar\"}],                        {\"template\":{\"data\":{\"barpolar\":[{\"marker\":{\"line\":{\"color\":\"rgb(234,234,242)\",\"width\":0.5},\"pattern\":{\"fillmode\":\"overlay\",\"size\":10,\"solidity\":0.2}},\"type\":\"barpolar\"}],\"bar\":[{\"error_x\":{\"color\":\"rgb(36,36,36)\"},\"error_y\":{\"color\":\"rgb(36,36,36)\"},\"marker\":{\"line\":{\"color\":\"rgb(234,234,242)\",\"width\":0.5},\"pattern\":{\"fillmode\":\"overlay\",\"size\":10,\"solidity\":0.2}},\"type\":\"bar\"}],\"carpet\":[{\"aaxis\":{\"endlinecolor\":\"rgb(36,36,36)\",\"gridcolor\":\"white\",\"linecolor\":\"white\",\"minorgridcolor\":\"white\",\"startlinecolor\":\"rgb(36,36,36)\"},\"baxis\":{\"endlinecolor\":\"rgb(36,36,36)\",\"gridcolor\":\"white\",\"linecolor\":\"white\",\"minorgridcolor\":\"white\",\"startlinecolor\":\"rgb(36,36,36)\"},\"type\":\"carpet\"}],\"choropleth\":[{\"colorbar\":{\"outlinewidth\":0,\"tickcolor\":\"rgb(36,36,36)\",\"ticklen\":8,\"ticks\":\"outside\",\"tickwidth\":2},\"type\":\"choropleth\"}],\"contourcarpet\":[{\"colorbar\":{\"outlinewidth\":0,\"tickcolor\":\"rgb(36,36,36)\",\"ticklen\":8,\"ticks\":\"outside\",\"tickwidth\":2},\"type\":\"contourcarpet\"}],\"contour\":[{\"colorbar\":{\"outlinewidth\":0,\"tickcolor\":\"rgb(36,36,36)\",\"ticklen\":8,\"ticks\":\"outside\",\"tickwidth\":2},\"colorscale\":[[0.0,\"rgb(2,4,25)\"],[0.06274509803921569,\"rgb(24,15,41)\"],[0.12549019607843137,\"rgb(47,23,57)\"],[0.18823529411764706,\"rgb(71,28,72)\"],[0.25098039215686274,\"rgb(97,30,82)\"],[0.3137254901960784,\"rgb(123,30,89)\"],[0.3764705882352941,\"rgb(150,27,91)\"],[0.4392156862745098,\"rgb(177,22,88)\"],[0.5019607843137255,\"rgb(203,26,79)\"],[0.5647058823529412,\"rgb(223,47,67)\"],[0.6274509803921569,\"rgb(236,76,61)\"],[0.6901960784313725,\"rgb(242,107,73)\"],[0.7529411764705882,\"rgb(244,135,95)\"],[0.8156862745098039,\"rgb(245,162,122)\"],[0.8784313725490196,\"rgb(246,188,153)\"],[0.9411764705882353,\"rgb(247,212,187)\"],[1.0,\"rgb(250,234,220)\"]],\"type\":\"contour\"}],\"heatmapgl\":[{\"colorbar\":{\"outlinewidth\":0,\"tickcolor\":\"rgb(36,36,36)\",\"ticklen\":8,\"ticks\":\"outside\",\"tickwidth\":2},\"colorscale\":[[0.0,\"rgb(2,4,25)\"],[0.06274509803921569,\"rgb(24,15,41)\"],[0.12549019607843137,\"rgb(47,23,57)\"],[0.18823529411764706,\"rgb(71,28,72)\"],[0.25098039215686274,\"rgb(97,30,82)\"],[0.3137254901960784,\"rgb(123,30,89)\"],[0.3764705882352941,\"rgb(150,27,91)\"],[0.4392156862745098,\"rgb(177,22,88)\"],[0.5019607843137255,\"rgb(203,26,79)\"],[0.5647058823529412,\"rgb(223,47,67)\"],[0.6274509803921569,\"rgb(236,76,61)\"],[0.6901960784313725,\"rgb(242,107,73)\"],[0.7529411764705882,\"rgb(244,135,95)\"],[0.8156862745098039,\"rgb(245,162,122)\"],[0.8784313725490196,\"rgb(246,188,153)\"],[0.9411764705882353,\"rgb(247,212,187)\"],[1.0,\"rgb(250,234,220)\"]],\"type\":\"heatmapgl\"}],\"heatmap\":[{\"colorbar\":{\"outlinewidth\":0,\"tickcolor\":\"rgb(36,36,36)\",\"ticklen\":8,\"ticks\":\"outside\",\"tickwidth\":2},\"colorscale\":[[0.0,\"rgb(2,4,25)\"],[0.06274509803921569,\"rgb(24,15,41)\"],[0.12549019607843137,\"rgb(47,23,57)\"],[0.18823529411764706,\"rgb(71,28,72)\"],[0.25098039215686274,\"rgb(97,30,82)\"],[0.3137254901960784,\"rgb(123,30,89)\"],[0.3764705882352941,\"rgb(150,27,91)\"],[0.4392156862745098,\"rgb(177,22,88)\"],[0.5019607843137255,\"rgb(203,26,79)\"],[0.5647058823529412,\"rgb(223,47,67)\"],[0.6274509803921569,\"rgb(236,76,61)\"],[0.6901960784313725,\"rgb(242,107,73)\"],[0.7529411764705882,\"rgb(244,135,95)\"],[0.8156862745098039,\"rgb(245,162,122)\"],[0.8784313725490196,\"rgb(246,188,153)\"],[0.9411764705882353,\"rgb(247,212,187)\"],[1.0,\"rgb(250,234,220)\"]],\"type\":\"heatmap\"}],\"histogram2dcontour\":[{\"colorbar\":{\"outlinewidth\":0,\"tickcolor\":\"rgb(36,36,36)\",\"ticklen\":8,\"ticks\":\"outside\",\"tickwidth\":2},\"colorscale\":[[0.0,\"rgb(2,4,25)\"],[0.06274509803921569,\"rgb(24,15,41)\"],[0.12549019607843137,\"rgb(47,23,57)\"],[0.18823529411764706,\"rgb(71,28,72)\"],[0.25098039215686274,\"rgb(97,30,82)\"],[0.3137254901960784,\"rgb(123,30,89)\"],[0.3764705882352941,\"rgb(150,27,91)\"],[0.4392156862745098,\"rgb(177,22,88)\"],[0.5019607843137255,\"rgb(203,26,79)\"],[0.5647058823529412,\"rgb(223,47,67)\"],[0.6274509803921569,\"rgb(236,76,61)\"],[0.6901960784313725,\"rgb(242,107,73)\"],[0.7529411764705882,\"rgb(244,135,95)\"],[0.8156862745098039,\"rgb(245,162,122)\"],[0.8784313725490196,\"rgb(246,188,153)\"],[0.9411764705882353,\"rgb(247,212,187)\"],[1.0,\"rgb(250,234,220)\"]],\"type\":\"histogram2dcontour\"}],\"histogram2d\":[{\"colorbar\":{\"outlinewidth\":0,\"tickcolor\":\"rgb(36,36,36)\",\"ticklen\":8,\"ticks\":\"outside\",\"tickwidth\":2},\"colorscale\":[[0.0,\"rgb(2,4,25)\"],[0.06274509803921569,\"rgb(24,15,41)\"],[0.12549019607843137,\"rgb(47,23,57)\"],[0.18823529411764706,\"rgb(71,28,72)\"],[0.25098039215686274,\"rgb(97,30,82)\"],[0.3137254901960784,\"rgb(123,30,89)\"],[0.3764705882352941,\"rgb(150,27,91)\"],[0.4392156862745098,\"rgb(177,22,88)\"],[0.5019607843137255,\"rgb(203,26,79)\"],[0.5647058823529412,\"rgb(223,47,67)\"],[0.6274509803921569,\"rgb(236,76,61)\"],[0.6901960784313725,\"rgb(242,107,73)\"],[0.7529411764705882,\"rgb(244,135,95)\"],[0.8156862745098039,\"rgb(245,162,122)\"],[0.8784313725490196,\"rgb(246,188,153)\"],[0.9411764705882353,\"rgb(247,212,187)\"],[1.0,\"rgb(250,234,220)\"]],\"type\":\"histogram2d\"}],\"histogram\":[{\"marker\":{\"pattern\":{\"fillmode\":\"overlay\",\"size\":10,\"solidity\":0.2}},\"type\":\"histogram\"}],\"mesh3d\":[{\"colorbar\":{\"outlinewidth\":0,\"tickcolor\":\"rgb(36,36,36)\",\"ticklen\":8,\"ticks\":\"outside\",\"tickwidth\":2},\"type\":\"mesh3d\"}],\"parcoords\":[{\"line\":{\"colorbar\":{\"outlinewidth\":0,\"tickcolor\":\"rgb(36,36,36)\",\"ticklen\":8,\"ticks\":\"outside\",\"tickwidth\":2}},\"type\":\"parcoords\"}],\"pie\":[{\"automargin\":true,\"type\":\"pie\"}],\"scatter3d\":[{\"line\":{\"colorbar\":{\"outlinewidth\":0,\"tickcolor\":\"rgb(36,36,36)\",\"ticklen\":8,\"ticks\":\"outside\",\"tickwidth\":2}},\"marker\":{\"colorbar\":{\"outlinewidth\":0,\"tickcolor\":\"rgb(36,36,36)\",\"ticklen\":8,\"ticks\":\"outside\",\"tickwidth\":2}},\"type\":\"scatter3d\"}],\"scattercarpet\":[{\"marker\":{\"colorbar\":{\"outlinewidth\":0,\"tickcolor\":\"rgb(36,36,36)\",\"ticklen\":8,\"ticks\":\"outside\",\"tickwidth\":2}},\"type\":\"scattercarpet\"}],\"scattergeo\":[{\"marker\":{\"colorbar\":{\"outlinewidth\":0,\"tickcolor\":\"rgb(36,36,36)\",\"ticklen\":8,\"ticks\":\"outside\",\"tickwidth\":2}},\"type\":\"scattergeo\"}],\"scattergl\":[{\"marker\":{\"colorbar\":{\"outlinewidth\":0,\"tickcolor\":\"rgb(36,36,36)\",\"ticklen\":8,\"ticks\":\"outside\",\"tickwidth\":2}},\"type\":\"scattergl\"}],\"scattermapbox\":[{\"marker\":{\"colorbar\":{\"outlinewidth\":0,\"tickcolor\":\"rgb(36,36,36)\",\"ticklen\":8,\"ticks\":\"outside\",\"tickwidth\":2}},\"type\":\"scattermapbox\"}],\"scatterpolargl\":[{\"marker\":{\"colorbar\":{\"outlinewidth\":0,\"tickcolor\":\"rgb(36,36,36)\",\"ticklen\":8,\"ticks\":\"outside\",\"tickwidth\":2}},\"type\":\"scatterpolargl\"}],\"scatterpolar\":[{\"marker\":{\"colorbar\":{\"outlinewidth\":0,\"tickcolor\":\"rgb(36,36,36)\",\"ticklen\":8,\"ticks\":\"outside\",\"tickwidth\":2}},\"type\":\"scatterpolar\"}],\"scatter\":[{\"marker\":{\"colorbar\":{\"outlinewidth\":0,\"tickcolor\":\"rgb(36,36,36)\",\"ticklen\":8,\"ticks\":\"outside\",\"tickwidth\":2}},\"type\":\"scatter\"}],\"scatterternary\":[{\"marker\":{\"colorbar\":{\"outlinewidth\":0,\"tickcolor\":\"rgb(36,36,36)\",\"ticklen\":8,\"ticks\":\"outside\",\"tickwidth\":2}},\"type\":\"scatterternary\"}],\"surface\":[{\"colorbar\":{\"outlinewidth\":0,\"tickcolor\":\"rgb(36,36,36)\",\"ticklen\":8,\"ticks\":\"outside\",\"tickwidth\":2},\"colorscale\":[[0.0,\"rgb(2,4,25)\"],[0.06274509803921569,\"rgb(24,15,41)\"],[0.12549019607843137,\"rgb(47,23,57)\"],[0.18823529411764706,\"rgb(71,28,72)\"],[0.25098039215686274,\"rgb(97,30,82)\"],[0.3137254901960784,\"rgb(123,30,89)\"],[0.3764705882352941,\"rgb(150,27,91)\"],[0.4392156862745098,\"rgb(177,22,88)\"],[0.5019607843137255,\"rgb(203,26,79)\"],[0.5647058823529412,\"rgb(223,47,67)\"],[0.6274509803921569,\"rgb(236,76,61)\"],[0.6901960784313725,\"rgb(242,107,73)\"],[0.7529411764705882,\"rgb(244,135,95)\"],[0.8156862745098039,\"rgb(245,162,122)\"],[0.8784313725490196,\"rgb(246,188,153)\"],[0.9411764705882353,\"rgb(247,212,187)\"],[1.0,\"rgb(250,234,220)\"]],\"type\":\"surface\"}],\"table\":[{\"cells\":{\"fill\":{\"color\":\"rgb(231,231,240)\"},\"line\":{\"color\":\"white\"}},\"header\":{\"fill\":{\"color\":\"rgb(183,183,191)\"},\"line\":{\"color\":\"white\"}},\"type\":\"table\"}]},\"layout\":{\"annotationdefaults\":{\"arrowcolor\":\"rgb(67,103,167)\"},\"autotypenumbers\":\"strict\",\"coloraxis\":{\"colorbar\":{\"outlinewidth\":0,\"tickcolor\":\"rgb(36,36,36)\",\"ticklen\":8,\"ticks\":\"outside\",\"tickwidth\":2}},\"colorscale\":{\"sequential\":[[0.0,\"rgb(2,4,25)\"],[0.06274509803921569,\"rgb(24,15,41)\"],[0.12549019607843137,\"rgb(47,23,57)\"],[0.18823529411764706,\"rgb(71,28,72)\"],[0.25098039215686274,\"rgb(97,30,82)\"],[0.3137254901960784,\"rgb(123,30,89)\"],[0.3764705882352941,\"rgb(150,27,91)\"],[0.4392156862745098,\"rgb(177,22,88)\"],[0.5019607843137255,\"rgb(203,26,79)\"],[0.5647058823529412,\"rgb(223,47,67)\"],[0.6274509803921569,\"rgb(236,76,61)\"],[0.6901960784313725,\"rgb(242,107,73)\"],[0.7529411764705882,\"rgb(244,135,95)\"],[0.8156862745098039,\"rgb(245,162,122)\"],[0.8784313725490196,\"rgb(246,188,153)\"],[0.9411764705882353,\"rgb(247,212,187)\"],[1.0,\"rgb(250,234,220)\"]],\"sequentialminus\":[[0.0,\"rgb(2,4,25)\"],[0.06274509803921569,\"rgb(24,15,41)\"],[0.12549019607843137,\"rgb(47,23,57)\"],[0.18823529411764706,\"rgb(71,28,72)\"],[0.25098039215686274,\"rgb(97,30,82)\"],[0.3137254901960784,\"rgb(123,30,89)\"],[0.3764705882352941,\"rgb(150,27,91)\"],[0.4392156862745098,\"rgb(177,22,88)\"],[0.5019607843137255,\"rgb(203,26,79)\"],[0.5647058823529412,\"rgb(223,47,67)\"],[0.6274509803921569,\"rgb(236,76,61)\"],[0.6901960784313725,\"rgb(242,107,73)\"],[0.7529411764705882,\"rgb(244,135,95)\"],[0.8156862745098039,\"rgb(245,162,122)\"],[0.8784313725490196,\"rgb(246,188,153)\"],[0.9411764705882353,\"rgb(247,212,187)\"],[1.0,\"rgb(250,234,220)\"]]},\"colorway\":[\"rgb(76,114,176)\",\"rgb(221,132,82)\",\"rgb(85,168,104)\",\"rgb(196,78,82)\",\"rgb(129,114,179)\",\"rgb(147,120,96)\",\"rgb(218,139,195)\",\"rgb(140,140,140)\",\"rgb(204,185,116)\",\"rgb(100,181,205)\"],\"font\":{\"color\":\"rgb(36,36,36)\"},\"geo\":{\"bgcolor\":\"white\",\"lakecolor\":\"white\",\"landcolor\":\"rgb(234,234,242)\",\"showlakes\":true,\"showland\":true,\"subunitcolor\":\"white\"},\"hoverlabel\":{\"align\":\"left\"},\"hovermode\":\"closest\",\"paper_bgcolor\":\"white\",\"plot_bgcolor\":\"rgb(234,234,242)\",\"polar\":{\"angularaxis\":{\"gridcolor\":\"white\",\"linecolor\":\"white\",\"showgrid\":true,\"ticks\":\"\"},\"bgcolor\":\"rgb(234,234,242)\",\"radialaxis\":{\"gridcolor\":\"white\",\"linecolor\":\"white\",\"showgrid\":true,\"ticks\":\"\"}},\"scene\":{\"xaxis\":{\"backgroundcolor\":\"rgb(234,234,242)\",\"gridcolor\":\"white\",\"gridwidth\":2,\"linecolor\":\"white\",\"showbackground\":true,\"showgrid\":true,\"ticks\":\"\",\"zerolinecolor\":\"white\"},\"yaxis\":{\"backgroundcolor\":\"rgb(234,234,242)\",\"gridcolor\":\"white\",\"gridwidth\":2,\"linecolor\":\"white\",\"showbackground\":true,\"showgrid\":true,\"ticks\":\"\",\"zerolinecolor\":\"white\"},\"zaxis\":{\"backgroundcolor\":\"rgb(234,234,242)\",\"gridcolor\":\"white\",\"gridwidth\":2,\"linecolor\":\"white\",\"showbackground\":true,\"showgrid\":true,\"ticks\":\"\",\"zerolinecolor\":\"white\"}},\"shapedefaults\":{\"fillcolor\":\"rgb(67,103,167)\",\"line\":{\"width\":0},\"opacity\":0.5},\"ternary\":{\"aaxis\":{\"gridcolor\":\"white\",\"linecolor\":\"white\",\"showgrid\":true,\"ticks\":\"\"},\"baxis\":{\"gridcolor\":\"white\",\"linecolor\":\"white\",\"showgrid\":true,\"ticks\":\"\"},\"bgcolor\":\"rgb(234,234,242)\",\"caxis\":{\"gridcolor\":\"white\",\"linecolor\":\"white\",\"showgrid\":true,\"ticks\":\"\"}},\"xaxis\":{\"automargin\":true,\"gridcolor\":\"white\",\"linecolor\":\"white\",\"showgrid\":true,\"ticks\":\"\",\"title\":{\"standoff\":15},\"zerolinecolor\":\"white\"},\"yaxis\":{\"automargin\":true,\"gridcolor\":\"white\",\"linecolor\":\"white\",\"showgrid\":true,\"ticks\":\"\",\"title\":{\"standoff\":15},\"zerolinecolor\":\"white\"}}},\"xaxis\":{\"anchor\":\"y\",\"domain\":[0.0,1.0],\"title\":{\"text\":\"status\"}},\"yaxis\":{\"anchor\":\"x\",\"domain\":[0.0,1.0],\"title\":{\"text\":\"projects\"}},\"legend\":{\"tracegroupgap\":0},\"margin\":{\"t\":60},\"barmode\":\"relative\"},                        {\"responsive\": true}                    ).then(function(){\n",
       "                            \n",
       "var gd = document.getElementById('fa6193df-fc44-4cfd-ba5b-9d44221a4acd');\n",
       "var x = new MutationObserver(function (mutations, observer) {{\n",
       "        var display = window.getComputedStyle(gd).display;\n",
       "        if (!display || display === 'none') {{\n",
       "            console.log([gd, 'removed!']);\n",
       "            Plotly.purge(gd);\n",
       "            observer.disconnect();\n",
       "        }}\n",
       "}});\n",
       "\n",
       "// Listen for the removal of the full notebook cells\n",
       "var notebookContainer = gd.closest('#notebook-container');\n",
       "if (notebookContainer) {{\n",
       "    x.observe(notebookContainer, {childList: true});\n",
       "}}\n",
       "\n",
       "// Listen for the clearing of the current output cell\n",
       "var outputEl = gd.closest('.output');\n",
       "if (outputEl) {{\n",
       "    x.observe(outputEl, {childList: true});\n",
       "}}\n",
       "\n",
       "                        })                };                });            </script>        </div>"
      ]
     },
     "metadata": {},
     "output_type": "display_data"
    }
   ],
   "source": [
    "fig = px.bar(status, x='status', y='projects', text_auto='.', template=\"seaborn\")\n",
    "fig.show()"
   ]
  },
  {
   "cell_type": "code",
   "execution_count": 308,
   "id": "bbdb7cd3",
   "metadata": {},
   "outputs": [
    {
     "data": {
      "application/vnd.plotly.v1+json": {
       "config": {
        "plotlyServerURL": "https://plot.ly"
       },
       "data": [
        {
         "coloraxis": "coloraxis",
         "hovertemplate": "year: %{x}<br>area2: %{y}<br>color: %{z}<extra></extra>",
         "name": "0",
         "texttemplate": "%{z}",
         "type": "heatmap",
         "x": [
          2019,
          2020,
          2021
         ],
         "xaxis": "x",
         "y": [
          "Fabryczna",
          "Fabryczna/Krzyki",
          "Fabryczna/Stare miasto",
          "Fabryczna/Stare miasto/Śródmieście",
          "Inne",
          "Krzyki",
          "Krzyki/Stare miasto",
          "Krzyki/Stare miasto/Śródmieście",
          "Psie pole",
          "Psie pole/Śródmieście",
          "Stare miasto",
          "Śródmieście"
         ],
         "yaxis": "y",
         "z": [
          [
           82,
           96,
           84
          ],
          [
           11,
           4,
           4
          ],
          [
           0,
           0,
           1
          ],
          [
           1,
           0,
           0
          ],
          [
           1,
           2,
           1
          ],
          [
           67,
           51,
           50
          ],
          [
           1,
           0,
           0
          ],
          [
           0,
           1,
           0
          ],
          [
           44,
           44,
           39
          ],
          [
           0,
           1,
           0
          ],
          [
           21,
           12,
           13
          ],
          [
           32,
           29,
           29
          ]
         ]
        }
       ],
       "layout": {
        "coloraxis": {
         "colorscale": [
          [
           0,
           "#440154"
          ],
          [
           0.1111111111111111,
           "#482878"
          ],
          [
           0.2222222222222222,
           "#3e4989"
          ],
          [
           0.3333333333333333,
           "#31688e"
          ],
          [
           0.4444444444444444,
           "#26828e"
          ],
          [
           0.5555555555555556,
           "#1f9e89"
          ],
          [
           0.6666666666666666,
           "#35b779"
          ],
          [
           0.7777777777777778,
           "#6ece58"
          ],
          [
           0.8888888888888888,
           "#b5de2b"
          ],
          [
           1,
           "#fde725"
          ]
         ]
        },
        "height": 600,
        "margin": {
         "t": 60
        },
        "template": {
         "data": {
          "bar": [
           {
            "error_x": {
             "color": "#2a3f5f"
            },
            "error_y": {
             "color": "#2a3f5f"
            },
            "marker": {
             "line": {
              "color": "#E5ECF6",
              "width": 0.5
             },
             "pattern": {
              "fillmode": "overlay",
              "size": 10,
              "solidity": 0.2
             }
            },
            "type": "bar"
           }
          ],
          "barpolar": [
           {
            "marker": {
             "line": {
              "color": "#E5ECF6",
              "width": 0.5
             },
             "pattern": {
              "fillmode": "overlay",
              "size": 10,
              "solidity": 0.2
             }
            },
            "type": "barpolar"
           }
          ],
          "carpet": [
           {
            "aaxis": {
             "endlinecolor": "#2a3f5f",
             "gridcolor": "white",
             "linecolor": "white",
             "minorgridcolor": "white",
             "startlinecolor": "#2a3f5f"
            },
            "baxis": {
             "endlinecolor": "#2a3f5f",
             "gridcolor": "white",
             "linecolor": "white",
             "minorgridcolor": "white",
             "startlinecolor": "#2a3f5f"
            },
            "type": "carpet"
           }
          ],
          "choropleth": [
           {
            "colorbar": {
             "outlinewidth": 0,
             "ticks": ""
            },
            "type": "choropleth"
           }
          ],
          "contour": [
           {
            "colorbar": {
             "outlinewidth": 0,
             "ticks": ""
            },
            "colorscale": [
             [
              0,
              "#0d0887"
             ],
             [
              0.1111111111111111,
              "#46039f"
             ],
             [
              0.2222222222222222,
              "#7201a8"
             ],
             [
              0.3333333333333333,
              "#9c179e"
             ],
             [
              0.4444444444444444,
              "#bd3786"
             ],
             [
              0.5555555555555556,
              "#d8576b"
             ],
             [
              0.6666666666666666,
              "#ed7953"
             ],
             [
              0.7777777777777778,
              "#fb9f3a"
             ],
             [
              0.8888888888888888,
              "#fdca26"
             ],
             [
              1,
              "#f0f921"
             ]
            ],
            "type": "contour"
           }
          ],
          "contourcarpet": [
           {
            "colorbar": {
             "outlinewidth": 0,
             "ticks": ""
            },
            "type": "contourcarpet"
           }
          ],
          "heatmap": [
           {
            "colorbar": {
             "outlinewidth": 0,
             "ticks": ""
            },
            "colorscale": [
             [
              0,
              "#0d0887"
             ],
             [
              0.1111111111111111,
              "#46039f"
             ],
             [
              0.2222222222222222,
              "#7201a8"
             ],
             [
              0.3333333333333333,
              "#9c179e"
             ],
             [
              0.4444444444444444,
              "#bd3786"
             ],
             [
              0.5555555555555556,
              "#d8576b"
             ],
             [
              0.6666666666666666,
              "#ed7953"
             ],
             [
              0.7777777777777778,
              "#fb9f3a"
             ],
             [
              0.8888888888888888,
              "#fdca26"
             ],
             [
              1,
              "#f0f921"
             ]
            ],
            "type": "heatmap"
           }
          ],
          "heatmapgl": [
           {
            "colorbar": {
             "outlinewidth": 0,
             "ticks": ""
            },
            "colorscale": [
             [
              0,
              "#0d0887"
             ],
             [
              0.1111111111111111,
              "#46039f"
             ],
             [
              0.2222222222222222,
              "#7201a8"
             ],
             [
              0.3333333333333333,
              "#9c179e"
             ],
             [
              0.4444444444444444,
              "#bd3786"
             ],
             [
              0.5555555555555556,
              "#d8576b"
             ],
             [
              0.6666666666666666,
              "#ed7953"
             ],
             [
              0.7777777777777778,
              "#fb9f3a"
             ],
             [
              0.8888888888888888,
              "#fdca26"
             ],
             [
              1,
              "#f0f921"
             ]
            ],
            "type": "heatmapgl"
           }
          ],
          "histogram": [
           {
            "marker": {
             "pattern": {
              "fillmode": "overlay",
              "size": 10,
              "solidity": 0.2
             }
            },
            "type": "histogram"
           }
          ],
          "histogram2d": [
           {
            "colorbar": {
             "outlinewidth": 0,
             "ticks": ""
            },
            "colorscale": [
             [
              0,
              "#0d0887"
             ],
             [
              0.1111111111111111,
              "#46039f"
             ],
             [
              0.2222222222222222,
              "#7201a8"
             ],
             [
              0.3333333333333333,
              "#9c179e"
             ],
             [
              0.4444444444444444,
              "#bd3786"
             ],
             [
              0.5555555555555556,
              "#d8576b"
             ],
             [
              0.6666666666666666,
              "#ed7953"
             ],
             [
              0.7777777777777778,
              "#fb9f3a"
             ],
             [
              0.8888888888888888,
              "#fdca26"
             ],
             [
              1,
              "#f0f921"
             ]
            ],
            "type": "histogram2d"
           }
          ],
          "histogram2dcontour": [
           {
            "colorbar": {
             "outlinewidth": 0,
             "ticks": ""
            },
            "colorscale": [
             [
              0,
              "#0d0887"
             ],
             [
              0.1111111111111111,
              "#46039f"
             ],
             [
              0.2222222222222222,
              "#7201a8"
             ],
             [
              0.3333333333333333,
              "#9c179e"
             ],
             [
              0.4444444444444444,
              "#bd3786"
             ],
             [
              0.5555555555555556,
              "#d8576b"
             ],
             [
              0.6666666666666666,
              "#ed7953"
             ],
             [
              0.7777777777777778,
              "#fb9f3a"
             ],
             [
              0.8888888888888888,
              "#fdca26"
             ],
             [
              1,
              "#f0f921"
             ]
            ],
            "type": "histogram2dcontour"
           }
          ],
          "mesh3d": [
           {
            "colorbar": {
             "outlinewidth": 0,
             "ticks": ""
            },
            "type": "mesh3d"
           }
          ],
          "parcoords": [
           {
            "line": {
             "colorbar": {
              "outlinewidth": 0,
              "ticks": ""
             }
            },
            "type": "parcoords"
           }
          ],
          "pie": [
           {
            "automargin": true,
            "type": "pie"
           }
          ],
          "scatter": [
           {
            "marker": {
             "colorbar": {
              "outlinewidth": 0,
              "ticks": ""
             }
            },
            "type": "scatter"
           }
          ],
          "scatter3d": [
           {
            "line": {
             "colorbar": {
              "outlinewidth": 0,
              "ticks": ""
             }
            },
            "marker": {
             "colorbar": {
              "outlinewidth": 0,
              "ticks": ""
             }
            },
            "type": "scatter3d"
           }
          ],
          "scattercarpet": [
           {
            "marker": {
             "colorbar": {
              "outlinewidth": 0,
              "ticks": ""
             }
            },
            "type": "scattercarpet"
           }
          ],
          "scattergeo": [
           {
            "marker": {
             "colorbar": {
              "outlinewidth": 0,
              "ticks": ""
             }
            },
            "type": "scattergeo"
           }
          ],
          "scattergl": [
           {
            "marker": {
             "colorbar": {
              "outlinewidth": 0,
              "ticks": ""
             }
            },
            "type": "scattergl"
           }
          ],
          "scattermapbox": [
           {
            "marker": {
             "colorbar": {
              "outlinewidth": 0,
              "ticks": ""
             }
            },
            "type": "scattermapbox"
           }
          ],
          "scatterpolar": [
           {
            "marker": {
             "colorbar": {
              "outlinewidth": 0,
              "ticks": ""
             }
            },
            "type": "scatterpolar"
           }
          ],
          "scatterpolargl": [
           {
            "marker": {
             "colorbar": {
              "outlinewidth": 0,
              "ticks": ""
             }
            },
            "type": "scatterpolargl"
           }
          ],
          "scatterternary": [
           {
            "marker": {
             "colorbar": {
              "outlinewidth": 0,
              "ticks": ""
             }
            },
            "type": "scatterternary"
           }
          ],
          "surface": [
           {
            "colorbar": {
             "outlinewidth": 0,
             "ticks": ""
            },
            "colorscale": [
             [
              0,
              "#0d0887"
             ],
             [
              0.1111111111111111,
              "#46039f"
             ],
             [
              0.2222222222222222,
              "#7201a8"
             ],
             [
              0.3333333333333333,
              "#9c179e"
             ],
             [
              0.4444444444444444,
              "#bd3786"
             ],
             [
              0.5555555555555556,
              "#d8576b"
             ],
             [
              0.6666666666666666,
              "#ed7953"
             ],
             [
              0.7777777777777778,
              "#fb9f3a"
             ],
             [
              0.8888888888888888,
              "#fdca26"
             ],
             [
              1,
              "#f0f921"
             ]
            ],
            "type": "surface"
           }
          ],
          "table": [
           {
            "cells": {
             "fill": {
              "color": "#EBF0F8"
             },
             "line": {
              "color": "white"
             }
            },
            "header": {
             "fill": {
              "color": "#C8D4E3"
             },
             "line": {
              "color": "white"
             }
            },
            "type": "table"
           }
          ]
         },
         "layout": {
          "annotationdefaults": {
           "arrowcolor": "#2a3f5f",
           "arrowhead": 0,
           "arrowwidth": 1
          },
          "autotypenumbers": "strict",
          "coloraxis": {
           "colorbar": {
            "outlinewidth": 0,
            "ticks": ""
           }
          },
          "colorscale": {
           "diverging": [
            [
             0,
             "#8e0152"
            ],
            [
             0.1,
             "#c51b7d"
            ],
            [
             0.2,
             "#de77ae"
            ],
            [
             0.3,
             "#f1b6da"
            ],
            [
             0.4,
             "#fde0ef"
            ],
            [
             0.5,
             "#f7f7f7"
            ],
            [
             0.6,
             "#e6f5d0"
            ],
            [
             0.7,
             "#b8e186"
            ],
            [
             0.8,
             "#7fbc41"
            ],
            [
             0.9,
             "#4d9221"
            ],
            [
             1,
             "#276419"
            ]
           ],
           "sequential": [
            [
             0,
             "#0d0887"
            ],
            [
             0.1111111111111111,
             "#46039f"
            ],
            [
             0.2222222222222222,
             "#7201a8"
            ],
            [
             0.3333333333333333,
             "#9c179e"
            ],
            [
             0.4444444444444444,
             "#bd3786"
            ],
            [
             0.5555555555555556,
             "#d8576b"
            ],
            [
             0.6666666666666666,
             "#ed7953"
            ],
            [
             0.7777777777777778,
             "#fb9f3a"
            ],
            [
             0.8888888888888888,
             "#fdca26"
            ],
            [
             1,
             "#f0f921"
            ]
           ],
           "sequentialminus": [
            [
             0,
             "#0d0887"
            ],
            [
             0.1111111111111111,
             "#46039f"
            ],
            [
             0.2222222222222222,
             "#7201a8"
            ],
            [
             0.3333333333333333,
             "#9c179e"
            ],
            [
             0.4444444444444444,
             "#bd3786"
            ],
            [
             0.5555555555555556,
             "#d8576b"
            ],
            [
             0.6666666666666666,
             "#ed7953"
            ],
            [
             0.7777777777777778,
             "#fb9f3a"
            ],
            [
             0.8888888888888888,
             "#fdca26"
            ],
            [
             1,
             "#f0f921"
            ]
           ]
          },
          "colorway": [
           "#636efa",
           "#EF553B",
           "#00cc96",
           "#ab63fa",
           "#FFA15A",
           "#19d3f3",
           "#FF6692",
           "#B6E880",
           "#FF97FF",
           "#FECB52"
          ],
          "font": {
           "color": "#2a3f5f"
          },
          "geo": {
           "bgcolor": "white",
           "lakecolor": "white",
           "landcolor": "#E5ECF6",
           "showlakes": true,
           "showland": true,
           "subunitcolor": "white"
          },
          "hoverlabel": {
           "align": "left"
          },
          "hovermode": "closest",
          "mapbox": {
           "style": "light"
          },
          "paper_bgcolor": "white",
          "plot_bgcolor": "#E5ECF6",
          "polar": {
           "angularaxis": {
            "gridcolor": "white",
            "linecolor": "white",
            "ticks": ""
           },
           "bgcolor": "#E5ECF6",
           "radialaxis": {
            "gridcolor": "white",
            "linecolor": "white",
            "ticks": ""
           }
          },
          "scene": {
           "xaxis": {
            "backgroundcolor": "#E5ECF6",
            "gridcolor": "white",
            "gridwidth": 2,
            "linecolor": "white",
            "showbackground": true,
            "ticks": "",
            "zerolinecolor": "white"
           },
           "yaxis": {
            "backgroundcolor": "#E5ECF6",
            "gridcolor": "white",
            "gridwidth": 2,
            "linecolor": "white",
            "showbackground": true,
            "ticks": "",
            "zerolinecolor": "white"
           },
           "zaxis": {
            "backgroundcolor": "#E5ECF6",
            "gridcolor": "white",
            "gridwidth": 2,
            "linecolor": "white",
            "showbackground": true,
            "ticks": "",
            "zerolinecolor": "white"
           }
          },
          "shapedefaults": {
           "line": {
            "color": "#2a3f5f"
           }
          },
          "ternary": {
           "aaxis": {
            "gridcolor": "white",
            "linecolor": "white",
            "ticks": ""
           },
           "baxis": {
            "gridcolor": "white",
            "linecolor": "white",
            "ticks": ""
           },
           "bgcolor": "#E5ECF6",
           "caxis": {
            "gridcolor": "white",
            "linecolor": "white",
            "ticks": ""
           }
          },
          "title": {
           "x": 0.05
          },
          "xaxis": {
           "automargin": true,
           "gridcolor": "white",
           "linecolor": "white",
           "ticks": "",
           "title": {
            "standoff": 15
           },
           "zerolinecolor": "white",
           "zerolinewidth": 2
          },
          "yaxis": {
           "automargin": true,
           "gridcolor": "white",
           "linecolor": "white",
           "ticks": "",
           "title": {
            "standoff": 15
           },
           "zerolinecolor": "white",
           "zerolinewidth": 2
          }
         }
        },
        "title": {
         "text": "Występowanie poszczególnych grup projektów w latach 2016-2021"
        },
        "xaxis": {
         "anchor": "y",
         "constrain": "domain",
         "domain": [
          0,
          1
         ],
         "scaleanchor": "y",
         "title": {
          "text": "year"
         }
        },
        "yaxis": {
         "anchor": "x",
         "autorange": "reversed",
         "constrain": "domain",
         "domain": [
          0,
          1
         ],
         "title": {
          "text": "area2"
         }
        }
       }
      },
      "text/html": [
       "<div>                            <div id=\"f17ebde9-0b7a-4281-bfce-22e6754d797e\" class=\"plotly-graph-div\" style=\"height:600px; width:100%;\"></div>            <script type=\"text/javascript\">                require([\"plotly\"], function(Plotly) {                    window.PLOTLYENV=window.PLOTLYENV || {};                                    if (document.getElementById(\"f17ebde9-0b7a-4281-bfce-22e6754d797e\")) {                    Plotly.newPlot(                        \"f17ebde9-0b7a-4281-bfce-22e6754d797e\",                        [{\"coloraxis\":\"coloraxis\",\"name\":\"0\",\"texttemplate\":\"%{z}\",\"x\":[2019,2020,2021],\"y\":[\"Fabryczna\",\"Fabryczna/Krzyki\",\"Fabryczna/Stare miasto\",\"Fabryczna/Stare miasto/\\u015ar\\u00f3dmie\\u015bcie\",\"Inne\",\"Krzyki\",\"Krzyki/Stare miasto\",\"Krzyki/Stare miasto/\\u015ar\\u00f3dmie\\u015bcie\",\"Psie pole\",\"Psie pole/\\u015ar\\u00f3dmie\\u015bcie\",\"Stare miasto\",\"\\u015ar\\u00f3dmie\\u015bcie\"],\"z\":[[82.0,96.0,84.0],[11.0,4.0,4.0],[0.0,0.0,1.0],[1.0,0.0,0.0],[1.0,2.0,1.0],[67.0,51.0,50.0],[1.0,0.0,0.0],[0.0,1.0,0.0],[44.0,44.0,39.0],[0.0,1.0,0.0],[21.0,12.0,13.0],[32.0,29.0,29.0]],\"type\":\"heatmap\",\"xaxis\":\"x\",\"yaxis\":\"y\",\"hovertemplate\":\"year: %{x}<br>area2: %{y}<br>color: %{z}<extra></extra>\"}],                        {\"template\":{\"data\":{\"bar\":[{\"error_x\":{\"color\":\"#2a3f5f\"},\"error_y\":{\"color\":\"#2a3f5f\"},\"marker\":{\"line\":{\"color\":\"#E5ECF6\",\"width\":0.5},\"pattern\":{\"fillmode\":\"overlay\",\"size\":10,\"solidity\":0.2}},\"type\":\"bar\"}],\"barpolar\":[{\"marker\":{\"line\":{\"color\":\"#E5ECF6\",\"width\":0.5},\"pattern\":{\"fillmode\":\"overlay\",\"size\":10,\"solidity\":0.2}},\"type\":\"barpolar\"}],\"carpet\":[{\"aaxis\":{\"endlinecolor\":\"#2a3f5f\",\"gridcolor\":\"white\",\"linecolor\":\"white\",\"minorgridcolor\":\"white\",\"startlinecolor\":\"#2a3f5f\"},\"baxis\":{\"endlinecolor\":\"#2a3f5f\",\"gridcolor\":\"white\",\"linecolor\":\"white\",\"minorgridcolor\":\"white\",\"startlinecolor\":\"#2a3f5f\"},\"type\":\"carpet\"}],\"choropleth\":[{\"colorbar\":{\"outlinewidth\":0,\"ticks\":\"\"},\"type\":\"choropleth\"}],\"contour\":[{\"colorbar\":{\"outlinewidth\":0,\"ticks\":\"\"},\"colorscale\":[[0.0,\"#0d0887\"],[0.1111111111111111,\"#46039f\"],[0.2222222222222222,\"#7201a8\"],[0.3333333333333333,\"#9c179e\"],[0.4444444444444444,\"#bd3786\"],[0.5555555555555556,\"#d8576b\"],[0.6666666666666666,\"#ed7953\"],[0.7777777777777778,\"#fb9f3a\"],[0.8888888888888888,\"#fdca26\"],[1.0,\"#f0f921\"]],\"type\":\"contour\"}],\"contourcarpet\":[{\"colorbar\":{\"outlinewidth\":0,\"ticks\":\"\"},\"type\":\"contourcarpet\"}],\"heatmap\":[{\"colorbar\":{\"outlinewidth\":0,\"ticks\":\"\"},\"colorscale\":[[0.0,\"#0d0887\"],[0.1111111111111111,\"#46039f\"],[0.2222222222222222,\"#7201a8\"],[0.3333333333333333,\"#9c179e\"],[0.4444444444444444,\"#bd3786\"],[0.5555555555555556,\"#d8576b\"],[0.6666666666666666,\"#ed7953\"],[0.7777777777777778,\"#fb9f3a\"],[0.8888888888888888,\"#fdca26\"],[1.0,\"#f0f921\"]],\"type\":\"heatmap\"}],\"heatmapgl\":[{\"colorbar\":{\"outlinewidth\":0,\"ticks\":\"\"},\"colorscale\":[[0.0,\"#0d0887\"],[0.1111111111111111,\"#46039f\"],[0.2222222222222222,\"#7201a8\"],[0.3333333333333333,\"#9c179e\"],[0.4444444444444444,\"#bd3786\"],[0.5555555555555556,\"#d8576b\"],[0.6666666666666666,\"#ed7953\"],[0.7777777777777778,\"#fb9f3a\"],[0.8888888888888888,\"#fdca26\"],[1.0,\"#f0f921\"]],\"type\":\"heatmapgl\"}],\"histogram\":[{\"marker\":{\"pattern\":{\"fillmode\":\"overlay\",\"size\":10,\"solidity\":0.2}},\"type\":\"histogram\"}],\"histogram2d\":[{\"colorbar\":{\"outlinewidth\":0,\"ticks\":\"\"},\"colorscale\":[[0.0,\"#0d0887\"],[0.1111111111111111,\"#46039f\"],[0.2222222222222222,\"#7201a8\"],[0.3333333333333333,\"#9c179e\"],[0.4444444444444444,\"#bd3786\"],[0.5555555555555556,\"#d8576b\"],[0.6666666666666666,\"#ed7953\"],[0.7777777777777778,\"#fb9f3a\"],[0.8888888888888888,\"#fdca26\"],[1.0,\"#f0f921\"]],\"type\":\"histogram2d\"}],\"histogram2dcontour\":[{\"colorbar\":{\"outlinewidth\":0,\"ticks\":\"\"},\"colorscale\":[[0.0,\"#0d0887\"],[0.1111111111111111,\"#46039f\"],[0.2222222222222222,\"#7201a8\"],[0.3333333333333333,\"#9c179e\"],[0.4444444444444444,\"#bd3786\"],[0.5555555555555556,\"#d8576b\"],[0.6666666666666666,\"#ed7953\"],[0.7777777777777778,\"#fb9f3a\"],[0.8888888888888888,\"#fdca26\"],[1.0,\"#f0f921\"]],\"type\":\"histogram2dcontour\"}],\"mesh3d\":[{\"colorbar\":{\"outlinewidth\":0,\"ticks\":\"\"},\"type\":\"mesh3d\"}],\"parcoords\":[{\"line\":{\"colorbar\":{\"outlinewidth\":0,\"ticks\":\"\"}},\"type\":\"parcoords\"}],\"pie\":[{\"automargin\":true,\"type\":\"pie\"}],\"scatter\":[{\"marker\":{\"colorbar\":{\"outlinewidth\":0,\"ticks\":\"\"}},\"type\":\"scatter\"}],\"scatter3d\":[{\"line\":{\"colorbar\":{\"outlinewidth\":0,\"ticks\":\"\"}},\"marker\":{\"colorbar\":{\"outlinewidth\":0,\"ticks\":\"\"}},\"type\":\"scatter3d\"}],\"scattercarpet\":[{\"marker\":{\"colorbar\":{\"outlinewidth\":0,\"ticks\":\"\"}},\"type\":\"scattercarpet\"}],\"scattergeo\":[{\"marker\":{\"colorbar\":{\"outlinewidth\":0,\"ticks\":\"\"}},\"type\":\"scattergeo\"}],\"scattergl\":[{\"marker\":{\"colorbar\":{\"outlinewidth\":0,\"ticks\":\"\"}},\"type\":\"scattergl\"}],\"scattermapbox\":[{\"marker\":{\"colorbar\":{\"outlinewidth\":0,\"ticks\":\"\"}},\"type\":\"scattermapbox\"}],\"scatterpolar\":[{\"marker\":{\"colorbar\":{\"outlinewidth\":0,\"ticks\":\"\"}},\"type\":\"scatterpolar\"}],\"scatterpolargl\":[{\"marker\":{\"colorbar\":{\"outlinewidth\":0,\"ticks\":\"\"}},\"type\":\"scatterpolargl\"}],\"scatterternary\":[{\"marker\":{\"colorbar\":{\"outlinewidth\":0,\"ticks\":\"\"}},\"type\":\"scatterternary\"}],\"surface\":[{\"colorbar\":{\"outlinewidth\":0,\"ticks\":\"\"},\"colorscale\":[[0.0,\"#0d0887\"],[0.1111111111111111,\"#46039f\"],[0.2222222222222222,\"#7201a8\"],[0.3333333333333333,\"#9c179e\"],[0.4444444444444444,\"#bd3786\"],[0.5555555555555556,\"#d8576b\"],[0.6666666666666666,\"#ed7953\"],[0.7777777777777778,\"#fb9f3a\"],[0.8888888888888888,\"#fdca26\"],[1.0,\"#f0f921\"]],\"type\":\"surface\"}],\"table\":[{\"cells\":{\"fill\":{\"color\":\"#EBF0F8\"},\"line\":{\"color\":\"white\"}},\"header\":{\"fill\":{\"color\":\"#C8D4E3\"},\"line\":{\"color\":\"white\"}},\"type\":\"table\"}]},\"layout\":{\"annotationdefaults\":{\"arrowcolor\":\"#2a3f5f\",\"arrowhead\":0,\"arrowwidth\":1},\"autotypenumbers\":\"strict\",\"coloraxis\":{\"colorbar\":{\"outlinewidth\":0,\"ticks\":\"\"}},\"colorscale\":{\"diverging\":[[0,\"#8e0152\"],[0.1,\"#c51b7d\"],[0.2,\"#de77ae\"],[0.3,\"#f1b6da\"],[0.4,\"#fde0ef\"],[0.5,\"#f7f7f7\"],[0.6,\"#e6f5d0\"],[0.7,\"#b8e186\"],[0.8,\"#7fbc41\"],[0.9,\"#4d9221\"],[1,\"#276419\"]],\"sequential\":[[0.0,\"#0d0887\"],[0.1111111111111111,\"#46039f\"],[0.2222222222222222,\"#7201a8\"],[0.3333333333333333,\"#9c179e\"],[0.4444444444444444,\"#bd3786\"],[0.5555555555555556,\"#d8576b\"],[0.6666666666666666,\"#ed7953\"],[0.7777777777777778,\"#fb9f3a\"],[0.8888888888888888,\"#fdca26\"],[1.0,\"#f0f921\"]],\"sequentialminus\":[[0.0,\"#0d0887\"],[0.1111111111111111,\"#46039f\"],[0.2222222222222222,\"#7201a8\"],[0.3333333333333333,\"#9c179e\"],[0.4444444444444444,\"#bd3786\"],[0.5555555555555556,\"#d8576b\"],[0.6666666666666666,\"#ed7953\"],[0.7777777777777778,\"#fb9f3a\"],[0.8888888888888888,\"#fdca26\"],[1.0,\"#f0f921\"]]},\"colorway\":[\"#636efa\",\"#EF553B\",\"#00cc96\",\"#ab63fa\",\"#FFA15A\",\"#19d3f3\",\"#FF6692\",\"#B6E880\",\"#FF97FF\",\"#FECB52\"],\"font\":{\"color\":\"#2a3f5f\"},\"geo\":{\"bgcolor\":\"white\",\"lakecolor\":\"white\",\"landcolor\":\"#E5ECF6\",\"showlakes\":true,\"showland\":true,\"subunitcolor\":\"white\"},\"hoverlabel\":{\"align\":\"left\"},\"hovermode\":\"closest\",\"mapbox\":{\"style\":\"light\"},\"paper_bgcolor\":\"white\",\"plot_bgcolor\":\"#E5ECF6\",\"polar\":{\"angularaxis\":{\"gridcolor\":\"white\",\"linecolor\":\"white\",\"ticks\":\"\"},\"bgcolor\":\"#E5ECF6\",\"radialaxis\":{\"gridcolor\":\"white\",\"linecolor\":\"white\",\"ticks\":\"\"}},\"scene\":{\"xaxis\":{\"backgroundcolor\":\"#E5ECF6\",\"gridcolor\":\"white\",\"gridwidth\":2,\"linecolor\":\"white\",\"showbackground\":true,\"ticks\":\"\",\"zerolinecolor\":\"white\"},\"yaxis\":{\"backgroundcolor\":\"#E5ECF6\",\"gridcolor\":\"white\",\"gridwidth\":2,\"linecolor\":\"white\",\"showbackground\":true,\"ticks\":\"\",\"zerolinecolor\":\"white\"},\"zaxis\":{\"backgroundcolor\":\"#E5ECF6\",\"gridcolor\":\"white\",\"gridwidth\":2,\"linecolor\":\"white\",\"showbackground\":true,\"ticks\":\"\",\"zerolinecolor\":\"white\"}},\"shapedefaults\":{\"line\":{\"color\":\"#2a3f5f\"}},\"ternary\":{\"aaxis\":{\"gridcolor\":\"white\",\"linecolor\":\"white\",\"ticks\":\"\"},\"baxis\":{\"gridcolor\":\"white\",\"linecolor\":\"white\",\"ticks\":\"\"},\"bgcolor\":\"#E5ECF6\",\"caxis\":{\"gridcolor\":\"white\",\"linecolor\":\"white\",\"ticks\":\"\"}},\"title\":{\"x\":0.05},\"xaxis\":{\"automargin\":true,\"gridcolor\":\"white\",\"linecolor\":\"white\",\"ticks\":\"\",\"title\":{\"standoff\":15},\"zerolinecolor\":\"white\",\"zerolinewidth\":2},\"yaxis\":{\"automargin\":true,\"gridcolor\":\"white\",\"linecolor\":\"white\",\"ticks\":\"\",\"title\":{\"standoff\":15},\"zerolinecolor\":\"white\",\"zerolinewidth\":2}}},\"xaxis\":{\"anchor\":\"y\",\"domain\":[0.0,1.0],\"scaleanchor\":\"y\",\"constrain\":\"domain\",\"title\":{\"text\":\"year\"}},\"yaxis\":{\"anchor\":\"x\",\"domain\":[0.0,1.0],\"autorange\":\"reversed\",\"constrain\":\"domain\",\"title\":{\"text\":\"area2\"}},\"coloraxis\":{\"colorscale\":[[0.0,\"#440154\"],[0.1111111111111111,\"#482878\"],[0.2222222222222222,\"#3e4989\"],[0.3333333333333333,\"#31688e\"],[0.4444444444444444,\"#26828e\"],[0.5555555555555556,\"#1f9e89\"],[0.6666666666666666,\"#35b779\"],[0.7777777777777778,\"#6ece58\"],[0.8888888888888888,\"#b5de2b\"],[1.0,\"#fde725\"]]},\"margin\":{\"t\":60},\"height\":600,\"title\":{\"text\":\"Wyst\\u0119powanie poszczeg\\u00f3lnych grup projekt\\u00f3w w latach 2016-2021\"}},                        {\"responsive\": true}                    ).then(function(){\n",
       "                            \n",
       "var gd = document.getElementById('f17ebde9-0b7a-4281-bfce-22e6754d797e');\n",
       "var x = new MutationObserver(function (mutations, observer) {{\n",
       "        var display = window.getComputedStyle(gd).display;\n",
       "        if (!display || display === 'none') {{\n",
       "            console.log([gd, 'removed!']);\n",
       "            Plotly.purge(gd);\n",
       "            observer.disconnect();\n",
       "        }}\n",
       "}});\n",
       "\n",
       "// Listen for the removal of the full notebook cells\n",
       "var notebookContainer = gd.closest('#notebook-container');\n",
       "if (notebookContainer) {{\n",
       "    x.observe(notebookContainer, {childList: true});\n",
       "}}\n",
       "\n",
       "// Listen for the clearing of the current output cell\n",
       "var outputEl = gd.closest('.output');\n",
       "if (outputEl) {{\n",
       "    x.observe(outputEl, {childList: true});\n",
       "}}\n",
       "\n",
       "                        })                };                });            </script>        </div>"
      ]
     },
     "metadata": {},
     "output_type": "display_data"
    }
   ],
   "source": [
    "t = df[df['scope'] == 'Projekt osiedlowy'].groupby(['year', 'area2']).agg({'id': 'count'}).reset_index().pivot_table(columns='year', index='area2')\n",
    "t.columns = t.columns.droplevel(0)\n",
    "t.fillna(0, inplace=True)\n",
    "\n",
    "fig = px.imshow(t, text_auto=True, color_continuous_scale=px.colors.sequential.Viridis, height=600)\n",
    "fig.update_layout(title='Występowanie poszczególnych grup projektów w latach 2016-2021')\n",
    "fig.show()"
   ]
  },
  {
   "cell_type": "code",
   "execution_count": 297,
   "id": "0494e1e4",
   "metadata": {},
   "outputs": [
    {
     "data": {
      "text/html": [
       "<div>\n",
       "<style scoped>\n",
       "    .dataframe tbody tr th:only-of-type {\n",
       "        vertical-align: middle;\n",
       "    }\n",
       "\n",
       "    .dataframe tbody tr th {\n",
       "        vertical-align: top;\n",
       "    }\n",
       "\n",
       "    .dataframe thead th {\n",
       "        text-align: right;\n",
       "    }\n",
       "</style>\n",
       "<table border=\"1\" class=\"dataframe\">\n",
       "  <thead>\n",
       "    <tr style=\"text-align: right;\">\n",
       "      <th></th>\n",
       "      <th>id</th>\n",
       "      <th>year</th>\n",
       "      <th>name</th>\n",
       "      <th>scope</th>\n",
       "      <th>category</th>\n",
       "      <th>area</th>\n",
       "      <th>location</th>\n",
       "      <th>budget</th>\n",
       "      <th>status</th>\n",
       "      <th>votes</th>\n",
       "      <th>area2</th>\n",
       "    </tr>\n",
       "  </thead>\n",
       "  <tbody>\n",
       "    <tr>\n",
       "      <th>6</th>\n",
       "      <td>7</td>\n",
       "      <td>2016</td>\n",
       "      <td>Zielona Plaża nad Odrą [WBO. 2016]</td>\n",
       "      <td>Projekt rejonowy</td>\n",
       "      <td>zieleń/rekreacja</td>\n",
       "      <td>Zacisze-Zalesie-Szczytniki, Biskupin-Sępolno-D...</td>\n",
       "      <td>brak.</td>\n",
       "      <td>250000.0</td>\n",
       "      <td>Wybrany w głosowaniu</td>\n",
       "      <td>1891.0</td>\n",
       "      <td>Psie pole/Śródmieście</td>\n",
       "    </tr>\n",
       "    <tr>\n",
       "      <th>39</th>\n",
       "      <td>40</td>\n",
       "      <td>2016</td>\n",
       "      <td>\"Swojczycki Park Czarna Woda\" -  łódka, kajak,...</td>\n",
       "      <td>Projekt rejonowy</td>\n",
       "      <td>zieleń/rekreacja</td>\n",
       "      <td>Zacisze-Zalesie-Szczytniki, Biskupin-Sępolno-D...</td>\n",
       "      <td>Pas zieleni między ulicami Swojczycką, Miłoszy...</td>\n",
       "      <td>750000.0</td>\n",
       "      <td>Wybrany w głosowaniu</td>\n",
       "      <td>1970.0</td>\n",
       "      <td>Psie pole/Śródmieście</td>\n",
       "    </tr>\n",
       "    <tr>\n",
       "      <th>80</th>\n",
       "      <td>81</td>\n",
       "      <td>2016</td>\n",
       "      <td>Wydzielenie buspasa na Alei Kochanowskiego od ...</td>\n",
       "      <td>Projekt rejonowy</td>\n",
       "      <td>komunikacja zbiorowa</td>\n",
       "      <td>Zacisze-Zalesie-Szczytniki, Biskupin-Sępolno-D...</td>\n",
       "      <td>brak.</td>\n",
       "      <td>100000.0</td>\n",
       "      <td>Projekt nie bierze udziału w głosowaniu</td>\n",
       "      <td>NaN</td>\n",
       "      <td>Psie pole/Śródmieście</td>\n",
       "    </tr>\n",
       "    <tr>\n",
       "      <th>110</th>\n",
       "      <td>111</td>\n",
       "      <td>2016</td>\n",
       "      <td>Trasa rekreacyjna wokół Wielkiej Wyspy [WBO. 2...</td>\n",
       "      <td>Projekt rejonowy</td>\n",
       "      <td>zieleń/rekreacja</td>\n",
       "      <td>Zacisze-Zalesie-Szczytniki, Biskupin-Sępolno-D...</td>\n",
       "      <td>brak.</td>\n",
       "      <td>250000.0</td>\n",
       "      <td>Projekt nie bierze udziału w głosowaniu</td>\n",
       "      <td>NaN</td>\n",
       "      <td>Psie pole/Śródmieście</td>\n",
       "    </tr>\n",
       "    <tr>\n",
       "      <th>112</th>\n",
       "      <td>113</td>\n",
       "      <td>2016</td>\n",
       "      <td>Oświetlenie miejsc niebezpiecznych. Alejka pie...</td>\n",
       "      <td>Projekt rejonowy</td>\n",
       "      <td>piesze/rowerowe</td>\n",
       "      <td>Zacisze-Zalesie-Szczytniki, Biskupin-Sępolno-D...</td>\n",
       "      <td>brak.</td>\n",
       "      <td>250000.0</td>\n",
       "      <td>Niewybrany w głosowaniu</td>\n",
       "      <td>346.0</td>\n",
       "      <td>Psie pole/Śródmieście</td>\n",
       "    </tr>\n",
       "    <tr>\n",
       "      <th>...</th>\n",
       "      <td>...</td>\n",
       "      <td>...</td>\n",
       "      <td>...</td>\n",
       "      <td>...</td>\n",
       "      <td>...</td>\n",
       "      <td>...</td>\n",
       "      <td>...</td>\n",
       "      <td>...</td>\n",
       "      <td>...</td>\n",
       "      <td>...</td>\n",
       "      <td>...</td>\n",
       "    </tr>\n",
       "    <tr>\n",
       "      <th>2742</th>\n",
       "      <td>115</td>\n",
       "      <td>2020</td>\n",
       "      <td>KOLEJKĄ LINOWĄ ZE SWOJCZYC NA SĘPOLNO W 7 MINU...</td>\n",
       "      <td>Projekt ponadosiedlowy</td>\n",
       "      <td>komunikacja zbiorowa</td>\n",
       "      <td>Strachocin-Swojczyce-Wojnów, Biskupin-Sępolno-...</td>\n",
       "      <td>Swojczyce</td>\n",
       "      <td>2000000.0</td>\n",
       "      <td>Projekt nie bierze udziału w głosowaniu</td>\n",
       "      <td>NaN</td>\n",
       "      <td>Psie pole/Śródmieście</td>\n",
       "    </tr>\n",
       "    <tr>\n",
       "      <th>2764</th>\n",
       "      <td>137</td>\n",
       "      <td>2020</td>\n",
       "      <td>Remont chodnika po obu stronach ulicy Rychtals...</td>\n",
       "      <td>Projekt osiedlowy</td>\n",
       "      <td>piesze/rowerowe</td>\n",
       "      <td>Kleczków, Ołbin</td>\n",
       "      <td>brak.</td>\n",
       "      <td>350000.0</td>\n",
       "      <td>Niewybrany w głosowaniu</td>\n",
       "      <td>932.0</td>\n",
       "      <td>Psie pole/Śródmieście</td>\n",
       "    </tr>\n",
       "    <tr>\n",
       "      <th>3047</th>\n",
       "      <td>7</td>\n",
       "      <td>2021</td>\n",
       "      <td>RÓWNE CHODNIKI - takie trudne? Nadodrze, Ołbin...</td>\n",
       "      <td>Projekt ponadosiedlowy</td>\n",
       "      <td>piesze/rowerowe</td>\n",
       "      <td>Kleczków, Ołbin, Nadodrze</td>\n",
       "      <td>Chodnik na ul. Słowiańskiej \\r\\nChodnik ul. Ja...</td>\n",
       "      <td>2000000.0</td>\n",
       "      <td>Niewybrany w głosowaniu</td>\n",
       "      <td>2858.0</td>\n",
       "      <td>Psie pole/Śródmieście</td>\n",
       "    </tr>\n",
       "    <tr>\n",
       "      <th>3057</th>\n",
       "      <td>17</td>\n",
       "      <td>2021</td>\n",
       "      <td>CZYSTO NAD ODRĄ [WBO. 2021]</td>\n",
       "      <td>Projekt ponadosiedlowy</td>\n",
       "      <td>inne</td>\n",
       "      <td>Nadodrze, Ołbin, Karłowice-Różanka, Kleczków</td>\n",
       "      <td>Bulwary na Nadodrzu, bulwary/wały na Kleczkowi...</td>\n",
       "      <td>200000.0</td>\n",
       "      <td>Projekt nie bierze udziału w głosowaniu</td>\n",
       "      <td>NaN</td>\n",
       "      <td>Psie pole/Śródmieście</td>\n",
       "    </tr>\n",
       "    <tr>\n",
       "      <th>3368</th>\n",
       "      <td>328</td>\n",
       "      <td>2021</td>\n",
       "      <td>Szlak Smoka Strachoty - innowacyjny szlak tury...</td>\n",
       "      <td>Projekt ponadosiedlowy</td>\n",
       "      <td>zieleń/rekreacja</td>\n",
       "      <td>Strachocin-Swojczyce-Wojnów, Biskupin-Sępolno-...</td>\n",
       "      <td>Przebieg szlaku przedstawia załączona mapka - ...</td>\n",
       "      <td>2000000.0</td>\n",
       "      <td>Projekt nie bierze udziału w głosowaniu</td>\n",
       "      <td>NaN</td>\n",
       "      <td>Psie pole/Śródmieście</td>\n",
       "    </tr>\n",
       "  </tbody>\n",
       "</table>\n",
       "<p>98 rows × 11 columns</p>\n",
       "</div>"
      ],
      "text/plain": [
       "       id  year                                               name  \\\n",
       "6       7  2016                 Zielona Plaża nad Odrą [WBO. 2016]   \n",
       "39     40  2016  \"Swojczycki Park Czarna Woda\" -  łódka, kajak,...   \n",
       "80     81  2016  Wydzielenie buspasa na Alei Kochanowskiego od ...   \n",
       "110   111  2016  Trasa rekreacyjna wokół Wielkiej Wyspy [WBO. 2...   \n",
       "112   113  2016  Oświetlenie miejsc niebezpiecznych. Alejka pie...   \n",
       "...   ...   ...                                                ...   \n",
       "2742  115  2020  KOLEJKĄ LINOWĄ ZE SWOJCZYC NA SĘPOLNO W 7 MINU...   \n",
       "2764  137  2020  Remont chodnika po obu stronach ulicy Rychtals...   \n",
       "3047    7  2021  RÓWNE CHODNIKI - takie trudne? Nadodrze, Ołbin...   \n",
       "3057   17  2021                        CZYSTO NAD ODRĄ [WBO. 2021]   \n",
       "3368  328  2021  Szlak Smoka Strachoty - innowacyjny szlak tury...   \n",
       "\n",
       "                       scope              category  \\\n",
       "6           Projekt rejonowy      zieleń/rekreacja   \n",
       "39          Projekt rejonowy      zieleń/rekreacja   \n",
       "80          Projekt rejonowy  komunikacja zbiorowa   \n",
       "110         Projekt rejonowy      zieleń/rekreacja   \n",
       "112         Projekt rejonowy       piesze/rowerowe   \n",
       "...                      ...                   ...   \n",
       "2742  Projekt ponadosiedlowy  komunikacja zbiorowa   \n",
       "2764       Projekt osiedlowy       piesze/rowerowe   \n",
       "3047  Projekt ponadosiedlowy       piesze/rowerowe   \n",
       "3057  Projekt ponadosiedlowy                  inne   \n",
       "3368  Projekt ponadosiedlowy      zieleń/rekreacja   \n",
       "\n",
       "                                                   area  \\\n",
       "6     Zacisze-Zalesie-Szczytniki, Biskupin-Sępolno-D...   \n",
       "39    Zacisze-Zalesie-Szczytniki, Biskupin-Sępolno-D...   \n",
       "80    Zacisze-Zalesie-Szczytniki, Biskupin-Sępolno-D...   \n",
       "110   Zacisze-Zalesie-Szczytniki, Biskupin-Sępolno-D...   \n",
       "112   Zacisze-Zalesie-Szczytniki, Biskupin-Sępolno-D...   \n",
       "...                                                 ...   \n",
       "2742  Strachocin-Swojczyce-Wojnów, Biskupin-Sępolno-...   \n",
       "2764                                    Kleczków, Ołbin   \n",
       "3047                          Kleczków, Ołbin, Nadodrze   \n",
       "3057       Nadodrze, Ołbin, Karłowice-Różanka, Kleczków   \n",
       "3368  Strachocin-Swojczyce-Wojnów, Biskupin-Sępolno-...   \n",
       "\n",
       "                                               location     budget  \\\n",
       "6                                                 brak.   250000.0   \n",
       "39    Pas zieleni między ulicami Swojczycką, Miłoszy...   750000.0   \n",
       "80                                                brak.   100000.0   \n",
       "110                                               brak.   250000.0   \n",
       "112                                               brak.   250000.0   \n",
       "...                                                 ...        ...   \n",
       "2742                                          Swojczyce  2000000.0   \n",
       "2764                                              brak.   350000.0   \n",
       "3047  Chodnik na ul. Słowiańskiej \\r\\nChodnik ul. Ja...  2000000.0   \n",
       "3057  Bulwary na Nadodrzu, bulwary/wały na Kleczkowi...   200000.0   \n",
       "3368  Przebieg szlaku przedstawia załączona mapka - ...  2000000.0   \n",
       "\n",
       "                                       status   votes                  area2  \n",
       "6                        Wybrany w głosowaniu  1891.0  Psie pole/Śródmieście  \n",
       "39                       Wybrany w głosowaniu  1970.0  Psie pole/Śródmieście  \n",
       "80    Projekt nie bierze udziału w głosowaniu     NaN  Psie pole/Śródmieście  \n",
       "110   Projekt nie bierze udziału w głosowaniu     NaN  Psie pole/Śródmieście  \n",
       "112                   Niewybrany w głosowaniu   346.0  Psie pole/Śródmieście  \n",
       "...                                       ...     ...                    ...  \n",
       "2742  Projekt nie bierze udziału w głosowaniu     NaN  Psie pole/Śródmieście  \n",
       "2764                  Niewybrany w głosowaniu   932.0  Psie pole/Śródmieście  \n",
       "3047                  Niewybrany w głosowaniu  2858.0  Psie pole/Śródmieście  \n",
       "3057  Projekt nie bierze udziału w głosowaniu     NaN  Psie pole/Śródmieście  \n",
       "3368  Projekt nie bierze udziału w głosowaniu     NaN  Psie pole/Śródmieście  \n",
       "\n",
       "[98 rows x 11 columns]"
      ]
     },
     "execution_count": 297,
     "metadata": {},
     "output_type": "execute_result"
    }
   ],
   "source": [
    "df[df['area2'] == 'Psie pole/Śródmieście']"
   ]
  },
  {
   "cell_type": "code",
   "execution_count": 306,
   "id": "b49cc13b",
   "metadata": {},
   "outputs": [
    {
     "data": {
      "text/html": [
       "<div>\n",
       "<style scoped>\n",
       "    .dataframe tbody tr th:only-of-type {\n",
       "        vertical-align: middle;\n",
       "    }\n",
       "\n",
       "    .dataframe tbody tr th {\n",
       "        vertical-align: top;\n",
       "    }\n",
       "\n",
       "    .dataframe thead tr th {\n",
       "        text-align: left;\n",
       "    }\n",
       "\n",
       "    .dataframe thead tr:last-of-type th {\n",
       "        text-align: right;\n",
       "    }\n",
       "</style>\n",
       "<table border=\"1\" class=\"dataframe\">\n",
       "  <thead>\n",
       "    <tr>\n",
       "      <th></th>\n",
       "      <th colspan=\"3\" halign=\"left\">id</th>\n",
       "    </tr>\n",
       "    <tr>\n",
       "      <th>year</th>\n",
       "      <th>2016</th>\n",
       "      <th>2017</th>\n",
       "      <th>2018</th>\n",
       "    </tr>\n",
       "    <tr>\n",
       "      <th>area2</th>\n",
       "      <th></th>\n",
       "      <th></th>\n",
       "      <th></th>\n",
       "    </tr>\n",
       "  </thead>\n",
       "  <tbody>\n",
       "    <tr>\n",
       "      <th>Fabryczna</th>\n",
       "      <td>166.0</td>\n",
       "      <td>156.0</td>\n",
       "      <td>160.0</td>\n",
       "    </tr>\n",
       "    <tr>\n",
       "      <th>Fabryczna/Krzyki</th>\n",
       "      <td>56.0</td>\n",
       "      <td>47.0</td>\n",
       "      <td>15.0</td>\n",
       "    </tr>\n",
       "    <tr>\n",
       "      <th>Inne</th>\n",
       "      <td>NaN</td>\n",
       "      <td>NaN</td>\n",
       "      <td>1.0</td>\n",
       "    </tr>\n",
       "    <tr>\n",
       "      <th>Krzyki</th>\n",
       "      <td>174.0</td>\n",
       "      <td>192.0</td>\n",
       "      <td>129.0</td>\n",
       "    </tr>\n",
       "    <tr>\n",
       "      <th>Psie pole</th>\n",
       "      <td>104.0</td>\n",
       "      <td>92.0</td>\n",
       "      <td>83.0</td>\n",
       "    </tr>\n",
       "    <tr>\n",
       "      <th>Psie pole/Śródmieście</th>\n",
       "      <td>46.0</td>\n",
       "      <td>44.0</td>\n",
       "      <td>1.0</td>\n",
       "    </tr>\n",
       "    <tr>\n",
       "      <th>Stare miasto</th>\n",
       "      <td>NaN</td>\n",
       "      <td>NaN</td>\n",
       "      <td>23.0</td>\n",
       "    </tr>\n",
       "    <tr>\n",
       "      <th>Stare miasto/Śródmieście</th>\n",
       "      <td>NaN</td>\n",
       "      <td>NaN</td>\n",
       "      <td>2.0</td>\n",
       "    </tr>\n",
       "    <tr>\n",
       "      <th>Śródmieście</th>\n",
       "      <td>101.0</td>\n",
       "      <td>94.0</td>\n",
       "      <td>41.0</td>\n",
       "    </tr>\n",
       "  </tbody>\n",
       "</table>\n",
       "</div>"
      ],
      "text/plain": [
       "                             id              \n",
       "year                       2016   2017   2018\n",
       "area2                                        \n",
       "Fabryczna                 166.0  156.0  160.0\n",
       "Fabryczna/Krzyki           56.0   47.0   15.0\n",
       "Inne                        NaN    NaN    1.0\n",
       "Krzyki                    174.0  192.0  129.0\n",
       "Psie pole                 104.0   92.0   83.0\n",
       "Psie pole/Śródmieście      46.0   44.0    1.0\n",
       "Stare miasto                NaN    NaN   23.0\n",
       "Stare miasto/Śródmieście    NaN    NaN    2.0\n",
       "Śródmieście               101.0   94.0   41.0"
      ]
     },
     "execution_count": 306,
     "metadata": {},
     "output_type": "execute_result"
    }
   ],
   "source": [
    "df[df['scope'] == 'Projekt rejonowy'].groupby(['year', 'area2']).agg({'id': 'count'}).reset_index().pivot_table(columns='year', index='area2')"
   ]
  },
  {
   "cell_type": "code",
   "execution_count": null,
   "id": "76ee476e",
   "metadata": {},
   "outputs": [],
   "source": []
  }
 ],
 "metadata": {
  "kernelspec": {
   "display_name": "Python 3 (ipykernel)",
   "language": "python",
   "name": "python3"
  },
  "language_info": {
   "codemirror_mode": {
    "name": "ipython",
    "version": 3
   },
   "file_extension": ".py",
   "mimetype": "text/x-python",
   "name": "python",
   "nbconvert_exporter": "python",
   "pygments_lexer": "ipython3",
   "version": "3.9.7"
  }
 },
 "nbformat": 4,
 "nbformat_minor": 5
}
